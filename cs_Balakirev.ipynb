{
 "cells": [
  {
   "cell_type": "markdown",
   "id": "98dc2ba4-0d3a-4a91-817f-36f974817b4d",
   "metadata": {
    "editable": true,
    "slideshow": {
     "slide_type": ""
    },
    "tags": []
   },
   "source": [
    "# Команды PyCharm"
   ]
  },
  {
   "cell_type": "markdown",
   "id": "6787f841-5b7d-47c2-93fc-31b5c0cb9545",
   "metadata": {},
   "source": [
    "| Действие                                              | Горячая клавиша           |\n",
    "|-------------------------------------------------------|---------------------------|\n",
    "| Расставить все необходимые отступы и пробелы согласно PEP-8 | `Ctrl + Alt + L`    |\n",
    "| **Редактирование**                                    |                           |\n",
    "| Быстрое редактирование                                | `Alt`                     |\n",
    "| Отменить последнее действие                           | `Ctrl + Z`                |\n",
    "| Отменить последнюю отмену действия                    | `Ctrl + Shift + Z`        |\n",
    "| Перемещение между словами                             | `Ctrl + ← / →`            |\n",
    "| Переход в начало/конец файла                          | `Ctrl + Home / End`       |\n",
    "| Удалить от текущей позиции до конца слова             | `Ctrl + Del`              |\n",
    "| Удалить от текущей позиции до начала слова            | `Ctrl + Backspace`        |\n",
    "| Дублировать текущую строку                            | `Ctrl + D`                |\n",
    "| Увеличить / уменьшить текущий отступ                  | `Tab / Shift + Tab`       |\n",
    "| Приведение кода в соответствие Code-Style             | `Ctrl + Alt + L`          |\n",
    "| Закомментировать/раскомментировать строку             | `Ctrl + /`                |\n",
    "| Закомментировать/раскомментировать выделенный код     | `Ctrl + Shift + /`        |\n",
    "| Замена в тексте                                       | `Ctrl + R`                |\n",
    "| Замена во всех файлах                                 | `Ctrl + Shift + R`        |\n",
    "| **Работа с поиском**                                  |                           |\n",
    "| Быстрый поиск по всему проекту                        | `Дважды Shift`            |\n",
    "| Быстрый поиск по настройкам, действиям и т.д.         | `Ctrl + Shift + A`        |\n",
    "| Поиск в файле                                         | `Ctrl + F`                |\n",
    "| Поиск по всем файлам (переход — F4)                   | `Ctrl + Shift + F`        |\n",
    "| Список недавно открытых файлов с переходом            | `Ctrl + E`                |\n",
    "| Список недавно изменённых файлов с переходом          | `Ctrl + Shift + E`        |\n",
    "| Перейти к объявлению переменной, класса, метода       | `Ctrl + B`                |"
   ]
  },
  {
   "cell_type": "markdown",
   "id": "2fcb81cb-380b-4f5c-b6fb-cd2563426f30",
   "metadata": {
    "editable": true,
    "slideshow": {
     "slide_type": ""
    },
    "tags": []
   },
   "source": [
    "# Виртуальное окружение (на примере тел.бота)"
   ]
  },
  {
   "cell_type": "markdown",
   "id": "40a0a1b2-2ca9-4aeb-81c9-38c99322e0c2",
   "metadata": {},
   "source": [
    "Для каждого отдельного проекта рекомендуется создавать виртуальное окружение:"
   ]
  },
  {
   "cell_type": "markdown",
   "id": "7f985879-e5aa-4d9a-83f2-8fa94330e4e3",
   "metadata": {},
   "source": [
    "\n",
    "- 1. На компьютере создать папку, где будет находиться проект"
   ]
  },
  {
   "cell_type": "markdown",
   "id": "5e62d068-eb46-4223-a716-61bdd66aaf41",
   "metadata": {},
   "source": [
    "- 2. В терминале перейти в эту папку, создать для проекта виртуальное окружение, выполнив команду:"
   ]
  },
  {
   "cell_type": "code",
   "execution_count": null,
   "id": "3eecb83a-cbb5-45af-9ba2-421f4e0201ba",
   "metadata": {},
   "outputs": [],
   "source": [
    "python3.11 -m venv venv"
   ]
  },
  {
   "cell_type": "markdown",
   "id": "55797203-d831-4893-8023-c8c6f35ccfdd",
   "metadata": {},
   "source": [
    "Здесь флаг -m говорит интерпретатору запустить инструмент создания виртуального окружения venv как исполняемый модуль, а второй venv - название папки, в которую будет установлено виртуальное окружение. Оно может быть любым другим, но обычно принято называть его либо venv, либо env, от английского - virtual environment или просто environment."
   ]
  },
  {
   "cell_type": "markdown",
   "id": "060c3c21-2f87-4630-b5bb-0ddcbd1a94d5",
   "metadata": {},
   "source": [
    "Решение ошибки:\n",
    "\n",
    "- Первый способ. Если версия Python установлена, но не зарегистрирована под таким именем в стандартных системных путях. Нужно просто указать системе, какой именно из установленных Python использовать для создания виртуального окружения. Использовать полный путь к интерпретатору Python\n",
    "\n",
    "- Второй способ. Использовать средства VS Code\n",
    "VS Code отлично умеет работать с разными интерпретаторами.\n",
    "1. Откройте папку бот в VS Code.\n",
    "2. Откройте палитру команд: Cmd+Shift+P (на Mac) или Ctrl+Shift+P (на Linux/Windows).\n",
    "3. Начните вводить: Python: Create Environment (или Python: Создать окружение) и выберите эту команду.\n",
    "4. Выберите тип окружения: Выберите Venv.\n",
    "5. Выберите интерпретатор: VS Code предложит список найденных интерпретаторов. Выберите строку с Python 3.11 (ту, которая /opt/anaconda3/bin/python или другую, если есть еще 3.11).\n",
    "6. VS Code сам выполнит нужную команду (используя выбранный интерпретатор) и создаст папку .venv (или спросит имя) внутри папки бот. Он также может предложить сразу активировать это окружение для текущего рабочего пространства."
   ]
  },
  {
   "cell_type": "markdown",
   "id": "66f71954-c01c-4cf8-b046-e06be2c00e92",
   "metadata": {},
   "source": [
    "- 3. Запуск (активация) виртуального окружения"
   ]
  },
  {
   "cell_type": "code",
   "execution_count": null,
   "id": "2a45593b-7a3f-4e22-a146-b86db2c99bde",
   "metadata": {},
   "outputs": [],
   "source": [
    "source venv/bin/activate"
   ]
  },
  {
   "cell_type": "markdown",
   "id": "0a94d74f-30e7-4178-849e-e7ce5804efb5",
   "metadata": {},
   "source": [
    "После ее выполнения, вы должны увидеть название вашего виртуального окружения в скобках, перед приглашением ко вводу команд в командную строку"
   ]
  },
  {
   "cell_type": "markdown",
   "id": "6e845f90-55d4-465a-84bb-88914a209b52",
   "metadata": {},
   "source": [
    "4. Установка нужной библиотеки"
   ]
  },
  {
   "cell_type": "code",
   "execution_count": null,
   "id": "f5d35c66-88f3-47ae-8a1e-04b8935435e5",
   "metadata": {},
   "outputs": [],
   "source": [
    "pip install python-telegram-bot\n",
    "\n",
    "# Установка конкретной версии\n",
    "pip install python-telegram-bot==13.15\n",
    "\n",
    "\n",
    "# Удаление библиотеки\n",
    "pip uninstall python-telegram-bot"
   ]
  },
  {
   "cell_type": "markdown",
   "id": "7cdef324-df2e-45ad-8e27-e2cbefb4e4dd",
   "metadata": {},
   "source": [
    "- 5. Убедится, что устанавливаемые через менеджер пакетов pip библиотеки, действительно ставятся в виртуальное окружение, а не глобально. Посмотреть список всех установленных пакетов в текущем окружении Python (будь то глобальное или виртуальное), и их версии:"
   ]
  },
  {
   "cell_type": "code",
   "execution_count": null,
   "id": "c25ef4a6-2e9b-4948-abeb-e8c7a99fdc19",
   "metadata": {},
   "outputs": [],
   "source": [
    "pip list"
   ]
  },
  {
   "cell_type": "markdown",
   "id": "3acec3a8-4528-46e4-b9b3-223a19e0dc7c",
   "metadata": {},
   "source": [
    "- 5. Выйти из виртуального окружения."
   ]
  },
  {
   "cell_type": "code",
   "execution_count": null,
   "id": "c039a899-bab4-4842-b957-dfa17e9c766c",
   "metadata": {},
   "outputs": [],
   "source": [
    "deactivate"
   ]
  },
  {
   "cell_type": "markdown",
   "id": "f0f2de62-7058-4d1b-986e-b458cacd96cf",
   "metadata": {},
   "source": [
    "- 6. Удаление виртуального окружения"
   ]
  },
  {
   "cell_type": "markdown",
   "id": "2af1c9b1-ca46-4197-b996-12196b254eaf",
   "metadata": {},
   "source": [
    "Если, вдруг, вы почему-то решили удалить из проекта виртуальное окружение, сделать это можно просто удалив папку venv (или с другим названием, если вы, при создании виртуального окружения, называли ее по-другому)."
   ]
  },
  {
   "cell_type": "markdown",
   "id": "e25b8919-fcf8-4f49-83f7-185cfa3f5b8c",
   "metadata": {},
   "source": [
    "### Работа с виртуальными окружениями Python (venv)\n",
    "\n",
    "| Действие                                | Команда                               | ОС            | Примечание                                      |\n",
    "| :-------------------------------------- | :------------------------------------ | :------------ | :---------------------------------------------- |\n",
    "| **Создание** виртуального окружения     | `python -m venv имя_окружения`       | Все           | Замените `имя_окружения` на желаемое имя (например, `venv`) |\n",
    "|**Активация** виртуального окружения                                            | `source имя_окружения/bin/activate`   | Linux / macOS | Используйте `/` в пути                      |\n",
    "| **Просмотр** установленных пакетов      | `pip freeze`                          | Все           | Показывает пакеты только в активном окружении |\n",
    "| **Установка** библиотеки/модуля         | `pip install имя_модуля`              | Все           |                                                 |\n",
    "| **Обновление** pip                      | `pip install -U pip`                  | Все           | Рекомендуется делать периодически             |\n",
    "| **Обновление** библиотеки/модуля        | `pip install -U имя_модуля`           | Все           | `-U` это сокращение от `--upgrade`            |\n",
    "| **Удаление** библиотеки/модуля          | `pip uninstall имя_модуля`            | Все           | Запросит подтверждение (y/n)                    |\n",
    "|                                         | `pip uninstall имя_модуля -y`         | Все           | Удаляет без запроса подтверждения             |\n",
    "| **Создание** файла зависимостей         | `pip freeze > requirements.txt`       | Все           | Сохраняет список пакетов и их версий в файл   |\n",
    "| **Установка** зависимостей из файла     | `pip install -r requirements.txt`     | Все           | Устанавливает все пакеты из файла             |\n",
    "| **Деактивация** виртуального окружения | `deactivate`                          | Все           | Просто введите команду в активном окружении   |"
   ]
  },
  {
   "cell_type": "markdown",
   "id": "aa190583-416b-414c-b858-9765d69add7c",
   "metadata": {},
   "source": []
  },
  {
   "cell_type": "markdown",
   "id": "59aff4c2-2512-487d-9885-a5b1c392f26c",
   "metadata": {},
   "source": [
    "# Конструкции, часто используемые в подвигах"
   ]
  },
  {
   "cell_type": "markdown",
   "id": "12b936cd-86c5-4a4c-a9e5-d759b451238b",
   "metadata": {},
   "source": [
    "# Шпаргалка: Виртуальные окружения Python (venv) для Linux/macOS\n",
    "\n",
    "**Зачем нужно?** Виртуальное окружение позволяет изолировать зависимости (библиотеки) для разных проектов, избегая конфликтов версий.\n",
    "\n",
    "| Действие                                      | Команда (Linux/Mac OS)                     | Примечание                                    |\n",
    "| :-------------------------------------------- | :----------------------------------------- | :-------------------------------------------- |\n",
    "| **Создать** виртуальное окружение            | `python3 -m venv name_venv`                | `name_venv` - имя вашего окружения (папки)   |\n",
    "| **Активировать** виртуальное окружение       | `source name_venv/bin/activate`            | Командная строка изменится, добавив `(name_venv)` |\n",
    "| **Посмотреть** установленные пакеты         | `pip freeze`                               | Показывает пакеты только в активном окружении |\n",
    "| **Установить** библиотеку/модуль            | `pip install name_module`                  | `name_module` - имя нужной библиотеки        |\n",
    "| **Обновить** библиотеку/модуль              | `pip install -U name_module`               | `-U` или `--upgrade` - флаг обновления       |\n",
    "| **Обновить** `pip` (менеджер пакетов)         | `pip install -U pip`                       | Рекомендуется делать периодически            |\n",
    "| **Удалить** установленную библиотеку/модуль | `pip uninstall name_module`                | Запросит подтверждение (y/n)                 |\n",
    "| **Удалить** (без подтверждения)             | `pip uninstall -y name_module`             | `-y` - автоматически подтверждает удаление    |\n",
    "| **Создать** файл с зависимостями            | `pip freeze > requirements.txt`            | Сохраняет список пакетов и их версий в файл |\n",
    "| **Установить** зависимости из файла         | `pip install -r requirements.txt`          | Устанавливает все пакеты из файла            |\n",
    "| **Отключить** виртуальное окружение        | `deactivate`                               | Возвращает к системному окружению Python    |\n",
    "\n",
    "**Важно:**\n",
    "\n",
    "*   Замените `name_venv` на выбранное вами имя для папки виртуального окружения (например, `venv`, `.venv`, `env`).\n",
    "*   Замените `name_module` на реальное имя пакета, который вы хотите установить/обновить/удалить (например, `requests`, `django`, `numpy`).\n",
    "*   Убедитесь, что вы используете `python3` (или просто `python`, если он по умолчанию указывает на Python 3 в вашей системе).\n",
    "*   Команды `pip` работают только *после* активации виртуального окружения.\n",
    "*   Команда source name_venv/bin/activate активирует созданное вами виртуальное окружение Python. Давайте разберем ее по частям:\n",
    "source:\n",
    "Это встроенная команда оболочки (shell command) в Linux и macOS (например, в Bash, Zsh).\n",
    "\n",
    "Её основная задача — выполнить команды из указанного файла скрипта в текущей оболочке, а не запускать для этого новую подоболочку (subshell).\n",
    "\n",
    "Это ключевой момент. Если бы вы просто запустили скрипт name_venv/bin/activate напрямую, он бы выполнился в новой, временной оболочке. Все изменения, которые он внес бы (например, изменение переменной PATH), исчезли бы сразу после завершения скрипта, и ваше основное окружение осталось бы неизменным.\n",
    "\n",
    "source гарантирует, что изменения, сделанные скриптом, применяются к вашей текущей сессии терминала.\n",
    "\n",
    "Альтернатива: Часто вместо source можно использовать точку (.): . name_venv/bin/activate. Это синоним source во многих оболочках."
   ]
  },
  {
   "cell_type": "markdown",
   "id": "c4d456ca-9a2d-4834-a526-6ec54ac46537",
   "metadata": {},
   "source": [
    "# 35 зарезервированных (ключевых) слов"
   ]
  },
  {
   "cell_type": "markdown",
   "id": "fe267dd3-4310-42cb-b893-d16a67b10094",
   "metadata": {},
   "source": [
    "![](images/reserv_word.png)"
   ]
  },
  {
   "cell_type": "markdown",
   "id": "fb423b77-e76a-4ffc-9a75-c0808058053c",
   "metadata": {},
   "source": [
    "# Встроенные математические функции"
   ]
  },
  {
   "cell_type": "code",
   "execution_count": null,
   "id": "53a53f73-7928-4fd5-915b-c1475729fcbe",
   "metadata": {},
   "outputs": [],
   "source": [
    "abs(-5) #позволяет вычислять модуль чисел (из отрицательных делает положительные):\n",
    "min(1, 2, 3, 0, -5, 10) #выбирает минимальное значение среди переданных ей чисел:\n",
    "max(1, 2, 3, 0, -5, 10) # ищет максимальное значение:\n",
    "pow(6, 2) #возводит числа в указанную степень:\n",
    "round() # Баковское округление!!! для округления чисел, вывод количества знаков после запятой:\n",
    "print(round(3457.5678))  # 3458 - округление по разряду единиц\n",
    "print(round(3457.5678, 0))  # 3458.0 - округление по разряду единиц\n",
    "print(round(3457.5678, 1))  # 3457.6 - округление по десятые\n",
    "print(round(3457.5678, 2))  # 3457.57 - округление по сотые\n",
    "print(round(3457.5678, 3))  # 3457.568 - округление по тысячные\n",
    "\n",
    "print(round(3457.5678, -1))  # 3460.0 - округление по разряду десятков\n",
    "print(round(3457.5678, -2))  # 3500.0 - округление по разряду сотен\n",
    "print(round(3457.5678, -3))  # 3000.0 - округление по разряду тысяч"
   ]
  },
  {
   "cell_type": "markdown",
   "id": "23f4cd07-96f8-442b-b52f-1f76ff40ec9c",
   "metadata": {},
   "source": [
    "# Работа с модулем math"
   ]
  },
  {
   "attachments": {},
   "cell_type": "markdown",
   "id": "15b6522c-2b1d-4fa1-a897-d0b119ad46ef",
   "metadata": {},
   "source": []
  },
  {
   "cell_type": "code",
   "execution_count": null,
   "id": "9b91dbe9-786f-4248-9e36-440b3f2d8894",
   "metadata": {},
   "outputs": [],
   "source": [
    "import math #Модуль math\n",
    "math.ceil(5.2) # Округление вверх. Округление до наибольшего целого:\n",
    "math.floor(5.99) # Округление вниз. Округление до наименьшего целого:\n",
    "math.factorial(6) #Факториал числа:\n",
    "math.trunc(5.8)#Отбрасывание дробной части. Это аналог встроенной в Python функции: int(5.8)\n",
    "#Далее, логарифм по основанию 2, 10 и произвольный:\n",
    "math.log2(4)\n",
    "math.log10(100)\n",
    "math.log(2.7)\n",
    "math.log(27, 3) # по основанию 3\n",
    "#Вычисление квадратного корня:\n",
    "math.sqrt(49)\n",
    "#Также имеется полный набор тригонометрических функций, например:\n",
    "math.sin(3.14/2)\n",
    "math.cos(0)\n",
    "#константы:\n",
    "math.pi\n",
    "math.e"
   ]
  },
  {
   "cell_type": "markdown",
   "id": "966b9e51-6edc-469f-ae29-f562bc6a7d73",
   "metadata": {
    "editable": true,
    "slideshow": {
     "slide_type": ""
    },
    "tags": []
   },
   "source": [
    "# Экранированные (служебные) символы"
   ]
  },
  {
   "cell_type": "markdown",
   "id": "3ebb60da-0c53-4d20-a04f-467cb4494224",
   "metadata": {},
   "source": [
    "- Как взглянуть на наличие служебного символа в строке?"
   ]
  },
  {
   "cell_type": "code",
   "execution_count": null,
   "id": "73d8ef30-b1eb-4541-bdb5-031abe9253da",
   "metadata": {},
   "outputs": [],
   "source": [
    "repr()"
   ]
  },
  {
   "cell_type": "code",
   "execution_count": null,
   "id": "9a5f2dc4-b036-4d6f-833f-6c8e8629a78a",
   "metadata": {},
   "outputs": [],
   "source": [
    "#Встроенная функция repr возвращает строковое представление с экранированными символами:\n",
    "s = \"\"\"Hello\n",
    "world\n",
    "!\"\"\"\n",
    "print(repr(s))  # 'Hello\\nworld\\n!'"
   ]
  },
  {
   "cell_type": "markdown",
   "id": "108ad3e6-396e-4469-9ead-96f822f2f95d",
   "metadata": {},
   "source": [
    "- Экранирование символа \\ с помощью \\\\"
   ]
  },
  {
   "cell_type": "code",
   "execution_count": null,
   "id": "3ee7c173-b622-447a-871f-6888380eec09",
   "metadata": {},
   "outputs": [],
   "source": [
    "a = \"abc\\tdef\\\\\"\n",
    "print(a) # abc\tdef\\"
   ]
  },
  {
   "cell_type": "code",
   "execution_count": null,
   "id": "0145817f-8dcd-48a3-a06f-27b81cf2cd1d",
   "metadata": {},
   "outputs": [],
   "source": [
    "path = \"C:\\\\Users\\\\Admin\\\\Documents\\\\file.txt\"\n",
    "print(path)  # C:\\Users\\Admin\\Documents\\file.txt"
   ]
  },
  {
   "cell_type": "markdown",
   "id": "de069c41-776a-41ac-a8ac-8b05ff8f6d69",
   "metadata": {},
   "source": [
    "- Сырые строки"
   ]
  },
  {
   "cell_type": "code",
   "execution_count": null,
   "id": "38720c38-ce6b-4e65-8375-8ba9846fa4f8",
   "metadata": {},
   "outputs": [],
   "source": [
    "#Сырые строки (raw strings) — это строки, в которых символы экранирования, такие как \\n, \\t, \\\\, не обрабатываются, а \n",
    "#воспринимаются как обычные символы.\n",
    "\n",
    "path = r\"C:\\Users\\Admin\\Documents\\file.txt\"\n",
    "print(path)  # C:\\Users\\Admin\\Documents\\file.txt"
   ]
  },
  {
   "cell_type": "markdown",
   "id": "007cca7a-aa20-4cb5-92f4-d044ba7088bb",
   "metadata": {},
   "source": [
    "## Специальные символы Python с примерами\n",
    "\n",
    "| Символ | Описание | Пример использования | Результат |\n",
    "|:------:|:---------|:--------------------|:----------|\n",
    "| **\\n** | **Перевод строки** | `print(\"Привет\\nмир\")` | Привет<br>мир |\n",
    "| **\\\\\\\\** | **Символ обратного слеша** | `print(\"C:\\\\Python\\\\\")` | C:\\Python\\ |\n",
    "| **\\'** | **Символ апострофа (одинарная ковычка)** | `print('It\\'s mine')` | It's mine |\n",
    "| **\\\\\"** | **Символ двойной кавычки** | `print(\"Текст в \\\"кавычках\\\"\")` | Текст в \"кавычках\" |\n",
    "| **\\a** | **Звуковой сигнал** | `print(\"\\a\")` | (звуковой сигнал) |\n",
    "| **\\b** | **Удаление предыдущего символа (backspace)** | `print(\"abc\\b\")` | ab |\n",
    "| **\\f** | **Перевод формата (используется в принтерах)** | `print(\"стр1\\fстр2\")` | стр1(новая страница)стр2 |\n",
    "| **\\r** | **Возврат каретки** | `print(\"Python\\rJava\")` | Java |\n",
    "| **\\t** | **Горизонтальная табуляция (размером в 4 пробела)** | `print(\"Имя:\\tИван\")` | Имя:    Иван |\n",
    "| **\\v** | **Вертикальная табуляция** | `print(\"текст\\vтекст\")` | текст(вертикальный отступ)текст |\n",
    "| **\\0** | **Символ Null (не признак конца строки)** | `print(\"hello\\0world\")` | hello(null)world |\n",
    "| **\\xhh** | **Символ с шестнадцатиричным кодом hh** | `print(\"\\x48\\x69\")` | Hi |\n",
    "| **\\ooo** | **Символ с восьмиричным кодом ooo** | `print(\"\\110\\151\")` | Hi |\n",
    "| **\\N{id}** | **Идентификатор из кодовой таблицы Unicode** | `print(\"\\N{GRINNING FACE}\")` | 😀 |\n",
    "| **\\uhhhh** | **16-битный символ Unicode в шестнадцатиричной форме** | `print(\"\\u2764\")` | ❤ |\n",
    "| **\\Uhhhhhhhh** | **32-битный символ Unicode в шестнадцатиричной форме** | `print(\"\\U0001F600\")` | 😀 |\n",
    "| **\\другое** | **Не является экранированной последовательностью** | `print(\"\\k\")` | \\k |\n",
    "\n",
    "Примечания:\n",
    "1. Некоторые последовательности (\\a, \\b, \\f, \\r, \\v) могут по-разному отображаться в разных средах выполнения\n",
    "2. Символы Unicode могут не отображаться корректно в некоторых консолях\n",
    "3. При использовании восьмеричных и шестнадцатеричных кодов нужно знать соответствующую кодировку символа"
   ]
  },
  {
   "cell_type": "markdown",
   "id": "9d9d877c-0def-45bb-81f6-e7aa0f17274e",
   "metadata": {},
   "source": [
    "# многострочная строка (multiline string) или тройная строка"
   ]
  },
  {
   "cell_type": "code",
   "execution_count": null,
   "id": "07b573e9-ecfe-46e5-b899-6bd9d77e14b3",
   "metadata": {},
   "outputs": [],
   "source": [
    "''' или \"\"\""
   ]
  },
  {
   "cell_type": "code",
   "execution_count": null,
   "id": "65773565-62a1-4d1d-beb8-232dbd23da46",
   "metadata": {},
   "outputs": [],
   "source": [
    "# Внутри такой строки можно писать текст, который будет включать в себя переносы строк и другие символы, как есть. \n",
    "# Это полезно для хранения больших объемов текста, например, документации, сообщений или форматированных данных."
   ]
  },
  {
   "cell_type": "code",
   "execution_count": null,
   "id": "cd29c212-d08e-4ce4-a027-f2c3dd768137",
   "metadata": {},
   "outputs": [],
   "source": [
    "m = '''1. Введение в Python\n",
    "2. Строки и списки\n",
    "3. Условные операторы\n",
    "4. Циклы\n",
    "5. Словари, кортежи и множества\n",
    "6. Выход'''\n"
   ]
  },
  {
   "cell_type": "markdown",
   "id": "476a18fd-f083-4fe1-a539-32bde27325b9",
   "metadata": {},
   "source": [
    "**Многострочная документ строка**"
   ]
  },
  {
   "cell_type": "code",
   "execution_count": null,
   "id": "2760ec82-8688-461d-8992-7c77eb19466d",
   "metadata": {},
   "outputs": [],
   "source": [
    "def is_simple_number(x):\n",
    "    \"\"\" Определяет, является ли число простым.\n",
    "        x - целое положительное число.\n",
    "        Если простое, то возвращает True, а иначе - False\n",
    "    \"\"\"\n",
    "    pass\n",
    "help(is_simple_number)"
   ]
  },
  {
   "cell_type": "code",
   "execution_count": null,
   "id": "4385fcfa-c417-4c08-a82f-f12ee5ee675b",
   "metadata": {},
   "outputs": [],
   "source": [
    "print(\"\"\"\n",
    "/\\_/\\ \n",
    ">^,^< \n",
    " / \\  \n",
    "(|_|)_/\n",
    "\"\"\")\n",
    "\n",
    "# В отличии от: \n",
    "print(\"/\\\\_/\\\\\\n>^,^<\\n / \\\\\\n(|_|)_/\")"
   ]
  },
  {
   "cell_type": "markdown",
   "id": "f2cf316c-5d7b-4f3a-b34b-0c813d31bce5",
   "metadata": {},
   "source": [
    "# Методы строки c примерами"
   ]
  },
  {
   "cell_type": "code",
   "execution_count": null,
   "id": "62e9781d-343d-4d65-ab78-947e5aee0782",
   "metadata": {},
   "outputs": [],
   "source": [
    ".upper()\n",
    ".lower()\n",
    ".title()\n",
    ".capitalize()\n",
    ".swapcase()\n",
    ".count(sub[, start[, end]])\n",
    ".startswith()\n",
    ".endswith()\n",
    ".index()\n",
    ".find()\n",
    ".rfind()\n",
    ".replace(old, new, count)\n",
    ".ljust()\n",
    ".rjust()\n",
    ".center()\n",
    ".zfill()\n",
    ".strip()\n",
    ".strip([chars])\n",
    ".rstrip()\n",
    ".lstrip()\n",
    ".split([sep],[maxsplit])\n",
    "' '.join()\n",
    ".partition()\n",
    ".rpartition()\n",
    ".isalpha()\n",
    ".isdigit()\n",
    ".isalnum()\n",
    ".islower()\n",
    ".isupper()\n",
    ".istitle()\n",
    "ord('а')\n",
    "chr()"
   ]
  },
  {
   "cell_type": "markdown",
   "id": "2ed2514d-ecb8-49e0-bc8a-bb7ae37ffc52",
   "metadata": {},
   "source": [
    "# Шпаргалка по строковым методам Python\n",
    "\n",
    "| Метод | Описание | Пример |\n",
    "|--------|------------|-----------|\n",
    "| `.upper()` | Переводит в верхний регистр | `'hello'.upper()  → 'HELLO'` |\n",
    "| `.lower()` | Переводит в нижний регистр | `'HELLO'.lower()  → 'hello'` |\n",
    "| `.title()` | Каждое слово с заглавной буквы | `'hello world'.title()  → 'Hello World'` |\n",
    "| `.capitalize()` | Первая буква заглавная, остальные – строчные | `'hello world'.capitalize()  → 'Hello world'` |\n",
    "| `.swapcase()` | Меняет регистр на противоположный | `'Hello'.swapcase()  → 'hELLO'` |\n",
    "| `.count(sub[, start[, end]])` | Считает количество вхождений подстроки | `'banana'.count('a')  → 3` |\n",
    "| `.startswith(prefix)` | Начинается ли строка с `prefix` | `'hello'.startswith('he')  → True` |\n",
    "| `.endswith(suffix)` | Заканчивается ли строка на `suffix` | `'hello'.endswith('lo')  → True` |\n",
    "| `.index(sub)` | Индекс первого вхождения подстроки | `'banana'.index('a')  → 1` |\n",
    "| `.find(sub)` | Как `.index()`, но `-1`, если не найдено | `'banana'.find('z')  → -1` |\n",
    "| `.rfind(sub)` | Ищет последнее вхождение | `'banana'.rfind('a')  → 5` |\n",
    "| `.replace(old, new[, count])` | Заменяет `old` на `new`, `count` раз | `'banana'.replace('a', 'o')  → 'bonono'` |\n",
    "| `.ljust(width)` | Дополняет пробелами справа | `'hi'.ljust(5)  → 'hi   '` |\n",
    "| `.rjust(width)` | Дополняет пробелами слева | `'hi'.rjust(5)  → '   hi'` |\n",
    "| `.center(width)` | Центрирует строку | `'hi'.center(5)  → ' hi '` |\n",
    "| `.zfill(width)` | Дополняет нулями слева | `'42'.zfill(5)  → '00042'` |\n",
    "| `.strip([chars])` | Убирает пробелы или `chars` по краям | `'  hello  '.strip()  → 'hello'` |\n",
    "| `.lstrip([chars])` | Убирает слева | `'  hello  '.lstrip()  → 'hello  '` |\n",
    "| `.rstrip([chars])` | Убирает справа | `'  hello  '.rstrip()  → '  hello'` |\n",
    "| `.split([sep[, maxsplit]])` | Разбивает строку | `'a,b,c'.split(',')  → ['a', 'b', 'c']` |\n",
    "| `sep.join(iterable)` | Соединяет элементы через `sep` | `'-'.join(['a', 'b', 'c'])  → 'a-b-c'` |\n",
    "| `.partition(sep)` | Делит строку на три части | `'hello world'.partition(' ')  → ('hello', ' ', 'world')` |\n",
    "| `.rpartition(sep)` | Как `.partition()`, но с конца | `'hello world'.rpartition(' ')  → ('hello', ' ', 'world')` |\n",
    "| `.isalpha()` | Только буквы? | `'hello'.isalpha()  → True` |\n",
    "| `.isdigit()` | Только цифры? | `'123'.isdigit()  → True` |\n",
    "| `.isalnum()` | Только буквы и цифры? | `'abc123'.isalnum()  → True` |\n",
    "| `.islower()` | Все буквы в нижнем регистре? | `'hello'.islower()  → True` |\n",
    "| `.isupper()` | Все буквы в верхнем регистре? | `'HELLO'.isupper()  → True` |\n",
    "| `.istitle()` | Каждое слово с заглавной буквы? | `'Hello World'.istitle()  → True` |\n",
    "| `.isspace()` | Только пробельные символы? | `'   '.isspace()  → True` |\n",
    "| `.encode(encoding='utf-8')` | Кодирует строку | `'hello'.encode()  → b'hello'` |\n",
    "| `.casefold()` | Аналог `.lower()`, но агрессивнее | `'ß'.casefold()  → 'ss'` |\n",
    "| `.expandtabs(tabsize=8)` | Заменяет табуляции пробелами | `'hello\\\\tworld'.expandtabs(4)  → 'hello   world'` |\n",
    "| `.translate(table)` | Заменяет символы по таблице | `str.maketrans('aeiou', '12345')` `'hello'.translate(table)  → 'h2ll4'` |\n",
    "| `.removeprefix(prefix)` | Удаляет `prefix`, если есть | `'pythonist'.removeprefix('py')  → 'thonist'` |\n",
    "| `.removesuffix(suffix)` | Удаляет `suffix`, если есть | `'filename.txt'.removesuffix('.txt')  → 'filename'` |\n"
   ]
  },
  {
   "cell_type": "markdown",
   "id": "deaefe2d-bde3-491a-8edb-ac229f13be52",
   "metadata": {},
   "source": [
    "**.upper()**"
   ]
  },
  {
   "cell_type": "code",
   "execution_count": null,
   "id": "cb9efe67-4667-4b41-a5dd-e0bdf13de011",
   "metadata": {},
   "outputs": [],
   "source": [
    "#Заглавные                       \n",
    "a = 'hello'.upper()\n",
    "print(a)\n",
    "# HELLO"
   ]
  },
  {
   "cell_type": "markdown",
   "id": "260e5434-0c8d-49c4-821f-205c44af7848",
   "metadata": {},
   "source": [
    "**.lower()**"
   ]
  },
  {
   "cell_type": "code",
   "execution_count": null,
   "id": "96167232-ae24-4181-a1b7-6b62c4907426",
   "metadata": {},
   "outputs": [],
   "source": [
    "#Строчные                       \n",
    "a = 'HeLLO'.lower()\n",
    "print(a)\n",
    "# hello"
   ]
  },
  {
   "cell_type": "markdown",
   "id": "75b2016b-fc9a-4e0d-b48c-f108fa55e407",
   "metadata": {},
   "source": [
    "**.title()**"
   ]
  },
  {
   "cell_type": "code",
   "execution_count": null,
   "id": "3ca9ff69-ce81-456b-a23a-510b0dd2b493",
   "metadata": {},
   "outputs": [],
   "source": [
    "#Каждое слово исходной строки начинается с буквы в верхнем регистре, а все остальные буквы в нижнем.\n",
    "s = 'hello world'\n",
    "print(s.title())\n",
    "# Hello World"
   ]
  },
  {
   "cell_type": "markdown",
   "id": "28f0368e-651b-43dc-a67e-47b020b8cca0",
   "metadata": {},
   "source": [
    "**.capitalize()**"
   ]
  },
  {
   "cell_type": "code",
   "execution_count": null,
   "id": "3100c88e-dab2-451a-93ad-e3b449717ec7",
   "metadata": {},
   "outputs": [],
   "source": [
    "#Первый символ находится в верхнем регистре, а все остальные в нижнем\n",
    "s = 'hello world'\n",
    "print(s.capitalize())\n",
    "# Hello world"
   ]
  },
  {
   "cell_type": "markdown",
   "id": "01b56195-2983-467f-8bc5-b3c7cb151ff7",
   "metadata": {},
   "source": [
    "**.swapcase()**"
   ]
  },
  {
   "cell_type": "code",
   "execution_count": null,
   "id": "4a651d03-8a15-4c1f-ae26-a3763d117697",
   "metadata": {},
   "outputs": [],
   "source": [
    "#все заглавные буквы преобразованы в строчные, строчные – в заглавные\n",
    "s = 'hellO wOrld!123'\n",
    "print(s.swapcase())\n",
    "# HELLo WoRLD!123"
   ]
  },
  {
   "cell_type": "markdown",
   "id": "da084ec3-8c6d-49d9-a376-5d4f790f27ba",
   "metadata": {},
   "source": [
    "**.count(sub[, start[, end]])**"
   ]
  },
  {
   "cell_type": "code",
   "execution_count": null,
   "id": "88803617-0dd3-4fed-aeff-eb820b39f957",
   "metadata": {},
   "outputs": [],
   "source": [
    "#Возвращает количество указанных символов в строке\n",
    "\n",
    "# ищет подстроку\n",
    "s = \"Abracadabra\"\n",
    "print(s.count('A'))  # 1\n",
    "print(s.count('a'))  # 4\n",
    "print(s.count('r'))  # 2\n",
    "print(s.count('w'))  # 0\n",
    "\n",
    "#ищет подстроку, с начального индекса поиска\n",
    "s = \"banana banana\"\n",
    "print(s.count(\"na\"))  # 4\n",
    "print(s.count(\"na\", 3))  # 3\n",
    "print(s.count(\"na\", 4))  # 3\n",
    "print(s.count(\"na\", 5))  # 2\n",
    "\n",
    "#ищет подстроку, с начального индекса поиска до окончания поиска\n",
    "s = \"banana banana\"\n",
    "print(s.count(\"na\", 2, 3))  # 0\n",
    "print(s.count(\"na\", 2, 4))  # 1\n",
    "print(s.count(\"na\", 2, 5))  # 1\n",
    "print(s.count(\"na\", 2, 6))  # 2"
   ]
  },
  {
   "cell_type": "markdown",
   "id": "ccb6fc1a-009d-445b-b31d-b1c98ccdbc5b",
   "metadata": {},
   "source": [
    "**.startswith()**"
   ]
  },
  {
   "cell_type": "code",
   "execution_count": null,
   "id": "142207d8-a99f-4705-987b-09eab618bbbc",
   "metadata": {
    "scrolled": true
   },
   "outputs": [],
   "source": [
    "#Метод (с английского «starts with» дословно переводится как «начинаться с») \n",
    "#позволяет проверить, начинается ли строка с определенной подстроки (префикса). \n",
    "\n",
    "1. S.startswith(prefix)\n",
    "s = 'Мила Кунис'\n",
    "print(s.startswith('Мила'))  # True\n",
    "print(s.startswith('М'))  # True\n",
    "print(s.startswith('Бред'))  # False\n",
    "print(s.startswith('мила'))  # False\n",
    "print(s.startswith('м'))  # False\n",
    "print(s.startswith('Мила Кунис'))  # True\n",
    "\n",
    "2. S.startswith(prefix, start)\n",
    "s = 'Мила Кунис'\n",
    "print(s.startswith('Мила', 1))  # False\n",
    "print(s.startswith('ила', 1))  # True\n",
    "print(s.startswith('ла', 1))  # False\n",
    "print(s.startswith('ла', 2))  # True\n",
    "\n",
    "3. S.startswith(prefix, start, end)\n",
    "s = 'Мила Кунис'\n",
    "print(s.startswith('ил', 1, 2))  # False\n",
    "print(s.startswith('ил', 1, 3))  # True\n",
    "print(s.startswith('Мила', 0, 3))  # False\n",
    "print(s.startswith('Мила', 0, 4))  # True"
   ]
  },
  {
   "cell_type": "markdown",
   "id": "2d0ab6a6-f2cb-4fd7-b1f0-597f0a484638",
   "metadata": {},
   "source": [
    "**.endswith()**"
   ]
  },
  {
   "cell_type": "code",
   "execution_count": null,
   "id": "897203f2-e8aa-4066-9dc1-f7dc94187acb",
   "metadata": {},
   "outputs": [],
   "source": [
    "#Метод (с английского «ends with» дословно переводится как «заканчиваться чем-то») \n",
    "#позволяет проверить, заканчивается ли строка определенной подстрокой. \n",
    "\n",
    "1. S.endswith(prefix)\n",
    "s = 'Мила Кунис'\n",
    "print(s.endswith('Кунис'))  # True\n",
    "print(s.endswith('с'))  # True\n",
    "print(s.endswith('Бред'))  # False\n",
    "print(s.endswith('Мила'))  # False\n",
    "print(s.endswith('кунис'))  # False\n",
    "print(s.endswith('Мила Кунис'))  # True\n",
    "\n",
    "2. S.endswith(prefix, start)\n",
    "s = 'Мила Кунис'\n",
    "print(s.endswith('нис', 10))  # False\n",
    "print(s.endswith('нис', 7))  # True\n",
    "print(s.endswith('нис', -3))  # True\n",
    "print(s.endswith('Кунис', 5))  # True\n",
    "print(s.endswith('Кунис', 6))  # False\n",
    "\n",
    "3. S.endswith(prefix, start, end)\n",
    "s = 'Мила Кунис'\n",
    "print(s.endswith('ис', 8, 9))  # False\n",
    "print(s.endswith('ис', 8, 10))  # True\n",
    "print(s.endswith('Кунис', 5, 8))  # False\n",
    "print(s.endswith('Кунис', 5, 9))  # False\n",
    "print(s.endswith('Кунис', 5, 10))  # True"
   ]
  },
  {
   "cell_type": "markdown",
   "id": "96695542-d0bb-4a2d-8181-8ef82d8e7a79",
   "metadata": {},
   "source": [
    "**.index()**"
   ]
  },
  {
   "cell_type": "code",
   "execution_count": null,
   "id": "f1f8dc99-e288-4e75-9b82-09eef1508152",
   "metadata": {},
   "outputs": [],
   "source": [
    "#Возвращает индекс первой найденной подстроки, аналогично методу .find(). Вернет ОШИБКУ, \n",
    "#если ничего не будет найдено\n",
    "s = 'hello world'            \n",
    "print(s.index('o'))         # 4\n",
    "print(s.index('l', 5, 10))  # 9"
   ]
  },
  {
   "cell_type": "markdown",
   "id": "6040c83b-262a-4a24-91d6-50867f275fa0",
   "metadata": {},
   "source": [
    "**.find()**"
   ]
  },
  {
   "cell_type": "code",
   "execution_count": null,
   "id": "5704ffaa-9aaa-4d9a-ad48-ae4da39a451a",
   "metadata": {},
   "outputs": [],
   "source": [
    ".find(sub)\n",
    "\n",
    "#Возвращает индекс первого слева вхождения подстроки (sub)\n",
    "s = 'hello world'\n",
    "print(s.find('h'))  # 0\n",
    "print(s.find('o'))  # 4\n",
    "print(s.find('x'))  # -1\n",
    "print(s.find('ll'))  # 2\n",
    "print(s.find('hello'))  # 0\n",
    "print(s.find('hell '))  # -1\n",
    "print(s.find('world'))  # 6\n",
    "\n",
    ".find(sub, start])\n",
    "\n",
    "# Стартовая позиция начала поиска\n",
    "print(s.find('o'))  # 4\n",
    "print(s.find('o', 4))  # 4\n",
    "print(s.find('o', 5))  # 7\n",
    "print(s.find('e', 3))  # -1\n",
    "print(s.find('hello', 1))  # -1\n",
    "\n",
    ".find(sub, start, end)\n",
    "\n",
    "# При таком варианте вызова подстрока sub  будет искаться в строке s, начиная с позиции start включительно \n",
    "# до позиции end не включительно.\n",
    "s = 'hello world'\n",
    "print(s.find('o'))  # 4\n",
    "print(s.find('o', 4))  # 4\n",
    "print(s.find('o', 5))  # 7\n",
    "print(s.find('e', 3))  # -1\n",
    "print(s.find('hello', 1))  # -1\n",
    "\n",
    "# * Вернет значение -1, если подстрока не будет найдена"
   ]
  },
  {
   "cell_type": "markdown",
   "id": "be4315e5-c499-41d9-95ef-fded09d8aecb",
   "metadata": {},
   "source": [
    "**.rfind()**"
   ]
  },
  {
   "cell_type": "code",
   "execution_count": null,
   "id": "31144747-c4dc-4712-9f80-046a14e787f4",
   "metadata": {},
   "outputs": [],
   "source": [
    "#- Поиск с другого конца строки\n",
    "#- Буква r обозначает слово right(справа)\n",
    "#- Можно ограничить интервал поиска, передав дополнительно параметры start и end\n",
    "# * Вернет значение -1, если ничего не будет найдено\n",
    "s = 'hello world'\n",
    "print(s.rfind('h'))  # 0\n",
    "print(s.rfind('o'))  # 7\n",
    "print(s.rfind('x'))  # -1\n",
    "print(s.rfind('ll'))  # 2\n",
    "print(s.rfind('hello'))  # 0\n",
    "print(s.rfind('hell '))  # -1\n",
    "print(s.rfind('world'))  # 6\n",
    "\n",
    "s = 'hello world'\n",
    "print(s.rfind('o'))  # 7\n",
    "print(s.rfind('o', 7))  # 7\n",
    "print(s.rfind('o', 8))  # -1\n",
    "print(s.rfind('e', 3))  # -1\n",
    "print(s.rfind('e', 1))  # 1\n",
    "print(s.rfind('hello', 1))  # -1\n",
    "\n",
    "s = 'hello world'\n",
    "print(s.rfind('o'))  # 7\n",
    "print(s.rfind('o', 1, 7))  # 4\n",
    "print(s.rfind('o', 1, 8))  # 7\n",
    "print(s.rfind('o', 1, 4))  # -1\n",
    "\n",
    "print(s.rfind('w'))  # 6\n",
    "print(s.rfind('w', 1, 6))  # -1\n",
    "print(s.rfind('w', 1, 7))  # 6\n",
    "print(s.rfind('llo'))  # 2\n",
    "print(s.rfind('llo', 2, 4))  # -1\n",
    "print(s.rfind('llo', 1, 5))  # 2"
   ]
  },
  {
   "cell_type": "markdown",
   "id": "0ab3c23a-214f-44e1-846c-46522d639bd5",
   "metadata": {},
   "source": [
    "**.replace(old, new, count)**"
   ]
  },
  {
   "cell_type": "code",
   "execution_count": null,
   "id": "8494d26c-05af-490d-9d0c-97e399cac18e",
   "metadata": {},
   "outputs": [],
   "source": [
    "# old — искомая подстрока, которую следует заменить;\n",
    "# new — подстрока, на которую следует заменить искомую;\n",
    "# maxcount=None — максимальное требуемое количество замен. Если не указано, будут заменены все вхождения искомой строки.\n",
    "#Замена символов\n",
    "#Заменяет символы в строке.Удаляет символы в строке. Можно указать сколько замен - удалений нужно сделать                 \n",
    "s = 'hello world'\n",
    "print(s.replace('o', '+'))    # hell+ w+rld\n",
    "print(s.replace('l', ''))     # heo word\n",
    "print(s.replace('l', '', 2))  # * heo world\n",
    "print(s.replace(' ', ''))     # helloworld"
   ]
  },
  {
   "cell_type": "markdown",
   "id": "bc0f0a8c-54bb-492f-9ec5-388c3c0dfd98",
   "metadata": {},
   "source": [
    "**.ljust()**"
   ]
  },
  {
   "cell_type": "code",
   "execution_count": null,
   "id": "3b8ea0f4-af36-4c4a-bf6e-efa8fb0c32a3",
   "metadata": {},
   "outputs": [],
   "source": [
    "#Метод  .ljust создаст новую строку, в которой исходная строка прижмется к левой стороне (выравнивается влево), \n",
    "#а справа она будет дополнена символами fillchar до указанной длины width.\n",
    "#Если параметр width меньше длины строки, то будет возвращена исходная строка без изменений.\n",
    "#- знак заполнителя (по умолчанию пробел)\n",
    "d = 'qwerty'\n",
    "print(d.ljust(10))        # qwerty____\n",
    "print(d.ljust(10, '-'))   # qwerty----\n",
    "print(d.ljust(10, '&'))   # qwerty&&&&\n",
    "print(d.ljust(5, '!'))    # qwerty"
   ]
  },
  {
   "cell_type": "markdown",
   "id": "b04b7ef3-a00a-4fa3-95d7-8890a6a012f4",
   "metadata": {},
   "source": [
    "**.rjust()**"
   ]
  },
  {
   "cell_type": "code",
   "execution_count": null,
   "id": "a5ce1173-4cbc-4fa1-9af4-158d1a94bdb1",
   "metadata": {},
   "outputs": [],
   "source": [
    "#Метод  .rjust создаст новую строку, в которой исходная строка S прижмется к правой стороне, а слева она будет \n",
    "#дополнена символами fillchar до указанной длины width.\n",
    "#Если параметр width меньше длины строки, то будет возвращена исходная строка без изменений.\n",
    "#- знак заполнителя (по умолчанию пробел)\n",
    "d = 'qwerty'\n",
    "print(d.rjust(10))       # ____qwerty\n",
    "print(d.rjust(10, '-'))  # ----qwerty\n",
    "print(d.rjust(10, '&'))  # &&&&qwerty\n",
    "print(d.rjust(5, '!'))   # qwerty"
   ]
  },
  {
   "cell_type": "markdown",
   "id": "2d88d32f-2fc5-46fc-bc69-37cdb61a401d",
   "metadata": {},
   "source": [
    "**.center()**"
   ]
  },
  {
   "cell_type": "code",
   "execution_count": null,
   "id": "9a94739a-2dbf-4f89-9079-5eff30ef09d6",
   "metadata": {},
   "outputs": [],
   "source": [
    "#Метод  .center создаст новую строку, в которой исходная строка S располагается по центру, а слева и справа она \n",
    "#будет дополнена символами fillchar до указанной длины width. \n",
    "#- знак заполнителя (по умолчанию пробел)\n",
    "d = 'qwerty'\n",
    "print(d.center(10))        # __qwerty__\n",
    "print(d.center(12, '$'))   # $$$qwerty$$$\n",
    "print(d.center(13, '+'))   # ++++qwerty+++  **\n",
    "print(d.center(5, '$'))    # qwerty"
   ]
  },
  {
   "cell_type": "markdown",
   "id": "f787a3e3-2639-49af-bd69-55033d5c264b",
   "metadata": {},
   "source": [
    "**.zfill()**"
   ]
  },
  {
   "cell_type": "code",
   "execution_count": null,
   "id": "1de339b2-8668-4ccd-a67f-3c5216b867c4",
   "metadata": {},
   "outputs": [],
   "source": [
    "#Метод .zfill возвращает новую строку, в которой исходная строка S дополнена нулями слева так, \n",
    "#чтобы длина новой строки стала равна width\n",
    "d = '123'\n",
    "print(d.zfill(5))          # 00123\n",
    "print(d.zfill(6))          # 000123\n",
    "print(d.zfill(2))          # 123\n",
    "print(d.zfill(3))          # 123\n",
    "print('0.123'.zfill(6))    # 00.123"
   ]
  },
  {
   "cell_type": "markdown",
   "id": "db91b117-e88d-41f2-b8ca-550a9be4a4d3",
   "metadata": {},
   "source": [
    "**.strip()**"
   ]
  },
  {
   "cell_type": "code",
   "execution_count": null,
   "id": "64fd4d17-3a46-4eec-b0aa-95d11235faf9",
   "metadata": {},
   "outputs": [],
   "source": [
    "#Mетод удаляет указанные символы с начала и конца строки. Если аргумент не передан, метод удаляет пробелы и \n",
    "# символы новой строки \\n\n",
    "\n",
    "q = '  hello  '\n",
    "print(q)                                 # __hello__\n",
    "print(q.strip())                         # hello\n",
    "print('\\n\\n\\n_USB_\\n\\n\\n\\n'.strip())     # * _USB_ удалил все переносы"
   ]
  },
  {
   "cell_type": "markdown",
   "id": "9c6810b0-ce97-44b6-b187-b760672142a5",
   "metadata": {},
   "source": [
    "**.strip([chars])**"
   ]
  },
  {
   "cell_type": "markdown",
   "id": "2ac5fc44-44ce-4249-b304-bcb9bd4dcb05",
   "metadata": {},
   "source": [
    "В chars можно передавать сразу несколько символов. Символы в параметре chars рассматриваются не как последовательность, а как набор символов, которые необходимо удалить. Поэтому будут удаляться все вхождения символов из chars, независимо от порядка следования, но только начальные и конечные символы из переданной строки. Метод не удаляет все вхождения этих символов внутри строки."
   ]
  },
  {
   "cell_type": "code",
   "execution_count": null,
   "id": "2582d22e-6f24-4afc-9057-7f4681d51f35",
   "metadata": {},
   "outputs": [],
   "source": [
    "s = \"abcbcaTacoabcbac\"\n",
    "print(s.strip(\"abc\"))  # 'Taco'\n",
    "\n",
    "print('321232321_USB_31121312'.strip('123')) # _USB_"
   ]
  },
  {
   "cell_type": "markdown",
   "id": "e81cd8a4-9355-4de4-9c59-740341260257",
   "metadata": {},
   "source": [
    "**.rstrip()**"
   ]
  },
  {
   "cell_type": "code",
   "execution_count": null,
   "id": "1bc576d0-4165-415c-a25b-3201f675fbd4",
   "metadata": {},
   "outputs": [],
   "source": [
    "#Возвращает копию строки, в которой справа удалены указанные символы (по умолчанию удаляются пробельные символы\n",
    "# и знаки переноса на новую строку \\n)\n",
    "\n",
    "s = \"  Hello, world!  \"\n",
    "print(s.rstrip())  # '  Hello, world!'\n",
    "\n",
    "s2 = '\\n  \\n\\n_USB_\\n  \\n\\n  \\n'\n",
    "print(s2.rstrip())  # '\\n  \\n\\n_USB_'\n",
    "\n",
    "s3 = \"###Python###\"\n",
    "print(s3.rstrip(\"#\"))  # '###Python'"
   ]
  },
  {
   "cell_type": "markdown",
   "id": "1572b2db-3382-4691-ac7e-7c57e5354bcf",
   "metadata": {},
   "source": [
    "**.lstrip()**"
   ]
  },
  {
   "cell_type": "code",
   "execution_count": null,
   "id": "a0396f7a-9dcd-4e80-9999-93e18f9c5db3",
   "metadata": {},
   "outputs": [],
   "source": [
    "#Возвращает копию строки, в которой слева удалены указанные символы (по умолчанию удаляются пробельные символы \n",
    "# и знаки переноса на новую строку \\n)\n",
    "s = \"  Hello, world!  \"\n",
    "print(s.lstrip())  # 'Hello, world!  '\n",
    "\n",
    "s2 = '\\n  \\n\\n_USB_\\n  \\n\\n  \\n'\n",
    "print(s2.lstrip())  # '_USB_\\n  \\n\\n  \\n'\n",
    "\n",
    "s3 = \"###Python###\"\n",
    "print(s3.lstrip(\"#\"))  # 'Python###'"
   ]
  },
  {
   "cell_type": "markdown",
   "id": "8e514de2-19b7-4940-aa09-cbbb1c657e0b",
   "metadata": {},
   "source": [
    "**.split([sep],[maxsplit])**"
   ]
  },
  {
   "cell_type": "code",
   "execution_count": null,
   "id": "af99f883-19f7-44e0-b3bb-ee8915224792",
   "metadata": {},
   "outputs": [],
   "source": [
    "#Разбивает строку по указанным символам и возвращает список. Также по умолчанию (если не указывать в скобках аргумент). \n",
    "# Он убирает все пробельные символы, даже если их несколько. Причём к пробельным символам относятся и энтеры и табы и т.д.\n",
    "\n",
    "text = \"Python is best\"\n",
    "print(text.split())      # ['Python', 'is', 'best']\n",
    "text = \"Ivanov Ivan Ivaovich\"\n",
    "print(text.split('n'))   # ['Iva', 'ov Iva', ' Ivaovich']\n",
    "text = \"43,54,674,1434\"\n",
    "print(text.split(','))   # ['43', '54', '674', '1434']\n",
    "print('1, 2, 3, 4, 5'.split(', '))  # ['1', '2', '3', '4', '5']\n",
    "print('a->b->C->->d'.split('->'))  # ['a', 'b', 'C', '', 'd']\n",
    "print('1      4      5'.split())  # ['1', '4', '5']\n",
    "print('   a  b   c   '.split())  # ['a', 'b', 'c']\n",
    "print('    '.split())  # []\n",
    "print('www'.split('w'))  # ['', '', '', '']\n",
    "\n",
    "fruits = 'Apple#Banana#Cherry#Orange'\n",
    "\n",
    "# без ограничений\n",
    "print(fruits.split('#'))  # ['Apple', 'Banana', 'Cherry', 'Orange']\n",
    "\n",
    "# лимит в одно разбиение\n",
    "print(fruits.split('#', 1))  # ['Apple', 'Banana#Cherry#Orange']\n",
    "\n",
    "# лимит в два разбиения\n",
    "print(fruits.split('#', 2))  # ['Apple', 'Banana', 'Cherry#Orange']\n",
    "\n",
    "# запрет разбиений\n",
    "print(fruits.split('#', 0))  # ['Apple#Banana#Cherry#Orange']"
   ]
  },
  {
   "cell_type": "markdown",
   "id": "0226a152-e844-4ff1-8af7-95b2ca34a166",
   "metadata": {},
   "source": [
    "**' '.join()**"
   ]
  },
  {
   "cell_type": "code",
   "execution_count": null,
   "id": "b541696b-a1d1-4d8b-8a89-1a0a0cccbab5",
   "metadata": {},
   "outputs": [],
   "source": [
    "print(' '.join(['Иванов', 'Иван', 'Иванович']))  # Иванов Иван Иванович\n",
    "print('#'.join(['Apple', 'Banana', 'Cherry']))  # Apple#Banana#Cherry\n",
    "print(''.join(['Алиса', 'Боб', 'Чарли', 'Денис', 'Ева']))  # АлисаБобЧарлиДенисЕва\n",
    "print(','.join(['Алиса', 'Боб', 'Чарли', 'Денис', 'Ева']))  # Алиса,Боб,Чарли,Денис,Ева\n",
    "print('->'.join(['Алиса', 'Боб', 'Денис', 'Ева']))  # Алиса->Боб->Денис->Ева\n",
    "print('!'.join('Алиса'))  # А!л!и!с!а\n",
    "print('???'.join('1 2 3'))  # 1??? ???2??? ???3"
   ]
  },
  {
   "cell_type": "markdown",
   "id": "28002551-ddac-405a-8551-e221fcb28129",
   "metadata": {},
   "source": [
    "**.partition()**"
   ]
  },
  {
   "cell_type": "code",
   "execution_count": null,
   "id": "96af6ed4-b75a-4a00-821c-c943f1035019",
   "metadata": {},
   "outputs": [],
   "source": [
    "#Разбивает строку по указанному разделителю и возвращает кортеж из трех элементов: \n",
    "#строка до разделителя, сам разделитель и строка после разделителя.\n",
    "#Если разделитель не найден, то возвращается кортеж так же состоящий из трех элементов \n",
    "#в котором первый элемент – это исходная строка, а два других элемента – это пустые строки.\n",
    "text = \"Python is best\"\n",
    "print(text.partition('is '))   # ('Python ', 'is ', 'best')\n",
    "print(text.partition('not '))  # * ('Python is best', '', '')\n",
    "s = \"Python is best, isn't it\"\n",
    "print(s.partition('is'))       # ('Python ', 'is', \" best, isn't it\")"
   ]
  },
  {
   "cell_type": "markdown",
   "id": "81ea08a3-e9fb-43fc-981e-7b7fb39be999",
   "metadata": {},
   "source": [
    "**.rpartition()**"
   ]
  },
  {
   "cell_type": "code",
   "execution_count": null,
   "id": "7cdb5397-79bb-4137-8332-75c1d37eb16e",
   "metadata": {},
   "outputs": [],
   "source": [
    "#Разбивает строку по последнему встреченному разделителю sep и возвращает кортеж, который состоит из трех элементов: \n",
    "#строки до разделителя, самого разделителя и строки после разделителя.\n",
    "#Если разделитель в строке отсутствует, то кортеж будет состоять из: двух пустых строк и исходной строки\n",
    "text = \"Python is best\"\n",
    "print(text.rpartition('is '))   # ('Python ', 'is ', 'best')\n",
    "print(text.rpartition('not '))  # * ('', '', 'Python is best')\n",
    "s = \"Python is best, isn't it\"\n",
    "print(s.rpartition('is'))       # ('Python is best, ', 'is', \"n't it\")"
   ]
  },
  {
   "cell_type": "markdown",
   "id": "671c9778-70a7-4f98-a6cb-83aad03076f4",
   "metadata": {},
   "source": [
    "**.isalpha()**"
   ]
  },
  {
   "cell_type": "code",
   "execution_count": null,
   "id": "467aa72b-6eeb-42f0-ba2c-17ec909f282d",
   "metadata": {},
   "outputs": [],
   "source": [
    "#Данный метод возвращает True , если строка S не пустая и состоит только из символов-букв. \n",
    "#Если в строке встретится хотя бы один символ, неявляющийся буквой, то метод .isalpha вернет значение False.\n",
    "print(''.isalpha())  # False\n",
    "print('ЗемфиРа'.isalpha())  # True\n",
    "print('Я искала тебя'.isalpha())  # False\n",
    "print('ЯИскалаТебя'.isalpha())  # True\n",
    "print('Годами'.isalpha())  # True\n",
    "print('qwerty'.isalpha())  # True\n",
    "print('12a45'.isalpha())  # False\n",
    "print('qwerty!'.isalpha())  # False"
   ]
  },
  {
   "cell_type": "markdown",
   "id": "72b5825c-d197-44b6-86ee-aa9f41d0fbf6",
   "metadata": {},
   "source": [
    "**.isdigit()**"
   ]
  },
  {
   "cell_type": "code",
   "execution_count": null,
   "id": "10d4efc3-aba8-485f-aea6-51d8e5230f32",
   "metadata": {},
   "outputs": [],
   "source": [
    "#Данный метод возвращает True , если строка S не пустая и состоит только из символов-цифр. \n",
    "#В случае, если строка пустая или в строке есть хотя бы один символ отличный от цифр, вернется False\n",
    "#Эта проверка на цифры может быть полезна перед преобразованием строки в целое число.\n",
    "print(''.isdigit())  # False\n",
    "print('0123456789'.isdigit())  # True\n",
    "print('0,1'.isdigit())  # False\n",
    "print('1 000 000'.isdigit())  # False\n",
    "print('qwerty'.isdigit())  # False\n",
    "print('12a45'.isdigit())  # False"
   ]
  },
  {
   "cell_type": "markdown",
   "id": "a5b8c11d-4f5d-4e50-b84e-5533d65f2039",
   "metadata": {},
   "source": [
    "**.isalnum()**"
   ]
  },
  {
   "cell_type": "code",
   "execution_count": null,
   "id": "da814020-ffd7-4392-b0c0-2d301d68d9d0",
   "metadata": {},
   "outputs": [],
   "source": [
    "#Возвращает True, если все символы в строке являются либо буквами алфавита, либо цифрами.\n",
    "#В противном случае он возвращает False\n",
    "print('abc123'.isalnum()) # True\n",
    "print(\"abc@\".isalnum()) # False\n",
    "print(\"abc123@\".isalnum()) # False"
   ]
  },
  {
   "cell_type": "markdown",
   "id": "bac4f956-b0e4-4a67-b1ef-45c876f1d043",
   "metadata": {},
   "source": [
    "**.islower()**"
   ]
  },
  {
   "cell_type": "code",
   "execution_count": null,
   "id": "d587dc4a-d422-406f-9870-bbc4a0d03086",
   "metadata": {},
   "outputs": [],
   "source": [
    "#Возвращает True, если все буквы в строке в нижнем регистре. В противном случае он возвращает False\n",
    "#Знаки пунктуации, специальные символы или цифры игнорируются при проверке\n",
    "print(''.islower())  # False\n",
    "print('qwerty'.islower())   # True\n",
    "print('qwerty!@?'.islower())  # True\n",
    "print('12345'.islower())  # False\n",
    "print('12w345'.islower())  # True\n",
    "print('12W345'.islower())  # False\n",
    "print('12345qwerty'.islower())  # True\n",
    "print('12345Qwerty'.islower())  # False"
   ]
  },
  {
   "cell_type": "markdown",
   "id": "470c5fd3-750c-431b-9e82-2b58a28f67b2",
   "metadata": {},
   "source": [
    "**.isupper()**"
   ]
  },
  {
   "cell_type": "code",
   "execution_count": null,
   "id": "1566a714-e8be-4d2c-9f2d-47e641bc11da",
   "metadata": {},
   "outputs": [],
   "source": [
    "#Возвращает True, если все буквы в строке в верхнем регистре. В противном случае он возвращает False\n",
    "#Знаки пунктуации, специальные символы или цифры игнорируются при проверке.\n",
    "print(''.isupper())  # False\n",
    "print('QWERTY'.isupper())   # True\n",
    "print('QWERTY!@?'.isupper())  # True\n",
    "print('12345'.isupper())  # False\n",
    "print('12w345'.isupper())  # False\n",
    "print('12W345'.isupper())  # True\n",
    "print('12345QWERTY'.isupper())  # True\n",
    "print('12345Qwerty'.isupper())  # False"
   ]
  },
  {
   "cell_type": "markdown",
   "id": "b254b186-40ab-4598-b248-2933bb7a6ce4",
   "metadata": {},
   "source": [
    "**.istitle()**"
   ]
  },
  {
   "cell_type": "code",
   "execution_count": null,
   "id": "c71ecfcc-2701-4247-8b07-14208b0555c4",
   "metadata": {},
   "outputs": [],
   "source": [
    "#Возвращает True , если строка S не пустая и является строкой заголовков: каждое новое слово начинается с заглавной буквы. \n",
    "#Знаки пунктуации, специальные символы или цифры игнорируются при проверке.\n",
    "print(''.istitle())  # False\n",
    "print('ЗемфиРа'.istitle())  # False\n",
    "print('Хочешь солнце'.istitle())  # False\n",
    "print('вместо лампы'.istitle())  # False\n",
    "print('Хочешь'.istitle())  # True\n",
    "print('За Окошком Альпы?'.istitle())  # True\n",
    "print('12345'.istitle())  # False\n",
    "print('12345 Привет'.istitle())  # True\n",
    "print('12345,Привет, Человек!'.istitle())  # True"
   ]
  },
  {
   "cell_type": "markdown",
   "id": "4f38de22-7f27-4193-96c3-31fb999526fa",
   "metadata": {},
   "source": [
    "**ord('а')**"
   ]
  },
  {
   "cell_type": "code",
   "execution_count": null,
   "id": "89e4eaa3-e796-43f5-8923-6ba87490f440",
   "metadata": {},
   "outputs": [],
   "source": [
    " # определяет кодовое (числовое) значение символа а"
   ]
  },
  {
   "cell_type": "markdown",
   "id": "05d883db-7bda-4984-bf22-101e1fe4b760",
   "metadata": {},
   "source": [
    "**chr()**"
   ]
  },
  {
   "cell_type": "code",
   "execution_count": null,
   "id": "454f8a88-8ac7-42ce-86be-ed07e5098fb1",
   "metadata": {},
   "outputs": [],
   "source": [
    "# преобразовывает цифру в букву"
   ]
  },
  {
   "cell_type": "markdown",
   "id": "1daa9099-25cf-413c-ba1c-5c8ee2ce4f79",
   "metadata": {},
   "source": [
    "# Способы форматирования строк"
   ]
  },
  {
   "cell_type": "markdown",
   "id": "a1ccc110-249e-4d62-b51b-8b6dd3323ea9",
   "metadata": {},
   "source": [
    "1. Конкатенация (склеивание строк)"
   ]
  },
  {
   "cell_type": "code",
   "execution_count": null,
   "id": "e8e4188a-790f-4614-b5ab-ff8c6d50a2bd",
   "metadata": {},
   "outputs": [],
   "source": [
    "name = \"Алексей\"\n",
    "age = 30\n",
    "\n",
    "result = \"Меня зовут \" + name + \", мне \" + str(age) + \" и я люблю язык Python.\"\n",
    "print(result)\n",
    "# Меня зовут Алексей, мне 30 и я люблю язык Python."
   ]
  },
  {
   "cell_type": "code",
   "execution_count": null,
   "id": "5d295be0-a48e-4b31-b66d-561163ee3343",
   "metadata": {},
   "outputs": [],
   "source": [
    "2. Метод .format(*args)"
   ]
  },
  {
   "cell_type": "code",
   "execution_count": null,
   "id": "4193fde7-ede0-4e4d-9e09-d4a16b8a9546",
   "metadata": {},
   "outputs": [],
   "source": [
    "# Использование порядковых индексов\n",
    "result = \"Меня зовут {0}, мне {1} и я люблю язык Python.\".format(name, age)\n",
    "print(result)\n",
    "# Меня зовут Алексей, мне 30 и я люблю язык Python.\n",
    "\n",
    "# Использование именованных аргументов\n",
    "result = \"Меня зовут {fio}, мне {old} и я люблю язык Python. {fio}\".format(fio=name, old=age)\n",
    "print(result)\n",
    "# Меня зовут Алексей, мне 30 и я люблю язык Python. Алексей"
   ]
  },
  {
   "cell_type": "code",
   "execution_count": null,
   "id": "1c0feb1e-76c5-42e6-b581-8696769a0496",
   "metadata": {},
   "outputs": [],
   "source": [
    "4. Форматирование строк с использованием %"
   ]
  },
  {
   "cell_type": "code",
   "execution_count": null,
   "id": "b895b651-5b78-4654-9022-735d0a2661b7",
   "metadata": {},
   "outputs": [],
   "source": [
    "name = \"Алексей\"\n",
    "age = 30\n",
    "\n",
    "# Подстановка строк (%s) и чисел (%d)\n",
    "result = \"Меня зовут %s, мне %d и я люблю язык Python.\" % (name, age)\n",
    "print(result) # Меня зовут Алексей, мне 30 и я люблю язык Python.\n",
    "\n",
    "\n",
    "# Если нужно подставить только одно значение в строку, то можно не указывать круглые скобки после оператора %\n",
    "print('Привет, я %s. А как тебя зовут?' % 'Артем')\n",
    "\n",
    "# Подстановка с плавающей точкой (%.2f - два знака после запятой)\n",
    "height = 1.82\n",
    "result = \"Меня зовут %s, мне %d, мой рост %.2f м и я люблю Python.\" % (name, age, height)\n",
    "print(result) # Меня зовут Алексей, мне 30, мой рост 1.82 м и я люблю Python.\n",
    "\n",
    "# Выравнивание и ширина поля\n",
    "result = \"Имя: %-10s | Возраст: %5d лет\" % (name, age)\n",
    "print(result) # Имя: Алексей    | Возраст:    30 лет"
   ]
  },
  {
   "cell_type": "markdown",
   "id": "24f7a4d0-b57b-44c8-aec0-7bbf863dbfeb",
   "metadata": {},
   "source": [
    "**Примечание**\n",
    "\n",
    "- (конкатенация) — требует явного преобразования int в str.\n",
    "- .format() — более универсален, поддерживает индексы и именованные аргументы.\n",
    "- f\"\" (f-строки) — удобны для встроенных вычислений и вызова методов."
   ]
  },
  {
   "cell_type": "markdown",
   "id": "324a3c1a-6e0d-421b-b4f6-fbdaa95aacae",
   "metadata": {},
   "source": [
    "**Форматирование числовых значений**"
   ]
  },
  {
   "cell_type": "markdown",
   "id": "f9091a2c-1223-4b08-8301-8807c65d11fa",
   "metadata": {},
   "source": [
    "![](images/format_str.png)"
   ]
  },
  {
   "cell_type": "markdown",
   "id": "55f8d16c-8a52-459c-8de1-d72f9d6af9c5",
   "metadata": {},
   "source": [
    "### f - строки"
   ]
  },
  {
   "cell_type": "code",
   "execution_count": null,
   "id": "347aa326-f71c-444b-a0e8-e5bf24372dab",
   "metadata": {},
   "outputs": [],
   "source": [
    "# Вставка выражений в f-строки\n",
    "balance = 32.56\n",
    "text = f\"Баланс после списания: {-balance * 2} руб.\"\n",
    "print(text)\n",
    "____________________________________________________________________________________________________________________\n",
    "\n",
    "# Внутри фигурных скобок можно у объектов вызывать методы или использовать встроенные функции.\n",
    "name = 'Семён'\n",
    "mid_name = 'Семёнов'\n",
    "balance = 32.56\n",
    "text = f\"\"\"Дорогой {name.lower()} {mid_name.upper()},\n",
    "баланс Вашего лицевого счёта составляет {abs(-balance * 2)} руб.\"\"\"\n",
    "print(text)\n",
    "____________________________________________________________________________________________________________________\n",
    "\n",
    "# Вывод переменных в формате «имя = значение»\n",
    "1.\n",
    "x = 14\n",
    "y = 17\n",
    "print(f\"x = {x}, y = {y}\") # x = 14, y = 17\n",
    "\n",
    "2.\n",
    "x = 11\n",
    "y = 98\n",
    "print(f\"{x=}, {y=}\") # x=11, y=98\n",
    "print(f\"{x =}, {y  = }\") # x =11, y  = 98\n",
    "____________________________________________________________________________________________________________________\n",
    "\n",
    "# Вложенные f-строки\n",
    "name = \"Алексей\"\n",
    "age = 25\n",
    "city = \"Краснодар\"\n",
    "print(f\"Привет, {name}, {f'{age} лет, {city}'}!\") # Привет, Алексей, 25 лет, Краснодар!\n",
    "____________________________________________________________________________________________________________________\n",
    "\n",
    "# задать минимальную ширину и выполнить выравнивание.\n",
    "n = 1234\n",
    "print(f\"|{n:7}|\")  # Выделяем 7 символов под значение\n",
    "print(f\"|{n:5}|\")  # Выделяем 5 символов под значение\n",
    "print(f\"|{n:4}|\")  # Выделяем 4 символов под значение\n",
    "print(f\"|{n:2}|\")  # Выделяем 2 символа, значение без изменений\n",
    "'''\n",
    "|   1234|\n",
    "| 1234|\n",
    "|1234|\n",
    "|1234|\n",
    "'''\n",
    "____________________________________________________________________________________________________________________\n",
    "\n",
    "# Со строковыми значениями тоже можно использовать такой подход.\n",
    "name = 'Alex'\n",
    "print(f\"|{name:7}|\")  # Выделяем 7 символов под значение\n",
    "print(f\"|{name:5}|\")  # Выделяем 5 символов под значение\n",
    "print(f\"|{name:4}|\")  # Выделяем 4 символов под значение\n",
    "print(f\"|{name:2}|\")  # Выделяем 2 символа, значение без изменений\n",
    "'''\n",
    "|Alex   |\n",
    "|Alex |\n",
    "|Alex|\n",
    "|Alex|\n",
    "'''\n",
    "____________________________________________________________________________________________________________________\n",
    "\n",
    "# выравнивание, указав дополнительный символ <, > или ^\n",
    "number = 12345.6789\n",
    "print(f\"Число {number = }\")\n",
    "print(f\"|{number:25}|\")\n",
    "print(f\"|{number:<25}|\")\n",
    "print(f\"|{number:>25}|\")\n",
    "print(f\"|{number:^25}|\")\n",
    "'''\n",
    "Число number = 12345.6789\n",
    "|               12345.6789|\n",
    "|12345.6789               |\n",
    "|               12345.6789|\n",
    "|       12345.6789        |\n",
    "'''\n",
    "____________________________________________________________________________________________________________________\n",
    "\n",
    "# пример выравнивания строкового значения\n",
    "text = \"Python 3.12\"\n",
    "print(f\"Строка {text = }\")\n",
    "print(f\"|{text:25}|\")\n",
    "print(f\"|{text:<25}|\")\n",
    "print(f\"|{text:>25}|\")\n",
    "print(f\"|{text:^25}|\")\n",
    "\n",
    "'''\n",
    "Строка text = 'Python 3.12'\n",
    "|Python 3.12              |\n",
    "|Python 3.12              |\n",
    "|              Python 3.12|\n",
    "|       Python 3.12       |\n",
    "'''\n",
    "____________________________________________________________________________________________________________________\n",
    "\n",
    "# Символы-заполнители\n",
    "number = 12345.6789\n",
    "print(f\"Число {number = }\")\n",
    "print(f\"|{number:?<25}|\")\n",
    "print(f\"|{number:!>25}|\")\n",
    "print(f\"|{number:-^25}|\")\n",
    "\n",
    "'''\n",
    "Число number = 12345.6789\n",
    "|12345.6789???????????????|\n",
    "|!!!!!!!!!!!!!!!12345.6789|\n",
    "|-------12345.6789--------|\n",
    "'''\n",
    "____________________________________________________________________________________________________________________\n",
    "\n",
    "# Плейсхолдеры в f-строках\n",
    "apple = 'Яблоки'\n",
    "num = 102\n",
    "price = 10.4643\n",
    "\n",
    "print(f'{apple:20s}')         # Минимум 20 символов для строки\n",
    "print(f'Количество: {num:5d}')  # Минимум 5 символов для числа\n",
    "print(f'Цена: ${price:>10.2f}') # Выравнивание вправо, 2 знака после запятой\n",
    "\n",
    "'''\n",
    "Яблоки              \n",
    "Количество:   102\n",
    "Цена: $     10.46\n",
    "'''\n",
    "____________________________________________________________________________________________________________________\n",
    "\n",
    "# Формат вывода целых чисел\n",
    "\n",
    "number = 12345\n",
    "print(f\"Число = {number}\")\n",
    "print(f\"|{number:10d}|\")   # Минимум 10 символов\n",
    "print(f\"|{number:010d}|\")  # Заполнение нулями (до 10 символов)\n",
    "print(f\"|{number:?<10d}|\") # Выравнивание влево, заполнение символами '?' справа\n",
    "print(f\"|{number:!>10d}|\") # Выравнивание вправо, заполнение символами '!' слева \n",
    "print(f\"|{number:-^10d}|\") # Выравнивание по центру, символы '-' по краям\n",
    "\n",
    "'''\n",
    "Число = 12345\n",
    "|     12345|\n",
    "|0000012345|\n",
    "|12345?????|\n",
    "|!!!!!12345|\n",
    "|--12345---|\n",
    "'''\n",
    "____________________________________________________________________________________________________________________\n",
    "\n",
    "# Разделители разрядов в числах (d)\n",
    "n = 12345678912345\n",
    "print(f'{n:,d}')  # Разделение запятой\n",
    "print(f'{n:_d}')  # Разделение нижним подчёркиванием\n",
    "\n",
    "'''\n",
    "12,345,678,912,345\n",
    "12_345_678_912_345\n",
    "'''\n",
    "____________________________________________________________________________________________________________________\n",
    "\n",
    "# Можно совместить все вместе: и заполнитель, и тип выравнивания, минимальную длину и знак разделителя:\n",
    "n = 1234567\n",
    "print(f'{n:!^15,d}')\n",
    "print(f'{n:?>15_d}')\n",
    "\n",
    "'''\n",
    "!!!1,234,567!!!\n",
    "??????1_234_567\n",
    "'''\n",
    "____________________________________________________________________________________________________________________\n",
    "\n",
    "# Формат вывода вещественных чисел\n",
    "#выравнивание и указание минимальной длины для вещественного числа\n",
    "number = 123.45\n",
    "print(f\"Число = {number}\")\n",
    "print(f\"|{number:15f}|\")  # Минимальная ширина 15 символов\n",
    "print(f\"|{number:015f}|\")  # Выравнивание к левому краю, заполнение нулями слева\n",
    "print(f\"|{number:?<15f}|\")  # Выравнивание к правому краю, заполнение '?' справа \n",
    "print(f\"|{number:!>15f}|\")  # Выравнивание к левому краю, заполнение '!' слева\n",
    "print(f\"|{number:-^15f}|\")  # Выравнивание по центру, '-' по сторонам\n",
    "\n",
    "'''\n",
    "Число = 123.45\n",
    "|     123.450000|\n",
    "|00000123.450000|\n",
    "|123.450000?????|\n",
    "|!!!!!123.450000|\n",
    "|--123.450000---|\n",
    "'''\n",
    "____________________________________________________________________________________________________________________\n",
    "\n",
    "# Округление и настройка количества знаков после запятой\n",
    "a = 1 / 8\n",
    "b = 1 / 2\n",
    "c = 1 / 3\n",
    "\n",
    "print(f'{a:.3f}')  # 0.125\n",
    "print(f'{a:.5f}')  # 0.12500\n",
    "print(f'{b:.3f}')  # 0.500\n",
    "print(f'{c:.3f}')  # 0.333\n",
    "print(f'{c:.6f}')  # 0.333333\n",
    "print(f'{c:.10f}')  # 0.3333333333\n",
    "\n",
    "____________________________________________________________________________________________________________________\n",
    "# объединить минимальную длину и количество знаков после запятой\n",
    "\n",
    "num = 12.345\n",
    "print(f'|{num:7.3f}|')  # Минимальная длина 7 символов, 3 знака после запятой\n",
    "print(f'|{num:10.4f}|') # Минимальная длина 10 символов, 4 знака после запятой\n",
    "print(f'|{num:12.2f}|') # Минимальная длина 12 символов, 2 знака после запятой\n",
    "\n",
    "'''\n",
    "| 12.345|\n",
    "|   12.3450|\n",
    "|       12.35|\n",
    "'''\n",
    "____________________________________________________________________________________________________________________\n",
    "\n",
    "# использование других символов для заполнения\n",
    "\n",
    "num = 7.25\n",
    "print(f'|{num:0>10.1f}|')  # Заполнение нулями справа\n",
    "print(f'|{num:_<10.3f}|')  # Заполнение подчеркиваниями слева\n",
    "print(f'|{num:*^10.2f}|')  # Заполнение звёздочками по центру\n",
    "\n",
    "'''\n",
    "|00000007.2|\n",
    "|7.250_____|\n",
    "|***7.25***|\n",
    "'''\n",
    "____________________________________________________________________________________________________________________\n",
    "# Отображение целых чисел как вещественных\n",
    "d = 100\n",
    "print(f'{d:.1f}')  # 100.0\n",
    "print(f'{d:.2f}')  # 100.00\n",
    "print(f'{d:.3f}')  # 100.000\n",
    "\n",
    "'''\n",
    "100.0\n",
    "100.00\n",
    "100.000\n",
    "'''"
   ]
  },
  {
   "cell_type": "code",
   "execution_count": null,
   "id": "53cdb4de-1767-4ff1-9cff-211235a47135",
   "metadata": {},
   "outputs": [],
   "source": [
    "# Вставка выражений в f-строки\n",
    "balance = 32.56\n",
    "text = f\"Баланс после списания: {-balance * 2} руб.\"\n",
    "print(text)\n",
    "____________________________________________________________________________________________________________________\n",
    "# Внутри фигурных скобок можно у объектов вызывать методы или использовать встроенные функции.\n",
    "name = 'Семён'\n",
    "mid_name = 'Семёнов'\n",
    "balance = 32.56\n",
    "text = f\"\"\"Дорогой {name.lower()} {mid_name.upper()},\n",
    "баланс Вашего лицевого счёта составляет {abs(-balance * 2)} руб.\"\"\"\n",
    "print(text)\n",
    "____________________________________________________________________________________________________________________\n",
    "# Вывод переменных в формате «имя = значение»\n",
    "1.\n",
    "x = 14\n",
    "y = 17\n",
    "print(f\"x = {x}, y = {y}\") # x = 14, y = 17\n",
    "\n",
    "2.\n",
    "x = 11\n",
    "y = 98\n",
    "print(f\"{x=}, {y=}\") # x=11, y=98\n",
    "print(f\"{x =}, {y  = }\") # x =11, y  = 98\n",
    "____________________________________________________________________________________________________________________\n",
    "# Вложенные f-строки\n",
    "name = \"Алексей\"\n",
    "age = 25\n",
    "city = \"Краснодар\"\n",
    "print(f\"Привет, {name}, {f'{age} лет, {city}'}!\") # Привет, Алексей, 25 лет, Краснодар!\n",
    "\n",
    "____________________________________________________________________________________________________________________\n",
    "# задать минимальную ширину и выполнить выравнивание.\n",
    "n = 1234\n",
    "print(f\"|{n:7}|\")  # Выделяем 7 символов под значение\n",
    "print(f\"|{n:5}|\")  # Выделяем 5 символов под значение\n",
    "print(f\"|{n:4}|\")  # Выделяем 4 символов под значение\n",
    "print(f\"|{n:2}|\")  # Выделяем 2 символа, значение без изменений\n",
    "'''\n",
    "|   1234|\n",
    "| 1234|\n",
    "|1234|\n",
    "|1234|\n",
    "'''\n",
    "____________________________________________________________________________________________________________________\n",
    "# Со строковыми значениями тоже можно использовать такой подход.\n",
    "name = 'Alex'\n",
    "print(f\"|{name:7}|\")  # Выделяем 7 символов под значение\n",
    "print(f\"|{name:5}|\")  # Выделяем 5 символов под значение\n",
    "print(f\"|{name:4}|\")  # Выделяем 4 символов под значение\n",
    "print(f\"|{name:2}|\")  # Выделяем 2 символа, значение без изменений\n",
    "'''\n",
    "|Alex   |\n",
    "|Alex |\n",
    "|Alex|\n",
    "|Alex|\n",
    "'''\n",
    "\n",
    "____________________________________________________________________________________________________________________\n",
    "# выравнивание, указав дополнительный символ <, > или ^\n",
    "number = 12345.6789\n",
    "print(f\"Число {number = }\")\n",
    "print(f\"|{number:25}|\")\n",
    "print(f\"|{number:<25}|\")\n",
    "print(f\"|{number:>25}|\")\n",
    "print(f\"|{number:^25}|\")\n",
    "'''\n",
    "Число number = 12345.6789\n",
    "|               12345.6789|\n",
    "|12345.6789               |\n",
    "|               12345.6789|\n",
    "|       12345.6789        |\n",
    "'''\n",
    "\n",
    "____________________________________________________________________________________________________________________\n",
    "# пример выравнивания строкового значения\n",
    "text = \"Python 3.12\"\n",
    "print(f\"Строка {text = }\")\n",
    "print(f\"|{text:25}|\")\n",
    "print(f\"|{text:<25}|\")\n",
    "print(f\"|{text:>25}|\")\n",
    "print(f\"|{text:^25}|\")\n",
    "\n",
    "'''\n",
    "Строка text = 'Python 3.12'\n",
    "|Python 3.12              |\n",
    "|Python 3.12              |\n",
    "|              Python 3.12|\n",
    "|       Python 3.12       |\n",
    "'''\n",
    "\n",
    "____________________________________________________________________________________________________________________\n",
    "# Символы-заполнители\n",
    "number = 12345.6789\n",
    "print(f\"Число {number = }\")\n",
    "print(f\"|{number:?<25}|\")\n",
    "print(f\"|{number:!>25}|\")\n",
    "print(f\"|{number:-^25}|\")\n",
    "\n",
    "'''\n",
    "Число number = 12345.6789\n",
    "|12345.6789???????????????|\n",
    "|!!!!!!!!!!!!!!!12345.6789|\n",
    "|-------12345.6789--------|\n",
    "'''\n",
    "\n",
    "____________________________________________________________________________________________________________________\n",
    "# Плейсхолдеры в f-строках\n",
    "apple = 'Яблоки'\n",
    "num = 102\n",
    "price = 10.4643\n",
    "\n",
    "print(f'{apple:20s}')         # Минимум 20 символов для строки\n",
    "print(f'Количество: {num:5d}')  # Минимум 5 символов для числа\n",
    "print(f'Цена: ${price:>10.2f}') # Выравнивание вправо, 2 знака после запятой\n",
    "\n",
    "'''\n",
    "Яблоки              \n",
    "Количество:   102\n",
    "Цена: $     10.46\n",
    "'''\n",
    "____________________________________________________________________________________________________________________\n",
    "# Формат вывода целых чисел\n",
    "number = 12345\n",
    "print(f\"Число = {number}\")\n",
    "print(f\"|{number:10d}|\")   # Минимум 10 символов\n",
    "print(f\"|{number:010d}|\")  # Заполнение нулями (до 10 символов)\n",
    "print(f\"|{number:?<10d}|\") # Выравнивание влево, заполнение символами '?' справа\n",
    "print(f\"|{number:!>10d}|\") # Выравнивание вправо, заполнение символами '!' слева \n",
    "print(f\"|{number:-^10d}|\") # Выравнивание по центру, символы '-' по краям\n",
    "\n",
    "'''\n",
    "Число = 12345\n",
    "|     12345|\n",
    "|0000012345|\n",
    "|12345?????|\n",
    "|!!!!!12345|\n",
    "|--12345---|\n",
    "'''\n",
    "____________________________________________________________________________________________________________________\n",
    "# Разделители разрядов в числах (d)\n",
    "n = 12345678912345\n",
    "print(f'{n:,d}')  # Разделение запятой\n",
    "print(f'{n:_d}')  # Разделение нижним подчёркиванием\n",
    "\n",
    "'''\n",
    "12,345,678,912,345\n",
    "12_345_678_912_345\n",
    "'''\n",
    "\n",
    "____________________________________________________________________________________________________________________\n",
    "# Можно совместить все вместе: и заполнитель, и тип выравнивания, минимальную длину и знак разделителя:\n",
    "n = 1234567\n",
    "print(f'{n:!^15,d}')\n",
    "print(f'{n:?>15_d}')\n",
    "\n",
    "'''\n",
    "!!!1,234,567!!!\n",
    "??????1_234_567\n",
    "'''\n",
    "\n",
    "____________________________________________________________________________________________________________________\n",
    "# Формат вывода вещественных чисел\n",
    "#выравнивание и указание минимальной длины для вещественного числа\n",
    "number = 123.45\n",
    "print(f\"Число = {number}\")\n",
    "print(f\"|{number:15f}|\")  # Минимальная ширина 15 символов\n",
    "print(f\"|{number:015f}|\")  # Выравнивание к левому краю, заполнение нулями слева\n",
    "print(f\"|{number:?<15f}|\")  # Выравнивание к правому краю, заполнение '?' справа \n",
    "print(f\"|{number:!>15f}|\")  # Выравнивание к левому краю, заполнение '!' слева\n",
    "print(f\"|{number:-^15f}|\")  # Выравнивание по центру, '-' по сторонам\n",
    "\n",
    "'''\n",
    "Число = 123.45\n",
    "|     123.450000|\n",
    "|00000123.450000|\n",
    "|123.450000?????|\n",
    "|!!!!!123.450000|\n",
    "|--123.450000---|\n",
    "'''\n",
    "\n",
    "____________________________________________________________________________________________________________________\n",
    "# Округление и настройка количества знаков после запятой\n",
    "a = 1 / 8\n",
    "b = 1 / 2\n",
    "c = 1 / 3\n",
    "\n",
    "print(f'{a:.3f}')  # 0.125\n",
    "print(f'{a:.5f}')  # 0.12500\n",
    "print(f'{b:.3f}')  # 0.500\n",
    "print(f'{c:.3f}')  # 0.333\n",
    "print(f'{c:.6f}')  # 0.333333\n",
    "print(f'{c:.10f}')  # 0.3333333333\n",
    "\n",
    "____________________________________________________________________________________________________________________\n",
    "# объединить минимальную длину и количество знаков после запятой\n",
    "\n",
    "num = 12.345\n",
    "print(f'|{num:7.3f}|')  # Минимальная длина 7 символов, 3 знака после запятой\n",
    "print(f'|{num:10.4f}|') # Минимальная длина 10 символов, 4 знака после запятой\n",
    "print(f'|{num:12.2f}|') # Минимальная длина 12 символов, 2 знака после запятой\n",
    "\n",
    "'''\n",
    "| 12.345|\n",
    "|   12.3450|\n",
    "|       12.35|\n",
    "'''\n",
    "\n",
    "____________________________________________________________________________________________________________________\n",
    "# использование других символов для заполнения\n",
    "\n",
    "num = 7.25\n",
    "print(f'|{num:0>10.1f}|')  # Заполнение нулями справа\n",
    "print(f'|{num:_<10.3f}|')  # Заполнение подчеркиваниями слева\n",
    "print(f'|{num:*^10.2f}|')  # Заполнение звёздочками по центру\n",
    "\n",
    "'''\n",
    "|00000007.2|\n",
    "|7.250_____|\n",
    "|***7.25***|\n",
    "'''\n",
    "\n",
    "____________________________________________________________________________________________________________________\n",
    "# Отображение целых чисел как вещественных\n",
    "d = 100\n",
    "print(f'{d:.1f}')  # 100.0\n",
    "print(f'{d:.2f}')  # 100.00\n",
    "print(f'{d:.3f}')  # 100.000\n",
    "\n",
    "'''\n",
    "100.0\n",
    "100.00\n",
    "100.000\n",
    "'''"
   ]
  },
  {
   "cell_type": "markdown",
   "id": "77b1e5e1-ce38-4aca-9c3b-3d381f45a03a",
   "metadata": {},
   "source": [
    "![](images/f_str1.png)"
   ]
  },
  {
   "cell_type": "markdown",
   "id": "11fc618d-8a05-4c62-aeeb-b98a336bffcf",
   "metadata": {},
   "source": [
    "![](images/f_str2.png)"
   ]
  },
  {
   "cell_type": "markdown",
   "id": "5a49532a-9c1c-4aaf-ac1c-0a78890b77be",
   "metadata": {},
   "source": [
    "![](images/f_str3.png)"
   ]
  },
  {
   "cell_type": "markdown",
   "id": "370f2079-7e6d-4956-aefd-a657c673f122",
   "metadata": {},
   "source": [
    "![](images/f_str4.png)"
   ]
  },
  {
   "cell_type": "markdown",
   "id": "58164193-c9bb-4e5b-8cae-b1d2ea462d22",
   "metadata": {},
   "source": [
    "![](images/f_str5.png)"
   ]
  },
  {
   "cell_type": "markdown",
   "id": "e3c767a6-dc13-44b5-bdcc-a59b46ef69b8",
   "metadata": {},
   "source": [
    "![](images/f_str6.png)"
   ]
  },
  {
   "cell_type": "markdown",
   "id": "9122bacd-6ec4-45dc-85d0-6b85ee15c018",
   "metadata": {},
   "source": [
    "![](images/f_str7.png)"
   ]
  },
  {
   "cell_type": "markdown",
   "id": "8ed9278d-547f-44e7-8130-256fe8e1aaac",
   "metadata": {},
   "source": [
    "![](images/f_str8.png)"
   ]
  },
  {
   "cell_type": "markdown",
   "id": "bafb4cb4-6830-477c-b9f4-dd865b9ff5cf",
   "metadata": {},
   "source": [
    "![](images/f_str9.png)"
   ]
  },
  {
   "cell_type": "code",
   "execution_count": null,
   "id": "9cdd0df2-7c00-4f17-be14-e1216d1b1f70",
   "metadata": {},
   "outputs": [],
   "source": [
    "#Изменение строки и создание копии строки:\n",
    "s = 'Information'\n",
    "s1 = s[:]        # 'Information'\n",
    "s2 = 'O' + s[1:] # 'Onformation'"
   ]
  },
  {
   "cell_type": "markdown",
   "id": "59d5a151-7804-4a0b-b45f-160fe54ad015",
   "metadata": {},
   "source": [
    "**индексы и срезы строк**"
   ]
  },
  {
   "cell_type": "code",
   "execution_count": null,
   "id": "01832c5b-970e-41a2-901d-ca1de4cef02e",
   "metadata": {},
   "outputs": [],
   "source": [
    "#строка[start:stop:step]\n",
    "s = 'Information'\n",
    "\n",
    "# Положительные индексы\n",
    "s[1:5]      # 'nfor'        # Срез с 1 по 5 (не включая 5)\n",
    "s[:5]       # 'Infor'       # Срез с начала до 5 (не включая 5)\n",
    "s[5:]       # 'mation'      # Срез с 5 до конца\n",
    "s[::2]      # 'Ifrain'      # Срез с шагом 2\n",
    "s[1::2]     # 'nomto'       # Срез с 1 до конца с шагом 2\n",
    "s[2:8:3]    # 'fai'         # Срез с 2 по 8 (не включая 8) с шагом 3\n",
    "s[::-1]     # 'noitamrofnI' # Срез с конца до начала (реверс строки)\n",
    "s[::-2]     # 'narmI'       # Срез с конца до начала с шагом 2\n",
    "s[5:1:-1]   # 'amro'        # Срез с 5 до 1 (не включая 1) в обратном порядке\n",
    "s[5:1:-2]   # 'ao'          # Срез с 5 до 1 (не включая 1) в обратном порядке с шагом 2\n",
    "\n",
    "# Отрицательные индексы\n",
    "s[-5:-1]    # 'mati'        # Срез с -5 до -1 (не включая -1)\n",
    "s[-5:]      # 'ation'       # Срез с -5 до конца\n",
    "s[:-3]      # 'Informat'    # Срез с начала до -3 (не включая -3)\n",
    "s[-1::-1]   # 'noitamrofnI' # Срез с -1 до начала (реверс строки)\n",
    "s[-2::-2]   # 'oarI'        # Срез с -2 до начала с шагом 2\n",
    "s[-1:-5:-1] # 'noit'        # Срез с -1 до -5 (не включая -5) в обратном порядке\n",
    "s[-1:-5:-2] # 'ni'          # Срез с -1 до -5 (не включая -5) в обратном порядке с шагом 2"
   ]
  },
  {
   "cell_type": "markdown",
   "id": "266ced49-0e33-4072-b9ec-300a5fba3354",
   "metadata": {},
   "source": [
    "# Списки"
   ]
  },
  {
   "cell_type": "markdown",
   "id": "f76e6728-1381-42df-930c-7a3c351bc17d",
   "metadata": {},
   "source": [
    "## Доступные операции над списками"
   ]
  },
  {
   "cell_type": "markdown",
   "id": "e815831d-2e78-4625-bd13-041f39f2e32d",
   "metadata": {},
   "source": [
    "**1. Нахождение длины списка**"
   ]
  },
  {
   "cell_type": "code",
   "execution_count": null,
   "id": "e54fe93b-bc88-4935-aab2-446d71fe024d",
   "metadata": {},
   "outputs": [],
   "source": [
    "len()"
   ]
  },
  {
   "cell_type": "markdown",
   "id": "36a98923-81ab-4706-b9e0-42c2d73393d7",
   "metadata": {},
   "source": [
    "**2. Сложение (конкатенация) списков**"
   ]
  },
  {
   "cell_type": "code",
   "execution_count": null,
   "id": "2387a285-9f55-41f9-b051-78ba5b79199d",
   "metadata": {},
   "outputs": [],
   "source": [
    "a = [1, 2, 3]\n",
    "b = [4, 5, 6]\n",
    "print(a + b)  # [1, 2, 3, 4, 5, 6] — списки объединились\n",
    "\n",
    "print(a + [4])  # [1, 2, 3, 4] — добавили элемент\n",
    "\n",
    "a = ['hi'] + a  # ['hi', 1, 2, 3] — строка добавлена в начало\n",
    "print(a)\n",
    "\n",
    "a = a + b  # ['hi', 1, 2, 3, 4, 5, 6] — добавили весь список b\n",
    "print(a)"
   ]
  },
  {
   "cell_type": "markdown",
   "id": "1fe77f29-a507-4b18-82ca-f9efd9c8753b",
   "metadata": {},
   "source": [
    "**3. Дублирование списка**"
   ]
  },
  {
   "cell_type": "code",
   "execution_count": null,
   "id": "bc4cab74-a990-4471-9be8-21e14240b77b",
   "metadata": {},
   "outputs": [],
   "source": [
    "a = ['Yes'] * 5\n",
    "print(a)  # ['Yes', 'Yes', 'Yes', 'Yes', 'Yes']\n",
    "\n",
    "b = [1, 2, 3] * 3\n",
    "print(b)  # [1, 2, 3, 1, 2, 3, 1, 2, 3]\n",
    "\n",
    "b = [1, 2, 3] * 0\n",
    "print(b)  # [] - пустой список"
   ]
  },
  {
   "cell_type": "markdown",
   "id": "190586ca-2b93-49b3-b836-35bd998d51cf",
   "metadata": {},
   "source": [
    "**4. Проверка вхождения элемента в список**"
   ]
  },
  {
   "cell_type": "code",
   "execution_count": null,
   "id": "ed342927-2363-42d4-bf5e-c4826d2f1b6d",
   "metadata": {},
   "outputs": [],
   "source": [
    "a = [2, 5, 8, 9]\n",
    "print(5 in a)  # True — 5 есть в списке\n",
    "print(15 in a)  # False — 15 нет в списке"
   ]
  },
  {
   "cell_type": "markdown",
   "id": "06166428-8a3c-4db6-ad7a-935d1e8028cf",
   "metadata": {},
   "source": [
    "**5. Нахождение min() и max()**"
   ]
  },
  {
   "cell_type": "code",
   "execution_count": null,
   "id": "09e1b969-b92a-4747-acb6-67fd13e3b8bb",
   "metadata": {},
   "outputs": [],
   "source": [
    "a = [2, 5, 8, 9]\n",
    "print(max(a))  # 9 — наибольшее число\n",
    "print(min(a))  # 2 — наименьшее число"
   ]
  },
  {
   "cell_type": "markdown",
   "id": "03228345-03db-4551-96b5-337c3862cef1",
   "metadata": {},
   "source": [
    "**6. Суммирование элементов списка**"
   ]
  },
  {
   "cell_type": "code",
   "execution_count": null,
   "id": "c8eb1b35-d567-4397-a703-0324ac425fa7",
   "metadata": {},
   "outputs": [],
   "source": [
    "a = [2, 5, 8, 9]\n",
    "print(sum(a))  # 24 — сумма элементов"
   ]
  },
  {
   "cell_type": "markdown",
   "id": "419be62b-0e65-4df5-9ab4-b90618e199cb",
   "metadata": {},
   "source": [
    "**7. Сортировка списка**"
   ]
  },
  {
   "cell_type": "code",
   "execution_count": null,
   "id": "3f3eea1b-a90d-44e7-b169-127e95968eea",
   "metadata": {},
   "outputs": [],
   "source": [
    "a = [4, 2, 9, 1] # по возрастанию.\n",
    "print(sorted(a))  # [1, 2, 4, 9]\n",
    "\n",
    "a = [4, 2, 9, 1] # по убыванию\n",
    "print(sorted(a, reverse=True))  # [9, 4, 2, 1]"
   ]
  },
  {
   "cell_type": "markdown",
   "id": "601fa033-d6af-4bad-82bf-ea3f841488a6",
   "metadata": {},
   "source": [
    "**8. Сравнение списков**"
   ]
  },
  {
   "cell_type": "code",
   "execution_count": null,
   "id": "1586f06f-0fc1-4915-95b6-28b6ae835fa5",
   "metadata": {},
   "outputs": [],
   "source": [
    "print([1, 2, 3] == [1, 2, 3])  # True\n",
    "print([1, 2, 3] == [3, 2, 1])  # False\n",
    "print([1, 2, 3] < [1, 2, 4])  # True (сравнение поэлементно)\n",
    "\n",
    "print([1, 2, 3] < [1, 2, 3, 4])  # True (первый список короче)"
   ]
  },
  {
   "cell_type": "markdown",
   "id": "2a0cebc2-62ca-4898-9f99-b81b88794784",
   "metadata": {},
   "source": [
    "**9. Присвоить срезу новое значение**"
   ]
  },
  {
   "cell_type": "code",
   "execution_count": null,
   "id": "3f15ae7e-98d8-475f-baa4-121cdcae1c5f",
   "metadata": {},
   "outputs": [],
   "source": [
    "notes = ['До', 'Ре', 'Ми', 'Фа', 'Соль', 'Ля', 'Си']\n",
    "\n",
    "print(notes)  # ['До', 'Ре', 'Ми', 'Фа', 'Соль', 'Ля', 'Си']\n",
    "notes[1:5] = ['Бо', 'Бы']\n",
    "print(notes)  # ['До', 'Бо', 'Бы', 'Ля', 'Си']"
   ]
  },
  {
   "cell_type": "markdown",
   "id": "cea8b75c-ade7-4c98-bc1c-251eabdae29e",
   "metadata": {},
   "source": [
    "**10. Удаление удаление одного или несколько элементов del**"
   ]
  },
  {
   "cell_type": "code",
   "execution_count": null,
   "id": "b5b60be3-7b90-4a68-a2d1-874dbe630267",
   "metadata": {},
   "outputs": [],
   "source": [
    "notes = ['До', 'Ре', 'Ми', 'Фа', 'Соль', 'Ля', 'Си']\n",
    "del notes[1]\n",
    "print(notes)  # ['До', 'Ми', 'Фа', 'Соль', 'Ля', 'Си']\n",
    "del notes[1:5]\n",
    "print(notes)  # ['До', 'Ля', 'Си']"
   ]
  },
  {
   "cell_type": "markdown",
   "id": "1f0f18c4-01fd-472c-bc7e-5169602a72cf",
   "metadata": {},
   "source": [
    "**11. Создание копии списка (Поверхностное коприрование)**"
   ]
  },
  {
   "cell_type": "code",
   "execution_count": null,
   "id": "edcfa581-7f27-494d-aa91-f224361d1e1b",
   "metadata": {},
   "outputs": [],
   "source": [
    "# 1 Вариант с помощью среза\n",
    "a = [1,2,0,4,5]\n",
    "b = a[:]\n",
    "print(b)\n",
    "\n",
    "# 2 Вариант\n",
    "a = [1,2,0,4,5]\n",
    "c = list(a)\n",
    "print(c)\n",
    "\n",
    "# 3 Вариант\n",
    "a = [1,2,0,4,5]\n",
    "c = copy(a)\n",
    "print(c)\n",
    "\n",
    "# 4 Вариант\n",
    "c = [] + a"
   ]
  },
  {
   "cell_type": "markdown",
   "id": "72c318ae-cbe4-4a09-84ef-8340a59c2559",
   "metadata": {},
   "source": [
    "**12. Глубокое копирование, создает копии вложенных объектов**"
   ]
  },
  {
   "cell_type": "code",
   "execution_count": null,
   "id": "ebfa8b7b-db01-4f65-93a1-977b70366b1d",
   "metadata": {},
   "outputs": [],
   "source": [
    "from copy import deepcopy\n",
    "s = [1, [2, [3]]]\n",
    "s = deepcopy(s) # рекурсивно создаёт копии всех вложенных объектов"
   ]
  },
  {
   "cell_type": "code",
   "execution_count": null,
   "id": "3b9eded2-af77-4123-83c3-38495e59d577",
   "metadata": {},
   "outputs": [],
   "source": []
  },
  {
   "cell_type": "markdown",
   "id": "a83c67fd-aa5e-4f11-8c61-e9b8746f0684",
   "metadata": {},
   "source": [
    "## Функции работы со списками"
   ]
  },
  {
   "cell_type": "code",
   "execution_count": null,
   "id": "57f5af02-a147-443a-9aa4-3279d5fe1627",
   "metadata": {},
   "outputs": [],
   "source": [
    "\n",
    "                                \n",
    "\n",
    "book.index(price) \n",
    "list.index(element)             # используется для нахождения индекса (порядкового номера) первого вхождения элемента в списке.\n",
    "print(*lst)                     # распаковка\n",
    "list()                          # Функция \n",
    "\n",
    "                                # При работе со списками часто используются следующие операторы:\n",
    "                                "
   ]
  },
  {
   "cell_type": "markdown",
   "id": "7cf36461-e131-42ec-a177-99fda31b18d7",
   "metadata": {},
   "source": [
    "## Методы списка"
   ]
  },
  {
   "cell_type": "code",
   "execution_count": null,
   "id": "88dc8a8d-20b2-467b-95a6-1cad44b2872c",
   "metadata": {},
   "outputs": [],
   "source": [
    "\n",
    "                                 \n",
    "a.append([1,2,3]) #[[1, 2, 3]]                 #добавдобавляет в конец списка как ОДНО значение                     \n",
    "\n",
    "\n",
    "a.extend([1,2,3])  #[[1, 2, 3], 1, 2, 3]                            #добавяет по отдельности все элементы \n",
    "                                             \n",
    "\n",
    "a.insert(2, 100)                               # добавляет элемент в определённую позицию списка\n",
    "                                               #Если указать индекс, который выходит за пределы списка, \n",
    "                                               #то элемент будет добавлен в конец (в начало при -) списка\n",
    "\n",
    "a.remove('hello')                              #удаление первого найденного элемента по его значению\n",
    "a.pop()                                        #выполняет удаление последнего элемента и при этом, возвращает его значение. \n",
    "a.pop(3)                                       #удаление элемента по его индексу\n",
    "a.clear()                                      #очистка всего списка\n",
    "c = a.copy()                                   #Поверхностное коприрование == list()\n",
    "                                               #(не создаются копии у вложенных объектов)\n",
    "\n",
    "\n",
    "c.count(1)                                     #позволяет найти число элементов с указанным значением\n",
    "\n",
    "c.index(1)                                     #возвращает индекс указанного значения (1-e найденное)\n",
    "c.index(1, 1)                                  #можно указать стартовое значение для поиска\n",
    "c.index(23, 1, 5)                              #Ищем число 23 с 1-го индекса и по 5-й не включая его.\n",
    "\n",
    "m = [2, 3, 5, 5, 2, 2, 3, 3, 4, 5, 4, 4]       #Проверка, есть ли элемент 5 в списке m\n",
    "5 in m [2:3]\n",
    "c.reverse()                                    #меняет порядок следования элементов на обратный\n",
    "\n",
    "c.sort()                                       #сортировкa элементов списка по возрастанию\n",
    "c.sort(reverse=True)                           #Для сортировки по убыванию\n",
    "\n"
   ]
  },
  {
   "cell_type": "markdown",
   "id": "e4f45a23-8247-4a2d-8409-e994bc57f332",
   "metadata": {},
   "source": [
    "# Bвод данных и их обработка данных"
   ]
  },
  {
   "cell_type": "markdown",
   "id": "1d507444-7a60-4711-8b12-21ea642549c5",
   "metadata": {},
   "source": [
    "| Операция | Код | Пример ввода → Вывод |\n",
    "|----------|-----|----------------------|\n",
    "| **Присваивание введенного значения переменной в виде строки (по умолчанию)** | `a = input()`<br>`print(a)` | `123` → `'123'` |\n",
    "| **Преобразование введенной строки в целое число с помощью `int()`** | `a = int(input())`<br>`print(a)` | `123` → `123` |\n",
    "| **Множественное присваивание с разделением строки по пробелам** | `a, b, c = input().split()`<br>`print(b)` | `'scissors paper stone'` → `paper` |\n",
    "| **Множественное присваивание с преобразованием в `int`** | `a, b, c = map(int, input().split())`<br>`print(b)` | `'1 2 3'` → `2` |\n",
    "| **Создание списка из каждого символа введенной строки** | `a = list(input())`<br>`print(a)` | `'letters'` → `['l', 'e', 't', 't', 'e', 'r', 's']` |\n",
    "| **Создание списка из каждой цифры введенного числа** | `a = list(map(int, input()))`<br>`print(a)` | `'123456'` → `[1, 2, 3, 4, 5, 6]` |\n",
    "| **Создание списка из отдельных слов (строк) с `split()`** | `a = list(input().split())`<br>`print(a)` | `'letters words'` → `['letters', 'words']` |\n",
    "| **Эквивалент предыдущей записи без `list()`** | `a = input().split()`<br>`print(a)` | `'letters words'` → `['letters', 'words']` |\n",
    "| **Создание списка из чисел, введенных через пробел** | `a = list(map(int, input().split()))`<br>`print(a)` | `'123 456'` → `[123, 456]` |"
   ]
  },
  {
   "cell_type": "markdown",
   "id": "e0e5ef83-5313-487d-a998-3f78cfbfe1b0",
   "metadata": {},
   "source": [
    "# Моржовый оператор"
   ]
  },
  {
   "cell_type": "code",
   "execution_count": null,
   "id": "c9218ad9-5d43-44a4-9585-511497818a79",
   "metadata": {},
   "outputs": [],
   "source": [
    "#Моржовый оператор сразу позволяет выполнять присваивание внутри операций.\n",
    "\n",
    "print(see_walrus := 'Look at my walrus, my walrus is amazing')\n",
    "print(see_walrus[:11] + 'horse')\n",
    "________________________________\n",
    "#Моржовый оператор := особенно полезен в условиях, где требуется одновременно вычислить значение, присвоить \n",
    "#его переменной и сразу использовать в проверке. Это позволяет сделать код более компактным и избежать \n",
    "#дублирования вычислений.\n",
    "\n",
    "if (value := len(\"Прибыл Годжо Сатору!\")) > 10:\n",
    "    print(f\"Длина строки: {value}\")"
   ]
  },
  {
   "cell_type": "markdown",
   "id": "761c7165-6781-46ff-af5f-2b85ddae88ba",
   "metadata": {},
   "source": [
    "# Тернарный оператор"
   ]
  },
  {
   "cell_type": "code",
   "execution_count": null,
   "id": "1879b83a-e913-4f06-84b4-fd7413398683",
   "metadata": {},
   "outputs": [],
   "source": [
    "# <значение 1> if <условие> else <значение 2>\n",
    "res = a if a > b else b \n",
    "res = a + 2 if a > b else b - 5\n",
    "res = abs(a) if a > b else abs(b)\n",
    "res = s.upper() if type == 'upper' else s\n",
    "[1, 2, a if a < b else b, 4, 5]\n",
    "\"a - \" + (\"четное\" if a % 2 == 0 else \"нечетное\") + \" число\"\n",
    "\n",
    "# Вложенный тернарный оператор\n",
    "d = (a if a > c else c) if a > b else (b if b > c else c)"
   ]
  },
  {
   "cell_type": "markdown",
   "id": "9ee24475-48cd-4eed-8494-17300b9eda96",
   "metadata": {},
   "source": [
    "# Множественный выбор"
   ]
  },
  {
   "cell_type": "code",
   "execution_count": null,
   "id": "6ef3d84b-3525-4525-ba90-8a1992c91630",
   "metadata": {},
   "outputs": [],
   "source": [
    "if условие_1:\n",
    "    блок команд 1\n",
    "elif условие_2:\n",
    "    блок команд 2\n",
    "elif условие_3:\n",
    "    блок команд 3\n",
    "...\n",
    "elif условие_n:\n",
    "    блок команд N\n",
    "else:\n",
    "    блок команд else"
   ]
  },
  {
   "cell_type": "markdown",
   "id": "2645b172-a088-4dac-9f1d-f32d62bf9856",
   "metadata": {},
   "source": [
    "![](images/if_elif.png)"
   ]
  },
  {
   "cell_type": "markdown",
   "id": "856f5dfa-670e-45b5-a0fd-44430276e50c",
   "metadata": {},
   "source": [
    "# while \n",
    "- итерация идет по логическому условию\n",
    "- поддерживает три ключевых оператора:\n",
    "\n",
    "       1️⃣ break — завершает выполнение цикла досрочно;\n",
    "\n",
    "       2️⃣ continue — пропускает оставшийся код текущей итерации и переходит к следующей;\n",
    "\n",
    "       3️⃣ else — выполняется после завершения цикла, если он не был прерван оператором break.\n",
    "  \n",
    "       4️⃣ pass - используется как заглушка где требуется хотя бы одна инструкция"
   ]
  },
  {
   "cell_type": "markdown",
   "id": "108cefab-cb28-4d72-b037-53c8d46c8c49",
   "metadata": {},
   "source": [
    "**break**"
   ]
  },
  {
   "cell_type": "code",
   "execution_count": null,
   "id": "8e4666fd-55c9-48b7-b3bf-225519a0913d",
   "metadata": {},
   "outputs": [],
   "source": [
    "count = 1\n",
    "while True:\n",
    "    print(\"Счётчик:\", count)\n",
    "    if count == 5:\n",
    "        break\n",
    "    count += 1\n",
    "print('Счётчик завершил свою работу')"
   ]
  },
  {
   "cell_type": "markdown",
   "id": "abc7e262-eef6-4a5e-aa0a-582ffd82da47",
   "metadata": {},
   "source": [
    "- Если break используется во вложенном цикле, он завершает только текущий внутренний цикл, но не внешний."
   ]
  },
  {
   "cell_type": "code",
   "execution_count": null,
   "id": "83fb1c90-3c2c-48ad-b91b-7ccd3b3daebd",
   "metadata": {},
   "outputs": [],
   "source": [
    "while True:\n",
    "    count = 1\n",
    "    while True:\n",
    "        print(\"Счётчик:\", count)\n",
    "        if count == 5:\n",
    "            break\n",
    "        count += 1\n",
    "    print('Счётчик завершил свою работу')"
   ]
  },
  {
   "cell_type": "markdown",
   "id": "283a5c8e-3198-4d80-a787-df41730ec358",
   "metadata": {},
   "source": [
    "**continue**\n",
    "\n",
    "- Оператор continue используется для перехода к следующей итерации цикла, пропуская оставшийся код в текущей итерации."
   ]
  },
  {
   "cell_type": "code",
   "execution_count": null,
   "id": "374a600d-849d-4637-9f83-ea656105fb77",
   "metadata": {},
   "outputs": [],
   "source": [
    "count = 0\n",
    "while count <= 10:\n",
    "    count += 1\n",
    "    if count % 2 == 1:\n",
    "        continue\n",
    "    print(\"Счётчик:\", count)\n",
    "print('Счётчик завершил свою работу')"
   ]
  },
  {
   "cell_type": "markdown",
   "id": "7c572afe-3bfb-43aa-9893-2c776558cfcb",
   "metadata": {},
   "source": [
    "**else**"
   ]
  },
  {
   "cell_type": "markdown",
   "id": "f3141263-1e6d-494b-95c4-d6e33e4060e9",
   "metadata": {},
   "source": [
    "- Инструкции блока else будут выполнены, когда цикл завершается сам собой по условию, написанному в цикле while. \n",
    "Если же цикл while был принудительно прерван с помощью оператора break, инструкции внутри else выполнены не будут."
   ]
  },
  {
   "cell_type": "code",
   "execution_count": null,
   "id": "7d5f9c80-c2bd-4bf5-b513-fe300762e874",
   "metadata": {},
   "outputs": [],
   "source": [
    "count = 1\n",
    "while count <= 5:\n",
    "    print(\"Счётчик:\", count)\n",
    "    count += 1\n",
    "else:\n",
    "    print('Цикл отработал отлично')\n",
    "print('Счётчик завершил свою работу')"
   ]
  },
  {
   "cell_type": "markdown",
   "id": "41f7ad2f-4640-4b36-a78a-9c832f61a200",
   "metadata": {},
   "source": [
    "**Примеры while на ввод input()**"
   ]
  },
  {
   "cell_type": "code",
   "execution_count": null,
   "id": "40a817e2-50f7-47b7-93a6-813c2d2aa088",
   "metadata": {},
   "outputs": [],
   "source": [
    "count = 0\n",
    "password = 'Abracadabra'\n",
    "while (guess := input('Введите фразу: ')) != password:\n",
    "    count += 1\n",
    "    print('Неправильный пароль')\n",
    "print('Вы угадали пароль')\n",
    "print(f'Количество неправильных попыток: {count}')"
   ]
  },
  {
   "cell_type": "code",
   "execution_count": null,
   "id": "b2ad54ea-f0c3-4778-9b11-5c672c5174dd",
   "metadata": {},
   "outputs": [],
   "source": [
    "while (input('Введите фразу: ')) != 'стоп':\n",
    "    print('Продолжаем веселиться!')\n",
    "print('Закончили вечеринку!')"
   ]
  },
  {
   "cell_type": "code",
   "execution_count": null,
   "id": "3c7b323c-01ab-41b5-91f6-d754cad3f093",
   "metadata": {},
   "outputs": [],
   "source": [
    "k = 1\n",
    "x = 0\n",
    "n = int(input())\n",
    "while k <= n:\n",
    "    x = x + int(input())\n",
    "    k = k + 1\n",
    "print(x)"
   ]
  },
  {
   "cell_type": "markdown",
   "id": "da683cf0-61a7-4f97-aa90-833aba3e184d",
   "metadata": {},
   "source": [
    "**Обход всех цифр числа при помощи цикла while**"
   ]
  },
  {
   "cell_type": "markdown",
   "id": "a1b04a25-280a-40b2-89be-cac5c3b17298",
   "metadata": {},
   "source": [
    "- Нахождение количества цифр в числе"
   ]
  },
  {
   "cell_type": "code",
   "execution_count": null,
   "id": "c16eb622-c7a7-42ce-968a-e1e466b6c30a",
   "metadata": {},
   "outputs": [],
   "source": [
    "n = int(input('Введите число: '))\n",
    "count = 0\n",
    "\n",
    "while n > 0:\n",
    "    n = n // 10  # Убираем последнюю цифру\n",
    "    count += 1  # Увеличиваем счётчик\n",
    "\n",
    "print(f\"Количество цифр = {count}\")"
   ]
  },
  {
   "cell_type": "markdown",
   "id": "5a74c2bc-b41f-4779-9d0d-d8b1c2c155e7",
   "metadata": {},
   "source": [
    "- Подсчёт суммы всех цифр числа"
   ]
  },
  {
   "cell_type": "code",
   "execution_count": null,
   "id": "5b640609-7d70-4233-96f4-bf6f71bb654c",
   "metadata": {},
   "outputs": [],
   "source": [
    "n = int(input('Введите число: '))\n",
    "count_even = 0\n",
    "\n",
    "while n > 0:\n",
    "    last = n % 10\n",
    "    if last % 2 == 0:\n",
    "        count_even += 1\n",
    "    n = n // 10\n",
    "\n",
    "print(f\"Количество чётных цифр = {count_even}\")"
   ]
  },
  {
   "cell_type": "markdown",
   "id": "a9eba7e5-5ae4-471d-9c78-323d8b212e03",
   "metadata": {},
   "source": [
    "- Подсчёт суммы всех цифр числа"
   ]
  },
  {
   "cell_type": "code",
   "execution_count": null,
   "id": "7c6c4bb6-1551-4849-80c7-03d1e38eeee7",
   "metadata": {},
   "outputs": [],
   "source": [
    "n = int(input('Введите число: '))\n",
    "s = 0\n",
    "\n",
    "while n > 0:\n",
    "    s += n % 10\n",
    "    n = n // 10\n",
    "\n",
    "print(f\"Сумма всех цифр = {s}\")"
   ]
  },
  {
   "cell_type": "markdown",
   "id": "00d8d931-9cf6-4adc-a76d-4790f1a76438",
   "metadata": {},
   "source": [
    "- Нахождение произведения всех цифр числа"
   ]
  },
  {
   "cell_type": "code",
   "execution_count": null,
   "id": "426bdd79-0166-4790-96a7-55e557ee5072",
   "metadata": {},
   "outputs": [],
   "source": [
    "n = int(input('Введите число: '))\n",
    "product = 1\n",
    "\n",
    "while n > 0:\n",
    "    last = n % 10  # Берём последнюю цифру\n",
    "    product *= last  # Умножаем на неё\n",
    "    n = n // 10  # Убираем последнюю цифру\n",
    "\n",
    "print(f\"Произведение всех цифр = {product}\")"
   ]
  },
  {
   "cell_type": "markdown",
   "id": "bd77fb1f-bd09-41fc-b36c-814fd0ed279f",
   "metadata": {},
   "source": [
    "- Нахождение наибольшей и наименьшей цифр числа"
   ]
  },
  {
   "cell_type": "code",
   "execution_count": null,
   "id": "fee60634-8322-4508-b263-3de7007fdbfe",
   "metadata": {},
   "outputs": [],
   "source": [
    "n = int(input('Введите число: '))\n",
    "maximum = 0\n",
    "minimum = 9\n",
    "\n",
    "while n > 0:\n",
    "    last = n % 10  # Берём последнюю цифру\n",
    "    if last > maximum:\n",
    "        maximum = last  # Обновляем максимум\n",
    "    if last < minimum:\n",
    "        minimum = last  # Обновляем минимум\n",
    "    n = n // 10  # Убираем последнюю цифру\n",
    "\n",
    "print(f\"Самая большая цифра = {maximum}\")\n",
    "print(f\"Самая маленькая цифра = {minimum}\")"
   ]
  },
  {
   "cell_type": "markdown",
   "id": "b2ca6a7e-29c0-4507-8387-a05b262a136f",
   "metadata": {},
   "source": [
    "- Обход всех цифр числа в n системе счисления (пример: двоичная)"
   ]
  },
  {
   "cell_type": "code",
   "execution_count": null,
   "id": "c425626a-af24-45ae-89c2-3219950b980e",
   "metadata": {},
   "outputs": [],
   "source": [
    "n = 14\n",
    "while n > 0:\n",
    "    print(n % 2)  # Выводим остаток от деления (0 или 1)\n",
    "    n //= 2  # Делим число на 2"
   ]
  },
  {
   "cell_type": "markdown",
   "id": "3c75bbde-ad0f-466b-84f0-5b411e1ce9cc",
   "metadata": {},
   "source": [
    "**Нахождение всех делителей числа**"
   ]
  },
  {
   "cell_type": "markdown",
   "id": "f4a7ad1b-0dfd-4e00-a486-c833cd771800",
   "metadata": {},
   "source": [
    "- Линейный алгоритм поиска делителей (Сложность алгоритма равна O(n)). Это значит, что если число n очень большое (например, 10⁹), то выполнится 10⁹ проверок."
   ]
  },
  {
   "cell_type": "code",
   "execution_count": null,
   "id": "71972b3d-3963-4a7e-b67d-4ba7c3d0bb6f",
   "metadata": {},
   "outputs": [],
   "source": [
    "n = int(input(\"Введите число: \"))\n",
    "d = 1  # Начинаем проверять с 1\n",
    "\n",
    "while d <= n:  # Перебираем числа от 1 до n\n",
    "    if n % d == 0:  # Если d - делитель n\n",
    "        print(d)  # Выводим его\n",
    "    d += 1  # Увеличиваем d на 1"
   ]
  },
  {
   "cell_type": "code",
   "execution_count": null,
   "id": "58426980-6546-4ecc-92c5-d3085c35c3c3",
   "metadata": {},
   "outputs": [],
   "source": [
    "- Улучшенная производительность линейного алгоритма"
   ]
  },
  {
   "cell_type": "code",
   "execution_count": null,
   "id": "a10ed00b-05ac-46d9-a082-2c5f460760c4",
   "metadata": {},
   "outputs": [],
   "source": [
    "n = int(input(\"Введите число: \"))\n",
    "d = 1\n",
    "\n",
    "while d <= n // 2:  # Проверяем только до n//2\n",
    "    if n % d == 0:\n",
    "        print(d)\n",
    "    d += 1\n",
    "\n",
    "print(n)  # Выводим само число n, так как оно всегда свой делитель"
   ]
  },
  {
   "cell_type": "code",
   "execution_count": null,
   "id": "270a896d-8d7c-4a69-b8b2-a16ee3053043",
   "metadata": {},
   "outputs": [],
   "source": [
    "- Оптимизированный алгоритм поиска делителей за O(0.5 * N)"
   ]
  },
  {
   "cell_type": "code",
   "execution_count": null,
   "id": "00c59c67-a07a-4a4d-863d-a7a10d530307",
   "metadata": {},
   "outputs": [],
   "source": [
    "n = int(input(\"Введите число: \"))\n",
    "a = 1\n",
    "\n",
    "while a * a <= n:  # Перебираем числа от 1 до √n\n",
    "    if n % a == 0:  # Если a - делитель n\n",
    "        print(a)  # Выводим a\n",
    "        if a != n // a:  # Если a ≠ n/a, то выводим парный делитель\n",
    "            print(n // a)\n",
    "    a += 1  # Переход к следующему числу"
   ]
  },
  {
   "cell_type": "markdown",
   "id": "ecec424c-bd30-4fac-84de-844d9ca00747",
   "metadata": {},
   "source": [
    "**Алгоритм Евклида c помощью while**"
   ]
  },
  {
   "cell_type": "markdown",
   "id": "89c6e6de-bcfc-4be7-93b4-836b93aec254",
   "metadata": {},
   "source": [
    "- нахождение НОД вычитанием"
   ]
  },
  {
   "cell_type": "markdown",
   "id": "7d392b0a-8fa6-4e22-9427-622e6bd83ed7",
   "metadata": {},
   "source": [
    "![](images/algoritm_Evklida.png)"
   ]
  },
  {
   "cell_type": "code",
   "execution_count": null,
   "id": "8921d02e-76fc-4450-8c66-c0856f9d5ede",
   "metadata": {},
   "outputs": [],
   "source": [
    "a = int(input('Введите первое число: '))\n",
    "b = int(input('Введите второе число: '))\n",
    "while a != b:\n",
    "    if a > b:\n",
    "        a = a - b\n",
    "    else:\n",
    "        b = b - a\n",
    "print(f'Нод={a}')"
   ]
  },
  {
   "cell_type": "markdown",
   "id": "c5796a1e-3bfb-4770-ae2d-4b867f32d7b7",
   "metadata": {},
   "source": [
    "- нахождения НОД делением"
   ]
  },
  {
   "cell_type": "code",
   "execution_count": null,
   "id": "0888d1b9-62a4-4687-8597-d009d92f4fa7",
   "metadata": {},
   "outputs": [],
   "source": [
    "a = int(input('Введите первое число: '))\n",
    "b = int(input('Введите второе число: '))\n",
    "while b > 0:\n",
    "    c = a%b\n",
    "    a = b\n",
    "    b = c\n",
    "print(f'Нод={a}')"
   ]
  },
  {
   "cell_type": "markdown",
   "id": "eaa12112-7b65-434e-88e3-bc3f27e7e4e6",
   "metadata": {},
   "source": [
    "**НОК**"
   ]
  },
  {
   "cell_type": "code",
   "execution_count": null,
   "id": "7325f51e-362c-44b7-877f-78fa65a5c5b5",
   "metadata": {},
   "outputs": [],
   "source": [
    "a*b = НОД*НОК\n",
    "НОК = a*b/НОД"
   ]
  },
  {
   "cell_type": "markdown",
   "id": "c77a5ccf-7c80-4ad2-8984-d9d8c7879931",
   "metadata": {},
   "source": [
    "![](images/dificalt_algor.png)"
   ]
  },
  {
   "cell_type": "markdown",
   "id": "2706151c-1f95-43d1-8003-a6fbd8139fbb",
   "metadata": {},
   "source": [
    "# Функция range и итерируемые объекты"
   ]
  },
  {
   "cell_type": "markdown",
   "id": "2a308a7c-f625-46fc-befa-da46c9806d29",
   "metadata": {},
   "source": [
    "## range"
   ]
  },
  {
   "cell_type": "markdown",
   "id": "4a9c512f-7129-455a-a98b-2f6a2d716a76",
   "metadata": {},
   "source": [
    "**Вызов range c одним параметром**"
   ]
  },
  {
   "cell_type": "code",
   "execution_count": null,
   "id": "e25f43f2-a6ff-4493-9226-fd55131ea600",
   "metadata": {},
   "outputs": [],
   "source": [
    "# range(stop)\n",
    "\n",
    "print(list(range(3)))  # [0, 1, 2]\n",
    "print(list(range(5)))  # [0, 1, 2, 3, 4]\n",
    "print(list(range(7)))  # [0, 1, 2, 3, 4, 5, 6]\n",
    "print(list(range(-3))) # []\n",
    "print(list(range(0)))  # []"
   ]
  },
  {
   "cell_type": "markdown",
   "id": "5745c0c3-0f15-4a9e-b6bf-e18ecad38d2b",
   "metadata": {},
   "source": [
    "**Вызов range c двумя параметрами**"
   ]
  },
  {
   "cell_type": "code",
   "execution_count": null,
   "id": "5eeecc88-abea-4d40-a8c5-91fa16bc3294",
   "metadata": {},
   "outputs": [],
   "source": [
    "range(start, stop)\n",
    "\n",
    "print(list(range(4, 7)))  # [4, 5, 6]\n",
    "print(list(range(8, 12)))  # [8, 9, 10, 11]\n",
    "print(list(range(-4, 4)))  # [-4, -3, -2, -1, 0, 1, 2, 3]\n",
    "\n",
    "print(list(range(89, 100)))  # [89, 90, 91, 92, 93, 94, 95, 96, 97, 98, 99]\n",
    "print(list(range(15, 5)))  # []"
   ]
  },
  {
   "cell_type": "markdown",
   "id": "8d54c32c-232c-41be-83c1-9dbb72f9bebd",
   "metadata": {},
   "source": [
    "**Вызов range c тремя параметрами**"
   ]
  },
  {
   "cell_type": "code",
   "execution_count": null,
   "id": "c54fc8e0-329b-4fac-97f4-03ef596c8522",
   "metadata": {},
   "outputs": [],
   "source": [
    "# range(start, stop, step)\n",
    "\n",
    "print(list(range(30, 100, 10)))  # [30, 40, 50, 60, 70, 80, 90]\n",
    "print(list(range(16, 25, 2)))  # [16, 18, 20, 22, 24]\n",
    "print(list(range(5, 45, 5)))  # [5, 10, 15, 20, 25, 30, 35, 40]\n",
    "\n",
    "print(list(range(7, 0, -1)))  # [7, 6, 5, 4, 3, 2, 1]\n",
    "print(list(range(4, -4, -1)))  # [4, 3, 2, 1, 0, -1, -2, -3]\n",
    "print(list(range(10, -10, -2)))  # [10, 8, 6, 4, 2, 0, -2, -4, -6, -8]"
   ]
  },
  {
   "cell_type": "markdown",
   "id": "924bc149-362a-4647-8649-23381b870f43",
   "metadata": {},
   "source": [
    "### Операции с  range"
   ]
  },
  {
   "cell_type": "markdown",
   "id": "1b3133fd-5777-4b4a-986b-66109ab5e04c",
   "metadata": {},
   "source": [
    "- Можно найти сумму арифметической прогрессии."
   ]
  },
  {
   "cell_type": "code",
   "execution_count": null,
   "id": "560a86d0-8ead-411e-862a-89838728ee04",
   "metadata": {},
   "outputs": [],
   "source": [
    "print(sum(range(1, 101)))  # 5050"
   ]
  },
  {
   "cell_type": "markdown",
   "id": "3ac640ba-8e65-479b-a45c-987bef1244c7",
   "metadata": {},
   "source": [
    "- Можно посчитать количество чисел в последовательности при помощи функции len"
   ]
  },
  {
   "cell_type": "code",
   "execution_count": null,
   "id": "14729d11-a984-46d8-81b3-670ebbb62dc7",
   "metadata": {},
   "outputs": [],
   "source": [
    "print(len(range(5, 15, 5)))  # 2"
   ]
  },
  {
   "cell_type": "markdown",
   "id": "754c8a9d-e68e-43be-acc1-a31f1ff76917",
   "metadata": {},
   "source": [
    "- Можно использовать в конструкции множественного присвоения."
   ]
  },
  {
   "cell_type": "code",
   "execution_count": null,
   "id": "d74b5f6e-5a9d-4221-afee-91fc425757c8",
   "metadata": {},
   "outputs": [],
   "source": [
    "a, b, c = range(5, 16, 5)\n",
    "print(a)  # 5\n",
    "print(b)  # 10\n",
    "print(c)  # 15"
   ]
  },
  {
   "cell_type": "markdown",
   "id": "9e1995f2-c0f3-4aa3-8ca8-9c2872a75c29",
   "metadata": {},
   "source": [
    "- Результат вызова функции range можно сохранить в переменную и далее узнать количество элементов\n",
    "или обратиться по индексу:"
   ]
  },
  {
   "cell_type": "code",
   "execution_count": null,
   "id": "eddc5d63-a8d1-4ebc-bb4e-2f137888002a",
   "metadata": {},
   "outputs": [],
   "source": [
    "r = range(1, 7)\n",
    "\n",
    "sequence = range(1, 6)\n",
    "\n",
    "print(len(sequence))  # 5\n",
    "print(sequence[0])  # 1\n",
    "print(sequence[1])  # 2\n",
    "print(sequence[4])  # 5"
   ]
  },
  {
   "cell_type": "markdown",
   "id": "b2543261-ea1a-4cac-b167-a35a427a8b6e",
   "metadata": {},
   "source": [
    "## Итерируемый объект"
   ]
  },
  {
   "cell_type": "markdown",
   "id": "ef81e394-26c6-4c8c-9cc9-95ed411e0197",
   "metadata": {},
   "source": [
    "**Функция iter**\n",
    "\n",
    "- Ее задача на основании итерируемого объекта создать итератор и вернуть его в качестве результата. Сам итератор хранит в себе информацию о последовательности пройденных элементов и о том, какой элемент будет обходиться следующим. В случае если элементы закончились в последовательности итератора и вы попытаетесь получить еще один, то возникнет ошибка StopIteration, которая говорит о том, что все элементы были пройдены и больше элементов нет."
   ]
  },
  {
   "cell_type": "code",
   "execution_count": null,
   "id": "0ad6bcb4-fd4b-4f2e-b9e2-47f2b7e1f921",
   "metadata": {},
   "outputs": [],
   "source": [
    "# Итерируемый объект range\n",
    "\n",
    "it = iter(range(5))\n",
    "print(next(it))  # 0\n",
    "print(next(it))  # 1\n",
    "print(next(it))  # 2\n",
    "print(next(it))  # 3\n",
    "print(next(it))  # 4\n",
    "print(next(it))  # StopIteration"
   ]
  },
  {
   "cell_type": "code",
   "execution_count": null,
   "id": "abb10748-6e49-4ddf-a50d-b9fb95a2b6d9",
   "metadata": {},
   "outputs": [],
   "source": [
    "# Итерируемый объект list\n",
    "\n",
    "values = [43, True, \"hello\"]\n",
    "it = iter(values)\n",
    "print(next(it))  # 43\n",
    "print(next(it))  # True\n",
    "print(next(it))  # hello\n",
    "\n",
    "# Если расскоментировать строку ниже, получите ошибку StopIteration\n",
    "# print(next(n))"
   ]
  },
  {
   "cell_type": "code",
   "execution_count": null,
   "id": "e0fa33fb-c04b-4ddf-83bf-c66bb2ea81fc",
   "metadata": {},
   "outputs": [],
   "source": [
    "# Итерируемый объект string\n",
    "\n",
    "s = 'Arsenal'\n",
    "it = iter(s)\n",
    "print(next(it))  # A\n",
    "print(next(it))  # r\n",
    "print(next(it))  # s"
   ]
  },
  {
   "cell_type": "markdown",
   "id": "5fb119ce-5468-43e6-bbbe-d31e42239982",
   "metadata": {},
   "source": [
    "# Цикл for"
   ]
  },
  {
   "cell_type": "markdown",
   "id": "28f366d1-e625-4bba-a6c1-825e05059d4c",
   "metadata": {},
   "source": [
    "- итерация идет по последовательности"
   ]
  },
  {
   "cell_type": "markdown",
   "id": "4ea621b7-2c4a-4142-a86a-414427a11580",
   "metadata": {},
   "source": [
    "- Цикл for поддерживаeт **три ключевых оператора:**\n",
    "\n",
    "       1️⃣ break — завершает выполнение цикла досрочно;\n",
    "\n",
    "       2️⃣ continue — пропускает оставшийся код текущей итерации и переходит к следующей;\n",
    "\n",
    "       3️⃣ else — выполняется после завершения цикла, если он не был прерван оператором break.\n",
    "\n",
    "       4️⃣ pass - используется как заглушка где требуется хотя бы одна инструкция\n",
    "  \n"
   ]
  },
  {
   "cell_type": "markdown",
   "id": "f1c642ed-118a-445f-8356-c8e838332522",
   "metadata": {},
   "source": [
    "- Если переменная не используется внутри цикла, её обычно называют так, чтобы это подчёркивало её вспомогательную роль. Самый распространённый способ — использовать имя _ (нижнее подчёркивание). Это обозначение явно показывает, что переменная нужна только для итерации, а её значение не используется в теле цикла."
   ]
  },
  {
   "cell_type": "markdown",
   "id": "914ab903-5a01-4c54-b79c-3f9fe69cf2ad",
   "metadata": {},
   "source": [
    "- **0. Получаем случайное число**"
   ]
  },
  {
   "cell_type": "markdown",
   "id": "ce5f4177-ea20-4add-98f9-c82674e4af55",
   "metadata": {},
   "source": [
    "### Примеры использования:"
   ]
  },
  {
   "cell_type": "code",
   "execution_count": null,
   "id": "f43b4ae0-7173-4d0c-9148-a7607e3a296c",
   "metadata": {},
   "outputs": [],
   "source": [
    "from random import randint\n",
    "n = 5  # количество генераций случайных чисел\n",
    "s = 0\n",
    "for _ in range(n):\n",
    "    a = randint(1, 100)\n",
    "    s+=a\n",
    "    print(a,end=' ')\n",
    "print()\n",
    "print(s)"
   ]
  },
  {
   "cell_type": "markdown",
   "id": "5a3e0d6f-0b32-4468-bbd0-614b54ca7651",
   "metadata": {},
   "source": [
    "- **1. Факториал**"
   ]
  },
  {
   "cell_type": "code",
   "execution_count": null,
   "id": "3acd033b-86a5-4b7b-8b72-f28fce267f8b",
   "metadata": {},
   "outputs": [],
   "source": [
    "n = int(input(\"Введите натуральное число не более 100: \"))\n",
    " \n",
    "if n < 1 or n > 100:\n",
    "    print(\"Неверно введено натуральное число\")\n",
    "else:\n",
    "    p = 1\n",
    "    for i in range(1, n+1):\n",
    "        p *= i\n",
    " \n",
    "    print(f\"Факториал {n}! = {p}\")"
   ]
  },
  {
   "cell_type": "markdown",
   "id": "20abe1c5-5b0a-432d-80fc-7e4179170977",
   "metadata": {},
   "source": [
    "- **2. Oтображение символов * в виде елочки**"
   ]
  },
  {
   "cell_type": "code",
   "execution_count": null,
   "id": "d86f2edb-56da-4ec4-82de-26b711f0f7ee",
   "metadata": {},
   "outputs": [],
   "source": [
    "for i in range(1, 7):\n",
    "    print('*' * i)\n",
    "\n",
    "*\n",
    "**\n",
    "***\n",
    "****\n",
    "*****\n",
    "******"
   ]
  },
  {
   "cell_type": "markdown",
   "id": "fc9c641f-fb3e-4b99-a3d0-ff76021435d4",
   "metadata": {},
   "source": [
    "- **3. Cоединие всех слов списка**"
   ]
  },
  {
   "cell_type": "code",
   "execution_count": null,
   "id": "48b048f3-1915-4c69-8de3-b93c01bd3fb0",
   "metadata": {},
   "outputs": [],
   "source": [
    "words = [\"Python\", \"дай\", \"мне\", \"силы\", \"пройти\", \"этот\", \"курс\", \"до\", \"конца\"]\n",
    "\n",
    "s = ''\n",
    "for w in words:\n",
    "    s += ' ' + w\n",
    "s = s.lstrip()\n",
    "print(s)"
   ]
  },
  {
   "cell_type": "markdown",
   "id": "c2d21b57-1463-413f-ba27-14f16b0374a1",
   "metadata": {},
   "source": [
    "- **4. Все двузначные числа заменить нулями.** "
   ]
  },
  {
   "cell_type": "code",
   "execution_count": null,
   "id": "9a0cdf96-0a7b-49c0-b583-f8daa694f105",
   "metadata": {},
   "outputs": [],
   "source": [
    "for i in range(len(digs)):\n",
    "    if 10 <= abs(digs[i]) <= 99:\n",
    "        digs[i] = 0\n",
    " \n",
    "print(digs)"
   ]
  },
  {
   "cell_type": "markdown",
   "id": "2cf917bd-d794-4f6f-a841-c2df41685987",
   "metadata": {},
   "source": [
    "- **5. Генерация 5 случайных чисел в диапазоне от 1 до 100**"
   ]
  },
  {
   "cell_type": "code",
   "execution_count": null,
   "id": "201f28c6-a2d5-4446-a948-b9b594ecffcf",
   "metadata": {},
   "outputs": [],
   "source": [
    "from random import randint\n",
    "\n",
    "n = 5  # количество генераций\n",
    "start = 1  # начало диапазона случайных чисел\n",
    "stop = 100  # конец диапазона случайных чисел\n",
    "for i in range(n):\n",
    "    number = randint(start, stop)\n",
    "    print(f'Сгенерировано случаное число {number}')\n"
   ]
  },
  {
   "cell_type": "markdown",
   "id": "f28b3d3e-4a62-4513-a386-131822b8d88b",
   "metadata": {},
   "source": [
    "## Цикл for. Обход списков и строк"
   ]
  },
  {
   "cell_type": "markdown",
   "id": "092de689-ccdf-4402-b292-c9744a1798bc",
   "metadata": {},
   "source": [
    "### Обход элементов по значению"
   ]
  },
  {
   "cell_type": "code",
   "execution_count": null,
   "id": "b3e6c8d3-65c4-4e74-ad36-177d0d56ed26",
   "metadata": {},
   "outputs": [],
   "source": [
    "numbers = [43, 65, 3, 54, 6]\n",
    "for value in numbers:\n",
    "    print(f'Текущий элемент - {value}')"
   ]
  },
  {
   "cell_type": "markdown",
   "id": "077c42a5-919f-4fd1-b3e0-3074b351f85e",
   "metadata": {},
   "source": [
    "- **При обходе списка по значениям возникают два недостатка:**\n",
    "\n",
    " 1️⃣  Невозможно изменять элементы списка;\n",
    " \n",
    " 2️⃣  Нельзя точно определить позиции элементов, особенно если в списке есть дубликаты."
   ]
  },
  {
   "cell_type": "code",
   "execution_count": null,
   "id": "1a2c75e4-15fc-47e7-8e1f-8c72c00ac3dd",
   "metadata": {},
   "outputs": [],
   "source": [
    "count = 0\n",
    "numbers = [43, 65, 3, 54, 6]\n",
    "for value in numbers:\n",
    "    value += 5\n",
    "    print(f'Увеличенное значение элемента - {value}')\n",
    "print(numbers)\n",
    "\n",
    "# Увеличенное значение элемента - 48\n",
    "# Увеличенное значение элемента - 70\n",
    "# Увеличенное значение элемента - 8\n",
    "# Увеличенное значение элемента - 59\n",
    "# Увеличенное значение элемента - 11\n",
    "# [43, 65, 3, 54, 6]"
   ]
  },
  {
   "cell_type": "code",
   "execution_count": null,
   "id": "806214b2-34ab-4e73-91c8-3a3985beaffb",
   "metadata": {},
   "outputs": [],
   "source": [
    "numbers = [43, 65, 3, 43, 65, 7]\n",
    "for value in numbers:\n",
    "    print(f\"Элемент {value} стоит на месте {numbers.index(value)}\")\n",
    "\n",
    "\n",
    "# Элемент 43 стоит на месте 0\n",
    "# Элемент 65 стоит на месте 1\n",
    "# Элемент 3 стоит на месте 2\n",
    "# Элемент 43 стоит на месте 0\n",
    "# Элемент 65 стоит на месте 1\n",
    "# Элемент 7 стоит на месте 5"
   ]
  },
  {
   "cell_type": "markdown",
   "id": "f9333aec-b6c9-4e3c-98a0-ff757a2a258c",
   "metadata": {},
   "source": [
    "### Обход элементов по индексу, примеры:"
   ]
  },
  {
   "cell_type": "markdown",
   "id": "c5e90fcb-a8b9-4c4d-ac7a-f4a49fcc092d",
   "metadata": {},
   "source": [
    "1️⃣ Исключение дублей из списка"
   ]
  },
  {
   "cell_type": "code",
   "execution_count": null,
   "id": "caef3b37-f6ef-4aa9-8308-562cb974b23e",
   "metadata": {},
   "outputs": [],
   "source": [
    "data = [1, 2, 3, 4, 32, 4, 5, 3, 5]\n",
    "unique = []\n",
    "for value in data:\n",
    "    if value not in unique:\n",
    "        unique.append(value)\n",
    "print(unique)"
   ]
  },
  {
   "cell_type": "markdown",
   "id": "655ec24d-798b-4471-b310-213598ac2ccd",
   "metadata": {},
   "source": [
    "2️⃣ Получение индексов чётных и нечётных чисел"
   ]
  },
  {
   "cell_type": "code",
   "execution_count": null,
   "id": "da7b41c4-5598-4ee7-8a71-bc85242af4bb",
   "metadata": {},
   "outputs": [],
   "source": [
    "data = [1, 2, 3, 4, 32, 4, 5, 3, 5]\n",
    "even = []  # список индексов четных элементов\n",
    "odd = []  # список индексов нечетных элементов\n",
    "\n",
    "n = len(data)\n",
    "for i in range(n):\n",
    "    if data[i] % 2 == 0:\n",
    "        even.append(i)\n",
    "    else:\n",
    "        odd.append(i)\n",
    "\n",
    "print(\"Чётные числа на позициях:\", even)  # [1, 3, 4, 5]\n",
    "print(\"Нечётные числа на позициях:\", odd)  # [0, 2, 6, 7, 8]"
   ]
  },
  {
   "cell_type": "markdown",
   "id": "15fa5b45-6340-482f-926d-05aaf92e6bfe",
   "metadata": {},
   "source": [
    "3️⃣ Обход строки по символам"
   ]
  },
  {
   "cell_type": "code",
   "execution_count": null,
   "id": "f1b4cca2-f489-4e11-9dbf-4403ac933bda",
   "metadata": {},
   "outputs": [],
   "source": [
    "s = \"hElLo\"\n",
    "for char in s:\n",
    "    print(char)"
   ]
  },
  {
   "cell_type": "markdown",
   "id": "12a144f0-e74d-46d3-9df7-2d06e44520b8",
   "metadata": {},
   "source": [
    "4️⃣ Проверка, является ли символ строчной буквой, прописной буквой или чем-то иным:"
   ]
  },
  {
   "cell_type": "code",
   "execution_count": null,
   "id": "f387f056-9d60-4ab5-bc5a-480236bd679a",
   "metadata": {},
   "outputs": [],
   "source": [
    "s = \"hElLo2\"\n",
    "for char in s:\n",
    "    if \"a\" <= char <= \"z\":\n",
    "        print(char, \"маленькая буква\")\n",
    "    elif \"A\" <= char <= \"Z\":\n",
    "        print(char, \"большая буква\")\n",
    "    else:\n",
    "        print(char, \"не буква\")"
   ]
  },
  {
   "cell_type": "markdown",
   "id": "da01a02f-6b71-4941-b874-d4a2ba9b5054",
   "metadata": {},
   "source": [
    "5️⃣ Работа с соседними символами. Задача: найти пары соседних гласных в строке."
   ]
  },
  {
   "cell_type": "code",
   "execution_count": null,
   "id": "276f913e-9c95-48e9-aa3e-b22a8d4ecc0b",
   "metadata": {},
   "outputs": [],
   "source": [
    "vowels = \"aeiou\"\n",
    "s = \"aeriooikjoaikl\"\n",
    "n = len(s)\n",
    "for i in range(n-1):  # До предпоследнего символа\n",
    "    if s[i] in vowels and s[i+1] in vowels:\n",
    "        print(s[i], s[i+1])"
   ]
  },
  {
   "cell_type": "markdown",
   "id": "de1e3979-424e-4f28-a7b9-7cd3ae598b5d",
   "metadata": {},
   "source": [
    "# Метод подсчета. Сортировка подсчетом в Python"
   ]
  },
  {
   "cell_type": "markdown",
   "id": "fa7988bb-2c4a-4fe8-9040-a67de774c1dc",
   "metadata": {},
   "source": [
    "Метод подсчета используется для нахождения количества элементов в списке, при условии если вам известно в каких пределах будут значения элементов списка."
   ]
  },
  {
   "cell_type": "markdown",
   "id": "8b79751c-11dc-49eb-88bf-fc39c38ca5a2",
   "metadata": {},
   "source": [
    "- **Подсчет элементов в списке**"
   ]
  },
  {
   "cell_type": "code",
   "execution_count": null,
   "id": "17d78b31-b841-45bd-8d09-1074adb89261",
   "metadata": {},
   "outputs": [],
   "source": [
    "a = [2, 1, 2, 3, 2, 1, 2, 3, 3, 2, 4, 3, 5, 3, 2]\n",
    "count = [0] * 6\n",
    "for i in a:\n",
    "    count[i] += 1\n",
    "for i in range(6):\n",
    "    print(i, count[i])"
   ]
  },
  {
   "cell_type": "markdown",
   "id": "569f26c0-132f-495e-b061-d159f4f4718b",
   "metadata": {},
   "source": [
    "- **Подсчет букв в строке (цифровой вывод)**"
   ]
  },
  {
   "cell_type": "code",
   "execution_count": null,
   "id": "0ce1bcb7-393d-45de-8df4-2fba0eef7eef",
   "metadata": {},
   "outputs": [],
   "source": [
    "# Использование смещения. Вывод в виде цифр\n",
    "\n",
    "s = \"jhdf HG jgkfYGg jhgkdf 543 *(^$&*#\"\n",
    "letters = [0] * 26\n",
    "for i in s.lower():\n",
    "    if i >= \"a\" and i <= \"z\":\n",
    "        nomer = ord(i) - 97\n",
    "        letters[nomer] += 1\n",
    "for i in range(26):\n",
    "    if letters[i] > 0:\n",
    "        print(i, letters[i])"
   ]
  },
  {
   "cell_type": "markdown",
   "id": "6b81d93d-8fdf-4956-8615-b8ff6134f513",
   "metadata": {},
   "source": [
    "- **Подсчет букв в строке (буквенный вывод)**"
   ]
  },
  {
   "cell_type": "code",
   "execution_count": null,
   "id": "7cb3e6d0-118a-49cd-8de6-10a7965b0f18",
   "metadata": {},
   "outputs": [],
   "source": [
    "# Использование смещения. Вывод в виде букв\n",
    "\n",
    "s = \"jhdf HG jgkfYGg jhgkdf 543 *(^$&*#\"\n",
    "letters = [0] * 26\n",
    "for i in s.lower():\n",
    "    if i >= \"a\" and i <= \"z\":\n",
    "        nomer = ord(i) - 97\n",
    "        letters[nomer] += 1\n",
    "for i in range(26):\n",
    "    if letters[i] > 0:\n",
    "        print(chr(i+97), letters[i])"
   ]
  },
  {
   "cell_type": "markdown",
   "id": "55e33c01-ba63-4d0b-9bcc-74fadf6ba3e2",
   "metadata": {},
   "source": [
    "- **Сортировка букв в строке**"
   ]
  },
  {
   "cell_type": "code",
   "execution_count": null,
   "id": "1b54c89b-8ce8-438e-9617-76cdfa29bb35",
   "metadata": {},
   "outputs": [],
   "source": [
    "# Отсортированная строка:\n",
    "\n",
    "s = \"jhdf HG jgkfYGg jhgkdf 543 *(^$&*#\"\n",
    "letters = [0] * 26\n",
    "for i in s.lower():\n",
    "    if i >= \"a\" and i <= \"z\":\n",
    "        nomer = ord(i) - 97\n",
    "        letters[nomer] += 1\n",
    "for i in range(26):\n",
    "    if letters[i] > 0:\n",
    "        print(chr(i+97) * letters[i], end=\"\")"
   ]
  },
  {
   "cell_type": "markdown",
   "id": "70001d15-d8b0-4a1a-b4fc-51b217a0dee6",
   "metadata": {},
   "source": [
    "- **Подсчет элементов в списке с отрицательными числами**"
   ]
  },
  {
   "cell_type": "code",
   "execution_count": null,
   "id": "2b66f0e3-6c79-4b96-ab68-a1e91e662c18",
   "metadata": {},
   "outputs": [],
   "source": [
    "import random\n",
    "\n",
    "a = []\n",
    "for i in range(10):\n",
    "    a.append(random.randint(-10, 10))\n",
    "\n",
    "count = [0] * 21\n",
    "for i in a:\n",
    "    count[i+10] += 1\n",
    "print(a)\n",
    "\n",
    "for i in range(21):\n",
    "    if count[i] > 0:\n",
    "        print(i-10, count[i])"
   ]
  },
  {
   "cell_type": "code",
   "execution_count": null,
   "id": "5481e393-a90d-44d7-ada1-c918608ea01d",
   "metadata": {},
   "outputs": [],
   "source": []
  },
  {
   "cell_type": "code",
   "execution_count": null,
   "id": "720ede58-449e-497d-9446-af00f062b92e",
   "metadata": {},
   "outputs": [],
   "source": []
  },
  {
   "cell_type": "code",
   "execution_count": null,
   "id": "a85d3975-caf6-425e-89d6-68bf6b26a2fa",
   "metadata": {},
   "outputs": [],
   "source": [
    "enumerate(iterable, start=0) \n",
    "# функция - возвращает пару (индекс, значение). Перебирает элементы последовательности (списка, кортежа, строки и т.д.)\n",
    "# получает их индексы и сам элемент. \n",
    "\n",
    "names = ['Alice', 'Bob', 'Charlie']\n",
    "for index, name in enumerate(names):    \n",
    "    print(index, name)\n",
    "\n",
    "# 0 Alice\n",
    "# 1 Bob\n",
    "# 2 Charlie\n",
    "\n",
    "# Преобразование кириллицы в латиницу.\n",
    "t = ['a', 'b', 'v', 'g', 'd', 'e', 'zh',          # определим список замен для соответствующих русских букв \n",
    "     'z', 'i', 'y', 'k', 'l', 'm', 'n', 'o', 'p', # (по алфавиту от а до я)\n",
    "     'r', 's', 't', 'u', 'f', 'h', 'c', 'ch', 'sh',\n",
    "     'shch', '', 'y', '', 'e', 'yu', 'ya'\n",
    "]\n",
    "start_index = ord('а') # определим кодовое значение для первой буквы этого списка\n",
    "title = \"Программирование на Python - лучший курс\" # зададим строку и переменную slug, \n",
    "slug = ''                                          # где будем формировать строку на латинице\n",
    "for s in title.lower():  # преобразование в цикле\n",
    "    if 'а' <= s <= 'я':\n",
    "        slug += t[ord(s) - start_index]\n",
    "    elif s == 'ё':\n",
    "        slug += 'yo'\n",
    "    elif s in ' !?:,.':\n",
    "        slug += '-'\n",
    "    else:\n",
    "        slug += s\n",
    "while slug.count('--'): # После преобразования следует удалить все подряд идущие символы дефиса\n",
    "    slug = slug.replace('--', '-')\n",
    " \n",
    "print(slug)"
   ]
  },
  {
   "cell_type": "code",
   "execution_count": null,
   "id": "ffd7384d-2060-4b43-8ef9-850043efb6b7",
   "metadata": {},
   "outputs": [],
   "source": []
  },
  {
   "cell_type": "markdown",
   "id": "9faf70ee-61df-4008-9e93-7ec36996bd5d",
   "metadata": {},
   "source": [
    "# Вложенные циклы."
   ]
  },
  {
   "cell_type": "markdown",
   "id": "62fd9ba6-672a-446d-9bde-0065289f144d",
   "metadata": {},
   "source": [
    "### Примеры:"
   ]
  },
  {
   "cell_type": "markdown",
   "id": "835ad7e0-a574-4db4-bc85-2aa555a24b1d",
   "metadata": {},
   "source": [
    "1. Рисуем прямоугольник 3x5:"
   ]
  },
  {
   "cell_type": "code",
   "execution_count": null,
   "id": "f3351c79-a6cd-4211-886e-f0ff8b0f5e73",
   "metadata": {},
   "outputs": [],
   "source": [
    "for i in range(3):\n",
    "    for j in range(5):\n",
    "        print(\"*\", end=\" \")\n",
    "    print()\n",
    "    \n",
    "# * * * * * \n",
    "# * * * * * \n",
    "# * * * * * "
   ]
  },
  {
   "cell_type": "markdown",
   "id": "8ab31629-2fb5-468c-a4e9-bcaef0f25139",
   "metadata": {},
   "source": [
    "2. Вывод значений внутреннего цикла"
   ]
  },
  {
   "cell_type": "code",
   "execution_count": null,
   "id": "a7ec8db0-8033-4481-9737-1fea1b19380b",
   "metadata": {},
   "outputs": [],
   "source": [
    "for i in range(3):\n",
    "    for j in range(5):\n",
    "        print(j, end=\" \")\n",
    "    print()\n",
    "\n",
    "# 0 1 2 3 4  \n",
    "# 0 1 2 3 4  \n",
    "# 0 1 2 3 4 "
   ]
  },
  {
   "cell_type": "markdown",
   "id": "b4dc1d86-b4b5-4852-a583-60a6d75dddf8",
   "metadata": {},
   "source": [
    "3. Вывод внешней и внутренней переменной"
   ]
  },
  {
   "cell_type": "code",
   "execution_count": null,
   "id": "753261f4-7097-4b82-8e67-f90c873d9662",
   "metadata": {},
   "outputs": [],
   "source": [
    "for i in range(3):\n",
    "    for j in range(4):\n",
    "        print(f\"i = {i}, j = {j}\")\n",
    "    print()\n",
    "\n",
    "# i = 0, j = 0\n",
    "# i = 0, j = 1\n",
    "# i = 0, j = 2\n",
    "# i = 0, j = 3\n",
    "\n",
    "# i = 1, j = 0\n",
    "# i = 1, j = 1\n",
    "# i = 1, j = 2\n",
    "# i = 1, j = 3\n",
    "\n",
    "# i = 2, j = 0\n",
    "# i = 2, j = 1\n",
    "# i = 2, j = 2\n",
    "# i = 2, j = 3"
   ]
  },
  {
   "cell_type": "markdown",
   "id": "3670d7db-2fbe-4016-b621-b51b7c90c38f",
   "metadata": {},
   "source": [
    "4. Построение «лесенки»"
   ]
  },
  {
   "cell_type": "code",
   "execution_count": null,
   "id": "b89f9f8f-ba63-4e7b-bcea-36f64ccd91db",
   "metadata": {},
   "outputs": [],
   "source": [
    "for i in range(1, 6):  # Внешний цикл: i изменяется от 1 до 5\n",
    "    for j in range(i):  # Внутренний цикл: j изменяется от 0 до i-1\n",
    "        print(j, end=\" \")\n",
    "    print()\n",
    "\n",
    "# 0 \n",
    "# 0 1 \n",
    "# 0 1 2 \n",
    "# 0 1 2 3 \n",
    "# 0 1 2 3 4 "
   ]
  },
  {
   "cell_type": "markdown",
   "id": "e634d162-7608-4562-8ad2-9173ee03302e",
   "metadata": {},
   "source": [
    "5. Перебор всех возможных пар символов"
   ]
  },
  {
   "cell_type": "code",
   "execution_count": null,
   "id": "3c4bfb1e-cb8a-484d-8559-abadf5359cd9",
   "metadata": {},
   "outputs": [],
   "source": [
    "for i in \"ab\":\n",
    "    for j in \"cde\":\n",
    "        print(i, j)\n",
    "\n",
    "# a c\n",
    "# a d\n",
    "# a e\n",
    "# b c\n",
    "# b d\n",
    "# b e"
   ]
  },
  {
   "cell_type": "markdown",
   "id": "faaa9d6f-e6ad-4cf2-9413-25bd8560248d",
   "metadata": {},
   "source": [
    "6. Генерация всех возможных трёхбуквенных паролей"
   ]
  },
  {
   "cell_type": "code",
   "execution_count": null,
   "id": "e0718127-7309-4c5d-8174-f6d8e262ebd5",
   "metadata": {},
   "outputs": [],
   "source": [
    "from string import printable # 0123456789abcdefghijklmnopqrstuvwxyzABCDEFGHIJKLMNOPQRSTUVWXYZ!\"#$%&'()*+,-./:;<=>?@[\\]^_`{|}~\n",
    "for b1 in printable:\n",
    "    for b2 in printable:\n",
    "        for b3 in printable:\n",
    "            print(b1,b2,b3)\n",
    "\n",
    "\n"
   ]
  },
  {
   "cell_type": "markdown",
   "id": "907ed7cf-760f-42ef-8754-7b1d55f72b82",
   "metadata": {},
   "source": [
    "7. Нахождение простого числа p в интервале n < p < 2n. Постулат Бертрана (теорема Бертрана-Чебышева, теорема Чебышева)"
   ]
  },
  {
   "cell_type": "code",
   "execution_count": null,
   "id": "01df0837-2634-4f8c-bac5-572f616c3637",
   "metadata": {},
   "outputs": [],
   "source": [
    "n = int(input())\n",
    "count = 0\n",
    "for p in range(n+1, 2*n):\n",
    "    if p%2==0 and p!=2 or p==1:\n",
    "        continue\n",
    "\n",
    "    d=3\n",
    "    is_prime = True\n",
    "    while d*d<=p:\n",
    "        if p%d==0:\n",
    "            is_plain = False\n",
    "            break\n",
    "        d += 2\n",
    "    if is_prime:\n",
    "        count += 1\n",
    "print(count)"
   ]
  },
  {
   "cell_type": "markdown",
   "id": "6541dc80-ca87-4573-9cb5-8c487d700b20",
   "metadata": {},
   "source": [
    "8. Алгоритм пузырьковая сортировка"
   ]
  },
  {
   "cell_type": "code",
   "execution_count": null,
   "id": "c958da02-818d-4af1-a525-2ba1aaf8113d",
   "metadata": {},
   "outputs": [],
   "source": [
    "\n",
    "\n",
    "# Исходный список\n",
    "numbers = [5, 3, 8, 4, 2]\n",
    "\n",
    "n = len(numbers)  # Длина списка\n",
    "\n",
    "for i in range(n - 1):  # Количество проходов = n - 1\n",
    "    for j in range(n - i - 1):  # Уменьшаем количество проверок\n",
    "        if numbers[j] > numbers[j + 1]:  # Если порядок нарушен - меняем\n",
    "            numbers[j], numbers[j + 1] = numbers[j + 1], numbers[j]\n",
    "\n",
    "print(numbers)  # [2, 3, 4, 5, 8]"
   ]
  },
  {
   "cell_type": "markdown",
   "id": "b857aefc-63ac-4b64-8b1f-7d5f441207e0",
   "metadata": {},
   "source": [
    "2. Обход двумерного списка:"
   ]
  },
  {
   "cell_type": "code",
   "execution_count": null,
   "id": "04adaa3f-e9cc-4dd4-b2cf-e7db8bc1895f",
   "metadata": {},
   "outputs": [],
   "source": [
    "a = [[1, 2, 3, 4], [2, 3, 4, 5], [3, 4, 5, 6]]\n",
    "for row in a:\n",
    "    print(row, type(row))\n",
    "for row in a:\n",
    "    for x in row:\n",
    "        print(x, type(x), end=' ')\n",
    "    print()\n",
    "# [1, 2, 3, 4] <class 'list'>\n",
    "# [2, 3, 4, 5] <class 'list'>\n",
    "# [3, 4, 5, 6] <class 'list'>\n",
    "    \n",
    "# 1 <class 'int'> 2 <class 'int'> 3 <class 'int'> 4 <class 'int'> \n",
    "# 2 <class 'int'> 3 <class 'int'> 4 <class 'int'> 5 <class 'int'> \n",
    "# 3 <class 'int'> 4 <class 'int'> 5 <class 'int'> 6 <class 'int'>"
   ]
  },
  {
   "cell_type": "markdown",
   "id": "532adb27-785c-4a8f-b14d-b989f7a8a11e",
   "metadata": {},
   "source": [
    "3. Сложение элементов двух двумерных списков:"
   ]
  },
  {
   "cell_type": "code",
   "execution_count": null,
   "id": "d0293d65-feb7-4413-8dc0-840293685196",
   "metadata": {},
   "outputs": [],
   "source": [
    "a = [[1, 2, 3, 4], [2, 3, 4, 5], [3, 4, 5, 6]]\n",
    "b = [[1, 1, 1, 1], [2, 2, 2, 2], [3, 3, 3, 3]]\n",
    "c = []\n",
    "for i, row in enumerate(a):\n",
    "    r = []\n",
    "    for j, x in enumerate(row):\n",
    "        r.append(x + b[i][j])\n",
    "    c.append(r) \n",
    "print(c)\n",
    "# [[2, 3, 4, 5], [4, 5, 6, 7], [6, 7, 8, 9]]"
   ]
  },
  {
   "cell_type": "markdown",
   "id": "c01f5142-2838-4957-9ee7-3a1dcfcb416e",
   "metadata": {},
   "source": [
    "4. Удаление лишних пробелов в тексте:"
   ]
  },
  {
   "cell_type": "code",
   "execution_count": null,
   "id": "30fe5e34-e531-4dd3-bcd7-4bb5bf979297",
   "metadata": {},
   "outputs": [],
   "source": [
    "t = [\"– Скажи-ка,  дядя, ведь не даром\",\n",
    "    \"Я Python выучил с   каналом\",\n",
    "    \"Балакирев что    раздавал?\",\n",
    "    \"Ведь были  ж заданья боевые,\",\n",
    "    \"Да, говорят,  еще какие!\",\n",
    "    \"Недаром помнит    вся Россия\",\n",
    "    \"Как мы рубили   их тогда!\"\n",
    "]\n",
    "for i, line in enumerate(t):\n",
    "    while line.count('  '):\n",
    "        line = line.replace('  ', ' ') \n",
    "    t[i] = line\n",
    "print(t)"
   ]
  },
  {
   "cell_type": "markdown",
   "id": "e07c252c-316a-44d0-bae7-6604641e7ef6",
   "metadata": {},
   "source": [
    "5. Создание и заполнение двумерного списка:"
   ]
  },
  {
   "cell_type": "code",
   "execution_count": null,
   "id": "75eb8922-3edc-4ecb-a236-69af51e42fea",
   "metadata": {},
   "outputs": [],
   "source": [
    "M, N = list(map(int, input(\"Введите M и N: \").split())) \n",
    "zeros = []\n",
    "for i in range(M):\n",
    "    zeros.append([0]*N) \n",
    "print(zeros)\n",
    "for i in range(M):\n",
    "    for j in range(N):\n",
    "        zeros[i][j] = 1"
   ]
  },
  {
   "cell_type": "markdown",
   "id": "dd4e05b3-5c71-4368-80ea-2bdde34cce01",
   "metadata": {},
   "source": [
    "6. Транспонирование квадратной матрицы:"
   ]
  },
  {
   "cell_type": "code",
   "execution_count": null,
   "id": "161b9c97-71d7-4097-9729-f8650fbe27fc",
   "metadata": {},
   "outputs": [],
   "source": [
    "\n",
    "A = [[1, 2, 3, 4], [5, 6, 7, 8], [9, 10, 11, 12], [13, 14, 15, 16]]\n",
    "for i in range(len(A)):\n",
    "    for j in range(i+1, len(A)):\n",
    "        A[i][j], A[j][i] = A[j][i], A[i][j]\n",
    "for r in A:\n",
    "    for x in r:\n",
    "        print(x, end='\\t')\n",
    "    print()\n",
    "\n",
    "# 1\t5\t9\t13\t\n",
    "# 2\t6\t10\t14\t\n",
    "# 3\t7\t11\t15\t\n",
    "# 4\t8\t12\t16"
   ]
  },
  {
   "cell_type": "markdown",
   "id": "389c799b-0a8b-4e1b-92af-33af2d470068",
   "metadata": {},
   "source": [
    "7. Сколько шестибуквенных слов, начинающихся и заканчивающихся согласной буквой и содержащих ровно 2 гласные, можно составить из букв Т, Ы, К, В, А? Каждая из допустимых букв может входить в слово несколько раз."
   ]
  },
  {
   "cell_type": "code",
   "execution_count": null,
   "id": "28c4dcd8-e7d2-4f02-ae2e-fcd1bd6211fe",
   "metadata": {},
   "outputs": [],
   "source": [
    "k = 0\n",
    "\n",
    "for b1 in 'тыква':\n",
    "    for b2 in 'тыква':\n",
    "        for b3 in 'тыква':\n",
    "            for b4 in 'тыква':\n",
    "                for b5 in 'тыква':\n",
    "                    for b6 in 'тыква':\n",
    "                        rez = b1+b2+b3+b4+b5+b6\n",
    "                        if rez[0] in 'ткв' and rez[-1] in 'ткв':\n",
    "                            if rez.count('ы') + rez.count('а') == 2:\n",
    "                                k += 1\n",
    "print(k)\n",
    "\n",
    "# 1944"
   ]
  },
  {
   "cell_type": "markdown",
   "id": "9e87e2c5-79ca-4a99-9d22-a24e1c5e71a2",
   "metadata": {},
   "source": [
    "8. Сумма цифр числа"
   ]
  },
  {
   "cell_type": "code",
   "execution_count": null,
   "id": "7b566760-a81a-4b77-8a3c-233d3c40c6a1",
   "metadata": {},
   "outputs": [],
   "source": [
    "for i in range(1,100):\n",
    "    x=i\n",
    "    s=0\n",
    "    while x > 0:\n",
    "        s += x % 10\n",
    "        x //= 10\n",
    "    print(i,s)"
   ]
  },
  {
   "cell_type": "markdown",
   "id": "9b1f411a-86fb-4bdd-8839-9ee012e27be6",
   "metadata": {},
   "source": [
    "**Алгоритмы Сортировки**"
   ]
  },
  {
   "cell_type": "code",
   "execution_count": null,
   "id": "148c6fee-7078-469a-953d-2d62156e5ad8",
   "metadata": {},
   "outputs": [],
   "source": [
    "\n",
    "\n",
    "# Алгоритм сортировки выбором\n",
    "n = list(map(int, input().split()))\n",
    "for i in range(len(n)):\n",
    "    min_index = i\n",
    "    for j in range(i + 1, len(n)):\n",
    "        if n[min_index] > n[j]:\n",
    "            min_index = j\n",
    "\n",
    "    n[i], n[min_index] = n[min_index], n[i]\n",
    "print(*n)\n",
    "\n",
    "# Mетодом всплывающего пузырька\n",
    "n = list(map(int, input().split()))\n",
    "\n",
    "for i in range(len(n)):\n",
    "\n",
    "    for j in range(0, len(n) -1 - i):\n",
    "        if n[j] > n[j + 1]:\n",
    "            n[j], n[j +1] = n[j +1], n[j]"
   ]
  },
  {
   "cell_type": "markdown",
   "id": "afa1236f-3220-4584-a45c-5c0499be1177",
   "metadata": {},
   "source": [
    "**Треугольник Паскаля**"
   ]
  },
  {
   "cell_type": "code",
   "execution_count": null,
   "id": "957e8e11-2dd9-46ad-92d5-7d77f8ecc57b",
   "metadata": {},
   "outputs": [],
   "source": [
    "N = 7\n",
    "P = []\n",
    " \n",
    "for i in range(0, N):\n",
    "    row = [1] * (i + 1)\n",
    "    for j in range(i + 1):\n",
    "        if j != 0 and j != i:\n",
    "            row[j] = P[i-1][j-1] + P[i-1][j]\n",
    " \n",
    "    P.append(row)\n",
    " \n",
    "for r in P:\n",
    "    print(r)"
   ]
  },
  {
   "cell_type": "markdown",
   "id": "b23485ed-cf4b-4ac6-b619-423bc6ec8f68",
   "metadata": {},
   "source": [
    "# Генераторы списков (List Comprehensions)"
   ]
  },
  {
   "cell_type": "code",
   "execution_count": null,
   "id": "74688424-b1e5-4cca-aed7-12abc1563537",
   "metadata": {},
   "outputs": [],
   "source": [
    "[выражение for переменная in последовательность]"
   ]
  },
  {
   "cell_type": "markdown",
   "id": "c25930e5-e6c2-4c43-a4ba-97645f273f51",
   "metadata": {},
   "source": [
    "### Примеры:"
   ]
  },
  {
   "cell_type": "markdown",
   "id": "e4ef41f2-a9e1-452e-82af-b883fb7556b4",
   "metadata": {},
   "source": [
    "1. Генератор списка с постоянным значением"
   ]
  },
  {
   "cell_type": "code",
   "execution_count": null,
   "id": "c30ee9a6-355a-44d6-9997-b42ef95c11fe",
   "metadata": {},
   "outputs": [],
   "source": [
    "zeros = [0 for _ in range(7)]\n",
    "print(zeros)  # Результат: [0, 0, 0, 0, 0, 0, 0]"
   ]
  },
  {
   "cell_type": "markdown",
   "id": "8da4ec87-b3e5-47f9-9270-c89a50b46ff4",
   "metadata": {},
   "source": [
    "2. Генератор списка с переменной"
   ]
  },
  {
   "cell_type": "code",
   "execution_count": null,
   "id": "771bd977-70f7-4b84-9008-5ff743e39f42",
   "metadata": {},
   "outputs": [],
   "source": [
    "numbers = [i for i in range(10)]\n",
    "print(numbers)  # Результат: [0, 1, 2, 3, 4, 5, 6, 7, 8, 9]"
   ]
  },
  {
   "cell_type": "markdown",
   "id": "ca236806-5b88-41ab-8286-e577bfb2852b",
   "metadata": {},
   "source": [
    "3. Генератор списка с вычислениями"
   ]
  },
  {
   "cell_type": "code",
   "execution_count": null,
   "id": "f12a8113-5c9e-467f-80c9-d452db1a8134",
   "metadata": {},
   "outputs": [],
   "source": [
    "squares = [i**2 for i in range(10)]\n",
    "print(squares)  # Результат: [0, 1, 4, 9, 16, 25, 36, 49, 64, 81]"
   ]
  },
  {
   "cell_type": "markdown",
   "id": "a62f132b-f616-4fdd-a9bd-bb562559ca11",
   "metadata": {},
   "source": [
    "4. Остатки от деления"
   ]
  },
  {
   "cell_type": "code",
   "execution_count": null,
   "id": "5243725e-efd7-45a5-9ae9-5b0df279c8e7",
   "metadata": {},
   "outputs": [],
   "source": [
    "remainders = [i % 4 for i in range(1, 15)]\n",
    "print(remainders)  # Результат: [1, 2, 3, 0, 1, 2, 3, 0, 1, 2, 3, 0, 1, 2]"
   ]
  },
  {
   "cell_type": "markdown",
   "id": "cf18ebf2-1af1-4c5b-8a3a-fabc8b983176",
   "metadata": {},
   "source": [
    "5. Генератор с другими последовательностями"
   ]
  },
  {
   "cell_type": "code",
   "execution_count": null,
   "id": "e6713cd1-1fa4-4c5e-b689-635cb929fa36",
   "metadata": {},
   "outputs": [],
   "source": [
    "letters = [char for char in \"hello\"]\n",
    "print(letters)  # Результат: ['h', 'e', 'l', 'l', 'o']"
   ]
  },
  {
   "cell_type": "code",
   "execution_count": null,
   "id": "8e4a1f73-5629-4f34-970f-0bbfac15ada4",
   "metadata": {},
   "outputs": [],
   "source": [
    "duplicates = [char * 5 for char in \"hello\"]\n",
    "print(duplicates)  # Результат: ['hhhhh', 'eeeee', 'lllll', 'lllll', 'ooooo']"
   ]
  },
  {
   "cell_type": "markdown",
   "id": "95a77eee-d859-40f1-bfd6-7897f6d49397",
   "metadata": {},
   "source": [
    "6. Создание списка булевых значений (True и False)"
   ]
  },
  {
   "cell_type": "code",
   "execution_count": null,
   "id": "8ebef457-12e7-42b0-b5d6-1d407041b385",
   "metadata": {},
   "outputs": [],
   "source": [
    "\n",
    "N = 10\n",
    "a = [x % 2 == 0 for x in range(N)]\n",
    "print(a)  # [True, False, True, False, True, False, True, False, True, False]"
   ]
  },
  {
   "cell_type": "markdown",
   "id": "3b44f1fa-5961-4f0e-9924-6a3166f1e766",
   "metadata": {},
   "source": [
    "7. Вычисление значений линейной функции"
   ]
  },
  {
   "cell_type": "code",
   "execution_count": null,
   "id": "338cf405-4e74-4247-ac17-964466e48ce7",
   "metadata": {},
   "outputs": [],
   "source": [
    "N = 10\n",
    "a = [0.5 * x + 1 for x in range(N)]\n",
    "print(a)  # [1.0, 1.5, 2.0, 2.5, 3.0, 3.5, 4.0, 4.5, 5.0, 5.5]"
   ]
  },
  {
   "cell_type": "markdown",
   "id": "2dd5298c-8835-433f-bcb8-8f200f2e89f9",
   "metadata": {},
   "source": [
    "8. Преобразование строковых чисел в целые числа"
   ]
  },
  {
   "cell_type": "code",
   "execution_count": null,
   "id": "a656bd3e-af74-450c-b54f-dd6aabd670ab",
   "metadata": {},
   "outputs": [],
   "source": [
    "d_inp = input(\"Целые числа через пробел: \")\n",
    "a = [int(d) for d in d_inp.split()]\n",
    "print(a)"
   ]
  },
  {
   "cell_type": "markdown",
   "id": "e63d38be-38a1-4b28-85c2-bde262b1b4cb",
   "metadata": {},
   "source": [
    "9.  Получение списка кодов символов строки"
   ]
  },
  {
   "cell_type": "code",
   "execution_count": null,
   "id": "532d96a1-2288-466d-af1e-7691c3686072",
   "metadata": {},
   "outputs": [],
   "source": [
    "a = [ord(c) for c in \"python\"]\n",
    "print(a)  # [112, 121, 116, 104, 111, 110]"
   ]
  },
  {
   "cell_type": "markdown",
   "id": "c774f76e-2343-4e0e-bd0b-533691bc33b9",
   "metadata": {},
   "source": [
    "10. Создание списка длин строк из коллекции"
   ]
  },
  {
   "cell_type": "code",
   "execution_count": null,
   "id": "318b3557-8323-42d1-8740-b87d199a6e8a",
   "metadata": {},
   "outputs": [],
   "source": [
    "t = [\"apple\", \"banana\", \"cherry\"]\n",
    "a = [len(s) for s in t]\n",
    "print(a)  # [5, 6, 6]"
   ]
  },
  {
   "cell_type": "markdown",
   "id": "c1449435-5951-4876-b554-100aed9eac3b",
   "metadata": {},
   "source": [
    "## Использование функций в генераторах"
   ]
  },
  {
   "cell_type": "code",
   "execution_count": null,
   "id": "694a3d41-c66c-46ec-98f8-90c55c4366e7",
   "metadata": {},
   "outputs": [],
   "source": [
    "ascii_codes = [ord(char) for char in \"abcd\"]\n",
    "print(ascii_codes)  # Результат: [97, 98, 99, 100]"
   ]
  },
  {
   "cell_type": "code",
   "execution_count": null,
   "id": "12cae6e5-a997-4557-9335-e0394183ddf9",
   "metadata": {},
   "outputs": [],
   "source": [
    "from random import randint\n",
    "\n",
    "random_numbers = [randint(-10, 10) for _ in range(7)]\n",
    "print(random_numbers)  # Каждый раз новый список, например [-3, 5, -7, 10, 0, -6, 1]\n",
    "\n",
    "all_positive = [abs(value) for value in random_numbers]\n",
    "print(all_positive)  # [8, 9, 2, 2, 10, 2, 10]\n",
    "\n",
    "increase_one = [value + 1 for value in random_numbers]\n",
    "print(increase_one)  # [-6, -8, 3, 5, 1, 4, 3]"
   ]
  },
  {
   "cell_type": "markdown",
   "id": "e12fc00f-7ce2-464e-989e-d67414d3eaea",
   "metadata": {},
   "source": [
    "## Условный оператор в генераторах списков"
   ]
  },
  {
   "cell_type": "code",
   "execution_count": null,
   "id": "3915da95-da83-4772-bb89-cc653bf3ba3e",
   "metadata": {},
   "outputs": [],
   "source": [
    "[выражение for переменная in последовательность if условие]"
   ]
  },
  {
   "cell_type": "markdown",
   "id": "326f8950-350b-44d4-b4ad-08c40e1b0049",
   "metadata": {},
   "source": [
    "### Примеры"
   ]
  },
  {
   "cell_type": "markdown",
   "id": "066898c0-50de-429c-8a1f-fe16e0925457",
   "metadata": {},
   "source": [
    "1. Перенесем из списка только четные числа в новый список"
   ]
  },
  {
   "cell_type": "code",
   "execution_count": null,
   "id": "2e079879-e775-4996-bb3e-c850b173a318",
   "metadata": {},
   "outputs": [],
   "source": [
    "from random import randint\n",
    "\n",
    "numbers = [randint(-10, 10) for _ in range(7)]\n",
    "print(numbers)  # Пример: [-4, 5, -8, -2, -1, -1, -7]\n",
    "\n",
    "even_numbers = [num for num in numbers if num % 2 == 0]\n",
    "print(even_numbers)  # Пример: [-4, -8, -2]"
   ]
  },
  {
   "cell_type": "markdown",
   "id": "5d4e4b9d-50b6-4f56-bc80-83fee93a1e7f",
   "metadata": {},
   "source": [
    "2. Оставляем только те элементы, которые делятся на 2 и неотрицательные:"
   ]
  },
  {
   "cell_type": "code",
   "execution_count": null,
   "id": "e776ab1d-2e1b-4928-a59d-bc940196df7b",
   "metadata": {},
   "outputs": [],
   "source": [
    "from random import randint\n",
    "\n",
    "numbers = [randint(-10, 10) for _ in range(7)]\n",
    "print(numbers)  # Пример: [-2, 10, 9, -5, 0, -6, 5]\n",
    "\n",
    "even_numbers = [num for num in numbers if num % 2 == 0 and num >= 0]\n",
    "print(even_numbers)  # Пример: [10, 0]"
   ]
  },
  {
   "cell_type": "markdown",
   "id": "c51e7a33-dd17-4264-8510-70edfabf142a",
   "metadata": {},
   "source": [
    "3. Фильтрация четных чисел из списка"
   ]
  },
  {
   "cell_type": "code",
   "execution_count": null,
   "id": "e19aad80-48f6-40be-a46c-6eccf53462d1",
   "metadata": {},
   "outputs": [],
   "source": [
    "list_a = [-2, -1, 0, 1, 2, 3, 4, 5]\n",
    "list_b = [x for x in list_a if x % 2 == 0]\n",
    "print(list_b)  # [-2, 0, 2, 4]"
   ]
  },
  {
   "cell_type": "markdown",
   "id": "8adb11a4-fd50-48b4-bce4-c8ed7cab7eec",
   "metadata": {},
   "source": [
    "4. Получение нечетных чисел из диапазона [-5; 5)"
   ]
  },
  {
   "cell_type": "code",
   "execution_count": null,
   "id": "e6e583a2-5928-425c-ab00-2f1fee32ab45",
   "metadata": {},
   "outputs": [],
   "source": [
    "a = [x for x in range(-5, 5) if x % 2 != 0]\n",
    "print(a)  # [-5, -3, -1, 1, 3]"
   ]
  },
  {
   "cell_type": "markdown",
   "id": "99130733-11aa-44f5-995b-9a0c0d1ea2c6",
   "metadata": {},
   "source": [
    "5. Комбинирование нескольких условий. Выбираем числа, кратные одновременно 2 и 3"
   ]
  },
  {
   "cell_type": "code",
   "execution_count": null,
   "id": "f3e607c3-4782-491b-bbf1-7d728242501e",
   "metadata": {},
   "outputs": [],
   "source": [
    "a = [x for x in range(-6, 7) if x % 2 == 0 and x % 3 == 0]\n",
    "print(a)  # [-6, 0, 6]"
   ]
  },
  {
   "cell_type": "markdown",
   "id": "cee39162-678d-4d73-931e-35c0eb1d1e66",
   "metadata": {},
   "source": [
    "6. Условное выражение внутри генератора списка. Возводим отрицательные числа в куб, остальные — в квадрат"
   ]
  },
  {
   "cell_type": "code",
   "execution_count": null,
   "id": "94cef703-3221-4e43-86a5-5df9d8d9d9a9",
   "metadata": {},
   "outputs": [],
   "source": [
    "list_a = [-2, -1, 0, 1, 2, 3, 4, 5]\n",
    "list_b = [x**3 if x < 0 else x**2 for x in list_a if x % 2 == 0]\n",
    "print(list_b)  # [-8, 0, 4, 16]"
   ]
  },
  {
   "cell_type": "markdown",
   "id": "850755a9-4390-46a8-bf64-896b006937c8",
   "metadata": {},
   "source": [
    "7. Использование тернарного условного оператора. Преобразование чисел в слова \"четное\" или \"нечетное\""
   ]
  },
  {
   "cell_type": "code",
   "execution_count": null,
   "id": "84873881-5dc7-4874-946b-ab01e2c93bdb",
   "metadata": {},
   "outputs": [],
   "source": [
    "d = [4, 3, -5, 0, 2, 11, 122, -8, 9]\n",
    "a = [\"четное\" if x % 2 == 0 else \"нечетное\" for x in d]\n",
    "print(a)\n",
    "# ['четное', 'нечетное', 'нечетное', 'четное', 'четное', 'нечетное', 'четное', 'четное', 'нечетное']"
   ]
  },
  {
   "cell_type": "markdown",
   "id": "7dc8fd41-0c19-4bc1-9d8f-3e2836cc4198",
   "metadata": {},
   "source": [
    "8. С дополнительным условием"
   ]
  },
  {
   "cell_type": "code",
   "execution_count": null,
   "id": "7fc6bc3f-3090-4d79-9110-628f66a3748c",
   "metadata": {},
   "outputs": [],
   "source": [
    "a = [\"четное\" if x % 2 == 0 else \"нечетное\"\n",
    "     for x in d\n",
    "     if x > 0]\n",
    "print(a)\n",
    "# ['четное', 'нечетное', 'четное', 'нечетное', 'четное', 'нечетное']"
   ]
  },
  {
   "cell_type": "markdown",
   "id": "0ae4b6e5-ace9-404d-8681-bfcd769e5244",
   "metadata": {},
   "source": [
    "9. Выбор строк длиной более 5 символов"
   ]
  },
  {
   "cell_type": "code",
   "execution_count": null,
   "id": "f89dfde6-1e12-4436-a4a5-c3297eb822d1",
   "metadata": {},
   "outputs": [],
   "source": [
    "lst = input().split()\n",
    "lst = [s for s in lst if len(s) > 5]\n",
    "print(*lst)"
   ]
  },
  {
   "cell_type": "code",
   "execution_count": null,
   "id": "a779bedd-08d6-4214-8b4a-9bceb565461c",
   "metadata": {},
   "outputs": [],
   "source": []
  },
  {
   "cell_type": "markdown",
   "id": "9012d0d9-63eb-4c76-8405-636c18a24634",
   "metadata": {},
   "source": [
    "14. Объединение элементов списка в строку"
   ]
  },
  {
   "cell_type": "code",
   "execution_count": null,
   "id": "4ed254ae-0c46-43d1-85f8-f578bd1d2b7f",
   "metadata": {},
   "outputs": [],
   "source": [
    "list_a = [-2, -1, 0, 1, 2, 3, 4, 5]\n",
    "my_str = ''.join(str(x) for x in list_a)\n",
    "print(my_str)  # '-2-1012345'"
   ]
  },
  {
   "cell_type": "markdown",
   "id": "b40b766f-14aa-400a-833a-a09eedc25c23",
   "metadata": {},
   "source": [
    "15. Использование enumerate в генераторе списка"
   ]
  },
  {
   "cell_type": "code",
   "execution_count": null,
   "id": "fbab14ef-ddb6-49c7-90cf-0e6c5eca2431",
   "metadata": {},
   "outputs": [],
   "source": [
    "list_a = [-2, -1, 0, 1, 2, 3, 4, 5]\n",
    "list_d = [(i, x) for i, x in enumerate(list_a)]\n",
    "print(list_d)\n",
    "# [(0, -2), (1, -1), (2, 0), (3, 1), (4, 2), (5, 3), (6, 4), (7, 5)]"
   ]
  },
  {
   "cell_type": "markdown",
   "id": "6324b26f-eb79-43ec-acc3-261feb2b6d7c",
   "metadata": {},
   "source": [
    "## Считывание данных с преобразованием"
   ]
  },
  {
   "cell_type": "code",
   "execution_count": null,
   "id": "9535329c-3224-4da8-8280-3899ecf12535",
   "metadata": {},
   "outputs": [],
   "source": [
    "numbers = [int(value) for value in input().split()]\n",
    "print(numbers)"
   ]
  },
  {
   "cell_type": "code",
   "execution_count": null,
   "id": "f3d4d929-4030-43bb-8720-432824666851",
   "metadata": {},
   "outputs": [],
   "source": [
    "numbers = list(map(int, input().split()))"
   ]
  },
  {
   "cell_type": "markdown",
   "id": "dcc40ae3-fbf0-4b65-aa27-4d7ccc6bd6f4",
   "metadata": {},
   "source": [
    "# Вложенные списки"
   ]
  },
  {
   "cell_type": "markdown",
   "id": "3c5758d8-3b05-4337-9fdd-fbdcaef75e39",
   "metadata": {},
   "source": [
    "**1. Создание вложенных списков**"
   ]
  },
  {
   "cell_type": "code",
   "execution_count": null,
   "id": "bf6574c6-a706-40b0-929b-4425f1904d84",
   "metadata": {},
   "outputs": [],
   "source": [
    "matrix = [[1, 2, 3], [4, 5, 6], [7, 8, 9]]"
   ]
  },
  {
   "cell_type": "code",
   "execution_count": null,
   "id": "5dccb428-6ce7-418f-acad-dfe7d780c22b",
   "metadata": {},
   "outputs": [],
   "source": [
    "matrix = [\n",
    "    [1, 2, 3], \n",
    "    [4, 5, 6], \n",
    "    [7, 8, 9]\n",
    "]"
   ]
  },
  {
   "cell_type": "markdown",
   "id": "eb16191b-0547-4bed-b99b-3573946df5fe",
   "metadata": {},
   "source": [
    "**2. Использование append()**"
   ]
  },
  {
   "cell_type": "code",
   "execution_count": null,
   "id": "2fd7dbf3-990a-4645-86de-92e1c20bc384",
   "metadata": {},
   "outputs": [],
   "source": [
    "nested = []\n",
    "nested.append([1])  # Добавляем вложенный список\n",
    "nested.append([2, 3])\n",
    "nested.append([4, 5, 6])\n",
    "print(nested)  # [[1], [2, 3], [4, 5, 6]]"
   ]
  },
  {
   "cell_type": "markdown",
   "id": "fe7e5abf-e773-469b-abb9-7fe5aa9c3241",
   "metadata": {},
   "source": [
    "**3. Как обращаться к элементам вложенного списка**"
   ]
  },
  {
   "cell_type": "code",
   "execution_count": null,
   "id": "22e23325-85bf-4183-856f-a46b83cf07f7",
   "metadata": {},
   "outputs": [],
   "source": [
    "a = [[0, 2, 4, 6], [1, 5, 9, 13], [3, 10, [14, 15, 16], 17, 19]]\n",
    "\n",
    "print(a[2])  # [3, 10, [14, 15, 16], 17, 19]\n",
    "print(a[2][2])  # [14, 15, 16]\n",
    "print(a[2][2][1])  # 15"
   ]
  },
  {
   "cell_type": "markdown",
   "id": "4727eef9-abfc-4712-818e-56159914a04e",
   "metadata": {},
   "source": [
    "**4. Добавление новых элементов**"
   ]
  },
  {
   "cell_type": "code",
   "execution_count": null,
   "id": "0095b51a-d20c-411f-ac6b-015171b9d961",
   "metadata": {},
   "outputs": [],
   "source": [
    "nested = [[1, 2], [3, 4]]\n",
    "nested.append([5, 6])  # Добавляем новый вложенный список\n",
    "nested[1].append(99)   # Добавляем элемент во второй список\n",
    "print(nested)  # [[1, 2], [3, 4, 99], [5, 6]]"
   ]
  },
  {
   "cell_type": "markdown",
   "id": "98577cd9-ac28-441c-9fe2-ab7e7c3217dd",
   "metadata": {},
   "source": [
    "**5. Изменение элементов**"
   ]
  },
  {
   "cell_type": "code",
   "execution_count": null,
   "id": "736b0cb6-aa63-48b1-8a15-72af8ca92469",
   "metadata": {},
   "outputs": [],
   "source": [
    "nested = [[1, 2], [3, 4, 99], [5, 6]]\n",
    "\n",
    "nested[0][1] = 999  # Меняем второй элемент первого списка\n",
    "nested[1][2] = 111  # Меняем третий элемент второго списка\n",
    "print(nested)  # [[1, 999], [3, 4, 111], [5, 6]]"
   ]
  },
  {
   "cell_type": "markdown",
   "id": "31650b73-c0af-41ed-b3ab-39204bd0aff6",
   "metadata": {},
   "source": [
    "**6. Удаление элементов**"
   ]
  },
  {
   "cell_type": "code",
   "execution_count": null,
   "id": "be3305cb-2ef1-451d-ac51-82e08c3ffc66",
   "metadata": {},
   "outputs": [],
   "source": [
    "nested = [[1, 999], [3, 4, 99], [5, 6]]\n",
    "\n",
    "nested.pop(1)  # Удаляем второй вложенный список\n",
    "nested[0].remove(999)  # Удаляем конкретный элемент\n",
    "print(nested)  # [[1], [5, 6]]"
   ]
  },
  {
   "cell_type": "markdown",
   "id": "b446c573-c6bd-4aaa-8f0d-e6e62cf56bbf",
   "metadata": {},
   "source": [
    "**7. Обход значений вложенного списка**"
   ]
  },
  {
   "cell_type": "markdown",
   "id": "1ff9638f-c204-4f95-83d4-aeb08755091a",
   "metadata": {},
   "source": [
    "### Во всех примерах ниже мы обходили матрицу фиксированного размера 3х4. Для универсального обхода матрицы размером NxM вы должны делать так:\n"
   ]
  },
  {
   "cell_type": "code",
   "execution_count": null,
   "id": "f048719f-7888-425f-a1ab-3c6559881755",
   "metadata": {},
   "outputs": [],
   "source": [
    "for row in range(len(matrix)):\n",
    "    for column in range(len(matrix[row])):\n",
    "        matrix[row][column]"
   ]
  },
  {
   "cell_type": "markdown",
   "id": "23d3b515-3984-43c6-9bb6-efac4bea9ef1",
   "metadata": {},
   "source": [
    "- **Обход по значению**"
   ]
  },
  {
   "cell_type": "code",
   "execution_count": null,
   "id": "d50c30a9-6e63-4c3b-bd3a-5cb23ddca484",
   "metadata": {},
   "outputs": [],
   "source": [
    "a = [\n",
    "    [0, 2, 4, 6],\n",
    "    [1, 5, 9, 13],\n",
    "    [3, 10, 17, 19]\n",
    "]\n",
    "\n",
    "for row in a:  # Берём каждую строку\n",
    "    for value in row:  # Берём элемент в строке\n",
    "        print(f'{value:3}', end=\" \")  # Добавим ширину вывода для каждого значения в три символа. Выводим в строку\n",
    "    print()  # Переход на новую строку\n",
    "\n",
    "# 0 2 4 6 \n",
    "# 1 5 9 13 \n",
    "# 3 10 17 19 "
   ]
  },
  {
   "cell_type": "markdown",
   "id": "519ed4c3-a288-4284-b486-32f343d87cf5",
   "metadata": {},
   "source": [
    "- **Обход по индексам**"
   ]
  },
  {
   "cell_type": "markdown",
   "id": "04fc1956-4595-427e-97a3-e2802f127b61",
   "metadata": {},
   "source": [
    "    - A. Обход элементов матрицы в порядке слева-направо, сверху-вниз"
   ]
  },
  {
   "cell_type": "markdown",
   "id": "2958c648-cc9b-43fd-933a-e5a873e0ccb0",
   "metadata": {},
   "source": [
    "![](images/matric.png)"
   ]
  },
  {
   "cell_type": "code",
   "execution_count": null,
   "id": "dfcf9627-38df-4be5-8e93-901aabd37301",
   "metadata": {},
   "outputs": [],
   "source": [
    "a = [\n",
    "  [0, 2, 4, 6],\n",
    "  [1, 5, 9, 13],\n",
    "  [3, 10, 17, 19]\n",
    "]\n",
    "\n",
    "for row in range(3):  # Перебираем строки (3 штуки)\n",
    "    for column in range(4):  # Перебираем столбцы (4 штуки)\n",
    "        print(f'{a[row][column]:2}', end=\" \")  # Доступ через двойную индексацию\n",
    "    print()\n",
    "\n",
    "# 0  2  4  6 \n",
    "#  1  5  9 13 \n",
    "#  3 10 17 19"
   ]
  },
  {
   "cell_type": "markdown",
   "id": "c5896cda-65da-4f0f-bb61-a1ccae27afc2",
   "metadata": {},
   "source": [
    "- **B. обход по рядам, но по колонкам двигаться справа налево.** "
   ]
  },
  {
   "cell_type": "markdown",
   "id": "cf73b182-de8a-48ad-b7be-d55b1c377fad",
   "metadata": {},
   "source": [
    "![](images/matric1.png)"
   ]
  },
  {
   "cell_type": "code",
   "execution_count": null,
   "id": "f10d17d8-bbd7-42e4-abec-ae742748b3fb",
   "metadata": {},
   "outputs": [],
   "source": [
    "a = [\n",
    "  [0, 2, 4, 6],\n",
    "  [1, 5, 9, 13],\n",
    "  [3, 10, 17, 19]\n",
    "]\n",
    "\n",
    "for row in range(3):  # Перебираем строки в обычном порядке\n",
    "    for column in range(3, -1, -1):  # Перебираем столбцы в обратном порядке\n",
    "        print(f'{a[row][column]:2}', end=\" \")\n",
    "    print()\n",
    "\n",
    "# 6  4  2  0 \n",
    "# 13  9  5  1 \n",
    "# 19 17 10  3 "
   ]
  },
  {
   "cell_type": "markdown",
   "id": "ebd65728-a59f-4041-813c-a6679aa8e7f6",
   "metadata": {},
   "source": [
    "- **С. Обход элементов по колонкам, двигаясь по рядам сверху вниз**"
   ]
  },
  {
   "cell_type": "markdown",
   "id": "9e14fa86-f50d-424c-963e-01e1f6251d41",
   "metadata": {},
   "source": [
    "![](images/matric2.png)"
   ]
  },
  {
   "cell_type": "code",
   "execution_count": null,
   "id": "7329ecb1-893e-438e-a706-d158462ac31d",
   "metadata": {},
   "outputs": [],
   "source": [
    "a = [\n",
    "  [0, 2, 4, 6],\n",
    "  [1, 5, 9, 13],\n",
    "  [3, 10, 17, 19]\n",
    "]\n",
    "\n",
    "for column in range(4):  # Перебираем сперва столбцы\n",
    "    for row in range(3):  # Внутри перебираем строки\n",
    "        print(f'{a[row][column]:2}', end=\" \")\n",
    "    print()\n",
    "\n",
    "0  1  3 \n",
    " 2  5 10 \n",
    " 4  9 17 \n",
    " 6 13 19 "
   ]
  },
  {
   "cell_type": "markdown",
   "id": "c025c3b5-679a-4a38-9f6c-1ded00853421",
   "metadata": {},
   "source": [
    "- **D. Oбход элементов справа-налево, начиная снизу и двигаясь вверх**"
   ]
  },
  {
   "cell_type": "markdown",
   "id": "03502c7a-d3e3-4c73-8f77-3868cd6368a3",
   "metadata": {},
   "source": [
    "![](images/matric3.png)"
   ]
  },
  {
   "cell_type": "code",
   "execution_count": null,
   "id": "f7699bae-50df-4341-862f-49062f041ef0",
   "metadata": {},
   "outputs": [],
   "source": [
    "a = [\n",
    "  [0, 2, 4, 6],\n",
    "  [1, 5, 9, 13],\n",
    "  [3, 10, 17, 19]\n",
    "]\n",
    "\n",
    "for row in range(2, -1, -1):  # Фиксируем на строке в обратном порядке\n",
    "    for column in range(3, -1, -1):  # Перебираем столбцы с конца\n",
    "        print(f'{a[row][column]:2}', end=\" \")\n",
    "    print()\n",
    "\n",
    "# 19 17 10  3 \n",
    "# 13  9  5  1 \n",
    "#  6  4  2  0 "
   ]
  },
  {
   "cell_type": "markdown",
   "id": "ba20020b-22d6-4620-8ab7-7c15e78dc1ad",
   "metadata": {},
   "source": [
    "**8. Изменение вложенного списка**"
   ]
  },
  {
   "cell_type": "markdown",
   "id": "3330332c-c931-4251-9683-be268a680bc0",
   "metadata": {},
   "source": [
    "- **увеличить все элементы на 10**"
   ]
  },
  {
   "cell_type": "code",
   "execution_count": null,
   "id": "b5896eb8-d305-4e20-b159-f5dbd6b13bb4",
   "metadata": {},
   "outputs": [],
   "source": [
    "a = [\n",
    "  [0, 2, 4, 6],\n",
    "  [1, 5, 9, 13],\n",
    "  [3, 10, 17, 19]\n",
    "]\n",
    "\n",
    "for i in range(len(a)):\n",
    "    for j in range(len(a[i])):\n",
    "        a[i][j] += 10  # Увеличиваем каждый элемент\n",
    "\n",
    "# Обходим элементы списка для вывода\n",
    "for i in range(len(a)):\n",
    "    for j in range(len(a[i])):\n",
    "        print(a[i][j], end=\" \")\n",
    "    print()\n",
    "\n",
    "# 10 12 14 16 \n",
    "# 11 15 19 23 \n",
    "# 13 20 27 29 "
   ]
  },
  {
   "cell_type": "markdown",
   "id": "dac6b7ac-a661-4422-8db6-a4b3200d866e",
   "metadata": {},
   "source": [
    "**9. Нахождение суммы строк или столбцов матрицы**"
   ]
  },
  {
   "cell_type": "markdown",
   "id": "6e0768ac-4b59-44e5-a807-ef4005195672",
   "metadata": {},
   "source": [
    "- **Как находить сумму по строкам**"
   ]
  },
  {
   "cell_type": "code",
   "execution_count": null,
   "id": "ea5108d1-dbcf-4648-9a53-0ad9da2400b5",
   "metadata": {},
   "outputs": [],
   "source": [
    "a = [\n",
    "    [0, 2, 4, 6],  \n",
    "    [1, 5, 9, 13],  \n",
    "    [3, 10, 17, 19]\n",
    "]\n",
    "\n",
    "for i in range(len(a)):  # Проход по строкам\n",
    "    row_sum = 0  # Обнуляем сумму перед новой строкой\n",
    "    for j in range(len(a[i])):  # Проход по столбцам\n",
    "        row_sum += a[i][j]  # Считаем сумму строки\n",
    "    print(f\"Сумма строки {i+1}: {row_sum}\")  # Выводим сумму строки\n",
    "\n",
    "# Сумма строки 1: 12\n",
    "# Сумма строки 2: 28\n",
    "# Сумма строки 3: 49"
   ]
  },
  {
   "cell_type": "markdown",
   "id": "fbf071fe-c3b8-4d58-a670-e392f984069e",
   "metadata": {},
   "source": [
    "- **Как находить сумму по столбцам**"
   ]
  },
  {
   "cell_type": "code",
   "execution_count": null,
   "id": "9a105256-d958-4596-9fc8-924ecd26eecc",
   "metadata": {},
   "outputs": [],
   "source": [
    "a = [\n",
    "    [0, 2, 4, 6],  \n",
    "    [1, 5, 9, 13],  \n",
    "    [3, 10, 17, 19]\n",
    "]\n",
    "\n",
    "num_rows = len(a)\n",
    "num_cols = len(a[0])  # Количество столбцов\n",
    "\n",
    "for j in range(num_cols):  # Проход по столбцам\n",
    "    col_sum = 0  # Обнуляем сумму перед новым столбцом\n",
    "    for i in range(num_rows):  # Проход по строкам\n",
    "        col_sum += a[i][j]  # Считаем сумму столбца\n",
    "    print(f\"Сумма столбца {j+1}: {col_sum}\")  # Выводим сумму столбца\n",
    "\n",
    "# Сумма столбца 1: 4\n",
    "# Сумма столбца 2: 17\n",
    "# Сумма столбца 3: 30\n",
    "# Сумма столбца 4: 38"
   ]
  },
  {
   "cell_type": "markdown",
   "id": "c78c6806-15b5-411f-a37b-3cf963c49e53",
   "metadata": {},
   "source": [
    "9. **Заполнение вложенного списка**"
   ]
  },
  {
   "cell_type": "code",
   "execution_count": null,
   "id": "bec96eac-d475-404c-bfe7-e00be670ae4f",
   "metadata": {},
   "outputs": [],
   "source": [
    "a = []  # Создаём пустой список\n",
    "n = int(input(\"Введите количество строк: \"))\n",
    "m = int(input(\"Введите количество столбцов: \"))\n",
    "\n",
    "for i in range(n):  \n",
    "    a.append([0] * m)  # Добавляем список с m нулями\n",
    "\n",
    "# Выводим матрицу построчно\n",
    "for row in a:\n",
    "    print(row)\n",
    "\n",
    "# [0, 0, 0, 0, 0]\n",
    "# [0, 0, 0, 0, 0]\n",
    "# [0, 0, 0, 0, 0]\n",
    "# [0, 0, 0, 0, 0]"
   ]
  },
  {
   "cell_type": "markdown",
   "id": "4dd049b3-e0c2-4d1a-bdbd-5a32c5804cdf",
   "metadata": {},
   "source": [
    "**10. Заполнение матрицы значениями с клавиатуры**"
   ]
  },
  {
   "cell_type": "code",
   "execution_count": null,
   "id": "e8b8a8ee-5b2e-4b0a-a70a-5e930573b36f",
   "metadata": {},
   "outputs": [],
   "source": [
    "a = []\n",
    "n = int(input(\"Введите количество строк: \"))\n",
    "m = int(input(\"Введите количество столбцов: \"))\n",
    "\n",
    "for i in range(n):\n",
    "    row = []  # Создаем пустой список для строки\n",
    "    for j in range(m):\n",
    "        value = int(input(f\"Введите элемент [{i}][{j}]: \"))  # Вводим элемент\n",
    "        row.append(value)\n",
    "    a.append(row)  # Добавляем строку в матрицу\n",
    "\n",
    "# Выводим матрицу\n",
    "for row in a:\n",
    "    print(row)\n",
    "\n",
    "# [10, 5, 7]\n",
    "# [4, 5, 9]"
   ]
  },
  {
   "cell_type": "markdown",
   "id": "c03d8c6b-7f2d-4d88-8332-bbecdf45b9f1",
   "metadata": {},
   "source": [
    "Если ввести следующие данные:"
   ]
  },
  {
   "cell_type": "code",
   "execution_count": null,
   "id": "2ce04a50-b270-4982-96c4-2b6ae0f28119",
   "metadata": {},
   "outputs": [],
   "source": [
    "Введите количество строк: 2\n",
    "Введите количество столбцов: 3\n",
    "Введите элемент [0][0]: 10\n",
    "Введите элемент [0][1]: 5\n",
    "Введите элемент [0][2]: 7\n",
    "Введите элемент [1][0]: 4\n",
    "Введите элемент [1][1]: 5\n",
    "Введите элемент [1][2]: 9"
   ]
  },
  {
   "cell_type": "markdown",
   "id": "4ac3429e-31fd-4fc1-b299-841afecfa240",
   "metadata": {},
   "source": [
    "**11. Как организовать считывание данных в матрицу**"
   ]
  },
  {
   "cell_type": "code",
   "execution_count": null,
   "id": "ce9257d6-f93e-4ca0-b747-78fd9f6acfa2",
   "metadata": {},
   "outputs": [],
   "source": [
    "matrix = []\n",
    "n = int(input())  # количество строк в матрице\n",
    "for i in range(n):  # Организуем цикл в n повторений\n",
    "    row = list(map(int, input().split()))  # Считываем строку и преобразуем в список\n",
    "    matrix.append(row)  # Добавляем в матрицу\n",
    "\n",
    "print(matrix)\n",
    "\n",
    "# [[1, 2, 3], [4, 5, 6], [7, 8, 9]]"
   ]
  },
  {
   "cell_type": "code",
   "execution_count": null,
   "id": "fd283620-9a22-48cb-816f-fb86f8e11ddd",
   "metadata": {},
   "outputs": [],
   "source": [
    "matrix = [list(map(int, input().split())) for i in range(n)]"
   ]
  },
  {
   "cell_type": "markdown",
   "id": "7509af41-a0b9-41e5-9342-5c9fe8b2c3fe",
   "metadata": {},
   "source": [
    "**12. Квадратная матрица n x n**"
   ]
  },
  {
   "cell_type": "markdown",
   "id": "95dccf81-d76c-46f6-8e48-7348522d6651",
   "metadata": {},
   "source": [
    "У этой таблицы элементы главной диагонали (номер строки) i== j (номер столбца). Эта диагональ делить матрицу на два треугольника: \n",
    "выше и ниже главной диагонали.\n",
    "\n",
    "Выше: i < j\n",
    "\n",
    "Ниже: i > j"
   ]
  },
  {
   "cell_type": "code",
   "execution_count": null,
   "id": "331b9b8f-a36d-4420-93d7-6b9aba914108",
   "metadata": {},
   "outputs": [],
   "source": [
    "a = []\n",
    "n = int(input()) # stroka\n",
    "\n",
    "for i in range(n): # Цикл для заполнения таблицы\n",
    "    a.append([0]*n)\n",
    "\n",
    "    \n",
    "for i in range(n): # Цикл для обработки\n",
    "    for j in range(n):\n",
    "        if i == j:\n",
    "            a[i][j]=10\n",
    "        elif i>j:\n",
    "            a[i][j]=3\n",
    "        else:\n",
    "            a[i][j]=5\n",
    "for i in a:          # Цикл для вывода\n",
    "    print(i)\n",
    "\n",
    "# [10, 5, 5, 5]\n",
    "# [3, 10, 5, 5]\n",
    "# [3, 3, 10, 5]\n",
    "# [3, 3, 3, 10]"
   ]
  },
  {
   "cell_type": "markdown",
   "id": "cd1c191f-6f72-4b4b-8f56-5236c7709358",
   "metadata": {},
   "source": [
    "**18. Пример: заполнение квадратной матрицы**"
   ]
  },
  {
   "cell_type": "markdown",
   "id": "e1058a63-0ea0-4826-89fa-be1b40a792dc",
   "metadata": {},
   "source": [
    "Необходимо создать матрицу размером n × n, в которой:\n",
    "\n",
    "      ●  элементы главной диагонали должны заполниться значением 10;\n",
    "\n",
    "      ●  элементы ниже главной диагонали должны заполниться значением 3;\n",
    "\n",
    "      ●  элементы выше главной диагонали должны заполниться значением 5"
   ]
  },
  {
   "cell_type": "code",
   "execution_count": null,
   "id": "113828a1-d129-4295-9339-2f5a52b09674",
   "metadata": {},
   "outputs": [],
   "source": [
    "n = int(input('Введите размер квадратной матрицы: '))\n",
    "\n",
    "a = []\n",
    "for i in range(n):\n",
    "    a.append([0] * n)  # Создаем строку из n элементов\n",
    "\n",
    "for i in range(n):\n",
    "    for j in range(n):\n",
    "        if i == j:\n",
    "            a[i][j] = 10  # Главная диагональ\n",
    "        elif i > j:\n",
    "            a[i][j] = 3   # Нижний левый треугольник\n",
    "        else:\n",
    "            a[i][j] = 5   # Верхний правый треугольник\n",
    "\n",
    "# Вывод матрицы\n",
    "for row in a:\n",
    "    print(row)\n",
    "\n",
    "# Введите размер квадратной матрицы: 6\n",
    "# [10, 5, 5, 5, 5, 5]\n",
    "# [3, 10, 5, 5, 5, 5]\n",
    "# [3, 3, 10, 5, 5, 5]\n",
    "# [3, 3, 3, 10, 5, 5]\n",
    "# [3, 3, 3, 3, 10, 5]\n",
    "# [3, 3, 3, 3, 3, 10]"
   ]
  },
  {
   "cell_type": "markdown",
   "id": "82a09aa9-8182-4a92-a7bb-0139e9ff5f7e",
   "metadata": {},
   "source": [
    "![](images/matric4.png)"
   ]
  },
  {
   "cell_type": "markdown",
   "id": "9eac87e7-ea33-4ea3-8009-9da9743d0fdf",
   "metadata": {},
   "source": [
    "**13. Как обойти квадратную матрицу по главной диагонали**"
   ]
  },
  {
   "cell_type": "markdown",
   "id": "4ff154d4-38c6-4289-b4c7-20dd2fe40c9b",
   "metadata": {},
   "source": [
    "- **Способ**"
   ]
  },
  {
   "cell_type": "code",
   "execution_count": null,
   "id": "22c6c735-9aa1-42e0-8d81-13373168bded",
   "metadata": {},
   "outputs": [],
   "source": [
    "matrix = [\n",
    "    [1,  2,  3,  4,  5],\n",
    "    [6,  7,  8,  9, 10],\n",
    "    [11, 12, 13, 14, 15],\n",
    "    [16, 17, 18, 19, 20],\n",
    "    [21, 22, 23, 24, 25]\n",
    "]\n",
    "\n",
    "n = 5 # размерность матрицы\n",
    "for i in range(n):\n",
    "    for j in range(n):\n",
    "        if i == j:\n",
    "            print(matrix[i][j])"
   ]
  },
  {
   "cell_type": "markdown",
   "id": "7b4742e8-73a5-4ad5-9475-a053b01e1ca1",
   "metadata": {},
   "source": [
    "- **Способ**"
   ]
  },
  {
   "cell_type": "code",
   "execution_count": null,
   "id": "f4e6ad39-9f72-4aaf-9e9e-5cc946d9f257",
   "metadata": {},
   "outputs": [],
   "source": [
    "matrix = [\n",
    "    [1, 2, 3, 4, 5],\n",
    "    [6, 7, 8, 9, 10],\n",
    "    [11, 12, 13, 14, 15],\n",
    "    [16, 17, 18, 19, 20],\n",
    "    [21, 22, 23, 24, 25]\n",
    "]\n",
    "\n",
    "n = 5 # размерность матрицы\n",
    "for i in range(n):\n",
    "    print(matrix[i][i])"
   ]
  },
  {
   "cell_type": "markdown",
   "id": "f8f89c07-347b-4ad1-b273-efb14010f4aa",
   "metadata": {},
   "source": [
    "- **Способ**"
   ]
  },
  {
   "cell_type": "code",
   "execution_count": null,
   "id": "8a6f0f32-e6e3-4737-90a3-36e2375d5ba6",
   "metadata": {},
   "outputs": [],
   "source": [
    "matrix = [\n",
    "    [1, 2, 3, 4, 5],\n",
    "    [6, 7, 8, 9, 10],\n",
    "    [11, 12, 13, 14, 15],\n",
    "    [16, 17, 18, 19, 20],\n",
    "    [21, 22, 23, 24, 25]\n",
    "]\n",
    "\n",
    "n = 5  # размерность матрицы\n",
    "main_diagonal = [matrix[i][i] for i in range(n)]\n",
    "\n",
    "print(main_diagonal)  # [1, 7, 13, 19, 25]"
   ]
  },
  {
   "cell_type": "markdown",
   "id": "374ead57-5bb6-410b-8150-0344fd67a13d",
   "metadata": {},
   "source": [
    "14. **Побочная диагональ**"
   ]
  },
  {
   "cell_type": "markdown",
   "id": "911d1c51-2399-4f08-a9ae-fa8b0999f9f8",
   "metadata": {},
   "source": [
    "![](images/matric5.png)"
   ]
  },
  {
   "cell_type": "markdown",
   "id": "c89c6e27-68d5-4db1-a89f-ae7a2d40a5a3",
   "metadata": {},
   "source": [
    "У элемента, располагающегося на побочной диагонали, сумма номера строки с номером столбца всегда дадут на единицу меньше, чем размерность матрицы.\n",
    "Если взять произвольный элемент матрицы a[i][j], находящийся на побочной диагонали, то для него будет выполняться равенство\n",
    "\n",
    "<div style=\"font-size: 20px; font-weight: bold; text-align: center; color: black;\">\n",
    "  $$ i+j == n−1 $$\n",
    "</div>\n"
   ]
  },
  {
   "cell_type": "markdown",
   "id": "4b151df4-06f7-4948-b721-e2df220de457",
   "metadata": {},
   "source": [
    "**16. Как обойти только элементы на побочной диагонали**"
   ]
  },
  {
   "cell_type": "code",
   "execution_count": null,
   "id": "f34c11fd-109b-4f79-8fa1-f65dbd4dfb58",
   "metadata": {},
   "outputs": [],
   "source": [
    "matrix = [\n",
    "    [1, 2, 3, 4, 5],\n",
    "    [6, 7, 8, 9, 10],\n",
    "    [11, 12, 13, 14, 15],\n",
    "    [16, 17, 18, 19, 20],\n",
    "    [21, 22, 23, 24, 25]\n",
    "]\n",
    "\n",
    "n = 5  # размерность матрицы\n",
    "secondary_diagonal = [matrix[i][n - i - 1] for i in range(n)]\n",
    "\n",
    "print(secondary_diagonal)  # [5, 9, 13, 17, 21]"
   ]
  },
  {
   "cell_type": "markdown",
   "id": "3653084a-0808-4aab-a0d9-591f3496dce4",
   "metadata": {},
   "source": [
    "**17. Треугольники побочной диагонали**"
   ]
  },
  {
   "cell_type": "markdown",
   "id": "782aa72d-955d-4ee6-a110-5720b5e92717",
   "metadata": {},
   "source": [
    "Для определения принадлежности элемента нужно использовать равенство побочной диагонали:\n",
    "<div style=\"font-size: 20px; font-weight: bold; text-align: center; color: black;\">\n",
    "  $$ i+j==n−1 $$\n",
    "</div>\n",
    "Когда выполняется равенство i+j==n−1, значит, элемент располагается на самой побочной диагонали.\n",
    "\n",
    "Если же сумма индексов превышает n-1 и, следовательно, выполняется неравенство \n",
    "<div style=\"font-size: 20px; font-weight: bold; text-align: center; color: black;\">\n",
    "  $$ i+j>n−1 $$\n",
    "</div>\n",
    "то, значит, элемент расположен ниже побочной диагонали.\n",
    "\n",
    "Если же сумма индексов меньше n-1 и, следовательно, выполняется неравенство\n",
    "<div style=\"font-size: 20px; font-weight: bold; text-align: center; color: black;\">\n",
    "  $$ i+j<n−1 $$\n",
    "</div>\n",
    "то, значит, элемент расположен выше побочной диагонали."
   ]
  },
  {
   "cell_type": "markdown",
   "id": "b527d562-bb9d-4a1e-b3f0-695c92a2f440",
   "metadata": {},
   "source": [
    "- **Пример: заполнение матрицы с побочной диагональю**"
   ]
  },
  {
   "cell_type": "code",
   "execution_count": null,
   "id": "faa9d019-e0e7-47f6-a19e-b7f1afce4e66",
   "metadata": {},
   "outputs": [],
   "source": [
    "n = int(input('Введите размер квадратной матрицы: '))\n",
    "\n",
    "a = []\n",
    "for i in range(n):\n",
    "    a.append([0] * n)  # Создаем строку из n элементов\n",
    "\n",
    "for i in range(n):\n",
    "    for j in range(n):\n",
    "        if i + j == n - 1:\n",
    "            a[i][j] = 10  # Побочная диагональ\n",
    "        elif i + j < n - 1:\n",
    "            a[i][j] = 7  # Верхний левый треугольник\n",
    "        else:\n",
    "            a[i][j] = 1  # Нижний правый треугольник\n",
    "\n",
    "# Вывод матрицы\n",
    "for row in a:\n",
    "    print(row)"
   ]
  },
  {
   "cell_type": "markdown",
   "id": "3522faf2-cd83-4025-8c24-7a1a99d0ad1f",
   "metadata": {},
   "source": [
    "**18. Обе диагонали могут разделить матрицу на несколько секторов**"
   ]
  },
  {
   "cell_type": "markdown",
   "id": "7b2bdf98-c6de-419a-98d5-7db354916533",
   "metadata": {},
   "source": [
    "![](images/matric6.png)"
   ]
  },
  {
   "cell_type": "markdown",
   "id": "82541a0e-a43b-48ab-bfa6-1533005a9c61",
   "metadata": {},
   "source": [
    "К примеру, зеленым цветом выделены элементы, которые находятся выше главной диагонали, но ниже побочной. Следовательно, для этих элементов будут одновременно выполняться два условия:\n",
    "\n",
    "<div style=\"font-size: 20px; font-weight: bold; text-align: center; color: black;\">\n",
    "  $$ i<j $$\n",
    "</div>\n",
    "$$      \n",
    "и\n",
    "$$\n",
    "<div style=\"font-size: 20px; font-weight: bold; text-align: center; color: black;\">\n",
    "  $$ i+j>n−1 $$\n",
    "</div>          \n"
   ]
  },
  {
   "cell_type": "code",
   "execution_count": null,
   "id": "7aa30cd9-f902-48e6-a87d-62136da00d76",
   "metadata": {},
   "outputs": [],
   "source": [
    "n = int(input('Введите размер квадратной матрицы: '))\n",
    "\n",
    "a = []\n",
    "for i in range(n):\n",
    "    a.append([0] * n)  # Создаем строку из n элементов\n",
    "\n",
    "for i in range(n):\n",
    "    for j in range(n):\n",
    "        if i < j and i + j > n - 1:\n",
    "            a[i][j] = 9  # Главная диагональ\n",
    "\n",
    "# Вывод матрицы\n",
    "for row in a:\n",
    "    print(row)\n",
    "\n",
    "# Введите размер квадратной матрицы: 5\n",
    "# [0, 0, 0, 0, 0]\n",
    "# [0, 0, 0, 0, 9]\n",
    "# [0, 0, 0, 9, 9]\n",
    "# [0, 0, 0, 0, 9]\n",
    "# [0, 0, 0, 0, 0]"
   ]
  },
  {
   "cell_type": "markdown",
   "id": "f7aa0744-0299-4d28-b11b-63ba230acee6",
   "metadata": {},
   "source": [
    "![](images/matric7.png)"
   ]
  },
  {
   "cell_type": "markdown",
   "id": "dda8ace2-f58b-407b-bc34-af6b102b8422",
   "metadata": {},
   "source": [
    "8. Функция len()"
   ]
  },
  {
   "cell_type": "code",
   "execution_count": null,
   "id": "2793b187-8365-42d3-9633-1c4e1e8846a6",
   "metadata": {},
   "outputs": [],
   "source": [
    "nested = [[1, 2], [3, 4, 5], [6]]\n",
    "print(len(nested))  # 3 (количество вложенных списков)"
   ]
  },
  {
   "cell_type": "code",
   "execution_count": null,
   "id": "ed74569c-271a-44d4-b730-d36f21c43676",
   "metadata": {},
   "outputs": [],
   "source": [
    "nested = [[1, 2], [3, 4, 5], [6]]\n",
    "print(len(nested[0]))  # 2\n",
    "print(len(nested[1]))  # 3\n",
    "print(len(nested[2]))  # 1"
   ]
  },
  {
   "cell_type": "code",
   "execution_count": null,
   "id": "0f62e374-9956-4d93-acb4-6c9630083a96",
   "metadata": {},
   "outputs": [],
   "source": [
    "nested = [[1, 2], [3, 4, 5], [6]]\n",
    "count = 0\n",
    "for sublist in nested:\n",
    "    count += len(sublist)\n",
    "print(count) # 6"
   ]
  },
  {
   "cell_type": "markdown",
   "id": "3468807c-0453-4512-bf26-1c6084abb6c5",
   "metadata": {},
   "source": [
    "9. Функция min и max"
   ]
  },
  {
   "cell_type": "markdown",
   "id": "431dcc4e-dc06-4214-b598-66ddea210699",
   "metadata": {},
   "source": [
    "- сравнение списков целиком"
   ]
  },
  {
   "cell_type": "code",
   "execution_count": null,
   "id": "6133929a-4d96-429a-9021-fd5605f37bc0",
   "metadata": {},
   "outputs": [],
   "source": [
    "nested = [\n",
    "    [5, 10, 20],\n",
    "    [5, 10, 15, 20, 25],\n",
    "    [10, 1, 0, 0]\n",
    "]\n",
    "print(min(nested))  # [5, 10, 15, 20, 25]\n",
    "print(max(nested))  # [10, 1, 0, 0]"
   ]
  },
  {
   "cell_type": "code",
   "execution_count": null,
   "id": "62089ace-07e0-4519-9053-3ba281755e26",
   "metadata": {},
   "outputs": [],
   "source": [
    "lst_1 = [5, 10, 20]\n",
    "lst_2 = [5, 10, 15, 20, 25]\n",
    "lst_3 = [10, 1, 0, 0]\n",
    "\n",
    "print(min(lst_1, lst_2, lst_3))  # [5, 10, 15, 20, 25]\n",
    "print(max(lst_1, lst_2, lst_3))  # [10, 1, 0, 0]\n",
    "print(max(lst_1, lst_2))  # [5, 10, 20]\n",
    "print(min(lst_1, lst_2))  # [5, 10, 15, 20, 25]"
   ]
  },
  {
   "cell_type": "markdown",
   "id": "724fec1b-f2fe-4135-a606-1b01ed668042",
   "metadata": {},
   "source": [
    "- поиск минимального или максимального элемента"
   ]
  },
  {
   "cell_type": "code",
   "execution_count": null,
   "id": "87fb4be3-d066-4c88-b42c-c9a7cb3cfcfe",
   "metadata": {},
   "outputs": [],
   "source": [
    "nested = [\n",
    "    [5, 10, 20],\n",
    "    [5, 10, 15, 20, 25],\n",
    "    [10, 1, 0, 0]\n",
    "]\n",
    "print(max(nested[1]))  # 25\n",
    "print(min(nested[2]))  # 0"
   ]
  },
  {
   "cell_type": "code",
   "execution_count": null,
   "id": "5d8aaa13-d920-41df-933f-a6ab01fd953c",
   "metadata": {},
   "outputs": [],
   "source": [
    "nested = [\n",
    "    [5, 10, 20],\n",
    "    [5, 10, 15, 20, 25],\n",
    "    [10, 1, 100, 0]\n",
    "]\n",
    "\n",
    "maximum = -1\n",
    "for sublist in nested:\n",
    "    if max(sublist) > maximum:\n",
    "        maximum = max(sublist)\n",
    "\n",
    "print(maximum)  # 100"
   ]
  },
  {
   "cell_type": "code",
   "execution_count": null,
   "id": "c17e065a-657f-4bf3-9060-e6a5b3ecf8cd",
   "metadata": {},
   "outputs": [],
   "source": [
    "nested = [\n",
    "    [5, 10, 20],\n",
    "    [5, 10, 15, 20, 25],\n",
    "    [10, 1, 100, 0]\n",
    "]\n",
    "\n",
    "maximums = []\n",
    "for sublist in nested:\n",
    "    maximums.append(max(sublist))\n",
    "\n",
    "print(maximums)  # [20, 25, 100]\n",
    "print(max(maximums))  # 100"
   ]
  },
  {
   "cell_type": "markdown",
   "id": "e209c7f1-9256-45b0-ac00-acfdf9f4567e",
   "metadata": {},
   "source": [
    "10. Функция sum()"
   ]
  },
  {
   "cell_type": "code",
   "execution_count": null,
   "id": "4c3a0e35-b267-446a-80eb-31a88ff800a5",
   "metadata": {},
   "outputs": [],
   "source": [
    "nested = [\n",
    "    [5, 10, 20],\n",
    "    [5, 10, 15, 20, 25],\n",
    "    [10, 1, 100, 0]\n",
    "]\n",
    "\n",
    "print(sum(nested[0]))  # 35\n",
    "print(sum(nested[1]))  # 75"
   ]
  },
  {
   "cell_type": "code",
   "execution_count": null,
   "id": "17726f39-b241-41b0-bcfb-e7a9b32bb1bf",
   "metadata": {},
   "outputs": [],
   "source": [
    "nested = [\n",
    "    [5, 10, 20],\n",
    "    [5, 10, 15, 20, 25],\n",
    "    [10, 1, 100, 0]\n",
    "]\n",
    "\n",
    "total = 0\n",
    "for sublist in nested:\n",
    "    total += sum(sublist)\n",
    "\n",
    "print(total)  # 221\n"
   ]
  },
  {
   "cell_type": "code",
   "execution_count": null,
   "id": "588c2bae-6cf7-4459-8fee-d0975fa8cfca",
   "metadata": {},
   "outputs": [],
   "source": []
  },
  {
   "cell_type": "markdown",
   "id": "281598f1-1238-4361-bccc-2ab854858623",
   "metadata": {},
   "source": [
    "## Вложенные генераторы списков."
   ]
  },
  {
   "cell_type": "markdown",
   "id": "b2b34fac-f8e1-4c3e-9ac3-3fb9e186e858",
   "metadata": {},
   "source": [
    "Порядок вложения циклов в генераторе списка соответствует их расположению слева направо. \n",
    "То есть, самый левый цикл является внешним, а последующие — внутренними."
   ]
  },
  {
   "cell_type": "markdown",
   "id": "ca32b22b-1a81-4e70-b7d5-48de229a8fcc",
   "metadata": {},
   "source": [
    "1. Создание пар чисел"
   ]
  },
  {
   "cell_type": "code",
   "execution_count": null,
   "id": "17969e30-63c6-4a26-88b3-c4ab4ab752f9",
   "metadata": {},
   "outputs": [],
   "source": [
    "a = [(i, j) for i in range(3) for j in range(4)]\n",
    "print(a)\n",
    "# [(0, 0), (0, 1), (0, 2), (0, 3), (1, 0), ..., (2, 3)]"
   ]
  },
  {
   "cell_type": "markdown",
   "id": "2a016a52-575f-4808-bace-5122096ea54d",
   "metadata": {},
   "source": [
    "С условиями:"
   ]
  },
  {
   "cell_type": "code",
   "execution_count": null,
   "id": "d5ddcfd8-5bcb-4c4f-b0af-cf2f9c30f103",
   "metadata": {},
   "outputs": [],
   "source": [
    "a = [(i, j)\n",
    "     for i in range(3) if i % 3 == 0\n",
    "     for j in range(4) if j % 2 != 0]\n",
    "print(a)\n",
    "# [(0, 1), (0, 3)]"
   ]
  },
  {
   "cell_type": "markdown",
   "id": "2ca242e6-ca58-4726-917a-3bf310338549",
   "metadata": {},
   "source": [
    "2. Создание таблицы умножения"
   ]
  },
  {
   "cell_type": "code",
   "execution_count": null,
   "id": "76bc45ea-5636-4efe-9439-fcf3239224a5",
   "metadata": {},
   "outputs": [],
   "source": [
    "a = [f\"{i}*{j} = {i*j}\"\n",
    "     for i in range(1, 4)\n",
    "     for j in range(1, 4)]\n",
    "print(a)\n",
    "# ['1*1 = 1', '1*2 = 2', ..., '3*3 = 9']"
   ]
  },
  {
   "cell_type": "markdown",
   "id": "f3f538ff-d046-424e-99ff-c58715a925f2",
   "metadata": {},
   "source": [
    "3. Преобразование двумерного списка в одномерный"
   ]
  },
  {
   "cell_type": "code",
   "execution_count": null,
   "id": "e6873b3c-0503-42bf-a59c-1963a9dcbc93",
   "metadata": {},
   "outputs": [],
   "source": [
    "matrix = [[0, 1, 2, 3],\n",
    "          [10, 11, 12, 13],\n",
    "          [20, 21, 22, 23]]\n",
    "\n",
    "a = [x for row in matrix for x in row]\n",
    "print(a)\n",
    "# [0, 1, 2, 3, 10, 11, 12, 13, 20, 21, 22, 23]"
   ]
  },
  {
   "cell_type": "markdown",
   "id": "36a1d01b-25c3-4647-87ca-138da0e076d5",
   "metadata": {},
   "source": [
    "4. Создание двумерного списка"
   ]
  },
  {
   "cell_type": "code",
   "execution_count": null,
   "id": "1a8c5f58-ba2e-471c-bf81-33d2f99c9535",
   "metadata": {},
   "outputs": [],
   "source": [
    "M, N = 3, 4\n",
    "matrix = [[a for a in range(M)] for _ in range(N)]\n",
    "print(matrix)\n",
    "# [[0, 1, 2], [0, 1, 2], [0, 1, 2], [0, 1, 2]]"
   ]
  },
  {
   "cell_type": "markdown",
   "id": "a88230ea-eee4-494f-85a2-bd85eb474f3e",
   "metadata": {},
   "source": [
    "5. Возведение всех элементов матрицы в квадрат"
   ]
  },
  {
   "cell_type": "code",
   "execution_count": null,
   "id": "8b4f7d2f-83d1-4b14-83da-7413a2a7b96a",
   "metadata": {},
   "outputs": [],
   "source": [
    "A = [[1, 2, 3],\n",
    "     [4, 5, 6],\n",
    "     [7, 8, 9]]\n",
    "\n",
    "A_squared = [[x ** 2 for x in row] for row in A]\n",
    "print(A_squared)\n",
    "# [[1, 4, 9], [16, 25, 36], [49, 64, 81]]"
   ]
  },
  {
   "cell_type": "markdown",
   "id": "b1c59552-e580-431c-9a8f-ad9c92e9b098",
   "metadata": {},
   "source": [
    "6. Транспонирование матрицы"
   ]
  },
  {
   "cell_type": "code",
   "execution_count": null,
   "id": "31c05343-7184-4f16-8df7-bbaee651337b",
   "metadata": {},
   "outputs": [],
   "source": [
    "A = [[1, 2, 3, 4],\n",
    "     [5, 6, 7, 8],\n",
    "     [9, 10, 11, 12]]\n",
    "\n",
    "A_transposed = [[row[i] for row in A] for i in range(len(A[0]))]\n",
    "print(A_transposed)\n",
    "# [[1, 5, 9], [2, 6, 10], [3, 7, 11], [4, 8, 12]]"
   ]
  },
  {
   "cell_type": "code",
   "execution_count": null,
   "id": "f5f09c29-f785-4622-bc10-325ab2be9ef1",
   "metadata": {},
   "outputs": [],
   "source": [
    "Плоский Список.\n",
    "Если вам нужен плоский список, используйте один генератор с несколькими циклами for:"
   ]
  },
  {
   "cell_type": "code",
   "execution_count": null,
   "id": "419ed264-8b36-4206-acea-2f5d30710669",
   "metadata": {},
   "outputs": [],
   "source": [
    "filtered_flat_list = [j for i in str1 for j in i if len(j) > 3]"
   ]
  },
  {
   "cell_type": "code",
   "execution_count": null,
   "id": "e8b9df97-c0dd-417a-b7f4-e682321dfc20",
   "metadata": {},
   "outputs": [],
   "source": [
    "Вложенные Списки\n",
    "Если вам нужно сохранить структуру вложенных списков, используйте вложенный генератор списков:"
   ]
  },
  {
   "cell_type": "code",
   "execution_count": null,
   "id": "439efd7f-ad64-4aa9-8105-83e702f95e42",
   "metadata": {},
   "outputs": [],
   "source": [
    "filtered_str1 = [[j for j in sublist if len(j) > 3] for sublist in str1]"
   ]
  },
  {
   "cell_type": "code",
   "execution_count": null,
   "id": "95fccb9e-0e84-42b2-979c-6adfb860c6cd",
   "metadata": {},
   "outputs": [],
   "source": [
    "Объяснение:\n",
    "\n",
    "Внешний генератор: for sublist in str1 — проходит по каждому вложенному списку.\n",
    "Внутренний генератор: for j in sublist if len(j) > 3 — фильтрует элементы внутри каждого вложенного списка.\n",
    "j — элемент, который добавляется в новый вложенный список.\n",
    "Внешний список [] оборачивает весь внутренний генератор, создавая вложенную структуру."
   ]
  },
  {
   "cell_type": "code",
   "execution_count": null,
   "id": "1c9b78b1-64d4-428d-a949-0a2089e2c4a9",
   "metadata": {},
   "outputs": [],
   "source": [
    "Преобразовать двумерный список lst_in в одномерный так, чтобы значения элементов шли в обратном порядке.\n",
    "23."
   ]
  },
  {
   "cell_type": "code",
   "execution_count": null,
   "id": "bf084cb6-499a-4444-beff-dbd80aaa9879",
   "metadata": {},
   "outputs": [],
   "source": [
    "lst_in = [lst_in[j][i] for j in range(len(lst_in)-1, -1, -1) for i in range(len(lst_in[j])-1, -1, -1)]"
   ]
  },
  {
   "cell_type": "code",
   "execution_count": null,
   "id": "b896a599-a220-4fbc-90e7-7064120c5e7f",
   "metadata": {},
   "outputs": [],
   "source": [
    "lst = [j for i in lst_in[::-1] for j in i[::-1]]"
   ]
  },
  {
   "cell_type": "markdown",
   "id": "fadf2c62-42df-4419-a267-47aad46415c3",
   "metadata": {},
   "source": []
  },
  {
   "cell_type": "markdown",
   "id": "ce905886-9f52-42fe-906d-6683e7f9ee98",
   "metadata": {},
   "source": [
    "# Тип NoneType и значение None"
   ]
  },
  {
   "cell_type": "markdown",
   "id": "d7170d11-b0b1-4214-8619-2d8acde28486",
   "metadata": {},
   "source": [
    "None является синглтоном, то есть это одноэлементный объект класса NoneType.\n",
    "None можно сравнивать с None с помощью двух операторов:\n",
    "\n",
    "   ✔️  оператор == — сравнивает объекты по значению;\n",
    "\n",
    "   ✔️  оператор is — сравнивает объекты по адресам в памяти, то есть их идентификаторы (id)."
   ]
  },
  {
   "cell_type": "code",
   "execution_count": null,
   "id": "c19daeb5-7776-4cda-b27e-07038ea0a66e",
   "metadata": {},
   "outputs": [],
   "source": [
    "c = None\n",
    "d = None\n",
    "print(id(c), id(d))  # Одинаковые id, так как это один и тот же объект\n",
    "print(c == d)        # True, значения равны\n",
    "print(c is d)        # True, это один и тот же объект в памяти"
   ]
  },
  {
   "cell_type": "code",
   "execution_count": null,
   "id": "f7b4b3b2-ec2f-4825-acfd-bc39470e0d17",
   "metadata": {},
   "outputs": [],
   "source": [
    "print(None != None)       # False: значения равны\n",
    "print(None is not None)   # False: это тот же объект"
   ]
  },
  {
   "cell_type": "markdown",
   "id": "1f9c190c-57d8-48e6-8c45-6f173e9507c5",
   "metadata": {},
   "source": [
    "Важно запомнить:\n",
    "\n",
    "     ❌  None не равен числу 0 или 0.0;\n",
    "\n",
    "     ❌  None не эквивалентен значению False;\n",
    "\n",
    "     ❌  None не является пустой строкой ('');\n",
    "\n",
    "     ❌  None не является пустым списком или любым другим значением.\n",
    "\n",
    "None — это уникальный объект, который представляет отсутствие значения. Его нельзя путать с другими \"пустыми\" или \"нулевыми\" значениями."
   ]
  },
  {
   "cell_type": "markdown",
   "id": "e6df9b58-13e8-499f-9973-dbd693f8f04e",
   "metadata": {},
   "source": [
    "# Словари"
   ]
  },
  {
   "cell_type": "markdown",
   "id": "663ee24c-c023-4460-bf56-65f740b0e0ac",
   "metadata": {},
   "source": [
    "Словарь («dictionary», ассоциативный спискок) - это неупорядоченная совокупность произвольных объектов с доступом по ключу. "
   ]
  },
  {
   "cell_type": "markdown",
   "id": "562a075f-a249-4969-a055-589236cdd183",
   "metadata": {},
   "source": [
    "Неизменяемые объекты, которые могут быть ключами словаря:\n",
    "\n",
    " ✅    Целые числа (int) и вещественные числа (float)\n",
    "\n",
    "    ✅    Строки (str)\n",
    "\n",
    "    ✅    None\n",
    "\n",
    "    ✅    Кортежи (tuple)\n",
    "\n",
    "    ✅    Неизменяемые множества (frozenset)"
   ]
  },
  {
   "cell_type": "markdown",
   "id": "e396ba30-dd9a-46ea-a735-8efd1663a081",
   "metadata": {},
   "source": [
    "Пример словаря с корректными ключами:"
   ]
  },
  {
   "cell_type": "code",
   "execution_count": null,
   "id": "52103085-5898-44e2-b36f-6d5805565d8c",
   "metadata": {},
   "outputs": [],
   "source": [
    "d = {\n",
    "    1: 'целое число',\n",
    "    3.14: 'вещественное число',\n",
    "    'key': 'строка',\n",
    "    (1, 2): 'кортеж',\n",
    "    None: 'значение None'\n",
    "}\n",
    "print(d)"
   ]
  },
  {
   "cell_type": "markdown",
   "id": "418b2d5f-23ab-4872-9249-f7cb4a8f6dc1",
   "metadata": {
    "editable": true,
    "slideshow": {
     "slide_type": ""
    },
    "tags": []
   },
   "source": [
    "## Создание словаря:"
   ]
  },
  {
   "cell_type": "markdown",
   "id": "55388622-5d15-4b84-8b9a-efb57c37bd29",
   "metadata": {},
   "source": [
    "### 1. C помощью фигурных скобок (частый способ)"
   ]
  },
  {
   "cell_type": "code",
   "execution_count": null,
   "id": "4d7b1894-29c8-4ef7-b1d4-8458f8fbd381",
   "metadata": {},
   "outputs": [],
   "source": [
    "city_codes = {\n",
    "    'moscow': 495,\n",
    "    'saint petersburg': 812,\n",
    "    'penza': 8412\n",
    "}\n",
    "\n",
    "print(city_codes)       # {'moscow': 495, 'saint petersburg': 812, 'penza': 8412}\n",
    "print(type(city_codes)) # <class 'dict'>"
   ]
  },
  {
   "cell_type": "markdown",
   "id": "ee3987ca-b010-41f0-89b7-d1470ae7c4e5",
   "metadata": {},
   "source": [
    "### 2. Через функцию dict() \n",
    "Только для строковых ключей!!!"
   ]
  },
  {
   "cell_type": "code",
   "execution_count": null,
   "id": "c9f833d3-f888-491d-aed7-9c3857c17f0e",
   "metadata": {},
   "outputs": [],
   "source": [
    "country_capitals = dict(\n",
    "     Germany=\"Berlin\",\n",
    "     France=\"Paris\", \n",
    "     United_Kingdom=\"London\"\n",
    ")\n",
    "\n",
    "# Или\n",
    "country_capitals = {\n",
    "     \"Germany\": \"Berlin\",\n",
    "     \"France\": \"Paris\",\n",
    "     \"United Kingdom\": \"London\"\n",
    "}\n",
    "\n",
    "# Или\n",
    "country_capitals = dict([\n",
    "     (\"Germany\", \"Berlin\"),\n",
    "     (\"France\", \"Paris\"),\n",
    "     (\"United Kingdom\", \"London\")\n",
    "])"
   ]
  },
  {
   "cell_type": "markdown",
   "id": "d508b015-3b03-491a-8167-56435c13a50a",
   "metadata": {},
   "source": [
    "### 3. Создание словаря из списка пар(списки, кортежи)"
   ]
  },
  {
   "cell_type": "code",
   "execution_count": null,
   "id": "c7dd0b6d-704d-431c-b2d8-4a1d89499a2c",
   "metadata": {},
   "outputs": [],
   "source": [
    "values = [['moscow', 495], ('ufa', 3472), ['saint petersburg', 812], ['penza', 8412]]\n",
    "city_codes = dict(values)\n",
    "\n",
    "print(city_codes)       # {'moscow': 495, 'saint petersburg': 812, 'penza': 8412}\n",
    "print(type(city_codes)) # <class 'dict'>\n",
    "\n",
    "\n",
    "lst = dict([[2, \"неудовлетворительно\"], [3, \"удовлетворительно\"], [4, \"хорошо\"], [5, \"отлично\"]])\n",
    "print(lst) # {2: 'неудовлетворительно', 3: 'удовлетворительно', 4: 'хорошо', 5: 'отлично'}"
   ]
  },
  {
   "cell_type": "markdown",
   "id": "916005a0-aac0-4719-a206-1b5de14cbc87",
   "metadata": {},
   "source": [
    "### 4. Создание пустого словаря"
   ]
  },
  {
   "cell_type": "code",
   "execution_count": null,
   "id": "c1c462b1-5ca2-4abd-bce9-98f7b7b13b7f",
   "metadata": {},
   "outputs": [],
   "source": [
    "empty_dict = {}\n",
    "print(empty_dict)  # {}\n",
    "print(type(empty_dict))  # <class 'dict'>"
   ]
  },
  {
   "cell_type": "code",
   "execution_count": null,
   "id": "e14b7dd2-9544-410c-832b-4042dfa1db1e",
   "metadata": {},
   "outputs": [],
   "source": [
    "another_empty_dict = dict()\n",
    "print(another_empty_dict)  # {}\n",
    "print(type(another_empty_dict))  # <class 'dict'>"
   ]
  },
  {
   "cell_type": "markdown",
   "id": "52723392-9d1a-4848-a866-6f91031d45d5",
   "metadata": {},
   "source": [
    "### 5. Создание с помощью метода dict.fromkeys()"
   ]
  },
  {
   "cell_type": "code",
   "execution_count": null,
   "id": "710cad46-f936-482a-8e90-50e15e8dbcc7",
   "metadata": {},
   "outputs": [],
   "source": [
    "d = dict.fromkeys(['a', 'b', 'c'], 100)\n",
    "print(d) # {'a': 100, 'b': 100, 'c': 100}"
   ]
  },
  {
   "cell_type": "markdown",
   "id": "420fa766-1997-4f02-a6c1-e720cc56d279",
   "metadata": {},
   "source": [
    "## Работа со словарем"
   ]
  },
  {
   "cell_type": "markdown",
   "id": "f8756d1d-cedd-45d7-9044-8099504fcd4a",
   "metadata": {},
   "source": [
    "### 1. Обращение к значению словаря"
   ]
  },
  {
   "cell_type": "code",
   "execution_count": null,
   "id": "4eed9168-355d-4f49-9754-54c94289304a",
   "metadata": {},
   "outputs": [],
   "source": [
    "d = {1: 45, 'hello': 'two', 3: [1,2,3]}\n",
    "print(d['hello']) #two\n",
    "\n"
   ]
  },
  {
   "cell_type": "markdown",
   "id": "9c5fe0f9-c6e7-48dd-bd36-97c6ee40c357",
   "metadata": {},
   "source": [
    "### 2. Добавление значения в словарь"
   ]
  },
  {
   "cell_type": "code",
   "execution_count": null,
   "id": "a18343cb-fd9b-4c46-a80d-f2903da54742",
   "metadata": {},
   "outputs": [],
   "source": [
    "d = {1: 'one', 2: 'two', 3: 'three'}\n",
    "d[4] = 'four'\n",
    "print(d) #{1: 'one', 2: 'two', 3: 'three', 4: 'four'}"
   ]
  },
  {
   "cell_type": "markdown",
   "id": "631da8f1-bac7-4f21-a912-899ae1931f1e",
   "metadata": {},
   "source": [
    "### 3. Изменение значения"
   ]
  },
  {
   "cell_type": "code",
   "execution_count": null,
   "id": "ff546f0b-ce5b-4840-8f3d-97f9e3f728a2",
   "metadata": {},
   "outputs": [],
   "source": [
    "d = {1: 'one', 2: 'two', 3: 'three'}\n",
    "d[1] = 'five'\n",
    "print(d) #{1: 'five', 2: 'two', 3: 'three'}"
   ]
  },
  {
   "cell_type": "markdown",
   "id": "5e0039ff-112e-4215-82a5-ac48c9a88ecd",
   "metadata": {},
   "source": [
    "### 4. Добавление ключа и значения"
   ]
  },
  {
   "cell_type": "code",
   "execution_count": null,
   "id": "d4c33f44-aa78-4d92-896f-ee7561606d22",
   "metadata": {},
   "outputs": [],
   "source": [
    "d = {}\n",
    "d[True] = \"Истина\"\n",
    "d[False] = \"Ложь\"\n",
    "print(d) #{True: 'Истина', False: 'Ложь'}"
   ]
  },
  {
   "cell_type": "markdown",
   "id": "2113f2e0-2292-41d1-9e8c-96e62c182f03",
   "metadata": {},
   "source": [
    "### 5. Пример мини парсинг:"
   ]
  },
  {
   "cell_type": "code",
   "execution_count": null,
   "id": "733f6466-efa5-4b6f-a646-c640e7771462",
   "metadata": {},
   "outputs": [],
   "source": [
    "person = {}\n",
    "s = 'IVANOV IVAN Samara SGU 5 4 5 5 4 3 5'\n",
    "s = s.split()\n",
    "person['lastName'] = s[0]\n",
    "person['firstName'] = s[1]\n",
    "person['city'] = s[2]\n",
    "person['university'] = s[3]\n",
    "person['marks'] = []\n",
    "for i in s[4:]:\n",
    "    person['marks'].append(int(i))\n",
    "print(person)  \n",
    "#{'lastName': 'IVANOV', 'firstName': 'IVAN', 'city': 'Samara', 'university': 'SGU', 'marks': [5, 4, 5, 5, 4, 3, 5]}"
   ]
  },
  {
   "cell_type": "markdown",
   "id": "c8d4fcee-fd25-4336-972c-c025a2ac4bcc",
   "metadata": {},
   "source": [
    "### 6. Удаление пары ключ=значение для указанного ключа"
   ]
  },
  {
   "cell_type": "code",
   "execution_count": null,
   "id": "23d43759-f25f-4e2f-a383-df93f8c5098a",
   "metadata": {},
   "outputs": [],
   "source": [
    "d = {}\n",
    "d[True] = \"Истина\"\n",
    "d[False] = \"Ложь\"\n",
    "\n",
    "del d[True]\n",
    "print(d) #{False: 'Ложь'}"
   ]
  },
  {
   "cell_type": "markdown",
   "id": "4b95d01c-9bbc-4880-953d-c95a9eb19ef3",
   "metadata": {},
   "source": [
    "## Функции словаря"
   ]
  },
  {
   "cell_type": "markdown",
   "id": "21903ab8-b306-401e-8ed8-17a6a3a0203e",
   "metadata": {},
   "source": [
    "### 1. Определить количество пар (ключ-значение) элементов в словаре"
   ]
  },
  {
   "cell_type": "code",
   "execution_count": null,
   "id": "0ce79f64-dbb9-4327-8e3b-10c893322634",
   "metadata": {},
   "outputs": [],
   "source": [
    "d = {}\n",
    "d[True] = \"Истина\"\n",
    "d[False] = \"Ложь\"\n",
    "print(len(d)) #2"
   ]
  },
  {
   "cell_type": "markdown",
   "id": "1ac3e70b-4d49-4278-879f-0fa0eddb0239",
   "metadata": {},
   "source": [
    "### 2. Проверка наличия ключа"
   ]
  },
  {
   "cell_type": "code",
   "execution_count": null,
   "id": "39bd9382-cf77-4c24-bb4d-c6c5140ebbb7",
   "metadata": {},
   "outputs": [],
   "source": [
    "d = {1: 'one', 2: 'two', 3: 'three'}\n",
    "d[1] = 'five'\n",
    "print(2 in d, 7 not in d) # True True"
   ]
  },
  {
   "cell_type": "code",
   "execution_count": null,
   "id": "4d539a2c-f070-466b-ab39-64fe193ea266",
   "metadata": {},
   "outputs": [],
   "source": [
    "d = {1: 'one', 2: 'two', 3: 'three'}\n",
    "if 7 in d:\n",
    "    print(d[7])\n",
    "else:\n",
    "    d[7] = 'seven'"
   ]
  },
  {
   "cell_type": "markdown",
   "id": "a7a2d3a4-8712-4120-8f4f-6fee2abd3fe0",
   "metadata": {},
   "source": [
    "### Обход словаря в цикле for"
   ]
  },
  {
   "cell_type": "code",
   "execution_count": null,
   "id": "4aa7f516-4f10-40fb-96f1-4e61a2eccd4f",
   "metadata": {},
   "outputs": [],
   "source": [
    "d = {3: 'three', 1: 'one', 2: 'two'}\n",
    "for i in d:\n",
    "    print(i)\n",
    "# 3\n",
    "# 1\n",
    "# 2\n",
    "\n",
    "for key in d:\n",
    "    print(key, d[key])\n",
    "\n",
    "# 3 three\n",
    "# 1 one\n",
    "# 2 two"
   ]
  },
  {
   "cell_type": "markdown",
   "id": "aec9f2ce-ecca-4af6-9613-c6044027c14e",
   "metadata": {},
   "source": [
    "## Методы словаря"
   ]
  },
  {
   "cell_type": "code",
   "execution_count": null,
   "id": "1fa163cf-2c54-41ad-bb4e-c672a8f40d4a",
   "metadata": {},
   "outputs": [],
   "source": [
    "d.clear()"
   ]
  },
  {
   "cell_type": "code",
   "execution_count": null,
   "id": "82d19c88-aaab-4f7a-bdd7-5599ee52d9f4",
   "metadata": {},
   "outputs": [],
   "source": [
    "d.get()"
   ]
  },
  {
   "cell_type": "code",
   "execution_count": null,
   "id": "a2f4d99c-0553-4118-a5d3-6ce91b7447c3",
   "metadata": {},
   "outputs": [],
   "source": [
    "d.setdefault()"
   ]
  },
  {
   "cell_type": "code",
   "execution_count": null,
   "id": "7e5874a4-cca4-485c-b9ea-f65b41231077",
   "metadata": {},
   "outputs": [],
   "source": [
    "d.pop()"
   ]
  },
  {
   "cell_type": "code",
   "execution_count": null,
   "id": "b2664f88-1fa8-4a9d-b003-c10b914aee1a",
   "metadata": {},
   "outputs": [],
   "source": [
    "d.popitem()"
   ]
  },
  {
   "cell_type": "code",
   "execution_count": null,
   "id": "00dd1feb-1504-4e3e-aa36-bbb6875e2ba1",
   "metadata": {},
   "outputs": [],
   "source": [
    "d.keys()"
   ]
  },
  {
   "cell_type": "code",
   "execution_count": null,
   "id": "98db5661-783e-4626-8d7a-1f430bba21b7",
   "metadata": {},
   "outputs": [],
   "source": [
    "d.values()"
   ]
  },
  {
   "cell_type": "code",
   "execution_count": null,
   "id": "1a4175ed-d896-416a-9d12-f7e6751909f4",
   "metadata": {},
   "outputs": [],
   "source": [
    "d.items()"
   ]
  },
  {
   "cell_type": "code",
   "execution_count": null,
   "id": "1e6787ec-bbdc-4bc2-8bbf-026f35a9fdf4",
   "metadata": {},
   "outputs": [],
   "source": [
    "d.copy()"
   ]
  },
  {
   "cell_type": "code",
   "execution_count": null,
   "id": "29476fdb-ec6b-4096-847b-d0c18d65fc43",
   "metadata": {},
   "outputs": [],
   "source": [
    "copy.deepcopy(d)"
   ]
  },
  {
   "cell_type": "code",
   "execution_count": null,
   "id": "45703d7e-da39-472e-b1a1-d06646ca924f",
   "metadata": {},
   "outputs": [],
   "source": [
    "d.update()"
   ]
  },
  {
   "cell_type": "code",
   "execution_count": null,
   "id": "5e06e623-33e9-447a-a9da-7cb274cda8f1",
   "metadata": {},
   "outputs": [],
   "source": [
    "d.insert()"
   ]
  },
  {
   "cell_type": "code",
   "execution_count": null,
   "id": "6b32dc5b-5599-46cc-85d3-02fdce0ea455",
   "metadata": {},
   "outputs": [],
   "source": [
    "dict.fromkeys()"
   ]
  },
  {
   "cell_type": "markdown",
   "id": "49e74a4b-65ba-41fc-ac0c-8408947b560f",
   "metadata": {},
   "source": [
    "1. Очистка словаря, удаления всех его элементов."
   ]
  },
  {
   "cell_type": "markdown",
   "id": "21a50740-360b-40d9-971a-59be34d7885e",
   "metadata": {},
   "source": [
    "### d.clear()"
   ]
  },
  {
   "cell_type": "code",
   "execution_count": null,
   "id": "b5e6a5df-03d8-4c56-9f75-4c59a067a5f4",
   "metadata": {},
   "outputs": [],
   "source": [
    "d = {3: 'three', 1: 'one', 2: 'two'}\n",
    "d.clear()\n",
    "print(d) # {}"
   ]
  },
  {
   "cell_type": "markdown",
   "id": "ff82fd53-f9ce-402b-8ad8-90f51e88b1d7",
   "metadata": {},
   "source": [
    "2. Получение значения словаря по ключу. При указании неверного ключа не возникает ошибки, а выдается по умолчанию значение None"
   ]
  },
  {
   "cell_type": "markdown",
   "id": "407ac356-0560-488d-adfe-3d9d4c225cb7",
   "metadata": {},
   "source": [
    "### d.get()"
   ]
  },
  {
   "cell_type": "code",
   "execution_count": null,
   "id": "35baadc1-cd1f-4bbf-ab23-08300253e55b",
   "metadata": {},
   "outputs": [],
   "source": [
    "d = {3: 'three', 1: 'one', 2: 'two'}\n",
    "print(d.get(\"list\")) # None \n",
    "print(d.get(3)) # three"
   ]
  },
  {
   "cell_type": "code",
   "execution_count": null,
   "id": "82233761-0f1f-49d3-ad59-da0a14092c6d",
   "metadata": {},
   "outputs": [],
   "source": [
    "for k, v in rates:\n",
    "        d[k] = d.get(k, []) + [v]"
   ]
  },
  {
   "cell_type": "code",
   "execution_count": null,
   "id": "25c64e0b-b464-4b6d-9776-59292b6b06f1",
   "metadata": {},
   "outputs": [],
   "source": [
    "for k, v in rates:\n",
    "        d[k] = d.get(k, 0) + v"
   ]
  },
  {
   "cell_type": "markdown",
   "id": "62bab111-e534-4231-9a98-6b6df79ef959",
   "metadata": {},
   "source": [
    "2.1. Это значение можно изменить, указав его вторым аргументом (можно передать что угодно)"
   ]
  },
  {
   "cell_type": "code",
   "execution_count": null,
   "id": "6ca2f0d4-8cd7-4838-9a6a-c49f98debaf1",
   "metadata": {},
   "outputs": [],
   "source": [
    "d = {3: 'three', 1: digits = {1: 'one', 2: 'two', 3: 'three'}\n",
    "\n",
    "# Указываем значение по умолчанию для отсутствующего ключа\n",
    "print(digits.get(4, [3, 3, 3]))  # [3, 3, 3]\n",
    "print(digits.get(5, 'Нет ключа 5 в словаре'))  # Нет ключа 5 в словаре\n",
    "\n",
    "# Пример со значением по умолчанию\n",
    "print(digits.get(4, 404))  # 404"
   ]
  },
  {
   "cell_type": "markdown",
   "id": "d34b8a7c-ef84-4eca-a7d2-8759122d8cc1",
   "metadata": {},
   "source": [
    "3. Возвращает значение по ключу. Если ключ отсутствует, добавляет его в словарь со значением по умолчанию (None, если не указано иное) и возвращает это значение.\n",
    "\n",
    "**Что это значит на практике?**\n",
    "- Если ключ уже есть → setdefault() возвращает ссылку на существующее значение.\n",
    "- Если ключа нет → создаёт key: default в словаре и возвращает ссылку на только что созданное значение.\n",
    "\n",
    "В обоих случаях изменения, внесённые в возвращённое значение, отразятся в словаре.\n",
    "   "
   ]
  },
  {
   "cell_type": "markdown",
   "id": "a09595d9-2f80-46d4-8a21-7ce753ff67fb",
   "metadata": {},
   "source": [
    "### d.setdefault()"
   ]
  },
  {
   "cell_type": "code",
   "execution_count": null,
   "id": "fb5680f1-910c-410a-b64c-55d7cb438533",
   "metadata": {},
   "outputs": [],
   "source": [
    "d = {3: 'three', 1: 'one', 2: 'two'}\n",
    "d.setdefault(6)\n",
    "print(d) # {3: 'three', 1: 'one', 2: 'two', 6: None}"
   ]
  },
  {
   "cell_type": "code",
   "execution_count": null,
   "id": "af4c00d9-b463-4229-b6db-cbd99eedce6c",
   "metadata": {},
   "outputs": [],
   "source": [
    "d = {3: 'three', 1: 'one', 2: 'two'}\n",
    "d.setdefault(6, 'six')\n",
    "print(d) # {3: 'three', 1: 'one', 2: 'two', 6: 'six'}"
   ]
  },
  {
   "cell_type": "markdown",
   "id": "1fbed86d-6b08-4333-bf6c-505cfa81b462",
   "metadata": {},
   "source": [
    "4. Удаляет указанный ключ и возвращает его значение. Если в нем указывается несуществующий ключ, то возникает ошибка"
   ]
  },
  {
   "cell_type": "code",
   "execution_count": null,
   "id": "3dac3aff-a1ae-493b-9216-66eea6426444",
   "metadata": {},
   "outputs": [],
   "source": [
    "word_count = {}\n",
    "words = ['apple', 'banana', 'apple', 'orange', 'banana', 'banana']\n",
    "\n",
    "for word in words:\n",
    "    word_count.setdefault(word, 0)\n",
    "    word_count[word] += 1\n",
    "\n",
    "print(word_count)  # {'apple': 2, 'banana': 3, 'orange': 1}"
   ]
  },
  {
   "cell_type": "markdown",
   "id": "fdd900d5-d4db-4ae0-9033-560d2290b985",
   "metadata": {},
   "source": [
    "### d.pop()"
   ]
  },
  {
   "cell_type": "code",
   "execution_count": null,
   "id": "9d1b467e-7ac2-4068-8159-7f3a63a67144",
   "metadata": {},
   "outputs": [],
   "source": [
    "d = {3: 'three', 1: 'one', 2: 'two'}\n",
    "print(d.pop(3))\n",
    "print(d)\n",
    "\n",
    "# three\n",
    "# {1: 'one', 2: 'two'}"
   ]
  },
  {
   "cell_type": "markdown",
   "id": "59b300c6-0e5b-480e-b342-37d9ef08f5d9",
   "metadata": {},
   "source": [
    "Чтобы избежать ошибки, укажите значение по умолчанию"
   ]
  },
  {
   "cell_type": "code",
   "execution_count": null,
   "id": "4a18db29-13d0-4409-84f9-d88f2f943960",
   "metadata": {},
   "outputs": [],
   "source": [
    "person = {'name': 'Alice', 'city': 'London'}\n",
    "age = person.pop('age', 'Возраст неизвестен')\n",
    "print(age)  # Возраст неизвестен\n",
    "print(person)  # {'name': 'Alice', 'city': 'London'}"
   ]
  },
  {
   "cell_type": "markdown",
   "id": "882145bb-f4eb-487f-99f2-a8c9e4087f13",
   "metadata": {},
   "source": [
    "5. Метод удаляет и возвращает последнюю добавленную пару «ключ:значение» из словаря в виде кортежа (key, value). (Начиная с версии Python 3.7) Если словарь пуст, то возникает ошибка"
   ]
  },
  {
   "cell_type": "markdown",
   "id": "a285d853-6be9-4934-a5d1-768c87863ac0",
   "metadata": {},
   "source": [
    "### d.popitem()"
   ]
  },
  {
   "cell_type": "code",
   "execution_count": null,
   "id": "8753425e-8765-4169-bd08-87d8cc1df68c",
   "metadata": {},
   "outputs": [],
   "source": [
    "d = {3: 'three', 1: 'one', 2: 'two'}\n",
    "print(d.popitem())\n",
    "print(d)\n",
    "\n",
    "# (2, 'two')\n",
    "# {3: 'three', 1: 'one'}"
   ]
  },
  {
   "cell_type": "markdown",
   "id": "3f07bca2-ae45-4241-80ee-5d634f575dc3",
   "metadata": {},
   "source": [
    "6. Возвращает коллекцию ключей."
   ]
  },
  {
   "cell_type": "markdown",
   "id": "7d607b89-2a0a-4ce0-9f3c-18bf2bbbf1a8",
   "metadata": {},
   "source": [
    "### d.keys()"
   ]
  },
  {
   "cell_type": "code",
   "execution_count": null,
   "id": "96047855-76b3-48c7-a365-233402e02759",
   "metadata": {},
   "outputs": [],
   "source": [
    "d = {3: 'three', 1: 'one', 2: 'two'}\n",
    "print(d.keys()) # dict_keys([3, 1, 2])\n",
    "\n",
    "# Пройтись в цикле по ключам:\n",
    "for x in d.keys():\n",
    "    ..."
   ]
  },
  {
   "cell_type": "markdown",
   "id": "cdd9e9c9-cfa9-47f1-8587-0991e070ab33",
   "metadata": {},
   "source": [
    "Объект digits.keys() динамически обновляется. Если содержимое словаря изменится(например, добавятся или удалятся ключи), объект dict_keys автоматически отразит эти изменения."
   ]
  },
  {
   "cell_type": "code",
   "execution_count": null,
   "id": "632b756c-9591-4192-87a4-ddca855285c6",
   "metadata": {},
   "outputs": [],
   "source": [
    "digits = {1: 'one', 2: 'two', 3: 'three'}\n",
    "keys = digits.keys()\n",
    "print(keys)  # dict_keys([1, 2, 3])\n",
    "digits.pop(1)\n",
    "digits.setdefault(5, 'five')\n",
    "print(keys)  # dict_keys([2, 3, 5])"
   ]
  },
  {
   "cell_type": "markdown",
   "id": "a1f4a7d3-50c9-441c-bca0-e23fd1e82b12",
   "metadata": {},
   "source": [
    "7. Возвращает коллекцию значений."
   ]
  },
  {
   "cell_type": "markdown",
   "id": "d684ad55-cd79-4ad0-9f8e-a272324e69dc",
   "metadata": {},
   "source": [
    "### d.values()"
   ]
  },
  {
   "cell_type": "code",
   "execution_count": null,
   "id": "e3359ac6-7516-436e-9872-cfad678ec771",
   "metadata": {},
   "outputs": [],
   "source": [
    "d = {3: 'three', 1: 'one', 2: 'two'}\n",
    "print(d.values()) # dict_values(['three', 'one', 'two'])\n",
    "\n",
    "# Пройтись в цикле по значениям:\n",
    "for x in d.values():\n",
    "    ..."
   ]
  },
  {
   "cell_type": "markdown",
   "id": "92421062-ae3e-44eb-8a29-4de5343122fd",
   "metadata": {},
   "source": [
    "Объект dict_values также динамически отслеживает состояние словаря. Любые изменения значений словаря автоматически отразятся в объекте dict_values."
   ]
  },
  {
   "cell_type": "code",
   "execution_count": null,
   "id": "c86975fd-0686-40b2-857c-a9aac8017326",
   "metadata": {},
   "outputs": [],
   "source": [
    "digits = {1: 'one', 2: 'two', 3: 'three'}\n",
    "values = digits.values()\n",
    "print(values)  # dict_values(['one', 'two', 'three'])\n",
    "digits.pop(1)\n",
    "digits.setdefault(5, 'five')\n",
    "print(values)  # dict_values(['two', 'three', 'five'])"
   ]
  },
  {
   "cell_type": "markdown",
   "id": "1f7399cb-bf1a-4b5c-b229-79c0f62b4506",
   "metadata": {},
   "source": [
    "8. Метод возвращает все пары «ключ-значение» словаря в виде коллекции кортежей."
   ]
  },
  {
   "cell_type": "markdown",
   "id": "7268fc4a-1be5-482c-b6f7-51fb3e280ccd",
   "metadata": {},
   "source": [
    "### d.items()"
   ]
  },
  {
   "cell_type": "code",
   "execution_count": null,
   "id": "ead5d79a-177a-45e5-8b07-2fa1524a2043",
   "metadata": {},
   "outputs": [],
   "source": [
    "d = {3: 'three', 1: 'one', 2: 'two'}\n",
    "\n",
    "for para in d.items():\n",
    "    print(para)\n",
    "\n",
    "# (3, 'three')\n",
    "# (1, 'one')\n",
    "# (2, 'two')\n",
    "\n",
    "# Или так:\n",
    "for x in d.items():\n",
    "    print(x[0], x[1])\n",
    "\n",
    "# 3 three\n",
    "# 1 one\n",
    "# 2 two\n",
    "    \n",
    "# Или так:\n",
    "for key, value in d.items():\n",
    "    print(key, value)\n",
    "    \n",
    "# 3 three\n",
    "# 1 one\n",
    "# 2 two"
   ]
  },
  {
   "cell_type": "markdown",
   "id": "77a18a04-c2ed-404d-ad7e-5bfae4bb3f36",
   "metadata": {},
   "source": [
    "9. Метод позволяет создать поверхностную копию словаря. Новый словарь будет содержать те же пары «ключ:значение», что и оригинальный, но станет отдельным объектом в памяти. Изменения, внесённые в копию, не повлияют на оригинал, и наоборот. "
   ]
  },
  {
   "cell_type": "markdown",
   "id": "7d183abf-56f1-454e-8a2b-3f204a7f1921",
   "metadata": {},
   "source": [
    "### data.copy()"
   ]
  },
  {
   "cell_type": "code",
   "execution_count": null,
   "id": "7895c809-95e4-45d7-abad-721476dde7ef",
   "metadata": {},
   "outputs": [],
   "source": [
    "data = {'name': 'Alice', 'age': 25, 'city': 'New York'}\n",
    "\n",
    "# Создаём копию словаря\n",
    "copy_data = data.copy()\n",
    "\n",
    "# Изменяем копию\n",
    "copy_data['age'] = 30\n",
    "\n",
    "print(\"Оригинал:\", data)  # {'name': 'Alice', 'age': 25, 'city': 'New York'}\n",
    "print(\"Копия:\", copy_data)  # {'name': 'Alice', 'age': 30, 'city': 'New York'}"
   ]
  },
  {
   "cell_type": "markdown",
   "id": "b3819b23-5978-4a09-bb81-69e3af02e1a0",
   "metadata": {},
   "source": [
    "Поверхностное копирование, означает что метод .copy() создаёт копию только верхнего уровня словаря. Если словарь содержит вложенные изменяемые объекты (например, списки или другие словари), эти объекты не копируются. Это значит, что изменения во вложенных структурах будут отражаться как в оригинале, так и в копии."
   ]
  },
  {
   "cell_type": "code",
   "execution_count": null,
   "id": "1a15a257-2fbb-42db-ae3b-66e804375517",
   "metadata": {},
   "outputs": [],
   "source": [
    "data = {'name': 'Alice', 'marks': [4, 5]}\n",
    "copy_data = data.copy()\n",
    "\n",
    "# Изменяем вложенный список в копии\n",
    "copy_data['marks'].append(3)\n",
    "\n",
    "print(data)  # {'name': 'Alice', 'marks': [4, 5, 3]}\n",
    "print(copy_data)  # {'name': 'Alice', 'marks': [4, 5, 3]}"
   ]
  },
  {
   "cell_type": "markdown",
   "id": "97b2d034-7861-4b12-ba74-10cef072542f",
   "metadata": {},
   "source": [
    "10. Глубокое копирование выполняется при помощи функции deepcopy модуля copy"
   ]
  },
  {
   "cell_type": "markdown",
   "id": "8ea1f1fd-01f7-4305-afef-31509150c7b8",
   "metadata": {},
   "source": [
    "### copy.deepcopy(a)"
   ]
  },
  {
   "cell_type": "markdown",
   "id": "78fa9aa8-2c95-4989-80be-60e9de798f4b",
   "metadata": {},
   "source": [
    "При глубоком копировании происходит не только создание копии основного списка, но и создаются копии всех вложенных объектов. "
   ]
  },
  {
   "cell_type": "code",
   "execution_count": null,
   "id": "8bccc5bc-408d-432c-a9b8-679bbe35791b",
   "metadata": {},
   "outputs": [],
   "source": [
    "import copy\n",
    "\n",
    "a = [34, 23, [12, 28, 9], 15]\n",
    "b = copy.deepcopy(a)  # выполняем глубокое копирование\n",
    "print(a)  # [34, 23, [12, 28, 9], 15]\n",
    "print(b)  # [34, 23, [12, 28, 9], 15]\n",
    "\n",
    "print('-' * 10)\n",
    "\n",
    "a[0] = 3\n",
    "a[2][1] = 100\n",
    "a[2][0] = 77\n",
    "print(a)  # [3, 23, [77, 100, 9], 15]\n",
    "print(b)  # [34, 23, [12, 28, 9], 15]"
   ]
  },
  {
   "cell_type": "markdown",
   "id": "dc522fd5-c770-474d-9449-94dcccbe1496",
   "metadata": {},
   "source": [
    "11. Метод позволяет обновить словарь, добавляя в него элементы из другого словаря. Он выполняет слияние словарей: добавляет новые пары «ключ:значение» и заменяет существующие значения, если ключи совпадают."
   ]
  },
  {
   "cell_type": "markdown",
   "id": "feac29f2-cf74-4d46-b2f0-57b3bea9ca8e",
   "metadata": {},
   "source": [
    "### d.update()"
   ]
  },
  {
   "cell_type": "markdown",
   "id": "c1b10fb4-010a-48a7-94be-a7bdc02efe89",
   "metadata": {},
   "source": [
    "Принцип работы метода .update():\n",
    "\n",
    "      ➖  Если ключи из второго словаря отсутствуют в первом, они будут добавлены;\n",
    "\n",
    "      ➖  Если ключи совпадают, значения из второго словаря заменят значения первого."
   ]
  },
  {
   "cell_type": "code",
   "execution_count": null,
   "id": "8a77dcaf-6974-48c4-811e-e905ce96d66f",
   "metadata": {},
   "outputs": [],
   "source": [
    "d = {1: 'one', 2: 'two', 3: 'three'}\n",
    "w = {4: 'four', 5: 'five'}\n",
    "\n",
    "d.update(w)\n",
    "print(d)  # {1: 'one', 2: 'two', 3: 'three', 4: 'four', 5: 'five'}"
   ]
  },
  {
   "cell_type": "code",
   "execution_count": null,
   "id": "af2bafac-3d50-4aa9-bfcc-f6e22a838751",
   "metadata": {},
   "outputs": [],
   "source": [
    "lang = {'eng': 'Английский', 'ru': 'Русский'}\n",
    "other = {'esp': 'Spanish', 'ru': 'Rus'}\n",
    "\n",
    "lang.update(other)\n",
    "print(lang)  # {'eng': 'Английский', 'ru': 'Rus', 'esp': 'Spanish'}"
   ]
  },
  {
   "cell_type": "markdown",
   "id": "2e200c8d-ade5-4e5d-a9e0-3a5c1548b58e",
   "metadata": {},
   "source": [
    "12. Метод позволяет вам точно указать, куда именно в списке вы хотите добавить новый элемент. \n",
    ".insert(0, 4)  где \"0\" - это индекс нового элемента, а \"4\" - это новый добавляемый  элемент"
   ]
  },
  {
   "cell_type": "markdown",
   "id": "bdd3788e-e259-4815-9b5f-dfc524570912",
   "metadata": {},
   "source": [
    "### d.insert()"
   ]
  },
  {
   "cell_type": "code",
   "execution_count": null,
   "id": "51168d6f-cdac-4fcd-b180-a95ed89d0f2c",
   "metadata": {},
   "outputs": [],
   "source": [
    "d = {'values': [1, 2, 3]}\n",
    "d['values'].insert(0, 4)\n",
    "print(d) # {'values': [4, 1, 2, 3]}"
   ]
  },
  {
   "cell_type": "markdown",
   "id": "035554f8-993f-4462-b783-d7c12ea51d99",
   "metadata": {},
   "source": [
    "### dict.fromkeys()"
   ]
  },
  {
   "cell_type": "markdown",
   "id": "54a881d2-1b09-4fa7-af6c-f82be4239f20",
   "metadata": {},
   "source": [
    "Метод dict.fromkeys() создает словарь с ключами из строки, сохраняя порядок первого появления."
   ]
  },
  {
   "cell_type": "code",
   "execution_count": null,
   "id": "f7beb6ae-38ea-4911-a244-da5f611934b4",
   "metadata": {},
   "outputs": [],
   "source": [
    "text = input()\n",
    "print(''.join(dict.fromkeys(text)))"
   ]
  },
  {
   "cell_type": "markdown",
   "id": "108b0960-da83-49d3-b30b-911daf873d2d",
   "metadata": {},
   "source": [
    "## Преобразование словаря в список"
   ]
  },
  {
   "cell_type": "markdown",
   "id": "0be965aa-cd48-4287-a1c4-002a1cd324cc",
   "metadata": {},
   "source": [
    "Функция list преобразует словарь в список его ключей. В результате получится список, содержащий только ключи в порядке их добавления в словарь."
   ]
  },
  {
   "cell_type": "code",
   "execution_count": null,
   "id": "0b6af5c9-5e67-43df-8e90-d6cc48040033",
   "metadata": {},
   "outputs": [],
   "source": [
    "digits = {1: 'one', 2: 'two', 3: 'three'}\n",
    "list_digits = list(digits)\n",
    "print(list_digits)  # [1, 2, 3]\n",
    "print('-' * 15)\n",
    "\n",
    "lang = {'eng': 'Английский', 'ru': 'Русский'}\n",
    "list_lang = list(lang)\n",
    "print(list_lang)  # ['eng', 'ru']"
   ]
  },
  {
   "cell_type": "markdown",
   "id": "e233142d-61da-47f8-8156-26a3e5097ae8",
   "metadata": {},
   "source": [
    "## Преобразование словаря в кортеж"
   ]
  },
  {
   "cell_type": "markdown",
   "id": "40cfed78-ec82-4dd3-a798-9d2b95b32695",
   "metadata": {},
   "source": [
    "Преобразование включает только ключи словаря. Значения при этом игнорируются."
   ]
  },
  {
   "cell_type": "code",
   "execution_count": null,
   "id": "ec7ae2b7-b4f9-4711-8c75-2c76d2aa6e35",
   "metadata": {},
   "outputs": [],
   "source": [
    "digits = {1: 'one', 2: 'two', 3: 'three'}\n",
    "tuple_digits = tuple(digits)\n",
    "print(tuple_digits)  # (1, 2, 3)\n",
    "\n",
    "print('-' * 15)\n",
    "\n",
    "lang = {'eng': 'Английский', 'ru': 'Русский'}\n",
    "tuple_lang = tuple(lang)\n",
    "print(tuple_lang)  # ('eng', 'ru')"
   ]
  },
  {
   "cell_type": "markdown",
   "id": "0ae4dd47-920b-4728-a0c6-b4a5d874e453",
   "metadata": {},
   "source": [
    "## Сравнение словарей"
   ]
  },
  {
   "cell_type": "markdown",
   "id": "74394ce1-81a9-48ff-91cc-1bd390f3dd28",
   "metadata": {},
   "source": [
    "Словари в Python можно сравнивать между собой, но только с использованием операторов равенства (==) и неравенства (!=)\n",
    "\n",
    "Cловари считаются равными (==), если выполняются следующие условия:\n",
    "\n",
    "    1️⃣  Количество пар «ключ:значение» одинаково;\n",
    "\n",
    "    2️⃣  В каждой соответствующей паре совпадают как ключи, так и значения."
   ]
  },
  {
   "cell_type": "code",
   "execution_count": null,
   "id": "b681e766-9ac1-4776-affa-40bfdad759d0",
   "metadata": {},
   "outputs": [],
   "source": [
    "d = {1: 'one', 2: 'two', 3: 'three'}\n",
    "a = {2: 'two', 3: 'three', 1: 'one'}\n",
    "print(d == a)  # True"
   ]
  },
  {
   "cell_type": "markdown",
   "id": "d1c5169d-a5cf-43f4-8ac0-ea8a4348efc3",
   "metadata": {},
   "source": [
    "## Слияние словарей"
   ]
  },
  {
   "cell_type": "markdown",
   "id": "98077c15-5bc0-41e3-aec5-5d4241479d77",
   "metadata": {},
   "source": [
    "В Python, начиная с версии 3.9, появилась удобная операция слияния словарей, обозначаемая символом |. Она позволяет объединять пары ключ-значение из двух словарей."
   ]
  },
  {
   "cell_type": "markdown",
   "id": "32c2ad47-9e08-4aff-a090-c42e494e1491",
   "metadata": {},
   "source": [
    "Как работает операция слияния |:\n",
    "\n",
    "      ●   словарь, расположенный слева (dict_1), используется как основа.\n",
    "\n",
    "      ●   словарь, расположенный справа (dict_2), добавляет свои элементы к левому словарю.\n",
    "\n",
    "      ●   если ключи совпадают, значение из правого словаря заменяет значение из левого."
   ]
  },
  {
   "cell_type": "code",
   "execution_count": null,
   "id": "02042e34-aae8-4bbf-a58e-12b3aa8c245f",
   "metadata": {},
   "outputs": [],
   "source": [
    "dict_1 = {'John': 15, 'Rick': 10, 'Misa' : 12 }\n",
    "dict_2 = {'Bonnie': 18,'Rick': 20}\n",
    "\n",
    "people = dict_1 | dict_2\n",
    "print(people)"
   ]
  },
  {
   "cell_type": "code",
   "execution_count": null,
   "id": "5cab1cb9-0cf3-4906-bfd0-9a18a8d729fa",
   "metadata": {},
   "outputs": [],
   "source": []
  },
  {
   "cell_type": "code",
   "execution_count": null,
   "id": "792ac518-1a63-4896-a1d8-40636e631d96",
   "metadata": {
    "editable": true,
    "slideshow": {
     "slide_type": ""
    },
    "tags": []
   },
   "outputs": [],
   "source": [
    "\n",
    "dict.fromkeys(lst_keys, value)  # Создает словарь с ключами из списка lst_keys, каждому ключу присваивает значение value \n",
    "\n",
    "\n",
    "\n",
    "\n",
    "7. Использование генераторов словарей (Dictionary Comprehension):\n",
    "Генераторы словарей позволяют создавать словарь с помощью компактного синтаксиса, аналогичного генераторам списков.\n",
    "\n",
    "# Пример с генератором\n",
    "my_dict = {x: x**2 for x in range(5)}  # {0: 0, 1: 1, 2: 4, 3: 9, 4: 16}\n",
    "\n",
    "\n",
    "8. Создание словаря из двух списков с помощью zip():\n",
    "Если есть два списка — один с ключами, другой с значениями, — их можно объединить в словарь.\n",
    "\n",
    "# Пример\n",
    "keys = ['key1', 'key2', 'key3']\n",
    "values = ['value1', 2, True]\n",
    "my_dict = dict(zip(keys, values))  # {'key1': 'value1', 'key2': 2, 'key3': True}\n"
   ]
  },
  {
   "cell_type": "markdown",
   "id": "4ec26f96-9071-4feb-b085-f1b0f549d4bd",
   "metadata": {},
   "source": [
    "## Обход элементов словаря"
   ]
  },
  {
   "cell_type": "markdown",
   "id": "02297f4c-92af-40b7-a1ce-0b6910efe12b",
   "metadata": {},
   "source": [
    "### Цикл for и метод keys"
   ]
  },
  {
   "cell_type": "code",
   "execution_count": null,
   "id": "41031301-2783-4d23-954e-27629f18f588",
   "metadata": {},
   "outputs": [],
   "source": [
    "lang = {\n",
    "    'eng': 'Английский',\n",
    "    'ru': 'Русский',\n",
    "    'fra': 'Французский',\n",
    "    'esp': 'Испанский'\n",
    "}\n",
    "\n",
    "for key in lang.keys():\n",
    "    print(key)"
   ]
  },
  {
   "cell_type": "markdown",
   "id": "6a8f25e0-6fe8-4d95-b355-a3bebb1d286c",
   "metadata": {},
   "source": [
    "### Итерация по значениям словаря через ключи"
   ]
  },
  {
   "cell_type": "code",
   "execution_count": null,
   "id": "7095d57f-5447-44c5-9eb8-68b7841d80ad",
   "metadata": {},
   "outputs": [],
   "source": [
    "lang = {\n",
    "    'eng': 'Английский',\n",
    "    'ru': 'Русский',\n",
    "    'fra': 'Французский',\n",
    "    'esp': 'Испанский'\n",
    "}\n",
    "\n",
    "for key in lang.keys():\n",
    "    print(lang[key])"
   ]
  },
  {
   "cell_type": "code",
   "execution_count": null,
   "id": "100b2eca-c822-4415-9067-1eb0df7f5e3d",
   "metadata": {},
   "outputs": [],
   "source": []
  },
  {
   "cell_type": "markdown",
   "id": "f533b86a-5701-459d-a8d6-10db4900952b",
   "metadata": {},
   "source": [
    "### Цикл for и метод values"
   ]
  },
  {
   "cell_type": "code",
   "execution_count": null,
   "id": "9b4e8e07-57e7-4a5e-ae1a-5b839c71bb32",
   "metadata": {},
   "outputs": [],
   "source": [
    "lang = {\n",
    "    'eng': 'Английский',\n",
    "    'ru': 'Русский',\n",
    "    'fra': 'Французский',\n",
    "    'esp': 'Испанский'\n",
    "}\n",
    "\n",
    "for value in lang.values():\n",
    "    print(value)"
   ]
  },
  {
   "cell_type": "markdown",
   "id": "740f8d4e-12e2-438f-a203-45599db14191",
   "metadata": {},
   "source": [
    "### Цикл for и метод items"
   ]
  },
  {
   "cell_type": "code",
   "execution_count": null,
   "id": "c81dbc3e-3148-427f-98a9-2f7200047504",
   "metadata": {},
   "outputs": [],
   "source": [
    "lang = {\n",
    "    'eng': 'Английский',\n",
    "    'ru': 'Русский',\n",
    "    'fra': 'Французский',\n",
    "    'esp': 'Испанский'\n",
    "}\n",
    "\n",
    "# Выводим кортежи ключ-значение\n",
    "for item in lang.items():\n",
    "    print(item)\n",
    "\n",
    "print('-' * 20)\n",
    "\n",
    "# Доступ к ключу и значению через индексы\n",
    "for item in lang.items():\n",
    "    print(f'Key={item[0]}, value={item[1]}')\n",
    "\n",
    "\n",
    "# Распаковка ключей и значений\n",
    "for key, value in lang.items():\n",
    "    print(f'Ключ={key}, значение={value}')"
   ]
  },
  {
   "cell_type": "markdown",
   "id": "57b8dd42-2af8-408c-bb07-12ce0c2bd5ee",
   "metadata": {},
   "source": [
    "## Ситуации, где полезно использовать словарь"
   ]
  },
  {
   "cell_type": "markdown",
   "id": "50a45afd-70a4-441c-88bc-dd182a7043bd",
   "metadata": {},
   "source": [
    "### 1. Подсчет количества объектов"
   ]
  },
  {
   "cell_type": "markdown",
   "id": "aaeec1de-ad34-4b04-99c4-6636c450d767",
   "metadata": {},
   "source": [
    "Словари часто применяются для подсчёта количества различных объектов. В таких задачах ключами словаря становятся объекты подсчёта, а значениями — их количество."
   ]
  },
  {
   "cell_type": "code",
   "execution_count": null,
   "id": "a3fe64b6-83fb-46fe-8a67-1acb72b5094b",
   "metadata": {},
   "outputs": [],
   "source": [
    "s = input('Введите строку! Подсчитаем ее буквы: ')\n",
    "counter = {}\n",
    "for letter in s:\n",
    "    if letter in counter:\n",
    "        counter[letter] += 1\n",
    "    else:\n",
    "        counter[letter] = 1\n",
    "print(counter)\n",
    "for letter, count in counter.items():\n",
    "    print(letter, count)"
   ]
  },
  {
   "cell_type": "markdown",
   "id": "ea460001-e166-4554-ba2c-468fd2083a7f",
   "metadata": {},
   "source": [
    "- оптимизированный вариант"
   ]
  },
  {
   "cell_type": "code",
   "execution_count": null,
   "id": "808b8773-0b42-414b-89a3-b01a3179b45a",
   "metadata": {},
   "outputs": [],
   "source": [
    "s = input('Введите строку! Подсчитаем ее буквы: ')\n",
    "counter = {}\n",
    "for letter in s:\n",
    "    if letter.isalpha():\n",
    "        counter[letter] = counter.get(letter, 0) + 1\n",
    "\n",
    "for letter, count in counter.items():\n",
    "    print(letter, count)"
   ]
  },
  {
   "cell_type": "markdown",
   "id": "766f352c-4f5e-48f8-b566-b6539f9ef1fa",
   "metadata": {},
   "source": [
    "### 2. Словари помогают установить соответствие между объектами"
   ]
  },
  {
   "cell_type": "markdown",
   "id": "6ff5ec31-8d9d-493b-9cef-a8fadf8eb42a",
   "metadata": {},
   "source": [
    "Программа, которая связывает английские слова с их переводами на русский язык."
   ]
  },
  {
   "cell_type": "code",
   "execution_count": null,
   "id": "b4d7467d-4af6-41fb-bc17-e9462608805b",
   "metadata": {},
   "outputs": [],
   "source": [
    "words = {}\n",
    "while True:\n",
    "    word = input('Введите английское слово (или \"exit\" для выхода): ')\n",
    "    if word.lower() == \"exit\":  # Условие выхода из программы\n",
    "        break\n",
    "    if word in words:\n",
    "        print(\"Слово\", word, \"переводится как\", words[word])\n",
    "    else:\n",
    "        print(\"Введите перевод слова\", word)\n",
    "        words[word] = input(\"Перевод: \")"
   ]
  },
  {
   "cell_type": "markdown",
   "id": "f3ad2bc2-f3de-40cf-b7a7-913b4cac285a",
   "metadata": {},
   "source": [
    "### 3. Хранение данных об объектах"
   ]
  },
  {
   "cell_type": "markdown",
   "id": "2b2384b2-7796-4064-a612-ad200f7dc7cc",
   "metadata": {},
   "source": [
    "Пример вложенного словаря, содержащего данные об известных людях:"
   ]
  },
  {
   "cell_type": "code",
   "execution_count": null,
   "id": "cf46df0f-a3b9-45c0-b28f-c4f2558f5323",
   "metadata": {},
   "outputs": [],
   "source": [
    "contacts = {\n",
    "    'John Kennedy': {\n",
    "        'birthday': '29 may 1917', 'city': 'Brookline',\n",
    "        'phone': None, 'children': 3\n",
    "    },\n",
    "    'Arnold Schwarzenegger': {\n",
    "        'birthday': '30 july 1947', 'city': 'Gradec',\n",
    "        'phone': '555-555-555', 'children': 5\n",
    "    },\n",
    "    'Donald John Trump': {\n",
    "        'birthday': '14 july 1946', 'city': 'New York',\n",
    "        'phone': '777-777-777', 'children': 4\n",
    "    }\n",
    "}"
   ]
  },
  {
   "cell_type": "markdown",
   "id": "d3dc545f-e2ed-468d-b5b1-0de15d9f9da9",
   "metadata": {},
   "source": [
    "Такие словари нередко требуется обходить с целью извлечения или обработки данных. Давайте сперва обойдем словарь и выведем всю информацию"
   ]
  },
  {
   "cell_type": "code",
   "execution_count": null,
   "id": "bca9811c-7492-41af-af35-96670ec483aa",
   "metadata": {},
   "outputs": [],
   "source": [
    "persons = list(contacts.keys())\n",
    "print(persons)  # ['John Kennedy', 'Arnold Schwarzenegger', 'Donald John Trump']\n",
    "\n",
    "for person in persons:\n",
    "    print(person, contacts[person])\n",
    "    print('-' * 15)"
   ]
  },
  {
   "cell_type": "markdown",
   "id": "3e0b1bc3-e71d-4298-bc8b-42fff2e52786",
   "metadata": {},
   "source": [
    "Для каждого человека contacts[person] выводит целиком всю информацию, но мы можем извлекать конкретные данные, например, вывести только дату рождения. Для этого нужно использовать двойное взятие по ключу:"
   ]
  },
  {
   "cell_type": "code",
   "execution_count": null,
   "id": "d86f1259-e2e3-425e-979c-d7aee11559b6",
   "metadata": {},
   "outputs": [],
   "source": [
    "for person in persons:\n",
    "    print(person, contacts[person]['birthday'])"
   ]
  },
  {
   "cell_type": "markdown",
   "id": "b47d41cb-fb9f-47dc-a8b6-6fbb9f8e2527",
   "metadata": {},
   "source": [
    "Можем извлечь все данные для каждого человека и поместить их в отдельные переменные:"
   ]
  },
  {
   "cell_type": "code",
   "execution_count": null,
   "id": "09ef687c-adfd-4123-b671-a100b3b81d3a",
   "metadata": {},
   "outputs": [],
   "source": [
    "for person in contacts.keys():\n",
    "    birthday = contacts[person]['birthday']\n",
    "    city = contacts[person]['city']\n",
    "    phone = contacts[person]['phone']\n",
    "    children = contacts[person]['children']\n",
    "    print(f\"{person}: {city}, {birthday}, {phone}, {children} children\")"
   ]
  },
  {
   "cell_type": "markdown",
   "id": "7b2c008a-757c-421d-b3df-6dfa9a72b402",
   "metadata": {},
   "source": [
    "Помимо двойного обращения по ключу мы можем использовать вложенный цикл для получения доступа к данным о человеке. "
   ]
  },
  {
   "cell_type": "code",
   "execution_count": null,
   "id": "61328962-8cd3-48af-972c-a3391dfe236e",
   "metadata": {},
   "outputs": [],
   "source": [
    "for person in contacts.keys():\n",
    "    print('-' * 15)\n",
    "    print(person)\n",
    "    for key, value in contacts[person].items():\n",
    "        print(f\"{key}: {value}\")"
   ]
  },
  {
   "cell_type": "markdown",
   "id": "ec8a2e31-e8a2-484f-bfc7-be7e51a04bdc",
   "metadata": {},
   "source": [
    "## Генератор словарей"
   ]
  },
  {
   "cell_type": "code",
   "execution_count": null,
   "id": "fba6caae-e908-4c32-b9d0-3fd1f55c9d0d",
   "metadata": {},
   "outputs": [],
   "source": [
    "a = {i: i**2 for i in range(1, 11)}\n",
    "print(a)"
   ]
  },
  {
   "cell_type": "markdown",
   "id": "870f6a5b-ec2f-44f9-9b8a-69249e7247d0",
   "metadata": {},
   "source": [
    "### Возможности генераторов словарей"
   ]
  },
  {
   "cell_type": "markdown",
   "id": "f24affbb-7182-4b75-904c-41e890f07a64",
   "metadata": {},
   "source": [
    "Генераторы словарей в Python позволяют обходить любую коллекцию, поддерживающую итерацию. Это делает их универсальным инструментом для создания словарей из самых разных источников данных."
   ]
  },
  {
   "cell_type": "code",
   "execution_count": null,
   "id": "fd8d302e-a6d5-4fc0-8dca-ecffeab41ea6",
   "metadata": {},
   "outputs": [],
   "source": [
    "a = {word:len(word) for word in ['hi', 'hello', 'www']}\n",
    "print(a)"
   ]
  },
  {
   "cell_type": "markdown",
   "id": "a8393008-30f7-4a43-aa8b-7099d7c74f77",
   "metadata": {},
   "source": [
    "- Преобразуем:\n",
    "\n",
    "ключи так, чтобы первые буквы каждого слова стали заглавными;\n",
    "значения так, чтобы из строк получить целые числа."
   ]
  },
  {
   "cell_type": "code",
   "execution_count": null,
   "id": "0ad12875-c6d1-4dd1-83e2-d0edbb41eb8f",
   "metadata": {},
   "outputs": [],
   "source": [
    "data = {\n",
    "    'Джефф Безос': '177',\n",
    "    'ИлоН МаСк': '126',\n",
    "    'бернар АрнО': '150',\n",
    "    'БиЛл ГеЙтС': '124',\n",
    "}\n",
    "new_data = {key.title(): int(value) for key, value in data.items()}\n",
    "print(new_data)"
   ]
  },
  {
   "cell_type": "markdown",
   "id": "42c8f7b0-e24a-468c-9047-3febe8482145",
   "metadata": {},
   "source": [
    "# Кортежи ()"
   ]
  },
  {
   "cell_type": "markdown",
   "id": "d320b042-8867-4b27-a02f-6e5792d3f117",
   "metadata": {},
   "source": [
    "Кортеж (tuple) — это неизменяемая и упорядоченная последовательность элементов. Он часто используется для хранения данных, которые логически связаны между собой и не должны изменяться в процессе выполнения программы.\n",
    "\n",
    "Вот основные свойства кортежей:\n",
    "\n",
    "     ✅   Неизменяемость: после создания кортежа его содержимое нельзя изменить (добавить, удалить или модифицировать элементы). Это ключевое отличие кортежа от списка;\n",
    "\n",
    "     ✅   Упорядоченность: порядок элементов в кортеже сохраняется и есть возможность обращаться по индексу;\n",
    "\n",
    "     ✅   Могут содержать элементы разных типов:\n",
    "\n",
    "     ✅   Итерируемость: кортежи являются итерируемыми объектами, следовательно, поддерживают работу с циклом for.\n",
    "\n"
   ]
  },
  {
   "cell_type": "markdown",
   "id": "00c6475a-677d-4599-929c-c301eed5d6ac",
   "metadata": {},
   "source": [
    "## Создание кортежа"
   ]
  },
  {
   "cell_type": "markdown",
   "id": "8415b186-c1e5-4c0f-ba37-2627550bf333",
   "metadata": {},
   "source": [
    "1. Вариант"
   ]
  },
  {
   "cell_type": "code",
   "execution_count": null,
   "id": "365b8792-fae6-4407-b730-90edf6b33a54",
   "metadata": {},
   "outputs": [],
   "source": [
    "a = (1, 2, 3, 4, 5)\n",
    "print(a)  # (1, 2, 3, 4, 5)\n",
    "print(type(a))  # <class 'tuple'>\n",
    "\n",
    "b = ('hello', 45, True)\n",
    "print(b)  # ('hello', 45, True)\n",
    "print(type(b))\n",
    "\n",
    "a = (1,)"
   ]
  },
  {
   "cell_type": "markdown",
   "id": "917b29fe-8edc-4889-a92e-7ccf165dfa43",
   "metadata": {},
   "source": [
    "2. Вариант"
   ]
  },
  {
   "cell_type": "code",
   "execution_count": null,
   "id": "3393307c-14b4-4a7f-97c7-0c931f360481",
   "metadata": {},
   "outputs": [],
   "source": [
    "numbers = 1, 2, 3, 4, 5\n",
    "print(numbers)  # (1, 2, 3, 4, 5)\n",
    "print(type(numbers))  # <class 'tuple'>\n",
    "\n",
    "numbers = 1, 2\n",
    "numbers = 1,"
   ]
  },
  {
   "cell_type": "markdown",
   "id": "c9781d18-c4ad-4cf2-aec8-3f62b6a4f780",
   "metadata": {},
   "source": [
    "### Создание пустого кортежа"
   ]
  },
  {
   "cell_type": "code",
   "execution_count": null,
   "id": "5f02d816-2536-4ee6-a06a-3a9d1f174de7",
   "metadata": {},
   "outputs": [],
   "source": [
    "1. Вариант"
   ]
  },
  {
   "cell_type": "code",
   "execution_count": null,
   "id": "3dcfdcd6-4081-4691-abe1-5678350d6e08",
   "metadata": {},
   "outputs": [],
   "source": [
    "a = ()\n",
    "print(a)  # ()\n",
    "print(type(a))  # <class 'tuple'>"
   ]
  },
  {
   "cell_type": "code",
   "execution_count": null,
   "id": "6b5c59a4-e745-491d-a163-b2c478415e88",
   "metadata": {},
   "outputs": [],
   "source": [
    "2. Вариант"
   ]
  },
  {
   "cell_type": "code",
   "execution_count": null,
   "id": "5123ced5-97d3-43eb-bd2c-17d90dff0bf2",
   "metadata": {},
   "outputs": [],
   "source": [
    "b = tuple()\n",
    "print(b)  # ()\n",
    "print(type(b))  # <class 'tuple'>"
   ]
  },
  {
   "cell_type": "markdown",
   "id": "2892ac09-09fe-4164-9b84-1e4d507ccbf1",
   "metadata": {},
   "source": [
    "### Создание кортежа на основе других объектов"
   ]
  },
  {
   "cell_type": "code",
   "execution_count": null,
   "id": "4a58c6a9-eeab-402a-8275-515a1a3c9d90",
   "metadata": {
    "editable": true,
    "slideshow": {
     "slide_type": ""
    },
    "tags": []
   },
   "outputs": [],
   "source": [
    "# Создание кортежа из range()\n",
    "a = tuple(range(5))\n",
    "print(a)  # (0, 1, 2, 3, 4)\n",
    "print(type(a))  # <class 'tuple'>\n",
    "\n",
    "# Создание кортежа из строки\n",
    "b = tuple('hello')\n",
    "print(b)  # ('h', 'e', 'l', 'l', 'o')\n",
    "print(type(b))  # <class 'tuple'>\n",
    "\n",
    "# Создание кортежа из списка\n",
    "c = tuple([43, True, 'The Boys'])\n",
    "print(c)  # (43, True, 'The Boys')\n",
    "print(type(c))  # <class 'tuple'>\n",
    "\n",
    "## Кортеж из множества\n",
    "set_to_tuple = tuple({4, 5, 6})\n",
    "print(set_to_tuple)       # (4, 5, 6) - порядок может отличаться"
   ]
  },
  {
   "cell_type": "markdown",
   "id": "78dae495-699d-439e-9adb-8c9d48e0625d",
   "metadata": {},
   "source": [
    "## Операции с кортежами"
   ]
  },
  {
   "cell_type": "markdown",
   "id": "916488f3-d589-4219-906f-6a00c4a3f134",
   "metadata": {},
   "source": [
    "### Нахождение длины кортежа"
   ]
  },
  {
   "cell_type": "code",
   "execution_count": null,
   "id": "12545aea-cd87-4573-a5d7-6650169dce27",
   "metadata": {},
   "outputs": [],
   "source": [
    "# Кортеж из чисел\n",
    "a = 1, 2, 3, 4, 5\n",
    "print(len(a))  # 5\n",
    "\n",
    "# Кортеж с разными типами данных\n",
    "b = 'hello', 45, True\n",
    "print(len(b))  # 3\n",
    "\n",
    "# Пустой кортеж\n",
    "empty = ()\n",
    "print(len(empty))  # 0"
   ]
  },
  {
   "cell_type": "markdown",
   "id": "75dbfe7a-2b61-4c83-a58b-5c87878e16e9",
   "metadata": {},
   "source": [
    "### Проверка на нахождение"
   ]
  },
  {
   "cell_type": "code",
   "execution_count": null,
   "id": "64188172-78be-465b-887d-a3de38fc45b7",
   "metadata": {},
   "outputs": [],
   "source": [
    "a = 1, 2, 3, 4, 5\n",
    "\n",
    "# Проверка наличия элемента\n",
    "print(2 in a)  # True: элемент 2 есть в кортеже\n",
    "print(7 in a)  # False: элемента 7 нет в кортеже\n",
    "\n",
    "# Проверка отсутствия элемента\n",
    "print(6 not in a)  # True: элемента 6 нет в кортеже\n",
    "print(5 not in a)  # False: элемент 5 есть в кортеже"
   ]
  },
  {
   "cell_type": "markdown",
   "id": "e1ebc459-b989-452f-b68d-290d871a1e5f",
   "metadata": {},
   "source": [
    "### Сложение кортежей"
   ]
  },
  {
   "cell_type": "code",
   "execution_count": null,
   "id": "d92be593-baaf-4726-85fe-91d497ac97dc",
   "metadata": {
    "editable": true,
    "slideshow": {
     "slide_type": ""
    },
    "tags": []
   },
   "outputs": [],
   "source": [
    "a = 1, 2, 3, 4, 5\n",
    "b = (6, 7, 8)\n",
    "\n",
    "# Сложение кортежей\n",
    "c = a + b\n",
    "d = b + a\n",
    "\n",
    "# Результаты\n",
    "print(c)  # (1, 2, 3, 4, 5, 6, 7, 8)\n",
    "print(d)  # (6, 7, 8, 1, 2, 3, 4, 5)\n",
    "\n",
    "\n",
    "# Добавление через +=\n",
    "t = (1, 2)\n",
    "t += (3, 4)        # получим (1, 2, 3, 4)"
   ]
  },
  {
   "cell_type": "markdown",
   "id": "e3ec36c7-d5ed-4477-92f3-039d8d277d40",
   "metadata": {},
   "source": [
    "### Дублирование кортежей"
   ]
  },
  {
   "cell_type": "code",
   "execution_count": null,
   "id": "0f871ed0-220e-48e5-9e06-b8102035d66d",
   "metadata": {
    "editable": true,
    "slideshow": {
     "slide_type": ""
    },
    "tags": []
   },
   "outputs": [],
   "source": [
    "a = 1, 2, 3\n",
    "\n",
    "print(a * 2)  # (1, 2, 3, 1, 2, 3)\n",
    "print((4, 5) * 4)  # (4, 5, 4, 5, 4, 5, 4, 5)\n",
    "\n",
    "empty = ()\n",
    "print(empty * 10)  # ()"
   ]
  },
  {
   "cell_type": "markdown",
   "id": "851e11a1-85fb-433a-aa39-784b3a4b1643",
   "metadata": {},
   "source": [
    "### Поиск максимума и минимума"
   ]
  },
  {
   "cell_type": "code",
   "execution_count": null,
   "id": "2b7a7e0b-72a4-425c-a4a5-236c19cc98ca",
   "metadata": {},
   "outputs": [],
   "source": [
    "a = 1, 2, 3, 4, 5\n",
    "\n",
    "# Поиск минимума и максимума\n",
    "print(min(a))  # 1\n",
    "print(max(a))  # 5"
   ]
  },
  {
   "cell_type": "markdown",
   "id": "c94f8314-b534-46af-81b0-1323ad10ce2c",
   "metadata": {},
   "source": [
    "### Суммирование элементов кортежа"
   ]
  },
  {
   "cell_type": "code",
   "execution_count": null,
   "id": "d26cf9a0-1ce5-44d2-8761-ac4a812b5984",
   "metadata": {},
   "outputs": [],
   "source": [
    "a = 1, 2, 3, 4, 5\n",
    "\n",
    "# Сумма элементов\n",
    "print(sum(a))  # 15"
   ]
  },
  {
   "cell_type": "markdown",
   "id": "174f70fb-436b-4df3-8bd1-9f321b7f9708",
   "metadata": {
    "editable": true,
    "slideshow": {
     "slide_type": ""
    },
    "tags": []
   },
   "source": [
    "### Обращение по индексу или срезу"
   ]
  },
  {
   "cell_type": "code",
   "execution_count": null,
   "id": "ca56cef1-8c04-453a-aa41-5e1236d20f7e",
   "metadata": {},
   "outputs": [],
   "source": [
    "a = (1, 2, 3, 4, 5)\n",
    "print(a[0])       # 1, обращение по индексу\n",
    "print(a[1:3])     # (2, 3), срез элементов"
   ]
  },
  {
   "cell_type": "markdown",
   "id": "da4b82d8-428b-4586-a353-85de18c48748",
   "metadata": {},
   "source": [
    "### Использование кортежей в качестве ключей словаря"
   ]
  },
  {
   "cell_type": "code",
   "execution_count": null,
   "id": "e5735bca-abbb-4792-ad86-d5c05ae40414",
   "metadata": {},
   "outputs": [],
   "source": [
    "a = (1,2,3)\n",
    "b = {}\n",
    "b[a] = 'hello'\n",
    "print(b)\n",
    "\n",
    "# {(1, 2, 3): 'hello'}"
   ]
  },
  {
   "cell_type": "markdown",
   "id": "f4bae838-f219-4ffe-9512-64cd8bc994da",
   "metadata": {},
   "source": [
    "### Методы кортежа"
   ]
  },
  {
   "cell_type": "markdown",
   "id": "c564a8f7-a568-41fe-b909-e6fb5c3f1dc3",
   "metadata": {
    "editable": true,
    "slideshow": {
     "slide_type": ""
    },
    "tags": []
   },
   "source": [
    "1. Число элементов с заданным значением"
   ]
  },
  {
   "cell_type": "code",
   "execution_count": null,
   "id": "452c96ef-6397-401d-8623-b261b128bf7a",
   "metadata": {
    "editable": true,
    "slideshow": {
     "slide_type": ""
    },
    "tags": []
   },
   "outputs": [],
   "source": [
    "tuple.count()\n",
    "\n",
    "f = (1, 2, 2, 3, 2)\n",
    "print(f.count(2)) # 3, количество двоек"
   ]
  },
  {
   "cell_type": "markdown",
   "id": "ec6d67df-0168-4fdc-a634-be8dc57d7954",
   "metadata": {
    "editable": true,
    "slideshow": {
     "slide_type": ""
    },
    "tags": []
   },
   "source": [
    "2. Индекс первого найденного элемента по значению "
   ]
  },
  {
   "cell_type": "code",
   "execution_count": null,
   "id": "20c398ea-98de-43df-ae90-28c0f74c782a",
   "metadata": {
    "editable": true,
    "slideshow": {
     "slide_type": ""
    },
    "tags": []
   },
   "outputs": [],
   "source": [
    "tuple.index()\n",
    "\n",
    "print(f.index(2)) # 1, первый индекс элемента 2"
   ]
  },
  {
   "cell_type": "markdown",
   "id": "99288b4b-befa-407a-856f-d694c898c961",
   "metadata": {
    "editable": true,
    "slideshow": {
     "slide_type": ""
    },
    "tags": []
   },
   "source": [
    "3. Служебный метод, узнает сколько байтов занимает обьект"
   ]
  },
  {
   "cell_type": "code",
   "execution_count": null,
   "id": "535ab1cc-a303-471b-836c-b664793e0630",
   "metadata": {
    "editable": true,
    "slideshow": {
     "slide_type": ""
    },
    "tags": []
   },
   "outputs": [],
   "source": [
    ".__sizeof__()\n",
    "\n",
    "a = [1, 'hello', 4, [10,45], False]\n",
    "b = tuple([1, 'hello', 4, [10,45], False])\n",
    "\n",
    "print(a.__sizeof__())\n",
    "print(b.__sizeof__())\n",
    "\n",
    "#80\n",
    "#64"
   ]
  },
  {
   "cell_type": "markdown",
   "id": "5f395d67-7bbe-4e70-8b05-919c4ba60eb9",
   "metadata": {},
   "source": [
    "### Изменение кортежа через преобразование в список"
   ]
  },
  {
   "cell_type": "code",
   "execution_count": null,
   "id": "81d7ea1e-0bf4-4ead-8dd8-8852aef0d8b0",
   "metadata": {
    "editable": true,
    "slideshow": {
     "slide_type": ""
    },
    "tags": []
   },
   "outputs": [],
   "source": [
    "a = (1,2,3)\n",
    "a = list(a)\n",
    "a.append(100)\n",
    "a.reverse()\n",
    "a = tuple(a)\n",
    "\n",
    "print(a)\n",
    "# (100, 3, 2, 1)"
   ]
  },
  {
   "cell_type": "markdown",
   "id": "c99fd133-ddd2-47d5-9d13-954a7c562429",
   "metadata": {},
   "source": [
    "# Множества {}"
   ]
  },
  {
   "cell_type": "markdown",
   "id": "5ddb6a07-6ea4-41ed-85b4-50b683114565",
   "metadata": {},
   "source": [
    "В Python множество (тип данных set) — это неупорядоченная коллекция уникальных элементов. Множество в Python может состоять только из неизменяемых объектов."
   ]
  },
  {
   "cell_type": "markdown",
   "id": "27008520-3090-46ee-a708-08a2565154fb",
   "metadata": {},
   "source": [
    "## Способы создания множества"
   ]
  },
  {
   "cell_type": "markdown",
   "id": "981f4c2b-df0d-492d-a91e-0a36c8626b41",
   "metadata": {},
   "source": [
    "### 1️⃣ С помощью фигурных скобок {}:"
   ]
  },
  {
   "cell_type": "code",
   "execution_count": null,
   "id": "ac779bad-faf2-4861-950b-0f6dd53e73f5",
   "metadata": {},
   "outputs": [],
   "source": [
    "# Множество чисел\n",
    "a = {1, 2, 3}\n",
    "print(a)  # {1, 2, 3}\n",
    "print(type(a))  # <class 'set'>"
   ]
  },
  {
   "cell_type": "code",
   "execution_count": null,
   "id": "e0fdfc70-2d1c-4124-b8d5-712e2b7d9556",
   "metadata": {},
   "outputs": [],
   "source": [
    "# Дублирующиеся элементы автоматически игнорируются\n",
    "b = {1, 2, 1, 2, 3, 1, 1, 4}\n",
    "print(b)  # {1, 2, 3, 4}\n",
    "print(type(b))  # <class 'set'>\n",
    "\n",
    "d = {3, 1, 1, 4, 1, 2, 1, 2, }\n",
    "print(d)  # {1, 2, 3, 4}"
   ]
  },
  {
   "cell_type": "markdown",
   "id": "0677319b-d816-490e-b5db-abcf4d4001c3",
   "metadata": {},
   "source": [
    "### 2️⃣ При помощи функции set()"
   ]
  },
  {
   "cell_type": "markdown",
   "id": "2139b27e-1d71-4634-90f0-9caeb75051f6",
   "metadata": {},
   "source": [
    "При таком подходе вы передаёте внутрь функции set() другую итерируемую коллекцию (список, строку и т.д.). В результате все дублирующиеся элементы будут удалены, а коллекция станет множеством."
   ]
  },
  {
   "cell_type": "code",
   "execution_count": null,
   "id": "370ea8e2-ac03-477e-a5c3-a5bdf1ccb4b3",
   "metadata": {},
   "outputs": [],
   "source": [
    "a = set('abcdeabc')\n",
    "print(a)  # {'c', 'a', 'e', 'b', 'd'}\n",
    "print(type(a))  # <class 'set'>\n",
    "\n",
    "b = set([1, 2, 3, 2, 3, 1, 3])\n",
    "print(b)  # {1, 2, 3}\n",
    "print(type(b))  # <class 'set'>\n",
    "\n",
    "c = set(range(5))                \n",
    "print(c)  # {0, 1, 2, 3, 4}      \n",
    "print(type(c))  # <class 'set'>  \n"
   ]
  },
  {
   "cell_type": "markdown",
   "id": "b50e0399-39f4-438a-9894-d0e60e7cdaa3",
   "metadata": {},
   "source": [
    "### Создание пустого множества"
   ]
  },
  {
   "cell_type": "code",
   "execution_count": null,
   "id": "50fb82e6-2776-43b2-a78d-ff9bf8323f9c",
   "metadata": {},
   "outputs": [],
   "source": [
    "a = set()\n",
    "print(a)         # set()\n",
    "print(type(a))   # <class 'set'>"
   ]
  },
  {
   "cell_type": "markdown",
   "id": "33a49cd5-ac58-4efa-b104-a8ddabd4b83e",
   "metadata": {},
   "source": [
    "## Преобразование множества в другие типы данных"
   ]
  },
  {
   "cell_type": "markdown",
   "id": "12c65dd5-2485-42f5-ac62-77303364b9f4",
   "metadata": {},
   "source": [
    "- Множество в список при помощи функции list:"
   ]
  },
  {
   "cell_type": "code",
   "execution_count": null,
   "id": "6230fbc2-0b9b-4259-a7e4-3bf199c0699a",
   "metadata": {},
   "outputs": [],
   "source": [
    "my_set = {1, 2, 3, 4, 5}\n",
    "my_list = list(my_set)\n",
    "\n",
    "print(my_list)  # [1, 2, 3, 4, 5]\n",
    "print(type(my_list))  # <class 'list'>"
   ]
  },
  {
   "cell_type": "markdown",
   "id": "00f58bef-7b7f-4e75-b516-3c4f5262b306",
   "metadata": {},
   "source": [
    "- Список в множество"
   ]
  },
  {
   "cell_type": "code",
   "execution_count": null,
   "id": "f9c33d13-3e6f-499a-b2c4-267eca53308c",
   "metadata": {},
   "outputs": [],
   "source": [
    "my_list = [1, 2, 2, 3, 3, 4]\n",
    "\n",
    "my_set = set(my_list)\n",
    "\n",
    "print(my_set)  # {1, 2, 3, 4}\n",
    "print(type(my_set))  # <class 'set'>"
   ]
  },
  {
   "cell_type": "markdown",
   "id": "9ccf26cd-f79c-43cb-9da7-e8a8a95e26aa",
   "metadata": {},
   "source": [
    "- Множество можно преобразовать в кортеж и наоборот:"
   ]
  },
  {
   "cell_type": "code",
   "execution_count": null,
   "id": "d890c13b-f5c3-413c-9258-17f75d206e34",
   "metadata": {},
   "outputs": [],
   "source": [
    "my_set = {10, 20, 30}\n",
    "my_tuple = tuple(my_set)\n",
    "\n",
    "print(my_tuple)  # (10, 20, 30)\n",
    "print(type(my_tuple))  # <class 'tuple'>\n",
    "\n",
    "my_set_2 = set((my_tuple))\n",
    "print(my_set_2)  # {10, 20, 30}\n",
    "print(type(my_set_2))  # <class 'set'>"
   ]
  },
  {
   "cell_type": "markdown",
   "id": "616ae997-0b97-4659-a326-4d5e00dd5050",
   "metadata": {},
   "source": [
    "- Множество можно преобразовать в строку при помощи функции str"
   ]
  },
  {
   "cell_type": "code",
   "execution_count": null,
   "id": "898b1b54-24e3-4220-9143-0e2c9c5955d0",
   "metadata": {},
   "outputs": [],
   "source": [
    "my_set = {1, 2, 3}\n",
    "my_str = str(my_set)\n",
    "\n",
    "print(my_str)  # \"{1, 2, 3}\"\n",
    "print(type(my_str))  # <class 'str'>"
   ]
  },
  {
   "cell_type": "markdown",
   "id": "54f10f03-f165-4526-9854-262c5682f17f",
   "metadata": {},
   "source": [
    "Если ваше множество состоит целиком из строк, то можно воспользоваться строковым методов join"
   ]
  },
  {
   "cell_type": "code",
   "execution_count": null,
   "id": "0bce0c7a-d98b-4e32-8cd0-ae881681cae3",
   "metadata": {},
   "outputs": [],
   "source": [
    "word_set = {\"apple\", \"banana\", \"cherry\"}\n",
    "text = \", \".join(word_set)\n",
    "\n",
    "print(text)  # 'banana, cherry, apple'"
   ]
  },
  {
   "cell_type": "markdown",
   "id": "dd9d357e-a2d2-4616-9c8f-6306caabe1bd",
   "metadata": {},
   "source": [
    "Чтобы объединить числовое множество в строку, нужно преобразовать числа в строки, например через map:"
   ]
  },
  {
   "cell_type": "code",
   "execution_count": null,
   "id": "19bbe568-6e19-4a6a-925b-fab196b496b9",
   "metadata": {},
   "outputs": [],
   "source": [
    "num_set = {1, 2, 3}\n",
    "text = \", \".join(map(str, num_set))\n",
    "\n",
    "print(text)  # '1, 2, 3'"
   ]
  },
  {
   "cell_type": "markdown",
   "id": "51cd1161-47d5-4abd-b6a2-9a66ea54a0c6",
   "metadata": {},
   "source": [
    "или генератор списков:"
   ]
  },
  {
   "cell_type": "code",
   "execution_count": null,
   "id": "738a1ac6-174e-49fa-a84a-61c3fe3bfbd4",
   "metadata": {},
   "outputs": [],
   "source": [
    "num_set = {1, 2, 3}\n",
    "text = \", \".join([str(num) for num in num_set])\n",
    "\n",
    "print(text)  # '1, 2, 3'"
   ]
  },
  {
   "cell_type": "markdown",
   "id": "785a7de1-2306-45d6-8e22-d8519da47766",
   "metadata": {},
   "source": [
    "## Множества в Python и булевые значения (True и False)"
   ]
  },
  {
   "cell_type": "markdown",
   "id": "c9a79de0-ce21-43d9-908a-c6ea4ef7a031",
   "metadata": {},
   "source": [
    "Булево значение True в Python эквивалентно числу 1. Поэтому если добавить 1 и True в множество, Python не добавит второй элемент, так как множества не допускают дубликатов."
   ]
  },
  {
   "cell_type": "code",
   "execution_count": null,
   "id": "6724bda1-2b85-42d9-8285-0b0c6e6988a3",
   "metadata": {},
   "outputs": [],
   "source": [
    "my_set = {1, True}\n",
    "print(my_set)  # {1}"
   ]
  },
  {
   "cell_type": "markdown",
   "id": "9235302a-c345-4eaa-a731-e21a1a1b8c9d",
   "metadata": {},
   "source": [
    "## Итоговая таблица изученных методов множеств\n",
    "\n",
    "| Метод                          | Описание                                          | Пример                         | Битовый эквивалент |\n",
    "|--------------------------------|-------------------------------------------------|--------------------------------|--------------------|\n",
    "| `.copy()`                      | Создаёт копию множества                         | `b = a.copy()`                 | —                  |\n",
    "| `.clear()`                     | Удаляет все элементы                            | `a.clear()`                    | —                  |\n",
    "| `.remove(x)`                   | Удаляет `x`, вызывает ошибку, если `x` нет      | `a.remove(5)`                  | —                  |\n",
    "| `.discard(x)`                  | Удаляет `x`, не вызывает ошибку                | `a.discard(5)`                 | —                  |\n",
    "| `.pop()`                       | Удаляет случайный элемент                       | `removed = a.pop()`            | —                  |\n",
    "| `.add(x)`                      | Добавляет элемент `x`                          | `a.add(10)`                    | —                  |\n",
    "| `.update(iterable)`            | Добавляет несколько элементов                  | `a.update([4, 5, 6])`          | `a \\|= {4, 5, 6}`   |\n",
    "| `.union(iterable)`             | Объединяет множества, не изменяя исходное      | `c = a.union(b)`               | `c = a \\| b`        |\n",
    "| `.intersection(iterable)`      | Пересечение множеств, не изменяя исходное      | `c = a.intersection(b)`        | `c = a & b`        |\n",
    "| `.intersection_update(iterable)` | Пересечение множеств, изменяет `a`            | `a.intersection_update(b)`     | `a &= b`           |\n",
    "| `.difference(iterable)`        | Разность множеств, не изменяя исходное         | `c = a.difference(b)`          | `c = a - b`        |\n",
    "| `.difference_update(iterable)` | Разность множеств, изменяет `a`                | `a.difference_update(b)`       | `a -= b`           |\n",
    "| `.symmetric_difference(iterable)` | Симметрическая разность, не изменяя исходное | `c = a.symmetric_difference(b)` | `c = a ^ b`        |\n",
    "| `.symmetric_difference_update(iterable)` | Симметрическая разность, изменяет `a` | `a.symmetric_difference_update(b)` | `a ^= b`           |\n"
   ]
  },
  {
   "cell_type": "markdown",
   "id": "82753231-3502-4276-a3c3-6f7e6f3d263d",
   "metadata": {},
   "source": [
    "## Операции над множествами"
   ]
  },
  {
   "cell_type": "markdown",
   "id": "93644ad9-9943-4a93-be3d-7fb8c8438810",
   "metadata": {},
   "source": [
    "### Определение длины"
   ]
  },
  {
   "cell_type": "code",
   "execution_count": null,
   "id": "3d38a199-3e75-4fb5-9423-cb7912ce0c7b",
   "metadata": {},
   "outputs": [],
   "source": [
    "а = {1, 2, 3, 4}\n",
    "print(len(a))"
   ]
  },
  {
   "cell_type": "markdown",
   "id": "44ddf27e-3e6c-40cc-bacc-e38eee122989",
   "metadata": {},
   "source": [
    "### Проверка вхождения элемента в множество"
   ]
  },
  {
   "cell_type": "code",
   "execution_count": null,
   "id": "51a6b049-4d51-4f0c-a3b1-8f657c6b476a",
   "metadata": {},
   "outputs": [],
   "source": [
    "а = {1, 2, 3, 4}\n",
    "print(4 in a, 7 in a, 7 not in a)"
   ]
  },
  {
   "cell_type": "markdown",
   "id": "0d9d4f46-a8d0-4174-bb48-6f31fc6272f0",
   "metadata": {},
   "source": [
    "### Поиск максимального и минимального элемента"
   ]
  },
  {
   "cell_type": "code",
   "execution_count": null,
   "id": "b6e191f7-269e-467a-a70f-cf76e9871977",
   "metadata": {},
   "outputs": [],
   "source": [
    "a = {1, 2, 3}\n",
    "print(min(a), max(a))  # 1 3\n",
    "\n",
    "b = {11, 19, 22, 2, 13, 22, 10}\n",
    "print(min(b), max(b))  # 2 22"
   ]
  },
  {
   "cell_type": "markdown",
   "id": "a9e9709e-7927-49f8-88d4-d40bbfecbdae",
   "metadata": {},
   "source": [
    "### Суммирование элементов множества"
   ]
  },
  {
   "cell_type": "code",
   "execution_count": null,
   "id": "841b2ab6-43b2-4c8a-960b-c1e14185b8bc",
   "metadata": {},
   "outputs": [],
   "source": [
    "a = {2, 4, 5, 7, 8, 9}\n",
    "print(sum(a))  # 35"
   ]
  },
  {
   "cell_type": "markdown",
   "id": "52d00efd-1e8d-4c3a-bd32-680f27c0b721",
   "metadata": {},
   "source": [
    "### Сортировка множества."
   ]
  },
  {
   "cell_type": "code",
   "execution_count": null,
   "id": "19c20f0c-600f-4d4b-bae8-af75bba5dc32",
   "metadata": {},
   "outputs": [],
   "source": [
    "# Sorted выдает именно список (не множество) отсортированных значений. \n",
    "\n",
    "\n",
    "my_set = {8, 4, 7, 5, 2, 3, 6}\n",
    "sorted_list = sorted(my_set)\n",
    "print(sorted_list)  # [2, 3, 4, 5, 6, 7, 8]"
   ]
  },
  {
   "cell_type": "code",
   "execution_count": null,
   "id": "5a55dbc5-d927-42fb-804c-7b28f1710cb9",
   "metadata": {},
   "outputs": [],
   "source": [
    "words = {\n",
    "    'profit', 'fare', 'thesis', 'architecture',\n",
    "    'hero', 'shrink', 'north', 'drill', 'toast'\n",
    "}\n",
    "print(sorted(words))\n",
    "# ['architecture', 'drill', 'fare', 'hero', 'north', 'profit', 'shrink', 'thesis', 'toast']"
   ]
  },
  {
   "cell_type": "markdown",
   "id": "25981b89-2704-4e5f-9fb6-e1d09f53a3a9",
   "metadata": {},
   "source": [
    "- Функция reversed() не работает с множествами, так как они неупорядочены."
   ]
  },
  {
   "cell_type": "code",
   "execution_count": null,
   "id": "d1fee73a-cebb-4559-ad0a-1ccfd8902ab9",
   "metadata": {},
   "outputs": [],
   "source": []
  },
  {
   "cell_type": "markdown",
   "id": "63e847f1-e802-48f8-8d99-405c0eb33169",
   "metadata": {},
   "source": [
    "### Пересечение множеств (получение общих элементов)"
   ]
  },
  {
   "cell_type": "markdown",
   "id": "637dda54-8830-4345-aebd-c868f5a486b2",
   "metadata": {},
   "source": [
    "- Пересечение множеств возвращает элементы, которые присутствуют в обоих множествах. Выполняется при помощи оператора &"
   ]
  },
  {
   "cell_type": "markdown",
   "id": "c18c42e2-a181-4eee-baf8-e3256e0529d4",
   "metadata": {},
   "source": [
    "![](images/set1.png)"
   ]
  },
  {
   "cell_type": "code",
   "execution_count": null,
   "id": "5610b848-803a-4a0f-84bb-baa76bc9d2f8",
   "metadata": {},
   "outputs": [],
   "source": [
    "# Способ 1: оператор &\n",
    "a = {1, 2, 3, 4}\n",
    "b = {3, 4, 5, 6, 7}\n",
    "res = a & b\n",
    "print(res) #{3, 4}\n",
    "print(a) #{1, 2, 3, 4}\n",
    "\n",
    "\n",
    "# Способ 2: оператор &= (изменяет a)\n",
    "a &= b \n",
    "print(a) # {3, 4}\n",
    "\n",
    "\n",
    "# Способ 3: метод intersection() == Способ 1\n",
    "a.intersection(b)\n",
    "\n",
    "\n",
    "# Способ 4: метод intersection_update() (изменяет a) == Способ 2"
   ]
  },
  {
   "cell_type": "markdown",
   "id": "9c599db2-b0bf-4195-88f5-468836fac3a8",
   "metadata": {},
   "source": [
    "### Объединение множеств (все уникальные элементы из обоих множеств):"
   ]
  },
  {
   "cell_type": "markdown",
   "id": "cc25dd75-7e02-4139-9c77-73d8e1d5db00",
   "metadata": {},
   "source": [
    "![](images/set2.png)"
   ]
  },
  {
   "cell_type": "markdown",
   "id": "c805b115-cca1-4ae1-a96a-f0ff48f8226c",
   "metadata": {},
   "source": [
    "- Объединение множеств возвращает новое множество, содержащее все элементы из обоих множеств (без повторений). Выполняется при помощи оператора |"
   ]
  },
  {
   "cell_type": "code",
   "execution_count": null,
   "id": "53f86615-b657-455e-882f-abb842b92f29",
   "metadata": {},
   "outputs": [],
   "source": [
    "a = {1, 2, 3, 4}\n",
    "b = {3, 4, 5, 6, 7}\n",
    "\n",
    "# Способ 1: оператор |\n",
    "setA | setB  \n",
    "\n",
    "# Способ 2: оператор |= (изменяет setA)\n",
    "setA |= setB  \n",
    "\n",
    "# Способ 3: метод union()\n",
    "setA.union(setB)   \n",
    "# Результат: {1, 2, 3, 4, 5, 6, 7}"
   ]
  },
  {
   "cell_type": "markdown",
   "id": "2c0dfbc2-03cb-40d9-9970-ed4783f9be74",
   "metadata": {},
   "source": [
    "### Разность множеств (элементы первого множества, которых нет во втором):"
   ]
  },
  {
   "cell_type": "markdown",
   "id": "08b009f1-cbdc-499a-b2ee-711a406fbb03",
   "metadata": {},
   "source": [
    "- Разность множеств возвращает элементы, которые есть в первом множестве, но отсутствуют во втором. Выполняется при помощи оператора - следующим образом:"
   ]
  },
  {
   "cell_type": "markdown",
   "id": "3f432d14-031c-4e62-ae40-f1c9ded167a4",
   "metadata": {},
   "source": [
    "![](images/set3.png) ![](images/set4.png)\n"
   ]
  },
  {
   "cell_type": "code",
   "execution_count": null,
   "id": "7bf920ce-29bc-4921-b53e-af176cd13d06",
   "metadata": {},
   "outputs": [],
   "source": [
    "setA = {1, 2, 3, 4}\n",
    "setB = {3, 4, 5, 6, 7}\n",
    "\n"
   ]
  },
  {
   "cell_type": "code",
   "execution_count": null,
   "id": "9da39297-2622-4501-b838-4b70b891d280",
   "metadata": {},
   "outputs": [],
   "source": [
    "# Способ 1: оператор -\n",
    "setA - setB \n",
    "setB - setA\n",
    "\n",
    "# Способ 2: оператор -= (изменяет setA)\n",
    "setA -= setB\n",
    "\n",
    "\n",
    "# Способ 3: метод difference()\n",
    "setA.difference(setB) \n",
    "# Результат: {1, 2}"
   ]
  },
  {
   "cell_type": "markdown",
   "id": "7ead5ace-5c24-4a64-accf-cbd49ef661a3",
   "metadata": {},
   "source": [
    "### Симметрическая разность (уникальные элементы, которые есть только в одном из множеств):"
   ]
  },
  {
   "cell_type": "markdown",
   "id": "05276d15-10d6-40ed-9d17-6e0280de57ad",
   "metadata": {},
   "source": [
    "![](images/set5.png)"
   ]
  },
  {
   "cell_type": "markdown",
   "id": "d6448b45-11fd-4de4-9fa1-bcfac0a8a5ba",
   "metadata": {},
   "source": [
    "- Симметрическая разность ( от английского symmetric difference) двух множеств – это операция,  позволяющая получить новое множество, в которое включены все элементы двух множеств, не принадлежащие одновременно обоим исходным множествам. Также симметрическую разность можно рассматривать как разность между объединением и пересечением исходных множеств. В математике симметрическая разность множеств A и В обозначается так \n",
    "A△B"
   ]
  },
  {
   "cell_type": "code",
   "execution_count": null,
   "id": "451766dc-9644-46ae-9202-1dd7d98a8971",
   "metadata": {},
   "outputs": [],
   "source": [
    "setA = {1, 2, 3, 4}\n",
    "setB = {3, 4, 5, 6, 7}\n",
    "\n",
    "# Способ 1: оператор ^\n",
    "setA ^ setB \n",
    "\n",
    "# Способ 2: метод symmetric_difference()\n",
    "setA.symmetric_difference(setB) # Результат: {1, 2, 5, 6, 7}\n"
   ]
  },
  {
   "cell_type": "markdown",
   "id": "acc595eb-57fe-4a54-85e7-6fee0c9d55a9",
   "metadata": {},
   "source": [
    "### Сравнение множеств"
   ]
  },
  {
   "cell_type": "markdown",
   "id": "f374b0ee-ef6c-40f6-8057-be0fe386ee7d",
   "metadata": {},
   "source": [
    "![](images/set6.png)"
   ]
  },
  {
   "cell_type": "code",
   "execution_count": null,
   "id": "e627673b-c34c-4101-a621-d48fb78beb73",
   "metadata": {},
   "outputs": [],
   "source": [
    "setA = {7, 6, 5, 4, 3}\n",
    "setB = {3, 4, 5, 6, 7}\n",
    "setA == setB  # True, так как порядок элементов не важен\n",
    "setA != setB  # False"
   ]
  },
  {
   "cell_type": "code",
   "execution_count": null,
   "id": "ebe03606-3d6a-4828-8316-e3a7748ea4c6",
   "metadata": {},
   "outputs": [],
   "source": [
    "setA = {7, 6, 5, 4, 3}\n",
    "setB = {3, 4, 5}\n",
    "setB < setA   # True, так как setB является подмножеством setA\n",
    "setB > setA   # False"
   ]
  },
  {
   "cell_type": "markdown",
   "id": "d759cf69-9bc6-4c91-b5b0-a7e8dc510669",
   "metadata": {},
   "source": [
    "### Подмножество (subset)"
   ]
  },
  {
   "cell_type": "markdown",
   "id": "263c696f-39a3-4d5b-8061-b18eac5e3ec7",
   "metadata": {},
   "source": [
    "Множество A является подмножеством множества B (A ⊆ B), если все элементы A также содержатся в B."
   ]
  },
  {
   "cell_type": "code",
   "execution_count": null,
   "id": "f4931429-10fe-47a5-8071-d36d243c4d67",
   "metadata": {},
   "outputs": [],
   "source": [
    "A = {1, 2, 3}\n",
    "B = {1, 2, 3, 4, 5}\n",
    "C = {1, 2, 3}\n",
    "\n",
    "print(A <= B)  # True (A является подмножеством B)\n",
    "print(A < B)   # True (строгое подмножество)\n",
    "print(B < A)   # False (B не является подмножеством A)\n",
    "print(A <= C)  # True (A является подмножеством C)\n",
    "print(A < C)  # False (A не является строгим подмножеством C)"
   ]
  },
  {
   "cell_type": "markdown",
   "id": "82f6e0b2-e034-4fe5-b546-eee822f30e75",
   "metadata": {},
   "source": [
    "### Надмножество (superset)"
   ]
  },
  {
   "cell_type": "markdown",
   "id": "050d1121-0b19-476c-8eb3-3a862a974b59",
   "metadata": {},
   "source": [
    "Множество B является надмножеством множества A, если B содержит все элементы A."
   ]
  },
  {
   "cell_type": "code",
   "execution_count": null,
   "id": "c3e52ff0-d35a-421f-9f0c-8bfed8959341",
   "metadata": {},
   "outputs": [],
   "source": [
    "A = {1, 2, 3}\n",
    "B = {1, 2, 3, 4, 5}\n",
    "C = {1, 2, 3}\n",
    "\n",
    "print(B >= A)  # True (B является надмножеством A)\n",
    "print(B > A)   # True (строгое надмножество)\n",
    "print(A > B)   # False (A не является надмножеством B)\n",
    "print(A >= C)  # True (A является надмножеством C)\n",
    "print(A > C)  # False (A не является строгим надмножеством C)"
   ]
  },
  {
   "cell_type": "markdown",
   "id": "02c61961-e8f6-4dcd-b369-00ae3a1517ca",
   "metadata": {},
   "source": [
    "## frozenset неизменяемоe множествo"
   ]
  },
  {
   "cell_type": "markdown",
   "id": "8bb38547-6b67-41a1-b810-6376997d9b22",
   "metadata": {},
   "source": [
    "Практически все операции, доступные для обычного множества (set), применимы и к frozenset. Это делает данный тип данных удобным для работы с неизменяемыми коллекциями."
   ]
  },
  {
   "cell_type": "markdown",
   "id": "28670d6d-50be-42b6-802d-e518479d12f5",
   "metadata": {},
   "source": [
    "### Создание пустого неизменяемого множества"
   ]
  },
  {
   "cell_type": "code",
   "execution_count": null,
   "id": "6a735190-b45d-49cd-a3de-8607ab21138a",
   "metadata": {},
   "outputs": [],
   "source": [
    "# Создание пустого frozenset\n",
    "f_set = frozenset()\n",
    "print(f_set)  # frozenset()\n",
    "print(type(f_set))  # <class 'frozenset'>"
   ]
  },
  {
   "cell_type": "markdown",
   "id": "11068536-75a5-4c3e-ae8d-a2172883bdbe",
   "metadata": {},
   "source": [
    "Вы также можете передать в функцию frozenset() пустую последовательность, например, список, строку, кортеж или словарь. Результат будет таким же:"
   ]
  },
  {
   "cell_type": "code",
   "execution_count": null,
   "id": "c1c4f1fe-b84e-43f3-8083-ea2624873b05",
   "metadata": {},
   "outputs": [],
   "source": [
    "# Использование пустой последовательности\n",
    "empty_list = frozenset([])\n",
    "print(empty_list)  # frozenset()\n",
    "\n",
    "empty_string = frozenset('')\n",
    "print(empty_string)  # frozenset()\n",
    "\n",
    "empty_dict = frozenset({})\n",
    "print(empty_dict)  # frozenset()"
   ]
  },
  {
   "cell_type": "markdown",
   "id": "c8406d23-f044-43f2-bad4-9ba7616991be",
   "metadata": {},
   "source": [
    "Мы можем создать frozenset на основании любой другой итерируемой коллекции, а именно  на основании:\n",
    "\n",
    "     ✔️  строки;\n",
    "\n",
    "     ✔️  списка;\n",
    "\n",
    "     ✔️  кортежа;\n",
    "\n",
    "     ✔️  множества;\n",
    "\n",
    "     ✔️  словаря."
   ]
  },
  {
   "cell_type": "code",
   "execution_count": null,
   "id": "edcc2e3d-8052-4334-963d-50075f011113",
   "metadata": {},
   "outputs": [],
   "source": [
    "# На основе строки\n",
    "fr_abra = frozenset('abracadabra')\n",
    "print(fr_abra)  # frozenset({'a', 'b', 'c', 'd', 'r'})\n",
    "\n",
    "# На основе списка\n",
    "fr_nums = frozenset([2, 1, 2, 4, 5, 2, 1])\n",
    "print(fr_nums)  # frozenset({1, 2, 4, 5})\n",
    "\n",
    "# На основе словаря (берутся только ключи)\n",
    "lang = {'eng': 'Английский', 'ru': 'Русский'}\n",
    "print(frozenset(lang))  # frozenset({'eng', 'ru'})\n",
    "\n",
    "# На основе множества\n",
    "my_set = {1, 2, 2, 3}\n",
    "print(frozenset(my_set))  # frozenset({1, 2, 3})"
   ]
  },
  {
   "cell_type": "markdown",
   "id": "60918767-d6bc-496c-9f4c-64ea2a20d609",
   "metadata": {},
   "source": [
    "### frozenset в качестве ключа словаря"
   ]
  },
  {
   "cell_type": "code",
   "execution_count": null,
   "id": "7e491244-f7c1-4e35-ae3d-9be54d16e3bd",
   "metadata": {},
   "outputs": [],
   "source": [
    "d = {}\n",
    "d[frozenset([1, 2, 3])] = 'Раз Два Три'\n",
    "\n",
    "# Все обращения к эквивалентным ключам дадут один и тот же результат\n",
    "print(d[frozenset([1, 2, 3, 3])])  # Раз Два Три\n",
    "print(d[frozenset([3, 3, 3, 2, 1, 1, 1])])  # Раз Два Три\n",
    "print(d[frozenset([2, 1, 3])])  # Раз Два Три\n"
   ]
  },
  {
   "cell_type": "markdown",
   "id": "c299213c-1ad4-4f58-a61d-3e08965742ca",
   "metadata": {},
   "source": [
    "Использование frozenset как ключа в словарях особенно полезно, когда необходимо хранить данные, связанные с наборами элементов, которые не должны изменяться и их порядок не имеет значения. Например, страны и их список официальных языков."
   ]
  },
  {
   "cell_type": "code",
   "execution_count": null,
   "id": "70413554-f087-4b34-bac6-92fbca9b9ba0",
   "metadata": {},
   "outputs": [],
   "source": [
    "country_languages = {\n",
    "    \"Switzerland\": frozenset([\"German\", \"French\", \"Italian\", \"Romansh\"]),\n",
    "    \"Canada\": frozenset([\"English\", \"French\"]),\n",
    "    \"India\": frozenset([\"Hindi\", \"English\"]),\n",
    "}"
   ]
  },
  {
   "cell_type": "markdown",
   "id": "5da5910d-be40-4d19-9610-c0c82c5056bd",
   "metadata": {},
   "source": [
    "**Генераторы множеств и генераторы словарей**"
   ]
  },
  {
   "cell_type": "markdown",
   "id": "2993b7e9-dbad-4154-84d2-51b97ac6d53e",
   "metadata": {},
   "source": [
    "- Примеры:"
   ]
  },
  {
   "cell_type": "code",
   "execution_count": null,
   "id": "c231bcb2-ddf8-4b36-8bdc-7785db4100d8",
   "metadata": {},
   "outputs": [],
   "source": [
    "[<способ формирования значения> for <счетчик> in <итерируемый объект>]\n",
    "a = [x ** 2 for x in range(1, 5)] список\n",
    "a = {x ** 2 for x in range(1, 5)} множество\n",
    "a = {x: x ** 2 for x in range(1, 5)} словарь\n",
    "\n",
    "# все ключи записать заглавными буквами, а значения представить целыми числами:\n",
    "m = {\"неудовл.\": 2, \"удовл.\": 3, \"хорошо\": '4', \"отлично\": '5'}\n",
    "a = {key.upper(): int(value) for key, value in m.items()}\n",
    "\n",
    "# в множество добавить только положительные числа из списка\n",
    "d = [1, 2, '1', '2', -4, 3, 4]\n",
    "a = {int(x) for x in d if int(x) > 0}\n",
    "\n",
    "# Поменяем  местами ключи и значения и поместим в него только отмети от 2 до 5:\n",
    "m = {\"безнадежно\": 0, \"убого\": 1, \"неудовл.\": 2, \"удовл.\": 3, \"хорошо\": '4', \"отлично\": '5'}\n",
    "a = {int(value): key for key, value in m.items() if int(value) >= 2 and int(value) <= 5}"
   ]
  },
  {
   "cell_type": "markdown",
   "id": "c2d97800-5356-4ae9-8e87-b5d47d1d3ee1",
   "metadata": {},
   "source": [
    "# Функции"
   ]
  },
  {
   "cell_type": "markdown",
   "id": "e46732f4-3878-4d1a-a6af-7d296b82b9df",
   "metadata": {},
   "source": [
    "- Функции - это многократно используемые фрагменты программы. При помощи функций можно объединить несколько инструкций в один блок, присвоить этому блоку имя и затем, обращаясь по имени этого блока, выполнить инструкции внутри него в любом месте программы необходимое число раз.\n",
    "- Функция - активный объект, имя функции - ссылка на такой объект."
   ]
  },
  {
   "cell_type": "markdown",
   "id": "a14e7824-55a4-43e2-81f2-e2d224a36cd4",
   "metadata": {},
   "source": [
    "![](images/func.png)"
   ]
  },
  {
   "cell_type": "markdown",
   "id": "8a3aea67-a917-45dc-b59e-3321cf4dbc66",
   "metadata": {},
   "source": [
    "Здесь функция под именем f принимает один аргумент x. Результатом работы данной функции будет возведение в квадрат переданного значения х."
   ]
  },
  {
   "cell_type": "markdown",
   "id": "353f7a9f-5450-481c-8bde-8ba6e02c3788",
   "metadata": {},
   "source": [
    "### Определение функции, вызов функции"
   ]
  },
  {
   "cell_type": "code",
   "execution_count": null,
   "id": "759f7639-5b52-4bd7-9cc5-d8da161954ba",
   "metadata": {},
   "outputs": [],
   "source": [
    "f = print\n",
    "f(\"hello\")\n",
    "print = \"это была функция print\"\n",
    "f(print)"
   ]
  },
  {
   "cell_type": "code",
   "execution_count": null,
   "id": "1f2b41a8-06fd-408e-a770-bdec706e9e4c",
   "metadata": {},
   "outputs": [],
   "source": [
    "# определение функции\n",
    "\n",
    "def say_hello():\n",
    "    print('hello')\n",
    "    print('world')\n",
    "    print('and everybody')\n",
    "\n",
    "# вызов функции\n",
    "\n",
    "say_hello()\n",
    "print('-' * 15)\n",
    "say_hello()"
   ]
  },
  {
   "cell_type": "markdown",
   "id": "1b0e982d-af0e-4505-9dc2-9e949fd0dac9",
   "metadata": {},
   "source": [
    "### Определение функции с параметрами"
   ]
  },
  {
   "cell_type": "code",
   "execution_count": null,
   "id": "da10cd2c-6997-4db0-80b1-8839accfda5e",
   "metadata": {},
   "outputs": [],
   "source": [
    "def calculate_square(x):\n",
    "    print(f'Квадрат числа {x} = {x**2}')\n",
    "\n",
    "calculate_square(5)    # Квадрат числа 5 = 25\n",
    "calculate_square(-7)   # Квадрат числа -7 = 49\n",
    "calculate_square(10)   # Квадрат числа 10 = 100"
   ]
  },
  {
   "cell_type": "markdown",
   "id": "06b6f4a4-5b3d-4f5c-8a8a-ef56383fecf4",
   "metadata": {},
   "source": [
    "### Функция с двумя параметрами"
   ]
  },
  {
   "cell_type": "code",
   "execution_count": null,
   "id": "1d2eb9a5-38f5-4a16-8e88-027fff76e357",
   "metadata": {},
   "outputs": [],
   "source": [
    "def multiply(a, b):\n",
    "    print(f'Результат умножения {a} * {b} = {a * b}')\n",
    "\n",
    "multiply(3, 5)      # Результат умножения 3 * 5 = 15\n",
    "multiply(70, -3)    # Результат умножения 70 * -3 = -210\n",
    "multiply(4, 2.5)    # Результат умножения 4 * 2.5 = 10.0"
   ]
  },
  {
   "cell_type": "markdown",
   "id": "ec24c497-4eb4-4d0a-b4e2-33b20f3f7f5a",
   "metadata": {},
   "source": [
    "### Условия и циклы внутри функций"
   ]
  },
  {
   "cell_type": "markdown",
   "id": "809d0691-2626-4753-b9fd-946b2b9f7ca6",
   "metadata": {},
   "source": [
    "1️⃣ Функция, проверяющая четность числа"
   ]
  },
  {
   "cell_type": "code",
   "execution_count": null,
   "id": "11eb77d3-722b-4a50-a711-7a817c93cccc",
   "metadata": {},
   "outputs": [],
   "source": [
    "def check_even(n):\n",
    "    if n % 2 == 0:\n",
    "        print(f\"Число {n} четное\")\n",
    "    else:\n",
    "        print(f\"Число {n} нечетное\")\n",
    "\n",
    "check_even(4)   # Число 4 четное\n",
    "check_even(7)   # Число 7 нечетное\n",
    "check_even(0)   # Число 0 четное"
   ]
  },
  {
   "cell_type": "markdown",
   "id": "2577fadc-54eb-4079-91e6-c7dd958f6a36",
   "metadata": {},
   "source": [
    "2️⃣ Функция для вычисления факториала числа"
   ]
  },
  {
   "cell_type": "code",
   "execution_count": null,
   "id": "95325e66-2db8-4255-bf10-b147cbb09999",
   "metadata": {},
   "outputs": [],
   "source": [
    "def factorial(n):\n",
    "    result = 1\n",
    "    for i in range(1, n + 1):  # Перебираем числа от 1 до n\n",
    "        result *= i  # Умножаем текущее значение\n",
    "    print(f\"Факториал {n} = {result}\")\n",
    "\n",
    "factorial(5)   # Факториал 5 = 120\n",
    "factorial(7)   # Факториал 7 = 5040\n",
    "factorial(1)   # Факториал 1 = 1"
   ]
  },
  {
   "cell_type": "markdown",
   "id": "3518347a-ec69-4561-9acc-44e9406c3d94",
   "metadata": {},
   "source": [
    "### Определение функций с одинаковыми именами"
   ]
  },
  {
   "cell_type": "markdown",
   "id": "36535b44-7f88-41ec-a682-f119fb37cb8b",
   "metadata": {},
   "source": [
    "Если одну и ту же функцию определили дважды, Python использует последнюю."
   ]
  },
  {
   "cell_type": "code",
   "execution_count": null,
   "id": "51ac962f-47b9-4fc6-ba53-0e0820ca496f",
   "metadata": {},
   "outputs": [],
   "source": [
    "def get_rect(a, b):\n",
    "    return 2 * (a + b)\n",
    "\n",
    "def get_rect(a, b):\n",
    "    return a * b\n",
    "\n",
    "print(get_rect(1.5, 3.8))  # Вычисляет площадь (вторая функция)"
   ]
  },
  {
   "cell_type": "markdown",
   "id": "89cd5fbe-a89f-4f95-8f55-219c1dd684ab",
   "metadata": {},
   "source": [
    "### Параметры и аргументы функций"
   ]
  },
  {
   "cell_type": "markdown",
   "id": "8a6cbf3a-b454-4ecb-b345-af129064301e",
   "metadata": {},
   "source": [
    "✅  параметры - это переменные внутри определения функции, которые используются для работы с передаваемыми данными;\n",
    "\n",
    "✅  аргументы - это фактические значения (данные), которые передаются функции в момент вызова."
   ]
  },
  {
   "cell_type": "code",
   "execution_count": null,
   "id": "9bca14be-f1d9-4e28-82c0-8a19799c9820",
   "metadata": {},
   "outputs": [],
   "source": [
    "def summa(a, b):\n",
    "    print(a + b)\n",
    "\n",
    "\n",
    "def summa(a, b):\n",
    "    print(a + b)\n",
    "\n",
    "\n",
    "\n",
    "summa(3, 5)  # 8\n",
    "summa(10, 20)  # 30\n",
    "\n",
    "# a и b — параметры функции, то есть переменные, которые принимают значения;\n",
    "# 3 и 5, 10 и 20 — аргументы, фактические значения, которые мы передаем при вызове функции."
   ]
  },
  {
   "cell_type": "code",
   "execution_count": null,
   "id": "ab14e5c4-6336-4210-babe-7640b959c896",
   "metadata": {},
   "outputs": [],
   "source": [
    "def summa_list(numbers):                                                 \n",
    "    \"\"\"Функция принимает список и печатает сумму его элементов\"\"\"        \n",
    "    print(sum(numbers))                                                  \n",
    "                                                                         \n",
    "                                                                         \n",
    "lst = [10, 20, 30]                                                       \n",
    "summa_list(lst)  # 60 \n",
    "\n",
    "# Здесь функция summa_list имеет параметр numbers\n",
    "# При вызове этой функции в нее передается аргумент [1, 2, 3, 4] — это конкретный список"
   ]
  },
  {
   "cell_type": "code",
   "execution_count": null,
   "id": "814eb31f-81be-4a61-9258-7db7580e88e3",
   "metadata": {},
   "outputs": [],
   "source": []
  },
  {
   "cell_type": "code",
   "execution_count": null,
   "id": "e946e087-1e30-42a9-8fe9-97f9b3d5a297",
   "metadata": {},
   "outputs": [],
   "source": []
  },
  {
   "cell_type": "markdown",
   "id": "f6950a17-ddca-4456-aeb4-a975bf38933c",
   "metadata": {},
   "source": [
    "### Оператор return"
   ]
  },
  {
   "cell_type": "markdown",
   "id": "48370645-9bfc-481d-aad2-be6fcf44a4fe",
   "metadata": {},
   "source": [
    "1. Функция возвращает квадратный корень числа, если оно положительное; если отрицательное — возвращает None.\n",
    "Здесь функция возвращает результат переменной res. Если return не прописать, функция вернет None по умолчанию."
   ]
  },
  {
   "cell_type": "code",
   "execution_count": null,
   "id": "3a0bff5d-d999-4d98-b877-7466e659de27",
   "metadata": {},
   "outputs": [],
   "source": [
    "def get_sqrt(x):\n",
    "    res = None if x < 0 else x ** 0.5\n",
    "    return res\n",
    "\n",
    "a = get_sqrt(49)\n",
    "print(a)  # Выведет: 7.0"
   ]
  },
  {
   "cell_type": "markdown",
   "id": "bd2c0408-5c99-4bc1-b392-eeaf0e513984",
   "metadata": {},
   "source": [
    "2. После первого оператора return все остальное в функции не выполняется."
   ]
  },
  {
   "cell_type": "code",
   "execution_count": null,
   "id": "f1875f79-b9e9-49f2-bcfe-866dede32199",
   "metadata": {},
   "outputs": [],
   "source": [
    "def get_sqrt(x):\n",
    "    res = None if x < 0 else x ** 0.5\n",
    "    return res\n",
    "    print(\"This won't execute\")  # Не выполнится"
   ]
  },
  {
   "cell_type": "markdown",
   "id": "0cf3898e-7ea5-4835-be5f-881fb35e8d77",
   "metadata": {},
   "source": [
    "3. Возврат нескольких значений"
   ]
  },
  {
   "cell_type": "code",
   "execution_count": null,
   "id": "944a7d07-52ed-4cde-af13-9bbea399101c",
   "metadata": {},
   "outputs": [],
   "source": [
    "def get_sqrt(x):\n",
    "    res = None if x < 0 else x ** 0.5\n",
    "    return res, x\n",
    "\n",
    "a, b = get_sqrt(49)\n",
    "print(a, b)  # Выведет: 7.0, 49"
   ]
  },
  {
   "cell_type": "markdown",
   "id": "dbe7151a-07aa-4bbd-8548-374257f2092d",
   "metadata": {},
   "source": [
    "4. Функция с тернарным оператором для возврата значения. Функция возвращает максимальное значение среди двух чисел."
   ]
  },
  {
   "cell_type": "code",
   "execution_count": null,
   "id": "a72db95a-77c2-46d2-9bc5-1a32cc29e4a4",
   "metadata": {},
   "outputs": [],
   "source": [
    "def get_max2(a, b):\n",
    "    return a if a > b else b\n",
    "\n",
    "print(get_max2(5, 7))  # Выведет: 7"
   ]
  },
  {
   "cell_type": "markdown",
   "id": "39bb5ab9-49bd-4108-a770-91c1b9faf89d",
   "metadata": {},
   "source": [
    "5. Использование вложенных функций\n",
    "Определяем функцию для нахождения максимума среди трех чисел, используя уже объявленную get_max2()."
   ]
  },
  {
   "cell_type": "code",
   "execution_count": null,
   "id": "77f422ce-d59b-40f6-a82d-25493a93be53",
   "metadata": {},
   "outputs": [],
   "source": [
    "def get_max2(a, b):\n",
    "    return a if a > b else b\n",
    "def get_max3(a, b, c):\n",
    "    return get_max2(a, get_max2(b, c))\n",
    "\n",
    "print(get_max3(5, 7, 10))  # Выведет: 10"
   ]
  },
  {
   "cell_type": "markdown",
   "id": "b0cc79fd-a55d-42bc-8afd-735f47466c83",
   "metadata": {},
   "source": [
    "6. Динамическое объявление функций на основе условий\n",
    "Функция get_rect может вычислять либо периметр, либо площадь, в зависимости от значения переменной PERIMETR."
   ]
  },
  {
   "cell_type": "code",
   "execution_count": null,
   "id": "e8c7dac7-462e-43a0-a804-8aeac6d68a82",
   "metadata": {},
   "outputs": [],
   "source": [
    "PERIMETR = True\n",
    "\n",
    "if PERIMETR:\n",
    "    def get_rect(a, b):\n",
    "        return 2 * (a + b)\n",
    "else:\n",
    "    def get_rect(a, b):\n",
    "        return a * b\n",
    "\n",
    "print(get_rect(1.5, 3.8))  # Вычисляет периметр, если PERIMETR = True"
   ]
  },
  {
   "cell_type": "markdown",
   "id": "121212b0-ce88-4b0e-9ab1-35befb2f2235",
   "metadata": {},
   "source": [
    "7. Функция для определения четности числа\n",
    "Возвращает True, если число четное, иначе False."
   ]
  },
  {
   "cell_type": "code",
   "execution_count": null,
   "id": "1f01f0e5-6a72-416f-b577-0a12021c5d7a",
   "metadata": {},
   "outputs": [],
   "source": [
    "def even(x):\n",
    "    return x % 2 == 0\n",
    "\n",
    "for i in range(1, 20):\n",
    "    if even(i):\n",
    "        print(i)  # Выведет все четные числа от 1 до 19"
   ]
  },
  {
   "cell_type": "markdown",
   "id": "ba10413a-777f-4ba4-9de4-01f4e7c4d666",
   "metadata": {},
   "source": [
    "# Типы исключений в python"
   ]
  },
  {
   "cell_type": "markdown",
   "id": "72887911-57fc-47d5-92e4-f732a6092564",
   "metadata": {},
   "source": [
    "### Исключение SyntaxError"
   ]
  },
  {
   "cell_type": "markdown",
   "id": "260a2c01-f4c9-4297-bf73-270bee9bd15f",
   "metadata": {},
   "source": [
    "Ошибка заключается в использовании неправильного синтаксиса языка"
   ]
  },
  {
   "cell_type": "code",
   "execution_count": null,
   "id": "455c3ab6-7252-4081-82e4-51d920523c30",
   "metadata": {},
   "outputs": [],
   "source": [
    "# Пример\n",
    "\n",
    "print 'hello world'\n",
    "\n",
    "\n",
    "В ошибке получаем сообщение:\n",
    "\n",
    "SyntaxError: Missing parentheses in call to 'print'. Did you mean print(...)?"
   ]
  },
  {
   "cell_type": "markdown",
   "id": "e2acbf95-1288-41b4-89cd-b6ad5a746b34",
   "metadata": {},
   "source": [
    "### Исключение NameError"
   ]
  },
  {
   "cell_type": "markdown",
   "id": "868d8d6b-cdad-4858-8f91-d31cefce8873",
   "metadata": {},
   "source": [
    "Возникает, когда вы пытаетесь обратиться к имени, которого не существует в программе"
   ]
  },
  {
   "cell_type": "code",
   "execution_count": null,
   "id": "82dd1edd-424d-452b-bae4-6896af918420",
   "metadata": {},
   "outputs": [],
   "source": [
    "# Пример\n",
    "\n",
    "name = \"John\"\n",
    "print(nam)\n",
    "\n",
    "\n",
    "В сообщении к ошибке мы видим текст:\n",
    "\n",
    "NameError: name 'nam' is not defined. Did you mean: 'name'?"
   ]
  },
  {
   "cell_type": "markdown",
   "id": "061a6216-68e1-4ed9-989b-07d299c99643",
   "metadata": {},
   "source": [
    "### Исключение IndexError"
   ]
  },
  {
   "cell_type": "markdown",
   "id": "7f4f3c5f-8f74-42a3-b0e3-b221bee7940f",
   "metadata": {},
   "source": [
    "- Обращение к несуществующему индексу"
   ]
  },
  {
   "cell_type": "code",
   "execution_count": null,
   "id": "ff9b70c1-8554-4379-a917-c18849a4727c",
   "metadata": {},
   "outputs": [],
   "source": [
    "lst = [1, 2, 3, 4, 5]\n",
    "print(lst[5])\n",
    "\n",
    "\n",
    "IndexError: list index out of range"
   ]
  },
  {
   "cell_type": "markdown",
   "id": "5e9db72f-5d77-4333-b4e0-d63a949131a0",
   "metadata": {},
   "source": [
    "### Исключение KeyError"
   ]
  },
  {
   "cell_type": "markdown",
   "id": "7d2cae70-7925-4012-9486-0f1cfe53f425",
   "metadata": {},
   "source": [
    "- Возникает при обращении по несуществующему ключу в словаре."
   ]
  },
  {
   "cell_type": "code",
   "execution_count": null,
   "id": "a67b675c-280b-4d1f-b553-029f6fde1d14",
   "metadata": {},
   "outputs": [],
   "source": [
    "dct = {\n",
    "    'one': 1,\n",
    "    'two': 2,\n",
    "}\n",
    "print(dct['one'])\n",
    "print(dct[1])\n",
    "\n",
    "\n",
    "---------------------------------------------------------------------------\n",
    "KeyError                                  Traceback (most recent call last)\n",
    "Cell In[12], line 6\n",
    "      1 dct = {\n",
    "      2     'one': 1,\n",
    "      3     'two': 2,\n",
    "      4 }\n",
    "      5 print(dct['one'])\n",
    "----> 6 print(dct[1])\n",
    "\n",
    "KeyError: 1"
   ]
  },
  {
   "cell_type": "markdown",
   "id": "3dc4818b-b90c-453a-a7a7-308c48cf5a79",
   "metadata": {},
   "source": [
    "### Исключение TypeError"
   ]
  },
  {
   "cell_type": "markdown",
   "id": "49804d87-4a60-40d1-84a3-d342e5be9f2e",
   "metadata": {},
   "source": [
    "- Mожет возникнуть при попытке недопустимого преобразования из одного типа в другой"
   ]
  },
  {
   "cell_type": "code",
   "execution_count": null,
   "id": "4c2db5c6-ff08-498e-bab6-78568afd3779",
   "metadata": {},
   "outputs": [],
   "source": [
    "print(int([1, 2]))\n",
    "\n",
    "TypeError: int() argument must be a string, a bytes-like object or a real number, not 'list'"
   ]
  },
  {
   "cell_type": "markdown",
   "id": "e27aa9ce-dc85-491c-abbb-0355992aebd5",
   "metadata": {},
   "source": [
    "Ошибка встретится также при попытке выполнить операцию над объектами, которую они не поддерживают. Типичный пример такой ситуации сложение числа со строкой"
   ]
  },
  {
   "cell_type": "code",
   "execution_count": null,
   "id": "f9ea94d3-4530-4472-b85d-933e09059195",
   "metadata": {},
   "outputs": [],
   "source": [
    "print(7 + '123')\n",
    "\n",
    "TypeError: unsupported operand type(s) for +: 'int' and 'str'"
   ]
  },
  {
   "cell_type": "markdown",
   "id": "80b177f1-e9d9-4e3d-b54f-80b89274f544",
   "metadata": {},
   "source": [
    "- Bызов функции с неверным количеством аргументов."
   ]
  },
  {
   "cell_type": "code",
   "execution_count": null,
   "id": "f4d78849-1d29-438e-b25d-d5aea28bc3c9",
   "metadata": {},
   "outputs": [],
   "source": [
    "def show():\n",
    "    print('Show must go on')\n",
    "\n",
    "show('Hello\n",
    "\n",
    "TypeError: show() takes 0 positional arguments but 1 was given"
   ]
  },
  {
   "cell_type": "markdown",
   "id": "0b2bf4b6-09b6-4a4c-a735-f2047b254adb",
   "metadata": {},
   "source": [
    "### Исключение ValueError"
   ]
  },
  {
   "cell_type": "markdown",
   "id": "fcc45cb4-3b8d-4c7a-895b-d9c5a6706ec8",
   "metadata": {},
   "source": [
    "- Bызывает функцию, передав в нее правильный тип данных, но  с недопустимым значением"
   ]
  },
  {
   "cell_type": "code",
   "execution_count": null,
   "id": "569dc338-c79b-4c71-94f2-7261e2c12b21",
   "metadata": {},
   "outputs": [],
   "source": [
    "print(int('12a'))\n",
    "\n",
    "ValueError: invalid literal for int() with base 10: '12a'"
   ]
  },
  {
   "cell_type": "markdown",
   "id": "2755ce15-3814-40c6-9371-3f84487a3175",
   "metadata": {},
   "source": [
    "- Когда количество переменных и значений в коллекции не совпадают, возникает эта ошибка."
   ]
  },
  {
   "cell_type": "code",
   "execution_count": null,
   "id": "5ebb3360-a683-4eac-9030-233763939b48",
   "metadata": {},
   "outputs": [],
   "source": [
    "fruits = ['Apple', 'Mango', 'Orange']\n",
    "fruits_1, fruits_2 = fruits\n",
    "print(fruits_1, fruits_2)\n",
    "\n",
    "ValueError: too many values ​​to unpack the problem."
   ]
  },
  {
   "cell_type": "markdown",
   "id": "55d13af7-1a81-4022-998d-e21aa7b319fd",
   "metadata": {},
   "source": [
    "### Исключение ZeroDivisionError"
   ]
  },
  {
   "cell_type": "markdown",
   "id": "5d813085-8253-4b75-855e-cfccfb0385a9",
   "metadata": {},
   "source": [
    "- При попытке поделить число на 0"
   ]
  },
  {
   "cell_type": "code",
   "execution_count": null,
   "id": "d37b8ab5-ea4f-42d4-9851-b87382894bb7",
   "metadata": {},
   "outputs": [],
   "source": [
    "print(5 / 0)"
   ]
  },
  {
   "cell_type": "markdown",
   "id": "caa9eef8-eaea-46a7-af9a-36b1148596ed",
   "metadata": {},
   "source": [
    "![](images/exception.png)"
   ]
  },
  {
   "cell_type": "markdown",
   "id": "f5ed6d05-c1df-4840-b5fe-f68cab1f849c",
   "metadata": {},
   "source": [
    "# Обработка исключений"
   ]
  },
  {
   "cell_type": "markdown",
   "id": "fb7138ab-cb58-42e9-9826-e6527d821589",
   "metadata": {},
   "source": [
    "## Оператор try-except"
   ]
  },
  {
   "cell_type": "code",
   "execution_count": null,
   "id": "7caef0e5-436b-4756-9ac5-ee1b92e304a6",
   "metadata": {},
   "outputs": [],
   "source": [
    "# шаблон:\n",
    "\n",
    "try:\n",
    "    # блок_кода\n",
    "except:\n",
    "    # что_делаем_при исключении"
   ]
  },
  {
   "cell_type": "markdown",
   "id": "944f3088-f9f8-44cd-8ca6-8543d7b2fd60",
   "metadata": {},
   "source": [
    "- Если при выполнении кода в блоке try возникла ошибка, то выполнение кода блока  trу​​​​​ ​​прекращается и перескакивает автоматически в блок except. После этого выполняется следующая команда после всей конструкции try-except\n",
    "\n",
    "- Если при выполнении кода в блоке try ошибка не возникла, то код в блоке except выполняться не будет. Далее будут выполняться инструкции, стоящие после всей конструкции try-except"
   ]
  },
  {
   "cell_type": "code",
   "execution_count": null,
   "id": "f7fdf98f-dfcb-4f9a-aa6a-582bd082bd11",
   "metadata": {},
   "outputs": [],
   "source": [
    "try:\n",
    "    # отлавливаем исключение: начало блока кода\n",
    "    print('Пуууу')\n",
    "    print(1 / 0)\n",
    "    print('Пуууу')\n",
    "    print('Пуууу')\n",
    "    # отлавливаем исключение: конец блока кода\n",
    "except:\n",
    "    print('Что то сломалось в try-except')\n",
    "print('Ну и ладно...')  # код вне блока try-except\n",
    "print('Идем дальше')  # код вне блока try-except\n",
    "\n",
    "\n",
    "# Пуууу\n",
    "# Что то сломалось в try-except\n",
    "# Ну и ладно...\n",
    "# Идем дальше"
   ]
  },
  {
   "cell_type": "markdown",
   "id": "f288c257-dfef-4dfe-b858-659cffa242ee",
   "metadata": {},
   "source": [
    "### Указание исключения"
   ]
  },
  {
   "cell_type": "markdown",
   "id": "84b8f3ff-7c22-4ef1-ae40-c898924f5849",
   "metadata": {},
   "source": [
    "- можно перехватывать определенный тип исключений, а не все сразу. Для этого после except нужно указать название типа исключения"
   ]
  },
  {
   "cell_type": "code",
   "execution_count": null,
   "id": "47453ea0-a439-4e8e-b79f-34ae84199ff6",
   "metadata": {},
   "outputs": [],
   "source": [
    "try:\n",
    "    a = int(input())\n",
    "    b = int(input())\n",
    "    print(f'a/b={a / b}')\n",
    "except ZeroDivisionError:\n",
    "    print('Деление на ноль')\n",
    "print('Завершаем работу!')"
   ]
  },
  {
   "cell_type": "markdown",
   "id": "cff563fb-9970-4289-8ab5-2bb073732aa0",
   "metadata": {},
   "source": [
    "- Теперь данная программа будет отлавливать только один тип исключения - ZeroDivisionError, который может возникнуть в блоке try"
   ]
  },
  {
   "cell_type": "markdown",
   "id": "8e049f64-e78d-4615-ae1b-1067f9c1475b",
   "metadata": {},
   "source": [
    "Если хотите обработать более одного исключения в блоке except, вы можете указать их названия через запятую в скобках (тем самым создав кортеж)"
   ]
  },
  {
   "cell_type": "code",
   "execution_count": null,
   "id": "8314ed4e-04d4-494a-849a-c562246ebfb8",
   "metadata": {},
   "outputs": [],
   "source": [
    "try:\n",
    "    a = int(input())\n",
    "    b = int(input())\n",
    "    print(f'a/b={a / b}')\n",
    "except (ZeroDivisionError, ValueError):\n",
    "    print('Проблема в блоке try')\n",
    "print('Завершаем работу!')"
   ]
  },
  {
   "cell_type": "markdown",
   "id": "cd9f59c7-e6cd-4619-88ea-9facb81f98f0",
   "metadata": {},
   "source": [
    "### Несколько блоков except"
   ]
  },
  {
   "cell_type": "markdown",
   "id": "41756df4-cda4-4458-be15-b33918c5652b",
   "metadata": {},
   "source": [
    "- в конструкции try-except может быть несколько блоков except. Возникающее исключение в блоке кода try будет искать первый сверху except, который ему подходит по типу:"
   ]
  },
  {
   "cell_type": "code",
   "execution_count": null,
   "id": "f426eb18-25f5-437c-ab1f-d94902c2b51b",
   "metadata": {},
   "outputs": [],
   "source": [
    "try:\n",
    "    a = int(input())\n",
    "    b = int(input())\n",
    "    print(f'a/b={a / b}')\n",
    "except ValueError:\n",
    "    print('Нельзя преобразовать введенное значение к числу')\n",
    "except ZeroDivisionError:\n",
    "    print('Деление на ноль опасно для жизни программы')\n",
    "print('Завершаем работу!')"
   ]
  },
  {
   "cell_type": "markdown",
   "id": "fe223de0-8b0f-4a46-a543-9734b3e7139a",
   "metadata": {},
   "source": [
    "- Блок except без указания типа исключения обязательно должен быть последним среди всех блоков except"
   ]
  },
  {
   "cell_type": "code",
   "execution_count": null,
   "id": "461430f3-3fd2-4e9b-8dd2-4b807a5d8c7a",
   "metadata": {},
   "outputs": [],
   "source": [
    "try:\n",
    "    print(a + b)\n",
    "    print(5 / 0)\n",
    "    print('abc' + 5)\n",
    "except TypeError:\n",
    "    print('Сложение разных типов')\n",
    "except ZeroDivisionError:\n",
    "    print('Не делите на 0!')\n",
    "except:\n",
    "    print('Любое другое исключение')"
   ]
  },
  {
   "cell_type": "markdown",
   "id": "f117191e-0bcf-4690-be2c-d1074743367b",
   "metadata": {},
   "source": [
    "## Конструкция try-except-else"
   ]
  },
  {
   "cell_type": "markdown",
   "id": "2ef1f5e9-5f20-4cf4-a7aa-e85d294426ea",
   "metadata": {},
   "source": [
    "- В блоке else размещаются инструкции, которые выполнятся только в том случае, если код блока trу отработает без возникновения исключений."
   ]
  },
  {
   "cell_type": "code",
   "execution_count": null,
   "id": "53df3549-b7b0-4b92-bbe9-1c8bc558872a",
   "metadata": {},
   "outputs": [],
   "source": [
    "try:\n",
    "    # блок кода\n",
    "except ТипИсключения1:\n",
    "    # что делаем при исключении ТипИсключения1\n",
    "except ТипИсключения2:\n",
    "    # что делаем при исключении ТипИсключения2\n",
    "except (ТипИсключения3, ТипИсключения4):\n",
    "    # что делаем при исключении ТипИсключения3 или ТипИсключения4\n",
    "...\n",
    "except ТипИсключенияN:\n",
    "    # что делаем при исключении ТипИсключенияN\n",
    "else:\n",
    "    # что делаем, если не было исключения"
   ]
  },
  {
   "cell_type": "markdown",
   "id": "821376ef-2cfa-4117-9de1-ac1c28c05b93",
   "metadata": {},
   "source": [
    "## Блок finally"
   ]
  },
  {
   "cell_type": "markdown",
   "id": "f8e94055-f7ac-4ce2-906d-51c4ef2abf7e",
   "metadata": {},
   "source": [
    "Конструкция try-except имеет еще один необязательный блок finally, он должен размещаться самым последним. Данный блок, если он имеется, будет выполняться всегда вне зависимости от того, было исключение в блоке try или нет"
   ]
  },
  {
   "cell_type": "code",
   "execution_count": null,
   "id": "a33bd795-2fdd-4b1d-85ab-7f19ff6de450",
   "metadata": {},
   "outputs": [],
   "source": [
    "try:\n",
    "    print('Пуууу')\n",
    "    print('Пуууу')\n",
    "    print('Пуууу')\n",
    "except TypeError:\n",
    "    print('Сложение разных типов')\n",
    "except ZeroDivisionError:\n",
    "    print('Не делите на 0!')\n",
    "except:\n",
    "    print('Любое другое исключение')\n",
    "else:\n",
    "    print('Это успех')\n",
    "finally:\n",
    "    print('Уходим на пике')"
   ]
  },
  {
   "cell_type": "markdown",
   "id": "3d849bea-2a50-4609-9b05-ff2398228eab",
   "metadata": {},
   "source": [
    "- Код блока finally отработает, даже если возникнет событие, которое не будет обработано ни одним блоком except"
   ]
  },
  {
   "cell_type": "code",
   "execution_count": null,
   "id": "b7b4d24e-2c40-4592-ade1-305e6dd2f26d",
   "metadata": {},
   "outputs": [],
   "source": [
    "try:\n",
    "    print(a + b)\n",
    "    print(5 / 0)\n",
    "except KeyError:\n",
    "    print('Ошибка ключа')\n",
    "else:\n",
    "    print('Это успех')\n",
    "finally:\n",
    "    print('Уходим на пике')"
   ]
  },
  {
   "cell_type": "markdown",
   "id": "8765f78e-e2d3-46bd-8a7a-24c8a52736b3",
   "metadata": {},
   "source": [
    "**Целиком наша конструкция состоит из:**"
   ]
  },
  {
   "cell_type": "code",
   "execution_count": null,
   "id": "08699b19-2b67-46ff-82f8-06b4b67c2367",
   "metadata": {},
   "outputs": [],
   "source": [
    "try-except-else-finally"
   ]
  },
  {
   "cell_type": "code",
   "execution_count": null,
   "id": "bc1f0337-b9ea-415b-a9f7-0f7fda0cabee",
   "metadata": {},
   "outputs": [],
   "source": [
    "try:\n",
    "    # блок кода\n",
    "except ТипИсключения1:\n",
    "    # что делаем при исключении ТипИсключения1\n",
    "except ТипИсключения2:\n",
    "    # что делаем при исключении ТипИсключения2\n",
    "except (ТипИсключения3, ТипИсключения4):\n",
    "    # что делаем при исключении ТипИсключения3 или ТипИсключения4\n",
    "...\n",
    "except ТипИсключенияN:\n",
    "    # что делаем при исключении ТипИсключенияN\n",
    "else:\n",
    "    # что делаем, если не было исключения\n",
    "finally:\n",
    "    # что в конце делаем при любых вариантах"
   ]
  },
  {
   "cell_type": "markdown",
   "id": "ac71ea30-7e46-4f22-b32e-f20db9fee06b",
   "metadata": {},
   "source": [
    "### Оператор as "
   ]
  },
  {
   "cell_type": "markdown",
   "id": "1fea7710-7cd3-4346-898a-c389df061fd5",
   "metadata": {},
   "source": [
    "Вы можете использовать оператор as  для сохранения возникающего исключения в переменную по следующему шаблону:\n",
    "\n",
    "- Обычно для имени переменной, хранящей исключение выбирают e. Также можно встретить имена err или error"
   ]
  },
  {
   "cell_type": "code",
   "execution_count": null,
   "id": "479c2f61-39ce-43bb-8666-24b053204fed",
   "metadata": {},
   "outputs": [],
   "source": [
    "a = [1, 2, 3]\n",
    "b = {1: 100, 2: 200}\n",
    "try:\n",
    "    print(b[4])\n",
    "    print(a[5])\n",
    "except (KeyError, IndexError) as e:\n",
    "    print(type(e))  # <class 'KeyError'>\n",
    "    print(e)  # 4"
   ]
  },
  {
   "cell_type": "code",
   "execution_count": null,
   "id": "9969a518-c400-4ea6-9242-9b12fc1231a9",
   "metadata": {},
   "outputs": [],
   "source": [
    "a = [1, 2, 3]\n",
    "b = {1: 100, 2: 200}\n",
    "try:\n",
    "    print(a[5])\n",
    "    print(b[4])\n",
    "except (KeyError, IndexError) as e:\n",
    "    print(type(e))  # <class 'IndexError'>\n",
    "    print(e)  # list index out of range"
   ]
  },
  {
   "cell_type": "markdown",
   "id": "8174d012-9353-4850-8668-007d13e149f2",
   "metadata": {},
   "source": [
    "### Инструкция raise"
   ]
  },
  {
   "cell_type": "markdown",
   "id": "ccef2d69-a49b-4f56-ae56-fa87ee99ef56",
   "metadata": {},
   "source": [
    "Инструкция raise позволяет в любом участке вашего кода возбудить исключение желаемого типа и добавить сопровождающий текст."
   ]
  },
  {
   "cell_type": "code",
   "execution_count": null,
   "id": "89af1cf5-6121-4a7e-98d9-5478db22b0ec",
   "metadata": {},
   "outputs": [],
   "source": [
    "raise TypeError('Бу! Испугался?')"
   ]
  },
  {
   "cell_type": "markdown",
   "id": "0ef2d3c4-6756-46f8-955a-35e293497a7c",
   "metadata": {},
   "source": [
    "![](images/exception2.png)"
   ]
  },
  {
   "cell_type": "markdown",
   "id": "701425dd-3352-4190-aa24-ae70f45d8044",
   "metadata": {},
   "source": [
    "Тогда если обработать исключение и сохранить его в переменную то можно увидеть сопроводительное сообщение внутри объекта ошибки e и вывести его на экран, добавив дополнительные команды."
   ]
  },
  {
   "cell_type": "code",
   "execution_count": null,
   "id": "2974ac37-8f11-4a5f-afae-83aefc7e4c57",
   "metadata": {},
   "outputs": [],
   "source": [
    "try:\n",
    "    raise TypeError('Бу! Испугался?')\n",
    "except TypeError as e:\n",
    "    print(e)\n",
    "    print('Это я! TypeError')"
   ]
  },
  {
   "cell_type": "code",
   "execution_count": null,
   "id": "fdb544fd-31f3-4b30-8514-65ead75d243f",
   "metadata": {},
   "outputs": [],
   "source": []
  },
  {
   "cell_type": "code",
   "execution_count": null,
   "id": "c948939f-c10e-493f-874c-cf96e7aa3bc4",
   "metadata": {},
   "outputs": [],
   "source": []
  },
  {
   "cell_type": "code",
   "execution_count": null,
   "id": "78cf65b3-0f30-4394-9eb2-ae7644cf5933",
   "metadata": {},
   "outputs": [],
   "source": []
  },
  {
   "cell_type": "markdown",
   "id": "aad0b4bb-01b9-4bd7-9c69-37c9bcce5c2d",
   "metadata": {},
   "source": [
    "**Алгоритм Евклида**"
   ]
  },
  {
   "cell_type": "markdown",
   "id": "601616af-ec67-4a02-9f41-94beb0faf463",
   "metadata": {},
   "source": [
    "**Долгий**"
   ]
  },
  {
   "cell_type": "code",
   "execution_count": null,
   "id": "fa821695-fa15-4a26-aba8-46fea7705094",
   "metadata": {},
   "outputs": [],
   "source": [
    "def get_nod(a, b):\n",
    "    \"\"\"Вычисляется НОД для натуральных чисел a и b\n",
    "        по алгоритму Евклида.\n",
    "        Возвращает вычисленный НОД.\n",
    "    \"\"\"\n",
    "    while a != b:\n",
    "        if a > b:\n",
    "            a -= b\n",
    "        else:\n",
    "            b -= a\n",
    " \n",
    "    return a"
   ]
  },
  {
   "cell_type": "markdown",
   "id": "fff6221d-1dd4-4a2a-b5fb-90874e5f2b9a",
   "metadata": {},
   "source": [
    "**Быстрый**"
   ]
  },
  {
   "cell_type": "code",
   "execution_count": null,
   "id": "77df461a-edba-41c8-9e25-944b5fbf46b1",
   "metadata": {},
   "outputs": [],
   "source": [
    "def get_fast_nod(a, b):\n",
    "    \"\"\"Вычисляется НОД для натуральных чисел a и b\n",
    "        по быстрому алгоритму Евклида.\n",
    "        Возвращает вычисленный НОД.\n",
    "    \"\"\"\n",
    "    if a < b:\n",
    "        a, b = b, a\n",
    " \n",
    "    while b != 0:\n",
    "        a, b = b, a % b\n",
    " \n",
    "    return a"
   ]
  },
  {
   "cell_type": "markdown",
   "id": "6b1b31e4-2060-49fd-9cdd-c4983797e371",
   "metadata": {},
   "source": [
    "**Тестирование**"
   ]
  },
  {
   "cell_type": "code",
   "execution_count": null,
   "id": "7fb954c5-3881-4b4f-8e18-7c7d8c5fdf0d",
   "metadata": {},
   "outputs": [],
   "source": [
    "def test_nod(func):\n",
    "    # -- тест №1 -------------------------------\n",
    "    a = 28\n",
    "    b = 35\n",
    "    res = func(a, b)\n",
    "    if res == 7:\n",
    "        print(\"#test1 - ok\")\n",
    "    else:\n",
    "        print(\"#test1 - fail\")\n",
    " \n",
    "    # -- тест №2 -------------------------------\n",
    "    a = 100\n",
    "    b = 1\n",
    "    res = func(a, b)\n",
    "    if res == 1:\n",
    "        print(\"#test2 - ok\")\n",
    "    else:\n",
    "        print(\"#test2 - fail\")\n",
    " \n",
    "    # -- тест №3 -------------------------------\n",
    "    a = 2\n",
    "    b = 10000000\n",
    " \n",
    "    st = time.time()\n",
    "    res = func(a, b)\n",
    "    et = time.time()\n",
    "    dt = et - st\n",
    "    if res == 2 and dt < 1:\n",
    "        print(\"#test3 - ok\")\n",
    "    else:\n",
    "        print(\"#test3 - fail\")"
   ]
  },
  {
   "cell_type": "markdown",
   "id": "d46e83fc-636b-4c85-8e9a-8e8af74b240f",
   "metadata": {},
   "source": [
    "**Именованные аргументы. Фактические и формальные параметры**"
   ]
  },
  {
   "cell_type": "code",
   "execution_count": null,
   "id": "90f4eba1-2521-4a12-b1a3-ace9e18797ab",
   "metadata": {},
   "outputs": [],
   "source": [
    "def get_V(a, b, c):\n",
    "    print(f\"a = {a}, b = {b}, c = {c}\")\n",
    "    return a * b * c\n",
    "\n",
    "v = get_V(1, c=2, b=3)\n",
    "print(v)\n"
   ]
  },
  {
   "cell_type": "markdown",
   "id": "bf29e41e-898b-4b58-b8d0-8739a53c2a65",
   "metadata": {},
   "source": [
    "**Параметры со значениями по умолчанию**"
   ]
  },
  {
   "cell_type": "code",
   "execution_count": null,
   "id": "391f5a97-d281-482f-b55a-d327f965dc11",
   "metadata": {},
   "outputs": [],
   "source": [
    "def get_V(a, b, c, verbose=True):\n",
    "    if verbose:\n",
    "        print(f\"a = {a}, b = {b}, c = {c}\")\n",
    " \n",
    "    return a * b * c\n",
    "\n",
    "v = get_V(1, 2, 3, verbose=False)"
   ]
  },
  {
   "cell_type": "markdown",
   "id": "b413b4c8-64f9-468c-9ff5-db7c50514b65",
   "metadata": {},
   "source": [
    "**Можно поменять значение такого параметра на другое и скорректировать работу функции.**"
   ]
  },
  {
   "cell_type": "code",
   "execution_count": null,
   "id": "18e9e0b5-dfd3-4008-b3cc-6b680661750e",
   "metadata": {},
   "outputs": [],
   "source": [
    "def compare_str(s1, s2, reg=False, trim=True):\n",
    "    if reg:\n",
    "        s1 = s1.lower()\n",
    "        s2 = s2.lower()\n",
    "    if trim:\n",
    "        s1 = s1.strip()\n",
    "        s2 = s2.strip()\n",
    " \n",
    "    return s1 == s2\n",
    "\n",
    "print(compare_str(\"Python \", \"  Python\", trim=False))\n",
    "print(compare_str(\"Python\", \"PYTHON\", True, False))\n",
    "print(compare_str(\"Python\", \"PYTHON\", reg=True, trim=False))"
   ]
  },
  {
   "cell_type": "code",
   "execution_count": null,
   "id": "52295087-138f-4f45-ae22-d5f3e7c4beb7",
   "metadata": {},
   "outputs": [],
   "source": [
    "def add_value(value, lst=[]):\n",
    "    lst.append(value)\n",
    "    return lst\n",
    "l = add_value(1)\n",
    "l = add_value(2)\n",
    "print(l)"
   ]
  },
  {
   "cell_type": "code",
   "execution_count": null,
   "id": "6543846b-83ae-4eee-b5dd-e413b368097a",
   "metadata": {},
   "outputs": [],
   "source": [
    "l = add_value(1, [])\n",
    "l = add_value(2, [])"
   ]
  },
  {
   "cell_type": "code",
   "execution_count": null,
   "id": "6bef531f-2516-4933-bdcd-cad5b6dfd3cf",
   "metadata": {},
   "outputs": [],
   "source": [
    "def add_value(value, lst=None):\n",
    "    if lst is None:\n",
    "        lst = []\n",
    " \n",
    "    lst.append(value)\n",
    "    return lst\n",
    "\n",
    "l = add_value(1)\n",
    "l = add_value(2)\n",
    "l = add_value(2, l)"
   ]
  },
  {
   "cell_type": "markdown",
   "id": "70709f7c-de78-428c-ae81-3867d8f48cf8",
   "metadata": {},
   "source": [
    "**Функции с произвольным числом параметров args и kwargs**"
   ]
  },
  {
   "cell_type": "code",
   "execution_count": null,
   "id": "35f844ac-88ed-4f31-8744-23bd4f9bda01",
   "metadata": {},
   "outputs": [],
   "source": [
    "def os_path(*args):\n",
    "    path = \"\\\\\".join(args)\n",
    "    return path\n",
    "p = os_path(\"F:\\\\~stepik.org\", \"Добрый, добрый Python (Питон)\", \"39\\\\p39. Функции.docx\")\n",
    "print(p)\n"
   ]
  },
  {
   "cell_type": "code",
   "execution_count": null,
   "id": "9c1f3f30-ae56-43a8-b23b-239f8e1de279",
   "metadata": {},
   "outputs": [],
   "source": [
    "def os_path(*args, **kwargs):\n",
    "    print(kwargs)\n",
    "    path = kwargs['sep'].join(args)\n",
    "    return path"
   ]
  },
  {
   "cell_type": "code",
   "execution_count": null,
   "id": "b0c8a5b0-2abf-4fe1-b23e-5ddc3b8d36e9",
   "metadata": {},
   "outputs": [],
   "source": [
    "def os_path(disk,      # \"F:\"\n",
    "            *args,     # \"~stepik.org\",\n",
    "            \"Добрый, добрый Python (П итон)\",\"39\\\\p39. Функции.docx\"\n",
    "            sep='\\\\',  # sep='/',\n",
    "            **kwargs): # trim=True\n",
    "\n",
    "    \n",
    "    args = (disk,) + args\n",
    " \n",
    "    if 'trim' in kwargs and kwargs['trim']: # Проверка наличия ключа в kwargs\n",
    "        args = [x.strip() for x in args]\n",
    " \n",
    "    path = sep.join(args)\n",
    "    return path\n",
    "\n",
    "p = os_path(\"F:\", \"~stepik.org\",\n",
    "            \"Добрый, добрый Python (П итон)\",\n",
    "            \"39\\\\p39. Функции.docx\",\n",
    "            sep='/', trim=True\n",
    ")"
   ]
  },
  {
   "cell_type": "code",
   "execution_count": null,
   "id": "86de39d6-0b0a-4206-8845-566a08476f94",
   "metadata": {},
   "outputs": [],
   "source": [
    "def greet(name,              # позиционный параметр\n",
    "          greeting=\"Привет\", # параметр по умолчанию\n",
    "          *args,            # произвольное число позиционных параметров\n",
    "          age=None,         # именованный параметр\n",
    "          **kwargs):        # произвольное число именованных параметров\n",
    "    print(f\"{greeting}, {name}!\")\n",
    "    if age:\n",
    "        print(f\"Тебе {age} лет\")\n",
    "    if args:\n",
    "        print(f\"Дополнительные аргументы: {args}\")\n",
    "    if kwargs:\n",
    "        print(f\"Именованные аргументы: {kwargs}\")\n",
    "\n",
    "# Примеры вызова:\n",
    "greet(\"Анна\")                          # позиционный аргумент\n",
    "greet(\"Иван\", \"Здравствуйте\")         # позиционные аргументы\n",
    "greet(name=\"Петр\")                     # именованный аргумент\n",
    "greet(\"Мария\", age=25)                 # смешанные аргументы\n",
    "greet(\"Алекс\", \"Привет\", 1, 2, 3, город=\"Москва\")  # все типы аргументов\n",
    "\n",
    "На схеме и в примере показано:\n",
    "\n",
    "Параметры функции - это то, что указывается при её определении\n",
    "Аргументы - это конкретные значения, которые передаются при вызове функции\n",
    "Позиционные параметры должны быть указаны первыми\n",
    "Параметры по умолчанию могут быть пропущены при вызове\n",
    "*args позволяет передать любое количество позиционных аргументов\n",
    "**kwargs позволяет передать любое количество именованных аргументов"
   ]
  },
  {
   "cell_type": "markdown",
   "id": "35858a00-3936-4aa3-ba37-32d549d55a09",
   "metadata": {},
   "source": [
    "**Операторы упаковки и распаковки коллекций**"
   ]
  },
  {
   "cell_type": "code",
   "execution_count": null,
   "id": "50fa5921-4272-461c-b7f0-552f8534475b",
   "metadata": {},
   "outputs": [],
   "source": [
    "синтаксис * распаковывает элементы в список по умолчанию\n",
    "\n",
    "1. Базовая распаковка кортежа\n",
    "x, y = (1, 2)  # Простое присваивание значений переменным\n",
    "\n",
    "2. Распаковка с оператором * в начале списка\n",
    "x, *y = (1, 2, 3, 4)  # x получит первый элемент, y - остальные в виде списка\n",
    "\n",
    "3. Распаковка с оператором * в конце списка\n",
    "*x, y = (1, 2, 3, 4)  # y получит последний элемент, x - остальные в виде списка\n",
    "\n",
    "4. Распаковка разных типов данных\n",
    "x, *y = [1, \"a\", True, 4]  # Работает с любыми итерируемыми объектами\n",
    "\n",
    "5. Распаковка строки\n",
    "*x, y, z = \"Hello Python!\"  # Распаковка строки по символам\n",
    "\n",
    "6. Распаковка множественного присваивания\n",
    "x, *y = 1, 2, 3  # Работает с множественным присваиванием\n",
    "\n",
    "7. Кортежи и их распаковка\n",
    "a = [1, 2, 3]\n",
    "(a,)    # Создание кортежа с одним элементом\n",
    "(*a,)   # Распаковка списка в кортеж\n",
    "\n",
    "8. Распаковка в функции range()\n",
    "d = -5, 5\n",
    "range(*d)                # Передача аргументов в функцию через распаковку\n",
    "list(range(*d))         # Создание списка из диапазона\n",
    "[*range(*d)]            # Альтернативный способ создания списка\n",
    "\n",
    "9. Комбинированная распаковка\n",
    "[*range(*d), *(True, False), *a]  # Объединение нескольких последовательностей\n",
    "\n",
    "10. Операции со словарями\n",
    "d = {0: \"безнадежно\", 1: \"убого\", 2: \"неуд.\", 3: \"удовл.\", 4: \"хорошо\", 5: \"отлично\"}\n",
    "{*d}  # {0, 1, 2, 3, 4, 5}\n",
    "[*d]  # [0, 1, 2, 3, 4, 5]\n",
    "[*d.values()] # ['безнадежно', 'убого', 'неуд.', 'удовл.', 'хорошо', 'отлично']\n",
    "[*d.items()]   # [(0, 'безнадежно'),\n",
    "               #  (1, 'убого'),\n",
    "                # (2, 'неуд.'),\n",
    "               #  (3, 'удовл.'),\n",
    "                # (4, 'хорошо'),\n",
    "               #  (5, 'отлично')]\n",
    "\n",
    "11. Распаковка словарей\n",
    "{**d}          # {0: 'безнадежно',\n",
    "               #      1: 'убого',\n",
    "                #     2: 'неуд.',\n",
    "               #      3: 'удовл.',\n",
    "               #      4: 'хорошо',\n",
    "               #      5: 'отлично'}\n",
    "\n",
    "12. Объединение словарей\n",
    "d2 = {6: \"превосходно\", 7: \"элитарно\", 8: \"божественно\"}\n",
    "{**d, **d2}  # {0: 'безнадежно',\n",
    "             #    1: 'убого',\n",
    "             #    2: 'неуд.',\n",
    "             #    3: 'удовл.',\n",
    "              #   4: 'хорошо',\n",
    "              #   5: 'отлично',\n",
    "              #   6: 'превосходно',\n",
    "              #   7: 'элитарно',\n",
    "              #   8: 'божественно'}"
   ]
  },
  {
   "cell_type": "markdown",
   "id": "77d7826a-fae4-42f7-806a-ae37d2533442",
   "metadata": {},
   "source": [
    "**Рекурсивные функции в Python**"
   ]
  },
  {
   "cell_type": "code",
   "execution_count": null,
   "id": "417b5787-658b-4916-ab61-055f5d1ea3f9",
   "metadata": {},
   "outputs": [],
   "source": [
    "Что такое рекурсия?\n",
    "\n",
    "Рекурсия — это когда функция вызывает сама себя\n",
    "Присутствует во всех современных языках программирования\n",
    "Функция помещается в специальный стек вызовов\n",
    "*Важные правила*:\n",
    "Обязательно нужно условие останова (иначе будет ошибка превышения глубины рекурсии)\n",
    "Максимальная глубина рекурсии в Python ограничена (≈1000 вызовов)\n",
    "Каждый рекурсивный вызов хранится в памяти (стеке)\n",
    "\n",
    "\n",
    "\n",
    "Структура рекурсивной функции:\n",
    "\n",
    "def recursive_func(параметр):\n",
    "    # 1. Условие выхода из рекурсии\n",
    "\n",
    "    if условие_останова:\n",
    "        return результат\n",
    "    \n",
    "    # 2. Рекурсивный вызов\n",
    "\n",
    "    return recursive_func(новый_параметр)\n",
    "\n",
    "Как работает рекурсия (порядок выполнения):\n",
    "Прямой ход: углубление в рекурсию ↓\n",
    "Достижение условия останова\n",
    "Обратный ход: возврат и выполнение отложенных операций ↑\n",
    "Классические примеры:\n",
    "\n",
    "1. Факториал:\n",
    "def fact(n):\n",
    "    if n <= 0:\n",
    "        return 1\n",
    "    return n * fact(n-1)\n",
    "\n",
    "2. Обход вложенных структур (папок, словарей):\n",
    "F = {\n",
    "    \"C:\": {\n",
    "        \"Python39\": [\"python.exe\", \"python.ini\"],\n",
    "        \"Program Files\": {\n",
    "            \"Java\": [\"README.txt\", \"Welcome.html\", \"java.exe\"],\n",
    "            \"MATLAB\": [\"matlab.bat\", \"matlab.exe\", \"mcc.bat\"],\n",
    "        },\n",
    "        \"Windows\": {\"System32\": [\"acledit.dll\", \"aclui.dll\", \"zipfldr.dll\"]},\n",
    "    }\n",
    "}\n",
    "\n",
    "\n",
    "def get_files(path, depth=0):\n",
    "    for f in path:\n",
    "        print(\" \" * depth, f)\n",
    "        if type(path[f]) == dict:\n",
    "            get_files(path[f], depth + 1)\n",
    "        else:\n",
    "            print(\" \" * (depth + 2), \", \".join(path[f]))\n",
    "\n",
    "\n",
    "get_files(F)\n",
    "\n",
    "\n",
    "Вывод на экран:\n",
    "\n",
    "C:\n",
    "  Python39\n",
    "    python.exe, python.ini\n",
    "  Program Files\n",
    "   Java\n",
    "     README.txt, Welcome.html, java.exe\n",
    "   MATLAB\n",
    "     matlab.bat, matlab.exe, mcc.bat\n",
    "  Windows\n",
    "   System32\n",
    "     acledit.dll, aclui.dll, zipfldr.dll\n",
    "\n",
    "3. Суммирование\n",
    "Таким образом, рекурсия сначала \"накопила\" все вызовы, а затем на обратном пути вычислила сумму. \n",
    "Такой механизм и есть основа работы рекурсии: накопление вызовов с откладыванием вычислений, которые выполняются, \n",
    "когда функция возвращается обратно по цепочке вызовов.\n",
    "numbers = list(map(int, input(\"Введите числа через пробел: \").split()))\n",
    "\n",
    "def get_rec_sum(ls, n):\n",
    "    if n < len(ls):\n",
    "        return ls[n] + get_rec_sum(ls, n + 1)  # Рекурсивное суммирование\n",
    "    else:\n",
    "        return 0  # Базовый случай: когда достигнут конец списка, возвращаем 0\n",
    "\n",
    "result = get_rec_sum(numbers, n=0)\n",
    "print(\"Сумма чисел:\", result)\n",
    "\n",
    "Вывод на экран\n",
    "Введите числа через пробел: 1 2 3\n",
    "Входим в рекурсию: n = 0, текущий элемент = 1\n",
    "Входим в рекурсию: n = 1, текущий элемент = 2\n",
    "Входим в рекурсию: n = 2, текущий элемент = 3\n",
    "Достигнут конец списка: n = 3, возвращаем 0\n",
    "Возвращаемся обратно: n = 2, текущий результат = 3\n",
    "Возвращаемся обратно: n = 1, текущий результат = 5\n",
    "Возвращаемся обратно: n = 0, текущий результат = 6\n",
    "Сумма чисел: 6\n"
   ]
  },
  {
   "cell_type": "markdown",
   "id": "17e659a2-cf48-4610-a6e2-a12e951ba46c",
   "metadata": {},
   "source": [
    "**Анонимные (lambda) функции**"
   ]
  },
  {
   "cell_type": "code",
   "execution_count": null,
   "id": "43ced95b-7387-41f2-ba47-ce3bb96ec8a8",
   "metadata": {},
   "outputs": [],
   "source": [
    "lambda param_1, param_2, …: команда\n",
    "\n",
    "1.\n",
    "s = lambda a, b: a + b\n",
    "s(1, 2)\n",
    "\n",
    "2.\n",
    "a = [4, 5, lambda: print(\"lambda\"), 7, 8\n",
    "a[2]()\n",
    "\n",
    "3.\n",
    "def get_filter(a, filter=None):\n",
    "    if filter is None:\n",
    "        return a\n",
    " \n",
    "    res = []\n",
    "    for x in a:\n",
    "        if filter(x):\n",
    "            res.append(x)\n",
    " \n",
    "    return res\n",
    "r = get_filter(lst, lambda p: p % 2 == 0)\n",
    "r = get_filter(lst, lambda p: p > 0)\n",
    "\n",
    "4.\n",
    "print((lambda x: 'ra' in x)(input()))\n"
   ]
  },
  {
   "cell_type": "markdown",
   "id": "7b5dac7a-1174-4b7d-9e6b-10d8dcff7c4f",
   "metadata": {},
   "source": [
    "**Области видимости переменных. Ключевые слова global и nonlocal**"
   ]
  },
  {
   "cell_type": "code",
   "execution_count": null,
   "id": "41d8773b-2d13-4d4e-b76d-3663a15cf700",
   "metadata": {},
   "outputs": [],
   "source": [
    "global:\n",
    "Используется внутри функции\n",
    "Позволяет модифицировать глобальную переменную (из глобальной области видимости)\n",
    "Применяется для переменных, определенных вне функции\n",
    "x = 10  # Глобальная переменная\n",
    "def func():\n",
    "    global x  # Теперь можно изменять x\n",
    "    x = 20   # Изменяем глобальную x\n",
    "\n",
    "nonlocal:\n",
    "Используется внутри вложенной функции\n",
    "Позволяет модифицировать переменную из ближайшей внешней области (не глобальной)\n",
    "Применяется в замыканиях для работы с переменными родительской функции\n",
    "def outer():\n",
    "    x = 10\n",
    "    def inner():\n",
    "        nonlocal x  # Изменяем x из внешней (но не глобальной) области\n",
    "        x = 20\n",
    "    inner()\n",
    "\n",
    "Ключевое различие:\n",
    "global - для глобальных переменных\n",
    "nonlocal - для переменных во вложенных функциях\n",
    "\n",
    "\n",
    "def my_func(lst):\n",
    "    global N\n",
    "    …\n",
    "\n",
    "\n",
    "\n",
    "x = 0\n",
    "def outer():\n",
    "    x = 1\n",
    "    def inner():\n",
    "        nonlocal x\n",
    "        x = 2\n",
    "        print(\"inner:\", x)\n",
    " \n",
    "    inner()\n",
    "    print(\"outer:\", x)\n",
    " \n",
    "outer()\n",
    "print(\"global:\", x)"
   ]
  },
  {
   "cell_type": "markdown",
   "id": "5d8d4cc0-ab6a-4d20-bfdc-35ee9a5e58df",
   "metadata": {},
   "source": [
    "**Замыкания**"
   ]
  },
  {
   "cell_type": "code",
   "execution_count": null,
   "id": "1aca7f1f-fa56-4218-ab61-98a2d7ef0ecc",
   "metadata": {},
   "outputs": [],
   "source": [
    "Определение замыкания:\n",
    "\n",
    "Функция внутри другой функции, которая \"помнит\" контекст внешней функции\n",
    "Сохраняет доступ к переменным внешней функции даже после её завершения\n",
    "\n",
    "    Основные характеристики:\n",
    "\n",
    "Внутренняя функция возвращается из внешней функции\n",
    "Захватывает и сохраняет переменные внешней функции\n",
    "Создает независимые состояния при каждом вызове\n",
    "\n",
    "    Ключевые примеры:\n",
    "\n",
    "# Простой пример замыкания\n",
    "def say_name(name):\n",
    "    def say_goodbye():\n",
    "        print(f\"Don't say me goodbye, {name}!\")\n",
    "    return say_goodbye\n",
    "\n",
    "# Счетчик с замыканием\n",
    "def counter(start=0):\n",
    "    def step():\n",
    "        nonlocal start\n",
    "        start += 1\n",
    "        return start\n",
    "    return step\n",
    "\n",
    "# Функция очистки строки\n",
    "def strip_string(strip_chars=\" \"):\n",
    "    def do_strip(string):\n",
    "        return string.strip(strip_chars)\n",
    "    return do_strip\n",
    "\n",
    "Важные моменты:\n",
    "\n",
    "Использовать nonlocal для изменения внешних переменных\n",
    "Каждый вызов создает независимое окружение\n",
    "Замыкание сохраняет ссылки на внешние переменные\n",
    "\n",
    "👉 Применение:\n",
    "\n",
    "Создание функций с сохранением состояния\n",
    "Декораторы\n",
    "Функции с настраиваемым поведением"
   ]
  },
  {
   "cell_type": "markdown",
   "id": "c4fa9383-001b-4067-bc64-1605f1f9d59a",
   "metadata": {},
   "source": [
    "**Декораторы функций**"
   ]
  },
  {
   "cell_type": "code",
   "execution_count": null,
   "id": "3df20f33-1ee7-44ed-b487-206578e5500f",
   "metadata": {},
   "outputs": [],
   "source": [
    "Декораторы в Python - это функция, которая принимает ссылку на другую функцию и расширяет ее функциональность за счет вложенной \n",
    "функции. Смысл декоратора – наполнить уже существующую функцию дополнительным функционалом.\n",
    "_________________________________________________________________________________________________________________________________\n",
    "# Декоратор в самом простом варианте\n",
    "\n",
    "    \n",
    "def func_decorator(func):\n",
    "    def wrapper():\n",
    "        print(\"------ что-то делаем перед вызовом функции ------\")\n",
    "        func()\n",
    "        print(\"------ что-то делаем после вызова функции ------\")\n",
    " \n",
    "    return wrapper\n",
    "\n",
    "def some_func():\n",
    "    print(\"Вызов функции some_func\")\n",
    "f = func_decorator(some_func)\n",
    "f()\n",
    "\n",
    "_________________________________________________________________________________________________________________________________\n",
    "# Часто, чтобы не создавать новые имена функций, вместо имени f используют то же самое имя функции:\n",
    "\n",
    "def func_decorator(func):\n",
    "    def wrapper():\n",
    "        print(\"------ что-то делаем перед вызовом функции ------\")\n",
    "        func()\n",
    "        print(\"------ что-то делаем после вызова функции ------\")\n",
    " \n",
    "    return wrapper\n",
    "\n",
    "def some_func():\n",
    "    print(\"Вызов функции some_func\")\n",
    "some_func = func_decorator(some_func)\n",
    "some_func()\n",
    "\n",
    "_________________________________________________________________________________________________________________________________\n",
    "# Декоратор с параметрами частный случай. Если у функции some_func появятся другие параметры или не будет никаких. \n",
    "# Декоратор перестанет работать.\n",
    "\n",
    "def func_decorator(func):\n",
    "    def wrapper(title):\n",
    "        print(\"------ что-то делаем перед вызовом функции ------\")\n",
    "        func(title)\n",
    "        print(\"------ что-то делаем после вызова функции ------\")\n",
    " \n",
    "    return wrapper\n",
    "\n",
    "def some_func(title):\n",
    "    print(f\"title = {title}\")\n",
    "    \n",
    "some_func = func_decorator(some_func)\n",
    "some_func()\n",
    "\n",
    "_________________________________________________________________________________________________________________________________\n",
    "# Универсальный декоратор для произвольных функций, с произвольным числом параметров, возвращающие любые значения\n",
    "\n",
    "def func_decorator(func):\n",
    "    def wrapper(*args, **kwargs):\n",
    "        print(\"------ что-то делаем перед вызовом функции ------\")\n",
    "        func(*args, **kwargs)\n",
    "        print(\"------ что-то делаем после вызова функции ------\")\n",
    " \n",
    "    return wrapper\n",
    "\n",
    "def some_func(title, tag):\n",
    "    print(f\"title = {title}, tag = {tag}\")\n",
    "    \n",
    "some_func = func_decorator(some_func)\n",
    "some_func(\"Python навсегда!\", 'h1')\n",
    "\n",
    "_________________________________________________________________________________________________________________________________\n",
    "# Если функция some_func() будет что то возвращать\n",
    "\n",
    "def func_decorator(func):\n",
    "    def wrapper(*args, **kwargs):\n",
    "        print(\"------ что-то делаем перед вызовом функции ------\")\n",
    "        res = func(*args, **kwargs)\n",
    "        print(\"------ что-то делаем после вызова функции ------\")\n",
    "        return res\n",
    " \n",
    "    return wrapper\n",
    "\n",
    "def some_func(title, tag):\n",
    "    print(f\"title = {title}, tag = {tag}\")\n",
    "    return f\"<{tag}>{title}</{tag}>\"\n",
    "    \n",
    "some_func = func_decorator(some_func)\n",
    "res = some_func(\"Python навсегда!\", 'h1')\n",
    "print(res)\n",
    "_________________________________________________________________________________________________________________________________\n",
    "# Примеры декораторов\n",
    "_________________________________________________________________________________________________________________________________\n",
    "\n",
    "1. Тест медленного алгоритма Евклида функций на скорость работы\n",
    "\n",
    "import time\n",
    "def test_time(fn):\n",
    "    def wrapper(*args, **kwargs):\n",
    "        st = time.time()\n",
    "        res = fn(*args, **kwargs)\n",
    "        dt = time.time() - st\n",
    "        print(f\"Время работы: {dt} сек\")\n",
    "        return res\n",
    " \n",
    "    return wrapper\n",
    " \n",
    "\n",
    "def get_nod(a, b):\n",
    "    while a != b:\n",
    "        if a > b:\n",
    "            a -= b\n",
    "        else:\n",
    "            b -= a\n",
    "    return a\n",
    "\n",
    "# декорируем функцию get_nod():\n",
    "\n",
    "get_nod = test_time(get_nod)\n",
    "\n",
    "res = get_nod(2, 1000000)\n",
    "print(res)\n",
    "\n",
    "_________________________________________________________________________________________________________________________________\n",
    "2. Тест медленного алгоритма Евклида + ,быстрый алгоритм Евклида на скорость работы\n",
    "\n",
    "import time\n",
    "\n",
    "\n",
    "def test_time(fn):\n",
    "    def wrapper(*args, **kwargs):\n",
    "        st = time.time()\n",
    "        res = fn(*args, **kwargs)\n",
    "        dt = time.time() - st\n",
    "        print(f\"Время работы: {dt} сек\")\n",
    "        return res\n",
    "\n",
    "    return wrapper\n",
    "\n",
    "\n",
    "def get_nod(a, b):\n",
    "    while a != b:\n",
    "        if a > b:\n",
    "            a -= b\n",
    "        else:\n",
    "            b -= a\n",
    "    return a\n",
    "\n",
    "\n",
    "def get_fast_nod(a, b):\n",
    "    if a < b:\n",
    "        a, b = b, a\n",
    "    while b:\n",
    "        a, b = b, a % b\n",
    "\n",
    "    return a\n",
    "\n",
    "\n",
    "# декорируем функцию get_nod():\n",
    "\n",
    "get_nod = test_time(get_nod)\n",
    "get_fast_nod = test_time(get_fast_nod)\n",
    "\n",
    "res = get_nod(2, 1000000)\n",
    "res2 = get_fast_nod(2, 1000000)\n",
    "print(res, res2)\n",
    "_________________________________________________________________________________________________________________________________\n",
    "# Декорирование с помощью @\n",
    "\n",
    "import time\n",
    "\n",
    "\n",
    "def test_time(fn):\n",
    "    def wrapper(*args, **kwargs):\n",
    "        st = time.time()\n",
    "        res = fn(*args, **kwargs)\n",
    "        dt = time.time() - st\n",
    "        print(f\"Время работы: {dt} сек\")\n",
    "        return res\n",
    "\n",
    "    return wrapper\n",
    "\n",
    "@test_time # декорирование\n",
    "def get_nod(a, b):\n",
    "    while a != b:\n",
    "        if a > b:\n",
    "            a -= b\n",
    "        else:\n",
    "            b -= a\n",
    "    return a\n",
    "\n",
    "@test_time # декорирование\n",
    "def get_fast_nod(a, b):\n",
    "    if a < b:\n",
    "        a, b = b, a\n",
    "    while b:\n",
    "        a, b = b, a % b\n",
    "\n",
    "    return a\n",
    "\n",
    "\n",
    "# декорируем функцию get_nod():\n",
    "\n",
    "\n",
    "\n",
    "res = get_nod(2, 1000000)\n",
    "res2 = get_fast_nod(2, 1000000)\n",
    "print(res, res2)\n",
    "\n",
    "_________________________________________________________________________________________________________________________________\n",
    "# Код с комментариями\n",
    "# Импортируем модуль time для замера времени выполнения\n",
    "import time\n",
    "\n",
    "# Создаем декоратор test_time, который принимает функцию fn в качестве аргумента\n",
    "def test_time(fn):\n",
    "   # Создаем внутреннюю функцию wrapper, которая может принимать любые аргументы\n",
    "   def wrapper(*args, **kwargs):\n",
    "       # Засекаем начальное время\n",
    "       st = time.time()\n",
    "       # Вызываем оригинальную функцию и сохраняем результат\n",
    "       res = fn(*args, **kwargs)\n",
    "       # Вычисляем время выполнения (текущее время минус начальное)\n",
    "       dt = time.time() - st\n",
    "       # Выводим время работы функции\n",
    "       print(f\"Время работы: {dt} сек\")\n",
    "       # Возвращаем результат оригинальной функции\n",
    "       return res\n",
    "   # Возвращаем wrapper как новую функцию\n",
    "   return wrapper\n",
    "\n",
    "\n",
    "# Декорируем функцию get_nod с помощью @test_time\n",
    "# Это эквивалентно: get_nod = test_time(get_nod)\n",
    "@test_time  \n",
    "def get_nod(a, b):\n",
    "   # Медленный алгоритм Евклида для поиска НОД\n",
    "   while a != b:  # Пока числа не равны\n",
    "       if a > b:\n",
    "           a -= b  # Вычитаем из большего меньшее\n",
    "       else:\n",
    "           b -= a\n",
    "   return a  # Возвращаем НОД\n",
    "\n",
    "\n",
    "# Также декорируем вторую функцию\n",
    "@test_time  \n",
    "def get_fast_nod(a, b):\n",
    "   # Быстрый алгоритм Евклида\n",
    "   if a < b:\n",
    "       a, b = b, a  # Меняем местами если a меньше b\n",
    "   while b:  # Пока b не станет 0\n",
    "       a, b = b, a % b  # Используем деление по модулю\n",
    "   return a\n",
    "\n",
    "\n",
    "# Вызываем обе функции с одинаковыми аргументами\n",
    "res = get_nod(2, 1000000)  # Вызов медленного алгоритма\n",
    "res2 = get_fast_nod(2, 1000000)  # Вызов быстрого алгоритма\n",
    "# Выводим результаты обеих функций\n",
    "print(res, res2)\n",
    "_________________________________________________________________________________________________________________________________\n",
    "# шаблон для декораторов\n",
    "\n",
    "def decorator(func):                    # 1. Сюда передаём функцию которую нужно декорировать\n",
    "    def wrapper(*args, **kwargs):       # 2. Сюда передаём аргументы декорированной функции.\n",
    "                                        # (Создаём обёртку с поддержкой любых аргументов)\n",
    "                                       #    *args - позиционные аргументы (tuple)\n",
    "                                       #    **kwargs - именованные аргументы (dict)\n",
    "        \n",
    "        # Действия ДО вызова функции\n",
    "        print(f'{func.__name__} started')  \n",
    "        \n",
    "        # Вызов оригинальной функции\n",
    "        result = func(*args, **kwargs)   # 3. Распаковываем аргументы при вызове\n",
    "        \n",
    "        # Действия ПОСЛЕ вызова функции\n",
    "        print(f'{func.__name__} finished')\n",
    "        \n",
    "        return result                    # 4. Важно! Возвращаем результат работы функции\n",
    "\n",
    "    return wrapper                       # 5. Возвращаем обёртку (передаём ссылку на вложенную функцию)\n",
    "\n",
    "\n",
    "@decorator                              # 6. Синтаксический сахар\n",
    "def summ(a, b):                        # 7. Равносильно: summ = decorator(summ)\n",
    "    return a + b                        # 8. Теперь summ указывает на wrapper\n",
    "\n",
    "\n",
    "print(summ(2, 3))                      # 9. При вызове выполняется wrapper(2, 3)\n",
    "\n",
    "\n",
    "\n",
    "\n",
    "\n",
    "🔑 Ключевые моменты шаблона:\n",
    "\n",
    "*args, **kwargs - позволяет работать с любым количеством аргументов\n",
    "Сохранение и возврат result - сохраняет функциональность исходной функции\n",
    "func.__name__ - доступ к имени оригинальной функции\n",
    "Возможность добавить код до и после вызова функции\n",
    "\n",
    "💡 Частые дополнения к шаблону:\n",
    "from functools import wraps  # Сохраняет метаданные исходной функции\n",
    "\n",
    "def decorator(func):\n",
    "    @wraps(func)            # Сохраняет __name__, __doc__ и т.д.\n",
    "    def wrapper(*args, **kwargs):\n",
    "        try:                # Обработка ошибок\n",
    "            result = func(*args, **kwargs)\n",
    "            return result\n",
    "        except Exception as e:\n",
    "            print(f\"Error in {func.__name__}: {e}\")\n",
    "            raise\n",
    "    return wrapper\n",
    "\n",
    "_________________________________________________________________________________________________________________________________\n",
    "# декоратор функции с параметрами, сохранение исходных имени и описания функции.\n",
    "\n",
    "# Импортируем математический модуль для использования функции sin()\n",
    "import math\n",
    "\n",
    "# Создаем декоратор с параметром dx, который по умолчанию равен 0.0001\n",
    "def df_decorator(dx=0.0001):\n",
    "   # Создаем функцию-декоратор, которая принимает декорируемую функцию func\n",
    "   def func_decorator(func):\n",
    "       # Создаем функцию-обертку, которая будет выполнять вычисления\n",
    "       # x - основной аргумент, *args и **kwargs позволяют принимать любые доп. аргументы\n",
    "       def wrapper(x, *args, **kwargs):\n",
    "           # Вычисляем производную по формуле (f(x+dx) - f(x))/dx\n",
    "           # func - это переданная функция (в нашем случае math.sin)\n",
    "           res = (func(x + dx, *args, **kwargs) - func(x, *args, **kwargs)) / dx\n",
    "           return res\n",
    "\n",
    "       # Сохраняем оригинальное имя декорируемой функции\n",
    "       wrapper.__name__ = func.__name__\n",
    "       # Сохраняем оригинальную документацию декорируемой функции\n",
    "       wrapper.__doc__ = func.__doc__\n",
    "       # Возвращаем функцию-обертку\n",
    "       return wrapper\n",
    "\n",
    "   # Возвращаем декоратор\n",
    "   return func_decorator\n",
    "\n",
    "\n",
    "# Применяем декоратор к функции sin_df с параметром dx=0.01\n",
    "@df_decorator(dx=0.01)\n",
    "def sin_df(x):\n",
    "   \"\"\"Функция для вычисления производной синуса\"\"\"  # Документация функции\n",
    "   return math.sin(x)  # Возвращаем значение синуса\n",
    "\n",
    "\n",
    "# Вычисляем производную синуса в точке пи/3\n",
    "df = sin_df(math.pi / 3)\n",
    "# Выводим документацию функции\n",
    "print(sin_df.__doc__)\n",
    "# Выводим имя функции\n",
    "print(sin_df.__name__)\n",
    "# Выводим значение производной\n",
    "print(df)\n",
    "\n",
    "\n",
    "Или вместо этого:\n",
    " # Сохраняем оригинальное имя декорируемой функции\n",
    "       wrapper.__name__ = func.__name__\n",
    "       # Сохраняем оригинальную документацию декорируемой функции\n",
    "       wrapper.__doc__ = func.__doc__\n",
    "\n",
    "from functools import wraps\n",
    "\n",
    "Также к сведению:\n",
    "\n",
    "from functools import ...\n",
    "functools.cache: Простой легковесный кэш для функций.\n",
    "functools.cached_property: Преобразует метод класса в свойство, значение которого вычисляется один раз и затем кэшируется.\n",
    "functools.cmp_to_key: Преобразует функцию сравнения в key-функцию.\n",
    "functools.lru_cache: Декоратор для кэширования результатов функции с ограничением по размеру кэша.\n",
    "functools.partial: Позволяет зафиксировать некоторые аргументы функции и создать новую функцию с меньшим количеством аргументов.\n",
    "functools.partialmethod: Похож на partial, но используется для методов классов.\n",
    "functools.reduce: Применяет функцию к элементам последовательности, сводя её к одному значению.\n",
    "functools.singledispatch: Декоратор для создания одноаргументных обобщённых функций.\n",
    "functools.singledispatchmethod: Похож на singledispatch, но используется для методов классов.\n",
    "functools.total_ordering: Декоратор класса, который автоматически добавляет методы сравнения.\n",
    "functools.update_wrapper: Обновляет атрибуты обёртки функции, чтобы они соответствовали оригинальной функции.\n",
    "functools.wraps: Декоратор для сохранения метаданных оригинальной функции при создании декораторов.\n",
    "Эти функции помогают оптимизировать код, улучшить его читаемость и повторное использование. "
   ]
  },
  {
   "cell_type": "markdown",
   "id": "906d4428-bf28-49f0-96f8-2400e06d8cc1",
   "metadata": {},
   "source": [
    "**Импорт стандартных модулей. Команды import и from**"
   ]
  },
  {
   "cell_type": "code",
   "execution_count": null,
   "id": "cc8ffd34-5a13-401d-a6b8-e818107324d5",
   "metadata": {},
   "outputs": [],
   "source": [
    "import math\n",
    "# модуль – это обычный текстовый файл программы на языке Python. В этом легко убедиться, если в PyCharm нажать и удерживать клавишу\n",
    "# Ctrl и щелкнуть по имени модуля, например, math. Откроется файл и мы можем ознакомиться с его содержимым.\n",
    "\n",
    "import math\n",
    "import pprint\n",
    "pprint.pprint(locals())\n",
    "# вывести все локальные переменные нашей программы\n",
    "\n",
    "pprint.pprint(dir(math))\n",
    "# посмотреть, что содержит модуль math\n",
    "\n",
    "# пример обращения к глобальному атрибуту подключаемого модуля\n",
    "a = math.ceil(1.8)\n",
    "print(a)\n",
    "print(math.pi)\n",
    "\n",
    "\n",
    "# можно в момент импорта указывать псевдонимы импортируемых модулей, используя ключевое слово as\n",
    "import math as mt\n",
    "math = 'математика'\n",
    "\n",
    "\n",
    "\n",
    "# если мы не хотим подключать модуль целиком, а сделать выборочный импорт некоторых его атрибутов, \n",
    "# то для этого следует использовать другую конструкцию для их использования мы теперь должны обращаться к ним напрямую:\n",
    "from math import ceil, pi\n",
    "print(ceil(1.8))\n",
    "print(pi)\n",
    "\n",
    "\n",
    "\n",
    "# ситуация, когда импортируемая функция (или переменная) переопределяется в нашей программе. \n",
    "# Например, если прописать свою собственную функцию ceil:\n",
    "from math import ceil as m_ceil, pi\n",
    "import time\n",
    "import print\n",
    "\n",
    "def ceil(x):\n",
    "    print(\"своя функция ceil\")\n",
    "    return x\n",
    "\n",
    "pprint.pprint(locals())\n",
    "a = m_ceil(1.8)\n",
    "print(a)\n",
    "\n",
    "\n",
    "\n",
    "# импорт сразу всего пространства имен, если после import поставить * (не рекомендуется)\n",
    "from math import *\n",
    "\n",
    "# стандарт PEP8 импорт записывать каждый с новой строчки\n",
    "import pprint\n",
    "import time\n",
    "import random\n",
    "__________________________________________________________________________________________________________________\n",
    "Импорт собственных модулей\n",
    "\n",
    "pprint.pprint(dir(mymodule))\n",
    "\n",
    "1. Механизм поиска модулей:\n",
    "Python использует список путей в sys.path для поиска модулей\n",
    "Первым идет каталог с исполняемым файлом\n",
    "Затем текущий рабочий каталог\n",
    "После этого идут пути к стандартной библиотеке и другим установленным пакета\n",
    "\n",
    "2. Способы импорта из вложенных папок:\n",
    "# Вариант 1: через точечную нотацию\n",
    "import folder.mymodule\n",
    "# Вариант 2: добавление пути в sys.path (не рекомендуется)\n",
    "import sys\n",
    "sys.path.append(\"path/to/folder\")\n",
    "import mymodule\n",
    "\n",
    "3. Выполнение кода при импорте:\n",
    "При импорте модуля весь код в нем выполняется\n",
    "Python компилирует модуль в байт-код и исполняет его\n",
    "Любой код верхнего уровня (не в функциях/классах) будет выполнен\n",
    "\n",
    "4. Использование __name__:\n",
    "if __name__ == \"__main__\":\n",
    "    # Код здесь выполнится только при прямом запуске файла\n",
    "    print(\"Запущено напрямую\")\n",
    "else:\n",
    "    # Код здесь выполнится при импорте\n",
    "    print(\"Импортировано как модуль\")\n",
    "\n",
    "5. Особенности импорта:\n",
    "Модуль импортируется только один раз\n",
    "Повторные import не перезагружают модуль\n",
    "Для принудительной перезагрузки используется:\n",
    "import importlib\n",
    "importlib.reload(mymodule)\n",
    "\n",
    "6. Циклические импорты:\n",
    "Python предотвращает бесконечные циклы при импорте\n",
    "Если модуль A импортирует B, который импортирует A - второй импорт A не будет выполнен"
   ]
  },
  {
   "cell_type": "markdown",
   "id": "0fd18380-0fc4-4f42-a5e3-431fe4ae73d6",
   "metadata": {},
   "source": [
    "**Установка сторонних модулей. Пакетная установка**"
   ]
  },
  {
   "cell_type": "code",
   "execution_count": null,
   "id": "0bd6cfff-fb9c-4b84-a6f2-7f774e2c928f",
   "metadata": {},
   "outputs": [],
   "source": [
    "# узнать какие пакеты уже установлены для текущего интерпритатора\n",
    "pip list (набрать терминале или в интерпритаторе)\n",
    "# установка пакета\n",
    "pip install pygame\n",
    "# установка пакета нужной версии\n",
    "pip install pygame==1.2.2\n",
    "\n",
    "\n",
    "Индекс пакетов Python (PyPI), хранилище программного обеспечения для языка программирования Python.\n",
    "https://pypi.org/%0A\n",
    "https://pypi.org\n",
    "\n",
    "# В катологе проекта создается текстовый файл со списком всех установленных модулей с названием их версий\n",
    "pip freeze > requirements.txt\n",
    "\n",
    "\n",
    "# Установка всех модулей указанных в файле (при переносе с компа на комп)\n",
    "pip install -r requirements.txt\n",
    "\n"
   ]
  },
  {
   "cell_type": "markdown",
   "id": "00293342-0caa-45e8-ab8b-b7d838a1494c",
   "metadata": {},
   "source": [
    "**ШПАРГАЛКА ПО ПАКЕТАМ PYTHON:**"
   ]
  },
  {
   "cell_type": "code",
   "execution_count": null,
   "id": "b147335e-03b3-446b-9040-5be4e9a6d1a6",
   "metadata": {},
   "outputs": [],
   "source": [
    "1. Создание пакета:\n",
    "\n",
    "📁 my_package/\n",
    "   └── 📄 __init__.py (обязательный файл!)\n",
    "   └── 📄 module1.py\n",
    "   └── 📄 module2.py\n",
    "2. Основные виды импорта:\n",
    "\n",
    "# Импорт всего пакета\n",
    "import my_package\n",
    "\n",
    "# Импорт конкретного модуля\n",
    "from my_package import module1\n",
    "\n",
    "# Импорт конкретной функции\n",
    "from my_package.module1 import function1\n",
    "\n",
    "3. В init.py:\n",
    "\n",
    "# Относительный импорт (рекомендуется)\n",
    "from .module1 import *\n",
    "from .module2 import function2\n",
    "\n",
    "# Определение публичного API пакета\n",
    "__all__ = ['function1', 'function2']\n",
    "\n",
    "# Можно определять переменные\n",
    "PACKAGE_NAME = \"My Package\"\n",
    "\n",
    "4. Правила импорта:\n",
    "\n",
    "\n",
    "Используйте относительные импорты внутри пакета (с точками)\n",
    "Избегайте циклических импортов\n",
    "Старайтесь явно указывать импортируемые имена в __all__\n",
    "\n",
    "\n",
    "5. Доступ к компонентам:\n",
    "\n",
    "\n",
    "# После импорта пакета\n",
    "my_package.module1.function1()\n",
    "my_package.PACKAGE_NAME\n",
    "\n",
    "6. Ключевые моменты:\n",
    "\n",
    "\n",
    "__init__.py выполняется при импорте пакета\n",
    "Относительные импорты работают только внутри пакета\n",
    "Вложенные пакеты могут обращаться к родительским через ..\n",
    "Используйте __all__ для контроля импорта со звёздочкой (*)"
   ]
  },
  {
   "cell_type": "markdown",
   "id": "5ec87371-d693-4e0c-857a-9db9b1467171",
   "metadata": {},
   "source": [
    "**Функция open. Чтение данных из файла**"
   ]
  },
  {
   "cell_type": "code",
   "execution_count": null,
   "id": "fa0906ea-14fe-495a-8163-dc7652c8319e",
   "metadata": {},
   "outputs": [],
   "source": [
    "# Функция\n",
    "open(file [, mode=’r’, encoding=None, …])\n",
    "\n",
    "# Параметры\n",
    "file – путь к файлу (вместе с его именем);\n",
    "mode – режим доступа к файлу (чтение/запись);\n",
    "encoding – кодировка файла.\n",
    "\n",
    "# Варианты записи пути\n",
    "1. Относительный путь\n",
    "\"my_file.txt\"\n",
    "\n",
    "2. Абсолютный путь\n",
    "\"d:\\\\app\\\\my_file.txt\" (форма записи для Windows)\n",
    "\"d:/app/my_file.txt\"  (Для всех)\n",
    "\n",
    "3. Здесь две точки означают переход к родительскому каталогу, то есть, выход из каталога app на один уровень вверх.\n",
    "\"../out.txt\" (относительный путь)\n",
    "\"d:/out.txt\" (абсолютный путь)\n",
    "\n",
    "# Пример: файл «my_file.txt» находится в том же каталоге, что и программа ex1.py, \n",
    "# поэтому путь можно записать, просто указав имя файла\n",
    "\n",
    "file = open(\"my_file.txt\")\n",
    "\n",
    "\n",
    "4. Чтение данных из файла\n",
    "print(file.read())\n",
    "\n",
    "5. Указание кодировки файла через именованный аргумент encoding\n",
    "file = open(\"myfile.txt\", encoding=\"utf-8\")\n",
    "\n",
    "6. Чтение только нескольких символов\n",
    "print(file.read(4))\n",
    "\n",
    "7. Метод file.seek(offset[, from_what])\n",
    "# Управление положением файловой позиции\n",
    "file.seek(0)\n",
    "\n",
    "8. метод tell\n",
    "# узнать текущую позицию в файле\n",
    "pos = file.tell()\n",
    "print( pos )\n",
    "\n",
    "9. метод readline()\n",
    "# Чтение первой строки. Здесь концом строки считается символ переноса ‘\\n’, либо конец файла.\n",
    "s = file.readline()\n",
    "print( s )\n",
    "\n",
    "10. спецсимвол \\n переноса будет также присутствовать в строке и строчки будут разделены пустой строкой.\n",
    "print( file.readline() )\n",
    "print( file.readline() )\n",
    "\n",
    "11. построчный вывод с одним переносом\n",
    "print( file.readline(), end=\"\" )\n",
    "print( file.readline(), end=\"\" )\n",
    "\n",
    "12. Если нам нужно последовательно прочитать все строчки из файла, то для этого обычно используют цикл for\n",
    "for line in file:\n",
    "    print(line, end=\"\")\n",
    "\n",
    "переменная s будет ссылаться на список с этими строками\n",
    "s = file.readlines()\n",
    "print(s)\n",
    "\n",
    "13. метод close\n",
    "как только мы завершаем работу с файлом, его следует закрыть. во-первых, закрывая файл, мы освобождаем память, \n",
    "связанную с этим файлом и, во-вторых, у нас не будет проблем в потере данных при их записи в файл. \n",
    "А, вообще, лучше просто запомнить: после завершения работы с файлом, его нужно закрыть.\n",
    "\n",
    "file.close()"
   ]
  },
  {
   "cell_type": "markdown",
   "id": "41ca6bee-649e-49de-abd7-705bdde8ddc2",
   "metadata": {},
   "source": [
    "**Обработка исключений**"
   ]
  },
  {
   "cell_type": "code",
   "execution_count": null,
   "id": "f0567dc3-ec6a-436a-a1ba-b8dd948c6618",
   "metadata": {},
   "outputs": [],
   "source": [
    "1. FileNotFoundError - ошибка: неверный путь к файлу\n",
    "2. try / except / finally - группа операторов для обработки ошибок\n",
    "3. Синтаксис:\n",
    "\n",
    "try:\n",
    "        блок операторов\n",
    "        критического кода\n",
    "except [исключение]:\n",
    "        блок операторов\n",
    "        обработки исключения\n",
    "finally:\n",
    "        блок операторов\n",
    "        всегда исполняемых\n",
    "        вне зависимости, от\n",
    "        возникновения исключения\n",
    "\n",
    "4. Если исключение (путь, файл не существует, нет прав доступа) к файлу:\n",
    "\n",
    "try:\n",
    "    file = open(\"my_file.txt\", encoding='utf-8')\n",
    "    s = file.readlines()\n",
    "    print(s)\n",
    "    file.close()\n",
    "except FileNotFoundError:\n",
    "    print(\"Невозможно открыть файл\")\n",
    "\n",
    "5 . Если исключение + из-за невозможности считывания информации из файла:\n",
    "\n",
    "try:\n",
    "    file = open(\"my_file.txt\", encoding='utf-8')\n",
    " \n",
    "    try:\n",
    "        s = file.readline()\n",
    "        print(s)\n",
    "    finally:\n",
    "        file.close()\n",
    "        \n",
    "except FileNotFoundError:\n",
    "     print(\"Невозможно открыть файл\")\n",
    "except: \n",
    "    print(\"Ошибка при работе с файлом\")\n",
    "\n",
    "6. Менеджер контекста для файлов (он автоматически закрывает файл)\n",
    "\n",
    "try:\n",
    "    with open(\"my_file.txt\", encoding='utf-8') as file:\n",
    "        s = file.readlines()\n",
    "        print( s )\n",
    " \n",
    "except FileNotFoundError:\n",
    "     print(\"Невозможно открыть файл\")\n",
    "except:\n",
    "    print(\"Ошибка при работе с файлом\")"
   ]
  },
  {
   "cell_type": "markdown",
   "id": "84ddf9dc-b911-4369-a91b-f3c849f37fcf",
   "metadata": {},
   "source": [
    "**Запись данных в файл. Текстовый и бинарный режим доступа**"
   ]
  },
  {
   "cell_type": "code",
   "execution_count": null,
   "id": "725b7ef5-617c-40d4-9769-05f0ae5a6357",
   "metadata": {},
   "outputs": [],
   "source": [
    "0. Текстовый режим доступа\n",
    "\n",
    "\n",
    "1. Открыть файл на запись и записать\n",
    "file = open(\"out.txt\", \"w\")\n",
    "file.write(\"Hello World!\")\n",
    "file.close()\n",
    "\n",
    "2. критический блок (кода открытия файла и записи информации) лучше поместить в блок try, \n",
    "а все операции с файлом выполнять через менеджер контекста:\n",
    "try:\n",
    "    with open(\"out.txt\", \"w\") as file:\n",
    "        file.write(\"Hello1\\n\")\n",
    "        file.write(\"Hello2\\n\")\n",
    "        file.write(\"Hello3\\n\")\n",
    "except:\n",
    "    print(\"Ошибка при работе с файлом\")\n",
    "\n",
    "3. Дозаписать информацию в файл. Режим a+\n",
    "try:\n",
    "    with open(\"out.txt\", \"a\") as file:\n",
    "        file.write(\"Hello1\\n\")\n",
    "        file.write(\"Hello2\\n\")\n",
    "        file.write(\"Hello3\\n\")\n",
    "except:\n",
    "    print(\"Ошибка при работе с файлом\")\n",
    "\n",
    "4. Открыть файл на запись и считывание информации.\n",
    "try:\n",
    "    with open(\"out.txt\", \"a+\") as file:\n",
    "        file.seek(0) # Ставим файловый указатель на начальную позицию (для чтения)\n",
    "        print(file.read())\n",
    "        file.write(\"Hello00000\\n\")\n",
    "except:\n",
    "    print(\"Ошибка при работе с файлом\")\n",
    "\n",
    "5. Метод writelines(). Запись в файл сразу несколько строк.\n",
    "file.writelines([\"Hello1\\n\", \"Hello2\\n\"])\n",
    "\n",
    "\n",
    "6. Бинарный режим доступа. данные из файла считываются один в один без какой-либо обработки. \n",
    "Обычно он используется для сохранения и считывания объектов целиком.\n",
    "\n",
    "6.1. Открыть файл на запись\n",
    "import pickle\n",
    "books = [\n",
    "    (\"Евгений Онегин\", \"Пушкин А.С.\", 200),\n",
    "    (\"Муму\", \"Тургенев И.С.\", 250),\n",
    "    (\"Мастер и Маргарита\", \"Булгаков М.А.\", 500),\n",
    "    (\"Мертвые души\", \"Гоголь Н.В.\", 190)\n",
    "]\n",
    "\n",
    "file = open(\"out.bin\", \"wb\")\n",
    "pickle.dump(books, file)\n",
    "file.close()\n",
    "\n",
    "    \n",
    "6.2. Открыть файл на чтение\n",
    "import pickle\n",
    "books = [\n",
    "    (\"Евгений Онегин\", \"Пушкин А.С.\", 200),\n",
    "    (\"Муму\", \"Тургенев И.С.\", 250),\n",
    "    (\"Мастер и Маргарита\", \"Булгаков М.А.\", 500),\n",
    "    (\"Мертвые души\", \"Гоголь Н.В.\", 190)\n",
    "]\n",
    "\n",
    "file = open(\"out.bin\", \"rb\")\n",
    "bs = pickle.load(file)\n",
    "file.close()\n",
    "prin\n",
    "\n",
    "7. Запись и считывание сразу несколько объектов.\n",
    "\n",
    "import pickle\n",
    " \n",
    "book1 = [\"Евгений Онегин\", \"Пушкин А.С.\", 200]\n",
    "book2 = [\"Муму\", \"Тургенев И.С.\", 250]\n",
    "book3 = [\"Мастер и Маргарита\", \"Булгаков М.А.\", 500]\n",
    "book4 = [\"Мертвые души\", \"Гоголь Н.В.\", 190]\n",
    " \n",
    "try:\n",
    "    with open(\"out.bin\", \"wb\") as file:\n",
    "        pickle.dump(book1, file)\n",
    "        pickle.dump(book2, file)\n",
    "        pickle.dump(book3, file)\n",
    "        pickle.dump(book4, file)\n",
    "except:\n",
    "    print(\"Ошибка при работе с файлом\")\n",
    "\n",
    "\n",
    "import pickle\n",
    " \n",
    "try:\n",
    "    with open(\"out.bin\", \"rb\") as file:\n",
    "        b1 = pickle.load(file)\n",
    "        b2 = pickle.load(file)\n",
    "        b3 = pickle.load(file)\n",
    "        b4 = pickle.load(file)\n",
    "except:\n",
    "    print(\"Ошибка при работе с файлом\")\n",
    " \n",
    "print( b1, b2, b3, b4, sep=\"\\n\" )"
   ]
  },
  {
   "cell_type": "markdown",
   "id": "fa9c4db5-ebc8-4096-bc5e-1dcd6cd39962",
   "metadata": {},
   "source": [
    "**Выражения генераторы**"
   ]
  },
  {
   "cell_type": "code",
   "execution_count": null,
   "id": "9026643f-41cb-490b-868c-91560a81ecf3",
   "metadata": {},
   "outputs": [],
   "source": [
    "(<формирование значения> for <переменная> in <итерируемый объект>)\n",
    "a = (x ** 2 for x in range(6)) # (внутренний, чистый генератор, объект-генератор, <generator object <genexpr> at 0x032DEAE0>)\n",
    "\n",
    "1. Перебор итераторов.\n",
    "\n",
    "1.1 \n",
    "next(a)\n",
    "\n",
    "1.2 \n",
    "gen = (x ** 2 for x in range(6))\n",
    " \n",
    "for x in gen:\n",
    "    print(x)\n",
    "\n",
    "2. Некоторые функции, такие как: list, set, sum, max, min и другие позволяют работать непосредственно с итераторами.\n",
    "\n",
    "a = (x ** 2 for x in range(6))\n",
    "list(a)\n",
    "a = (x ** 2 for x in range(6))\n",
    "set(a)\n",
    "sum((x ** 2 for x in range(6)))\n",
    "max((x ** 2 for x in range(6)))\n",
    "\n",
    "3. Зачем нужны выражения генераторы?  Они не хранят в памяти все числа сразу, а формируют их по мере необходимости «на лету».\n",
    "\n",
    "lst = (x for x in range(1000000000))\n",
    " \n",
    "for i in lst:\n",
    "    print(i, end=\" \")\n",
    "    if i > 50:\n",
    "        break\n",
    "\n",
    "4. Чего нельзя сделать с генераторами?\n",
    "\n",
    "* Нельзя определить число элементов через функцию len()\n",
    "a = (x for x in range(10, 20))\n",
    "len(a)\n",
    "\n",
    "* Нельзя получить доступ к его отдельному элементу по индексу\n",
    "a[2]\n",
    "\n",
    "* Перебрать элементы генератора повторно\n",
    "a = (x for x in range(10, 20))\n",
    "b = list(a)\n",
    "b2 = list(a)\n",
    "\n",
    "* Нельзя преобразовать генератор к списку, используя квадратные скобки\n",
    "[(x ** 2 for x in range(6))]"
   ]
  },
  {
   "cell_type": "markdown",
   "id": "d9dc233b-1949-4884-a8c8-17508a8844a4",
   "metadata": {},
   "source": [
    "**Функция-генератор. Оператор yield (превращает обычную функцию в генератор)**"
   ]
  },
  {
   "cell_type": "code",
   "execution_count": null,
   "id": "f8e1e508-4d36-43d3-acc0-0f30936402b0",
   "metadata": {},
   "outputs": [],
   "source": [
    "def get_list():\n",
    "    for x in [1, 2, 3, 4]:\n",
    "        yield x\n",
    "d = get_list()\n",
    "print(d)\n",
    "\n",
    "1. Перебор с помощью функции next()\n",
    "\n",
    "print(next(d))\n",
    "print(next(d))\n",
    "\n",
    "2. Перебор через цикл\n",
    "for i in d:\n",
    "    print(i, end=\" \")\n",
    "\n",
    "5. Пример. Вычисление среднего арифметического\n",
    "\n",
    "def get_list():\n",
    "    for i in range(1, 10):\n",
    "        a = range(i, 11)\n",
    "        yield sum(a) / len(a)\n",
    "\n",
    "\n",
    "a = get_list()\n",
    "print(list(a))\n",
    "\n",
    "6. Пример. Поиск всех начальных индексов слова генератор в текстовом файле\n",
    "\n",
    "def find_word(f, word):\n",
    "    g_indx = 0\n",
    "    for line in f:\n",
    "        indx = 0\n",
    "        while(indx != -1):\n",
    "            indx = line.find(word, indx)\n",
    "            if indx > -1:\n",
    "                yield g_indx + indx\n",
    "                indx += 1\n",
    " \n",
    "        g_indx += len(line)\n",
    "\n",
    "try:\n",
    "    with open(\"lesson_54.txt\", encoding=\"utf-8\") as file:\n",
    "        a = find_word(file, \"генератор\")\n",
    "        print(list(a))\n",
    "except FileNotFoundError:\n",
    "    print(\"Файл не найден!\")\n",
    "except:\n",
    "    print(\"Ошибка обработки файла!\")"
   ]
  },
  {
   "cell_type": "markdown",
   "id": "d62cb226-7333-4dd3-835b-2edfaa2a8ab0",
   "metadata": {},
   "source": [
    "**Функция map. Примеры ее использования** итератор = map(ссылка на функцию, итерируемый объект)"
   ]
  },
  {
   "cell_type": "code",
   "execution_count": null,
   "id": "38e5ec65-fddc-49b9-b787-c7b46faf43c7",
   "metadata": {},
   "outputs": [],
   "source": [
    "1. Преобразование строк чисел в обычные числа\n",
    "b = map(int, ['1', '2', '3', '5', '7])\n",
    "print(next(b))\n",
    "              \n",
    "              # a = (int(x) for x in ['1', '2', '3', '5', '7']) - эквивалентный генератор\n",
    "\n",
    "2. C итератором можем применять некоторые другие функции, которые в качестве аргумента принимают итерированный объект\n",
    "print(sum(b))\n",
    "print(max(b))\n",
    "print(min(b))\n",
    "\n",
    "3. Вывести длины городов\n",
    "cities = [\"Москва\", \"Астрахань\", \"Самара\", \"Уфа\", \"Смоленск\", \"Тверь\"]\n",
    "b = map(len, cities)\n",
    "print(list(b))\n",
    "              \n",
    "4. Перевести города в верхний регистр\n",
    "b = map(str.upper, cities)\n",
    "\n",
    "5. Использование своих функций. Мы здесь сначала преобразовываем строку в нижний регистр, а затем, формируем список из отдельных\n",
    "символов, который и возвращаем. Далее, в функции map() указываем эту функцию:\n",
    "\n",
    "def symbols(s):\n",
    "    return list(s.lower())\n",
    "b = map(symbols, cities)\n",
    "\n",
    "6. Использование лямбда - функции\n",
    "b = map(lambda s: list(s.lower()), cities)\n",
    "b = map(lambda s: s[::-1], cities)\n",
    "\n",
    "7. Введенные числа\n",
    "\n",
    "s = map(int, input().split())\n",
    "print(list(s))"
   ]
  },
  {
   "cell_type": "markdown",
   "id": "2eed1c3c-f1aa-4489-bf34-1bdb66af07ce",
   "metadata": {},
   "source": [
    "**Функция filter для отбора значений итерируемых объектов**"
   ]
  },
  {
   "cell_type": "code",
   "execution_count": null,
   "id": "506ebfcf-5f53-45fd-a108-44bf00e3b21c",
   "metadata": {},
   "outputs": [],
   "source": [
    "filter(func, *iterables) # Если функция func возвращает для текущего значения элемента True, то он будет возвращен,\n",
    "                         # а при False – отброшен.\n",
    "\n",
    "1. Выбрать из списка только четные значения\n",
    "a = [1, 2, 3, 4, 5, 6, 7, 8, 9, 10]\n",
    "b = filter(lambda x: x % 2 == 0, a)\n",
    "print(next(b))\n",
    "\n",
    "2. проверить, является ли число простым\n",
    "def is_prost(x):\n",
    "    d = x-1\n",
    "    if d < 0:\n",
    "        return False\n",
    "    \n",
    "    while d > 1:\n",
    "        if x % d == 0:\n",
    "            return False\n",
    "        d -= 1\n",
    " \n",
    "    return True\n",
    "b = filter(is_prost, a)\n",
    "\n",
    "3. Функцию filter можно применять с любыми типами данных, например, строками.\n",
    "lst = (\"Москва\", \"Рязань1\", \"Смоленск\", \"Тверь2\", \"Томск\")\n",
    "b = filter(str.isalpha, lst)\n",
    " \n",
    "for x in b:\n",
    "    print(x)"
   ]
  },
  {
   "cell_type": "markdown",
   "id": "34f1a220-7457-4b0d-8d41-d17907536c43",
   "metadata": {},
   "source": [
    "**Вложенные вызовы функции filter()**"
   ]
  },
  {
   "cell_type": "code",
   "execution_count": null,
   "id": "829fbf69-2e75-42c4-bedf-8d7d704b8eca",
   "metadata": {},
   "outputs": [],
   "source": [
    "1.\n",
    "\n",
    "def is_prost(x):\n",
    "    d = x-1\n",
    "    if d < 0:\n",
    "        return False\n",
    "    \n",
    "    while d > 1:\n",
    "        if x % d == 0:\n",
    "            return False\n",
    "        d -= 1\n",
    " \n",
    "    return True\n",
    "\n",
    "b = filter(is_prost, a)\n",
    "b2 = filter(lambda x: x % 2 != 0, b)\n",
    "c = tuple(b2)\n",
    "print(c)\n",
    "\n",
    "\n",
    "Или так:\n",
    "\n",
    "b2 = filter(lambda x: x % 2 != 0, filter(is_prost, a))\n",
    "\n",
    "Или прописать составное условие в самой функции if d < 0 or x % 2 == 0\n",
    "\n",
    "def is_prost(x):\n",
    "    d = x-1\n",
    "    if d < 0 or x % 2 == 0:\n",
    "        return False\n",
    " \n",
    "    while d > 1:\n",
    "        if x % d == 0:\n",
    "            return False\n",
    "        d -= 1\n",
    " \n",
    "    return True"
   ]
  },
  {
   "cell_type": "markdown",
   "id": "2dcbe05a-b3e8-4983-9e25-86963fef22d4",
   "metadata": {},
   "source": [
    "**Функция zip. Примеры использования**"
   ]
  },
  {
   "cell_type": "code",
   "execution_count": null,
   "id": "da9a6d4f-606a-49fc-81c2-7fafd4624e21",
   "metadata": {},
   "outputs": [],
   "source": [
    "zip(iter1 [, iter2 [, iter3] ...])\n",
    "\n",
    "Для указанных итерируемых объектов перебирает соответствующие элементы и продолжает работу \n",
    "до тех пор, пока не дойдет до конца самой короткой коллекции. \n",
    "\n",
    "a = [1, 2, 3, 4]\n",
    "b = [5, 6, 7, 8, 9, 10]\n",
    "c = \"python\"\n",
    "\n",
    "z = zip(a, b, c)\n",
    "z = tuple(zip(a, b, c)) # Если нужно проходить несколько раз (но увеличивается память)\n",
    "\n",
    "\n",
    "print(next(z))\n",
    "print(next(z))      \n",
    "                    (1, 5, 'p')\n",
    "                    (2, 6, 'y')\n",
    "\n",
    "\n",
    "Или:\n",
    "for x in z:\n",
    "    print(x)        (1, 5, 'p')\n",
    "                    (2, 6, 'y')\n",
    "                    (3, 7, 't')\n",
    "                    (4, 8, 'h')\n",
    "    \n",
    "\n",
    "Или:\n",
    "\n",
    "for v1, v2, v3 in z: # Печать в распакованном виде\n",
    "    print(v1, v2, v3)\n",
    "\n",
    "                    1 5 p\n",
    "                    2 6 y\n",
    "                    3 7 t\n",
    "                    4 8 h\n",
    "\n",
    "Или:\n",
    "\n",
    "z1, z2, z3, z4 = zip(a, b, c)\n",
    "print(z1, z2, z3, z4)\n",
    "\n",
    "                    (1, 5, 'p') (2, 6, 'y') (3, 7, 't') (4, 8, 'h')\n",
    "Или:\n",
    "\n",
    "z = zip(a, b, c)\n",
    "lz = list(z)\n",
    "print(*lz)\n",
    "                    (1, 5, 'p') (2, 6, 'y') (3, 7, 't') (4, 8, 'h')\n",
    "\n",
    "Или:\n",
    "\n",
    "z = zip(a, b, c)\n",
    "lz = list(z)\n",
    "t1, t2, t3 = zip(*lz)\n",
    "print(t1, t2, t3, sep='\\n')\n",
    "\n",
    "                    (1, 2, 3, 4)\n",
    "                    (5, 6, 7, 8)\n",
    "                    ('p', 'y', 't', 'h')\n",
    "\n",
    "Или короче:\n",
    "\n",
    "z = zip(a, b, c)\n",
    "t1, t2, t3 = zip(*z)\n",
    "print(t1, t2, t3, sep='\\n')\n",
    "\n",
    "                    (1, 2, 3, 4)\n",
    "                    (5, 6, 7, 8)\n",
    "                    ('p', 'y', 't', 'h')\n",
    "\n",
    "Или:\n",
    "\n",
    "z1, *z2 = zip(a, b, c) # Распаковали первое значение а все остальное поместили в z2\n",
    "print(z1, z2, z3, z4)\n",
    "\n",
    "                    (1, 5, 'p') [(2, 6, 'y'), (3, 7, 't'), (4, 8, 'h')] (3, 7, 't') (4, 8, 'h')"
   ]
  },
  {
   "cell_type": "markdown",
   "id": "e5f1a15c-5d3c-4c86-b8a5-5e3ecc836c2d",
   "metadata": {},
   "source": [
    "**Особенности сортировки через sort() и sorted()** Сортировка данных возможна для однотипных элементов: или чисел, или строк, или кортежей, но не их комбинаций. "
   ]
  },
  {
   "cell_type": "code",
   "execution_count": null,
   "id": "38efc8a5-7748-40c3-a1b0-3715430fa7c9",
   "metadata": {},
   "outputs": [],
   "source": [
    "1. Для списка. Метод sort не создает новой коллекции, а меняет уже существующую.\n",
    "\n",
    "\n",
    "a=[1,-45,3,2,100,-4]\n",
    "a.sort()\n",
    "a.sort(reverse=True)\n",
    "\n",
    "2. Для кортежей или строк. Функция sorted(). Функция sorted не меняет исходную коллекцию, а создает новую с отсортированными\n",
    "элементами.\n",
    "\n",
    "b=(\"ab\", \"bc\", \"wd\", \"gf\")\n",
    "c = \"hello world\"\n",
    "\n",
    "b = sorted(b)\n",
    "c = sorted(с\n",
    "a = sorted(a, reverse=True)\n",
    "\n",
    "\n",
    "3. Cортировка для словаря:\n",
    "\n",
    "d = {'river': \"река\", 'house': \"дом\", 'tree': \"дерево\", 'road': \"дорога\"}\n",
    "d = sorted(d)\n",
    "print(d)                # ['house', 'river', 'road', 'tree']\n",
    "\n",
    "\n",
    "d = sorted(d.values())\n",
    "print(d)                # ['дерево', 'дом', 'дорога', 'река']\n",
    "\n",
    "\n",
    "d = sorted(d.items())\n",
    "print(d)                # [('house', 'дом'), ('river', 'река'), ('road', 'дорога'), ('tree', 'дерево')]"
   ]
  },
  {
   "cell_type": "code",
   "execution_count": null,
   "id": "efbb1632-84df-4cff-b77e-41cf4ffcceda",
   "metadata": {},
   "outputs": [],
   "source": [
    "**Аргумент key для сортировки коллекций по ключу**"
   ]
  },
  {
   "cell_type": "code",
   "execution_count": null,
   "id": "60d9b1f5-b390-4cc8-815c-4f697dd146de",
   "metadata": {},
   "outputs": [],
   "source": [
    "1.\n",
    "Последовательность будет выстроена по возрастанию ключей:\n",
    "\n",
    "a = [4, 3, -10, 1, 7, 12]\n",
    "def is_odd(x):\n",
    "    return x % 2\n",
    "b = sorted(a, key=is_odd)              # [4, -10, 12, 3, 1, 7]\n",
    "\n",
    "Или так:\n",
    "\n",
    "a = [4, 3, -10, 1, 7, 12]\n",
    "b = sorted(a, key=lambda x: x % 2)\n",
    "\n",
    "Или так:\n",
    "a.sort(key=lambda x: x % 2)\n",
    "\n",
    "\n",
    "2.\n",
    "Усложним нашу задачу и сделаем не просто разделение на четные и нечетные, а еще и отсортируем каждую группу по возрастанию.\n",
    "Для этого значения ключей я буду увеличивать на значения элементов и, кроме того, нечетным величинам изначально присваивать\n",
    "число 100, чтобы гарантированно разделить четные и нечетные значения именно в нашей коллекции.\n",
    "\n",
    "def key_sort(x):\n",
    "    return x if x % 2 == 0 else 100 + x\n",
    "\n",
    "b = sorted(a, key=key_sort)\n",
    "print(b)\n",
    "                                    # [-10, 4, 12, 1, 3, 7]\n",
    "\n",
    "3.\n",
    "Сортировка по длине элементов\n",
    "\n",
    "lst = [\"Москва\", \"Тверь\", \"Смоленск\", \"Псков\", \"Рязань\"]\n",
    "print( sorted(lst, key=len))\n",
    "                                    # ['Тверь', 'Псков', 'Москва', 'Рязань', 'Смоленск']\n",
    "\n",
    "4.\n",
    "Cортировка по последнему символу слова:\n",
    "print( sorted(lst, key=lambda x: x[-1]))\n",
    "                                    # ['Москва', 'Псков', 'Смоленск', 'Тверь', 'Рязань']\n",
    "\n",
    "5.\n",
    "Сортировка в кортежах (по цене книги)\n",
    "books = (\n",
    "    (\"Евгений Онегин\", \"Пушкин А.С.\", 200),\n",
    "    (\"Муму\", \"Тургенев И.С.\", 250),\n",
    "    (\"Мастер и Маргарита\", \"Булгаков М.А.\", 500),\n",
    "    (\"Мертвые души\", \"Гоголь Н.В.\", 190)\n",
    ")\n",
    "print( sorted(books, key=lambda x: x[2]) )\n",
    "# [('Мертвые души', 'Гоголь Н.В.', 190), ('Евгений Онегин', 'Пушкин А.С.', 200), ('Муму', 'Тургенев И.С.', 250), ('Мастер и Маргарита', 'Булгаков М.А.', 500)]\n",
    "\n"
   ]
  },
  {
   "cell_type": "code",
   "execution_count": null,
   "id": "d0a95e5a-0d9f-4117-bd68-737b1496da58",
   "metadata": {},
   "outputs": [],
   "source": [
    "**Функции isinstance и type для проверки на принадлежность объекта определенным типам данных**"
   ]
  },
  {
   "cell_type": "code",
   "execution_count": null,
   "id": "bf580b03-fa45-4fa7-aca5-08ff327b8104",
   "metadata": {},
   "outputs": [],
   "source": [
    "1.\n",
    "isinstance()  делает проверку с учетом иерархии наследования объектов и была разработана для проверки \n",
    "принадлежности объекта тому или иному классу\n",
    "a = 5\n",
    "isinstance(a, int)\n",
    "# True\n",
    "\n",
    "b = True\n",
    "isinstance(b, bool)\n",
    "# True\n",
    "isinstance(b, int)\n",
    "# True\n",
    "\n",
    "2. \n",
    "Если нужна строгая проверка на типы, то лучше использовать знакомую нам функцию type()\n",
    "\n",
    "b = True\n",
    "type(b) == bool\n",
    "# True\n",
    "\n",
    "или\n",
    "b = True\n",
    "type(b) is bool\n",
    "# True\n",
    "type(b) is int\n",
    "#False\n",
    "\n",
    "3.\n",
    "Множественная проверка оператором in\n",
    "b = True\n",
    "type(b) in (bool, float, str)\n",
    "\n",
    "\n",
    "Пример: вычислить сумму всех вещественных чисел  коллекции\n",
    "\n",
    "data = (4.5, 8.7, True, \"книга\", 8, 10, -11, [True, False])\n",
    "s = sum(filter(lambda x: isinstance(x, float), data))\n",
    "\n",
    "Пример: множественные проверки. Например, мы хотим определить, относится ли число к целому или вещественному типу данных?\n",
    "a = 5.5\n",
    "isinstance(a, (int, float))\n",
    "или \n",
    "isinstance(a, int) or isinstance(a, float)"
   ]
  },
  {
   "cell_type": "markdown",
   "id": "bee57916-774e-4b02-9e0b-196841549150",
   "metadata": {},
   "source": [
    "**Функции all и any. Примеры их использования**"
   ]
  },
  {
   "cell_type": "code",
   "execution_count": null,
   "id": "b990ad60-8ab7-4cec-be9a-11cc7b0573d2",
   "metadata": {},
   "outputs": [],
   "source": [
    "any() проверяет наличие хотя бы одного True"
   ]
  },
  {
   "cell_type": "code",
   "execution_count": null,
   "id": "44fa4752-b3ea-43d1-bad1-c2f7d8e25622",
   "metadata": {},
   "outputs": [],
   "source": [
    "1.\n",
    "a = [True, True, True, True]\n",
    "all(a)\n",
    "#True\n",
    "\n",
    "a = [0, 1, 2.5, \"\", \"python\", [], [1, 2], {}]\n",
    "all(a)\n",
    "#False\n",
    "\n",
    "Работа этой функции:\n",
    "all_res = True\n",
    "for x in a:\n",
    "    all_res = all_res and bool(x)\n",
    " \n",
    "print(all_res)\n",
    "\n",
    "2.\n",
    "any([False, False, False, False])\n",
    "#False\n",
    "\n",
    "3. Пример. Крестики нолики (map(), чтобы правильно преобразовать крестики в True, а нолики – в False, \n",
    "                                                                иначе бы все преобразовалось в True)\n",
    "P = ['x', 'x', 'o', 'o', 'x', 'o', 'x', 'x', 'x']\n",
    "row_1 = all(map(lambda x: x == 'x', P[:3]))\n",
    "row_2 = all(map(lambda x: x == 'x', P[3:6]))\n",
    "row_3 = all(map(lambda x: x == 'x', P[6:]))\n",
    " \n",
    "print(row_1, row_2, row_3)\n",
    "\n",
    "\n",
    "4. Пример. Сапер\n",
    "N = 10\n",
    "P = [0] * (N*N)\n",
    "P[4] = '*'\n",
    "loss = any(map(lambda x: x == '*', P))\n",
    "print(loss)"
   ]
  },
  {
   "cell_type": "markdown",
   "id": "4096b182-78a7-4f18-b6c7-96b4612037f7",
   "metadata": {},
   "source": [
    "**Расширенное представление чисел**"
   ]
  },
  {
   "cell_type": "code",
   "execution_count": null,
   "id": "5a7e50a1-cd7d-4de7-ace0-80e3f2d2beef",
   "metadata": {},
   "outputs": [],
   "source": [
    "1. Классическая запись числа\n",
    "a = 500\n",
    "b = 0.01\n",
    "\n",
    "2.Экспоненциальная запись числа # <число>е<целая степень десятки>\n",
    "500 = 5e2 (Здесь e2 – это 10 в квадрате, то есть, 100 и оно умножается на 5, получаем 500)\n",
    "0.01 = 1e-2 (Здесь e-2 – это 10 в минус второй степени, то есть, 0,01 и все умножается на 1)\n",
    "6,02 * 10^23 = 6.02e23 \n",
    "Запись в Пайтон:\n",
    "5е2 # 500\n",
    "1e-2 # 0.01\n",
    "\n",
    "\n",
    "3. Системы счисления:\n",
    "\n",
    "Десятичная\n",
    "123 = 1*10^2 + 2*10^1 + 3*10^0 (в десятичной системе счисления все цифры умножаются на степени десяток, \n",
    "                                                                в зависимости от позиции их написания)\n",
    "\n",
    "\n",
    "Двоичная\n",
    "001 = 0*2^2 + 0*2^1 + 1*2^0 = 1\n",
    "1101 = 1*2^3 + 1*2^2 + 0*2^1 + 1*2^0 = 13\n",
    "10001101 = 1*2^7 + 1*2^3 + 1*2^2 + 1*2^0 = 141\n",
    "\n",
    "Запись в Пайтон:\n",
    "из двоичной в десятичную\n",
    "a = 0b001\n",
    "a # 1\n",
    "d = -0b1111\n",
    "d # -15\n",
    "\n",
    "из десятичной в двоичную:\n",
    "bin(13)\n",
    "# '0b1101'\n",
    "d = -0b1111\n",
    "d # -15\n",
    "\n",
    "Шестнадцатиричная\n",
    "0-9, A, B, C, D, E, F\n",
    "1A = 1*16^1 + A*16^0 = 26\n",
    "FB = F*16^1 + B*16^0 = 240 + 11 = 251\n",
    "C2DE = C*16^3 + 2*16^2 + D*16^1 + E*16^0 = 49886\n",
    "Запись в Пайтон:\n",
    "Из шестнадцатиричной в десятичную:\n",
    "a = 0x1A\n",
    "# 26\n",
    "d = -0x342\n",
    "# -834\n",
    "\n",
    "из десятичной в шестнадцатиричную:\n",
    "hex(26)\n",
    "# 0x1A\n",
    "hex(-834)\n",
    "# -0x342\n",
    "\n",
    "Восьмиричная\n",
    "27 = 2*8^1 + 7*8^0 = 23\n",
    "54 = 5*8^1 + 4*8^0 = 44\n",
    "775 = 7*8^2 + 7*8^1 + 5*8^0 = 509\n",
    "Запись в Пайтон:\n",
    "из восьмиричной в десятичную:\n",
    "a = 0o27\n",
    "# 23\n",
    "c = -0o775\n",
    "# -509\n",
    "\n",
    "из десятичной в восьмиричную:\n",
    "oct(23)\n",
    "# 0o27\n",
    "oct(-509)\n",
    "# -0o775\n",
    "\n",
    "Шпaргалка:\n",
    "1. двоичная система   \n",
    "0b\n",
    "0 1\n",
    "bin()\n",
    "\n",
    "2. восьмиричная система   \n",
    "0o\n",
    "0 - 7\n",
    "oct()\n",
    "\n",
    "3. шестнадцатеричная система   \n",
    "0x\n",
    "0 - 9  A  B  C  D  E  F\n",
    "hex()\n",
    "\n",
    "4. int('1010', base = 2)\n",
    "\n",
    " int('1010', 2) интерпретирует строку '1010' как двоичное число и вернет 10 в десятичной системе счисления.\n",
    "- int('42', 8) интерпретирует строку '42' как восьмеричное число и вернет 34 в десятичной системе счисления.\n",
    "- int('B2', 16) интерпретирует строку 'B2' как шестнадцатеричное число и преобразует его в десятичное число, \n",
    "    что дает результат 178."
   ]
  },
  {
   "cell_type": "markdown",
   "id": "750bc107-1f09-42ae-99a5-c38a6335f888",
   "metadata": {},
   "source": [
    "**Битовые операции И, ИЛИ, XOR, НЕ. Сдвиговые операторы (&, |, ^, ~, <<, >>)**"
   ]
  },
  {
   "cell_type": "code",
   "execution_count": null,
   "id": "3ee17637-dbc9-4a8c-b01e-cb4298f0a605",
   "metadata": {},
   "outputs": [],
   "source": [
    "Этот механизм широко применяется в работе с флагами, правами доступа, побитовыми настройками\n",
    "и оптимизированной обработке данных."
   ]
  },
  {
   "cell_type": "code",
   "execution_count": null,
   "id": "f0851828-c066-4ae2-820f-3f54dfe69d53",
   "metadata": {},
   "outputs": [],
   "source": [
    "\n",
    "### 1. Битовая операция И (AND)\n",
    "\n",
    "Операция И сравнивает каждый бит двух чисел и возвращает 1, если оба бита равны 1, иначе возвращает 0.\n",
    "\n",
    "**Пример:**\n",
    "```python\n",
    "a = 5  # в двоичной системе: 0101\n",
    "b = 3  # в двоичной системе: 0011\n",
    "\n",
    "result = a & b  # результат: 0001 (1 в десятичной системе)\n",
    "print(result)  # вывод: 1\n",
    "```\n",
    "\n",
    "### 2. Битовая операция ИЛИ (OR)\n",
    "Операция ИЛИ сравнивает каждый бит двух чисел и возвращает 1, если хотя бы один из битов равен 1.\n",
    "\n",
    "**Пример:**\n",
    "```python\n",
    "a = 5  # в двоичной системе: 0101\n",
    "b = 3  # в двоичной системе: 0011\n",
    "\n",
    "result = a | b  # результат: 0111 (7 в десятичной системе)\n",
    "print(result)  # вывод: 7\n",
    "```\n",
    "\n",
    "### 3. Битовая операция НЕ (NOT)\n",
    "Операция НЕ инвертирует все биты числа, превращая 0 в 1 и 1 в 0. В Python используется оператор `~`.\n",
    "\n",
    "**Пример:**\n",
    "```python\n",
    "a = 5  # в двоичной системе: 0101\n",
    "\n",
    "result = ~a  # результат: -(a + 1) = -6 (в двоичной системе: 1010)\n",
    "print(result)  # вывод: -6\n",
    "```\n",
    "\n",
    "### 4. Битовая операция XOR (исключающее ИЛИ)\n",
    "\n",
    "Операция XOR сравнивает каждый бит двух чисел и возвращает 1, если биты различны, иначе возвращает 0.\n",
    "\n",
    "**Пример:**\n",
    "```python\n",
    "a = 5  # в двоичной системе: 0101\n",
    "b = 3  # в двоичной системе: 0011\n",
    "\n",
    "result = a ^ b  # результат: 0110 (6 в десятичной системе)\n",
    "print(result)  # вывод: 6"
   ]
  },
  {
   "cell_type": "code",
   "execution_count": null,
   "id": "5b27f1ca-26ce-4656-bd53-8e3f02c0392f",
   "metadata": {},
   "outputs": [],
   "source": [
    "Полезные комбинации\n",
    "\n",
    "Установить n-й бит: x |= (1 << n)\n",
    "Очистить n-й бит: x &= ~(1 << n)\n",
    "Проверить n-й бит: (x & (1 << n)) != 0\n",
    "Переключить n-й бит: x ^= (1 << n)\n",
    "Получить самый правый единичный бит: x & (-x)\n",
    "Очистить самый правый единичный бит: x & (x - 1)"
   ]
  },
  {
   "cell_type": "markdown",
   "id": "1f236297-1c77-4bf3-9e30-b3de3dcd8deb",
   "metadata": {},
   "source": [
    "**Модуль random стандартной библиотеки**"
   ]
  },
  {
   "cell_type": "code",
   "execution_count": null,
   "id": "5c73dfe4-5cc9-422b-a66c-1c5a70c4649a",
   "metadata": {},
   "outputs": [],
   "source": [
    "**Равномерный закон распределения\n",
    "1. Генерация случайных значений в диапазоне [0.0; 1.0). Числа подчиняются равномерному закону распределения, то есть, \n",
    "в диапазоне [0.0; 1.0) они могут принимать любое значение с равной вероятностью\n",
    "\n",
    "import random\n",
    "a = random.random()\n",
    "print(a)\n",
    "\n",
    "2. Генерирует случайные значения по равномерному закону, но в диапазоне от a до b:\n",
    "a = random.uniform(1, 5)\n",
    "\n",
    "3. Моделирование целочисленных случайных значений с тем же равномерным распределением\n",
    "a = random.randint(-3, 7)   # [-3; 7]\n",
    "a = random.randrange(5)\n",
    "b = random.randrange(-3, 10, 2)\n",
    "\n",
    "\n",
    "**Гауссовский закон распределения (нормальный)\n",
    "Закон распределения определяется двумя параметрами: математическим ожиданием (средним значением)\n",
    "и среднеквадратическим отклонением (мерой разброса относительно МО). График такого распределения похож на колокол \n",
    "(его называют \"колоколообразная кривая\" или \"Гауссиана\").\n",
    "\n",
    "a = random.gauss(0, 3.5)\n",
    "\n",
    "**Функции модуля random при работе с последовательностями. \n",
    "\n",
    "1. Выбрать из последовательности один элемент случайным образом\n",
    "\n",
    "lst = [4, 5, 0, -1, 10, 76, 3]\n",
    "a = random.choice(lst)\n",
    "print(a)\n",
    "\n",
    "2. Перемешивает элементы списка случайным образом\n",
    "random.shuffle(lst)\n",
    "print(lst)\n",
    "\n",
    "3. Возвращает новый список с указанным числом неповторяющихся элементов, выбранных случайным образом из списка\n",
    "a = random.sample(lst, 3)\n",
    "print(a)\n",
    "\n",
    "**Формирование одинаковых случайных последовательностей чисел при каждом новом запуске программы, функция seed(). Зерно\n",
    "\n",
    "random.seed(123)\n",
    "a = [random.randint(0, 10) for i in range(20)]\n",
    "print(a)\n"
   ]
  },
  {
   "cell_type": "markdown",
   "id": "3eec845c-1a50-4f3a-a1a0-c8c098a468f3",
   "metadata": {},
   "source": [
    "# match - case"
   ]
  },
  {
   "cell_type": "markdown",
   "id": "5b7a5131-c161-4039-ae25-db1196460a2d",
   "metadata": {},
   "source": [
    "**Конструкция match - case** способен заменить конструкцию if-elif-else для обработки множества условий. Оператор match-case сравнивает значение с шаблоном только по равенству (аналог ==). Более сложные условия, такие как проверки диапазона (>, <) или комбинированные условия, в match-case недоступны. "
   ]
  },
  {
   "cell_type": "markdown",
   "id": "32d23a0a-b1fc-4097-b7bf-608e0b4382b0",
   "metadata": {},
   "source": [
    "**Оператор match-case имеет следующий синтаксис:**"
   ]
  },
  {
   "cell_type": "markdown",
   "id": "c9f6a97f-a626-45e9-9d25-5aba678ac8ed",
   "metadata": {},
   "source": [
    "match value:\n",
    "  case <pattern_1>:\n",
    "    <action_1>\n",
    "  case <pattern_2>:\n",
    "    <action_2>\n",
    "  case <pattern_3>:\n",
    "    <action_3>\n",
    "  case _:\n",
    "    <action_wildcard>"
   ]
  },
  {
   "cell_type": "markdown",
   "id": "6f0467d1-d013-4649-895d-3207beeb2b53",
   "metadata": {},
   "source": [
    "**Пример:**"
   ]
  },
  {
   "cell_type": "code",
   "execution_count": null,
   "id": "b8d9c302-6bf2-44a4-9e2e-da268914d6a6",
   "metadata": {},
   "outputs": [],
   "source": [
    "cmd = \"top\"\n",
    " \n",
    "match cmd:\n",
    "    case \"top\":\n",
    "        print(\"вверх\")\n",
    "    case \"left\":\n",
    "        print(\"влево\")\n",
    "    case \"right\":\n",
    "        print(\"вправо\")\n",
    "    case _:  # wildcard\n",
    "        print(\"другое\")\n",
    " \n",
    "print(\"проверки завершены\")"
   ]
  },
  {
   "cell_type": "markdown",
   "id": "883acabc-2eb4-4948-bafd-c86ba2011c8d",
   "metadata": {},
   "source": [
    "**Использование методов в операторе match-case**"
   ]
  },
  {
   "cell_type": "code",
   "execution_count": null,
   "id": "f0b717c7-6220-4394-8ca1-9d70b2c52fd1",
   "metadata": {},
   "outputs": [],
   "source": [
    "direction = 'NoRtH'\n",
    "match direction.lower():\n",
    "  case \"north\" | \"east\" | \"south\" | \"west\":\n",
    "      print(\"Хорошо, я пошел!\")\n",
    "  case _:\n",
    "      print(\"Неизвестное направление...\")"
   ]
  },
  {
   "cell_type": "markdown",
   "id": "5828d363-0796-4153-bd28-62e420f3e936",
   "metadata": {},
   "source": [
    "**Если нужно в одном блоке case нужно учесть сразу несколько констант, это можно сделать с помощью \n",
    "оператора (логическое или) |**"
   ]
  },
  {
   "cell_type": "code",
   "execution_count": null,
   "id": "cac5d1b1-63bf-4d25-94f1-791404d78490",
   "metadata": {},
   "outputs": [],
   "source": [
    "match cmd:\n",
    "    case \"top\" | \"left\" | \"right\":\n",
    "        print(\"вверх, влево или вправо\")\n",
    "    case _:  # wildcard\n",
    "        print(\"другое\")"
   ]
  },
  {
   "cell_type": "markdown",
   "id": "06b414ce-7253-40e6-a366-ae1a14c31625",
   "metadata": {},
   "source": [
    "**Шаблоны сравнений оператора case:**\n",
    "\n",
    "- **Вместо конкретных значений после оператора case можно записывать переменные.**"
   ]
  },
  {
   "cell_type": "code",
   "execution_count": null,
   "id": "e50986db-db09-4daa-a6a2-ec06cb6e61bd",
   "metadata": {},
   "outputs": [],
   "source": [
    "cmd = \"top\"\n",
    " \n",
    "match cmd:\n",
    "    case command:\n",
    "        print(f\"команда: {command}\") # команда: top"
   ]
  },
  {
   "cell_type": "markdown",
   "id": "2154ffa5-e473-4e13-a451-977cd5b34525",
   "metadata": {},
   "source": [
    "**Шаблоны проверки типов:**\n",
    "\n",
    "- **Если переменная cmd является строкой, то только в этом случае выполнится этот блок case и будет создана переменная command**"
   ]
  },
  {
   "cell_type": "code",
   "execution_count": null,
   "id": "2f93d909-1e89-438b-8229-f94029620c8f",
   "metadata": {},
   "outputs": [],
   "source": [
    "# Меняйте значение переменной value для тестирования\n",
    "value = [1, 2, 3]\n",
    "\n",
    "match value:\n",
    "    case int() | float():  # Проверяем, является ли число целым или с плавающей точкой\n",
    "        print(\"Имеем дело с числом\")\n",
    "    case str():  # Проверяем, является ли строкой\n",
    "        print(\"Имеем дело со строкой\")\n",
    "    case list():  # Проверяем, является ли списком\n",
    "        print(\"Имеем дело со списком\")\n",
    "    case _:  # Если ни один из типов не подошёл\n",
    "        print(\"Лучше с этим дел не иметь\")"
   ]
  },
  {
   "cell_type": "code",
   "execution_count": null,
   "id": "a0816360-b51b-4115-9764-fed053e6946f",
   "metadata": {},
   "outputs": [],
   "source": [
    "cmd = \"top\"\n",
    "match cmd:\n",
    "    case str() as command:\n",
    "        print(f\"строковая команда: {command}\")\n",
    "    case _:  # wildcard\n",
    "        print(f\"другая команда\")"
   ]
  },
  {
   "cell_type": "code",
   "execution_count": null,
   "id": "4e4f7a35-0b23-4e5e-bb07-942a74ca479d",
   "metadata": {},
   "outputs": [],
   "source": [
    "cmd = 10\n",
    "match cmd:\n",
    "    case str() as command:\n",
    "        print(f\"строковая команда: {command}\")\n",
    "    case int() as command:\n",
    "        print(f\"целочисленная команда: {command}\")\n",
    "    case bool() as command:\n",
    "        print(f\"булева команда: {command}\")\n",
    "    case _:  # wildcard\n",
    "        print(f\"другая команда\")"
   ]
  },
  {
   "cell_type": "code",
   "execution_count": null,
   "id": "e04ac3df-b0c5-4508-b84c-d551ad161ded",
   "metadata": {},
   "outputs": [],
   "source": [
    "match cmd:\n",
    "    case str(command):\n",
    "        print(f\"строковая команда: {command}\")\n",
    "    case _:  # wildcard\n",
    "        print(f\"другая команда\")"
   ]
  },
  {
   "cell_type": "markdown",
   "id": "0c557385-5b37-46e8-83ae-cc6dca7fbe5e",
   "metadata": {},
   "source": [
    "- Если нам нужна только проверка на строковый тип данных, то фрагмент «as command» можно не писать"
   ]
  },
  {
   "cell_type": "markdown",
   "id": "bd65b6a6-f4cb-46b4-9e8f-2a0ee056c56b",
   "metadata": {},
   "source": [
    "**Guard (защитник)**"
   ]
  },
  {
   "cell_type": "code",
   "execution_count": null,
   "id": "70b83097-c42d-4ed9-b0b5-c624432856f9",
   "metadata": {},
   "outputs": [],
   "source": [
    "match cmd:\n",
    "    case str() as command:\n",
    "        print(f\"строковая команда: {command}\")\n",
    "    case bool() as command:\n",
    "        print(f\"булева команда: {command}\")\n",
    "    case int() as command if 0 <= command <= 9:\n",
    "        print(f\"целочисленная команда: {command}\")\n",
    "    case _:  # wildcard\n",
    "        print(f\"другая команда\")"
   ]
  },
  {
   "cell_type": "code",
   "execution_count": null,
   "id": "2c4f99b8-1bfe-4407-8078-acfd3a2a91ca",
   "metadata": {},
   "outputs": [],
   "source": [
    "cmd = \"c_top\"\n",
    "match cmd:\n",
    "    case str() as command if len(command) < 10 and command[0] == 'c':\n",
    "        print(f\"строковая команда: {command}\")\n",
    "    case bool() as command:\n",
    "        print(f\"булева команда: {command}\")\n",
    "    case int() | float() as command if 0 <= command <= 9:\n",
    "        print(f\"целочисленная команда: {command}\")\n",
    "    case _:  # wildcard\n",
    "        print(f\"другая команда\")"
   ]
  },
  {
   "cell_type": "markdown",
   "id": "ea3061ae-d433-4fba-a98e-a1b271ebd83f",
   "metadata": {},
   "source": [
    "### Конструкция match/case с кортежами и списками"
   ]
  },
  {
   "cell_type": "markdown",
   "id": "89f7af5d-e49c-4c90-8deb-fe968310d833",
   "metadata": {},
   "source": [
    "**Распаковка кортежа в шаблоне**"
   ]
  },
  {
   "cell_type": "code",
   "execution_count": null,
   "id": "7f855e83-9a5f-49c1-8953-a6978cc26836",
   "metadata": {},
   "outputs": [],
   "source": [
    "cmd = (\"Балакирев С.М.\", \"Python\", 2000.78)\n",
    "\n",
    "match cmd:\n",
    "    case author, title, price:\n",
    "        print(f\"Книга: {author}, {title}, {price}\")\n",
    "    case _:  # wildcard\n",
    "        print(\"непонятный формат данных\")"
   ]
  },
  {
   "cell_type": "markdown",
   "id": "2c8f72de-a7cf-4638-ac90-6c82078406c0",
   "metadata": {},
   "source": [
    "**Распаковка когда количество элементов в кортеже и шаблоне не совпадает (в '*'_ будут попадать все элементы, начиная с четвертого)**"
   ]
  },
  {
   "cell_type": "code",
   "execution_count": null,
   "id": "cec670e6-0ef0-4a27-bbcf-905f38084027",
   "metadata": {},
   "outputs": [],
   "source": [
    "match cmd:\n",
    "    case author, title, price, *_:\n",
    "        print(f\"Книга: {author}, {title}, {price}\")\n",
    "    case _:  # wildcard\n",
    "        print(\"непонятный формат данных\")"
   ]
  },
  {
   "cell_type": "markdown",
   "id": "cd8beac8-e117-430d-afc8-1f89ec21d2cd",
   "metadata": {},
   "source": [
    "**Ограничить размер кортежа или списка определенным числом элементов**"
   ]
  },
  {
   "cell_type": "code",
   "execution_count": null,
   "id": "89f1e7a0-7d46-4676-921a-1745f206e6ba",
   "metadata": {},
   "outputs": [],
   "source": [
    "match cmd:\n",
    "    case author, title, price, *_ if len(cmd) < 6:\n",
    "        print(f\"Книга: {author}, {title}, {price}\")\n",
    "    case _:  # wildcard\n",
    "        print(\"непонятный формат данных\")"
   ]
  },
  {
   "cell_type": "markdown",
   "id": "7163c9e2-8e5c-47d0-920b-fc5a2d77c5ef",
   "metadata": {},
   "source": [
    "**Чтобы шаблон выглядел в более читаемом виде, допустимо использовать круглые или квадратные скобки** "
   ]
  },
  {
   "cell_type": "code",
   "execution_count": null,
   "id": "4ac5a1c5-4973-4d48-8073-7c851e6c8e9a",
   "metadata": {},
   "outputs": [],
   "source": [
    "case (author, title, price, *_) if len(cmd) < 6:\n",
    "case [author, title, price, *_] if len(cmd) < 6:"
   ]
  },
  {
   "cell_type": "markdown",
   "id": "29da26ba-daa0-48dd-b554-cb8d664ae9c5",
   "metadata": {},
   "source": [
    "**Сделать проверку на тип данных элементов списка cmd. Для каждой отдельной переменной прописать:**"
   ]
  },
  {
   "cell_type": "code",
   "execution_count": null,
   "id": "1b58e8f8-a00c-475a-a71b-c0b376c520c0",
   "metadata": {},
   "outputs": [],
   "source": [
    "case [str() as author, str() as title, float() as price, *_] if len(cmd) < 6:"
   ]
  },
  {
   "cell_type": "markdown",
   "id": "bdea9a71-5e8b-41cd-91a1-bad3e4ab3f94",
   "metadata": {},
   "source": [
    "**Сделать проверку только у некоторых переменных, например, у цены:**"
   ]
  },
  {
   "cell_type": "code",
   "execution_count": null,
   "id": "e26f3882-3e23-4cd9-967f-c7e0e0546014",
   "metadata": {},
   "outputs": [],
   "source": [
    "case [author, title, float() as price, *_] if len(cmd) < 6:"
   ]
  },
  {
   "cell_type": "markdown",
   "id": "d06bf38e-517d-4004-88e2-f75134938a8a",
   "metadata": {},
   "source": [
    "**Если переменная может принимать несколько разных типов, то их можно перечислить через оператор ‘|’**"
   ]
  },
  {
   "cell_type": "code",
   "execution_count": null,
   "id": "9040873e-6d12-47cd-ad86-b13c8ea8b819",
   "metadata": {},
   "outputs": [],
   "source": [
    "case [author, title, float() | int() as price, *_] if len(cmd) < 6:"
   ]
  },
  {
   "cell_type": "markdown",
   "id": "35fb31b6-1788-4dbd-98f5-92930ebf3c39",
   "metadata": {},
   "source": [
    "**Если нужно указать какие-либо ограничения на длину строк автора и заголовка, то это делается в guard**"
   ]
  },
  {
   "cell_type": "code",
   "execution_count": null,
   "id": "05deb4ac-915b-4403-827f-3284fa77c99a",
   "metadata": {},
   "outputs": [],
   "source": [
    "case [str(author), str(title), price, *_] if len(cmd) < 6 and len(author) < 50 and len(title) < 100:"
   ]
  },
  {
   "cell_type": "markdown",
   "id": "7f3f563d-e959-48cb-a2dc-996cf63994e4",
   "metadata": {},
   "source": [
    "**Если информация о книге представлена в нескольких разных форматах и нам нужно в обоих случаях выделять автора, заголовок и цену. Все остальное не имеет значения**"
   ]
  },
  {
   "cell_type": "code",
   "execution_count": null,
   "id": "6f80b235-fdae-4491-82f9-cb0e821e217a",
   "metadata": {},
   "outputs": [],
   "source": [
    "cmd = [\"Балакирев С.М.\", \"Python\", 2000.78]\n",
    "cmd = [1, \"Балакирев С.М.\", \"Python\", 2000.78, 2022]\n",
    "\n",
    "match cmd:\n",
    "    case (author, title, price) | (_, author, title, price, _):\n",
    "        print(f\"Книга: {author}, {title}, {price}\")\n",
    "    case _:  # wildcard\n",
    "        print(\"непонятный формат данных\")"
   ]
  },
  {
   "cell_type": "markdown",
   "id": "d92a0a46-8f39-4c9e-807c-d960eea361d4",
   "metadata": {},
   "source": [
    "**Если мы не хотим обрабатывать данные в виде кортежей**"
   ]
  },
  {
   "cell_type": "code",
   "execution_count": null,
   "id": "4277aadf-ce7d-4ca4-8511-4685f06ff14e",
   "metadata": {},
   "outputs": [],
   "source": [
    "match cmd:\n",
    "    case tuple():\n",
    "        print(\"формат кортежа недопустим\")\n",
    "    case (author, title, price):\n",
    "        print(f\"Книга: {author}, {title}, {price}\")\n",
    "    case (_, author, title, price, year):\n",
    "        print(f\"Книга: {author}, {title}, {price}, {year}\")\n",
    "    case _:  # wildcard\n",
    "        print(\"непонятный формат данных\")"
   ]
  },
  {
   "cell_type": "markdown",
   "id": "59154a1b-3783-40db-bb7c-2e3fb463f3d9",
   "metadata": {},
   "source": [
    "### Конструкция match/case со словарями и множествами"
   ]
  },
  {
   "cell_type": "markdown",
   "id": "fc94e8e6-9ed0-4474-af18-6da874e9a1b5",
   "metadata": {},
   "source": [
    "**Проверка наличия ключей**"
   ]
  },
  {
   "cell_type": "code",
   "execution_count": null,
   "id": "cd31447f-1500-4ee0-bb29-905340bf959c",
   "metadata": {},
   "outputs": [],
   "source": [
    "request = {'url': 'https://proproprogs.ru/', 'method': 1, 'timeout': 1000}\n",
    "match request:\n",
    "    case {'url': url, 'method': method}:\n",
    "        print(f\"Запрос: url: {url}, method: {method}\")\n",
    "    case _:  # wildcard\n",
    "        print(\"неверный запрос\")"
   ]
  },
  {
   "cell_type": "markdown",
   "id": "fe1e191e-03ff-444e-a511-b587dab2550e",
   "metadata": {},
   "source": [
    "- Работает, если в словаре есть ключи url и method, независимо от других ключей."
   ]
  },
  {
   "cell_type": "markdown",
   "id": "f79ea11d-04aa-4ea1-8ce8-d692a906a1b4",
   "metadata": {},
   "source": [
    "**Проверка типов значений**"
   ]
  },
  {
   "cell_type": "code",
   "execution_count": null,
   "id": "bcc9b248-da6f-44a8-92c6-9f97b3add4b1",
   "metadata": {},
   "outputs": [],
   "source": [
    "match request:\n",
    "    case {'url': str(url), 'method': int() as method}:\n",
    "        print(f\"Запрос: url: {url}, method: {method}\")"
   ]
  },
  {
   "cell_type": "markdown",
   "id": "d011fa5e-d485-41a2-881b-2bce7dacabdb",
   "metadata": {},
   "source": [
    "- проверяет, что значение url — строка.\n",
    "- проверяет, что значение method — целое число."
   ]
  },
  {
   "cell_type": "markdown",
   "id": "f44bbf02-e97f-49da-b764-07f9b7a70d1f",
   "metadata": {},
   "source": [
    "**Проверка конкретного значения ключа**"
   ]
  },
  {
   "cell_type": "code",
   "execution_count": null,
   "id": "be9c484d-db9a-4156-b55d-402d87e7e911",
   "metadata": {},
   "outputs": [],
   "source": [
    "match request:\n",
    "    case {'url': url, 'method': method, 'timeout': 1000}:\n",
    "        print(\"Timeout 1000 принят\")"
   ]
  },
  {
   "cell_type": "markdown",
   "id": "fbd89abb-3b4a-48e4-bb80-ab9a2529cad1",
   "metadata": {},
   "source": [
    "- Срабатывает только если timeout == 1000"
   ]
  },
  {
   "cell_type": "markdown",
   "id": "c34708cd-dc94-49a0-a162-dfc423c19ca7",
   "metadata": {},
   "source": [
    "**Альтернативные варианты (оператор |)**"
   ]
  },
  {
   "cell_type": "code",
   "execution_count": null,
   "id": "f42496ef-5137-4bcb-9327-487bc4baae62",
   "metadata": {},
   "outputs": [],
   "source": [
    "case {'url': url, 'method': method, 'timeout': 1000} | {'url': url, 'method': method, 'timeout': 2000}:"
   ]
  },
  {
   "cell_type": "markdown",
   "id": "b42d55d3-785b-4a3f-b6f5-399d965534fa",
   "metadata": {},
   "source": [
    "- Проверяет несколько вариантов сразу."
   ]
  },
  {
   "cell_type": "markdown",
   "id": "478024fe-a4e9-4ab3-9097-d673a433154d",
   "metadata": {},
   "source": [
    "**Ограничение количества ключей (guard)**"
   ]
  },
  {
   "cell_type": "code",
   "execution_count": null,
   "id": "368e5c35-407a-4dd3-b754-8c8e212a3ca3",
   "metadata": {},
   "outputs": [],
   "source": [
    "match request:\n",
    "    case {'url': url, 'method': method} if len(request) <= 3:\n",
    "        print(\"Запрос с не более чем 3 ключами принят\")"
   ]
  },
  {
   "cell_type": "markdown",
   "id": "2d6a35f0-e3e5-4db2-8af9-fc09c844579d",
   "metadata": {},
   "source": [
    "- Проверяет, что в словаре не более 3 ключей."
   ]
  },
  {
   "cell_type": "markdown",
   "id": "fd501a1f-0ff4-4006-b296-7c85a9135872",
   "metadata": {},
   "source": [
    "**Упаковка дополнительных ключей (kwargs)**"
   ]
  },
  {
   "cell_type": "code",
   "execution_count": null,
   "id": "80f1cef7-047d-4acd-a25c-d02bb10a76c6",
   "metadata": {},
   "outputs": [],
   "source": [
    "request = {'url': 'https://proproprogs.ru/', 'method': 1, 'timeout': 1000}\n",
    "match request:\n",
    "    case {'url': url, 'method': method, **kwargs} if len(kwargs) <= 2:\n",
    "        print(f\"Запрос: url: {url}, method: {method}\")\n",
    "    case _:  # wildcard\n",
    "        print(\"неверный запрос\")"
   ]
  },
  {
   "cell_type": "markdown",
   "id": "e35b7839-b985-4870-97bb-a37e79ed88a4",
   "metadata": {},
   "source": [
    "- kwargs содержит все ключи, кроме url и method.\n",
    "- Проверяется, что не более 2 дополнительных ключей."
   ]
  },
  {
   "cell_type": "markdown",
   "id": "e669d56c-d7a7-4dda-b25a-ec2148566d2b",
   "metadata": {},
   "source": [
    "**Проверка на строго два ключа**"
   ]
  },
  {
   "cell_type": "code",
   "execution_count": null,
   "id": "381ada46-f457-4b33-aba0-e7385d7ae693",
   "metadata": {},
   "outputs": [],
   "source": [
    "match request:\n",
    "    case {'url': url, 'method': method, **kwargs} if not kwargs:\n",
    "        print(\"Только два ключа в словаре\")"
   ]
  },
  {
   "cell_type": "markdown",
   "id": "65327f58-21a7-4328-a41c-3645ccbb6408",
   "metadata": {},
   "source": [
    "- kwargs должен быть пустым."
   ]
  },
  {
   "cell_type": "markdown",
   "id": "0409cd74-aed6-4973-a135-d05ababed714",
   "metadata": {},
   "source": [
    "**Проверка вложенных данных**"
   ]
  },
  {
   "cell_type": "code",
   "execution_count": null,
   "id": "9b38bc3c-cb67-4dae-afae-6ef85104e811",
   "metadata": {},
   "outputs": [],
   "source": [
    "json_data = {'id': 2, 'type': 'list', 'data': [1, 2, 3], 'access': True, 'date': '01.01.2023'}\n",
    "match json_data:\n",
    "    case {'type': 'list', 'data': lst}:\n",
    "        print(f\"JSON-данные: type-list: {lst}\")\n",
    "    case _:  # wildcard\n",
    "        print(\"неверный запрос\")"
   ]
  },
  {
   "cell_type": "markdown",
   "id": "9a894ee1-d0e5-4c78-a8c4-9d7a5b5cd325",
   "metadata": {},
   "source": [
    "- data должен быть списком, если type == 'list'."
   ]
  },
  {
   "cell_type": "markdown",
   "id": "e765742e-2c74-4f18-9bf9-0744f062e8b6",
   "metadata": {},
   "source": [
    "Дополнительная проверка типа данных:"
   ]
  },
  {
   "cell_type": "code",
   "execution_count": null,
   "id": "92ff3de0-3fa9-4f85-ad8b-580a5926723e",
   "metadata": {},
   "outputs": [],
   "source": [
    "case {'type': 'list', 'data': list() as lst}:"
   ]
  },
  {
   "cell_type": "markdown",
   "id": "3bb12d78-274d-482a-b589-4f44e60389d3",
   "metadata": {},
   "source": [
    "**Проверка сложных структур**"
   ]
  },
  {
   "cell_type": "code",
   "execution_count": null,
   "id": "efe90e2c-0871-4064-bbe9-b33437cfc1dc",
   "metadata": {},
   "outputs": [],
   "source": [
    "match json_data:\n",
    "    case {'access': access, 'info': [_, {'email': email}, _, _]}:\n",
    "        print(f\"JSON: access: {access}, email: {email}\")\n",
    "    case _:  # wildcard\n",
    "        print(\"неверный запрос\")"
   ]
  },
  {
   "cell_type": "markdown",
   "id": "b7257b96-9018-4cfd-8730-c845cd2c7910",
   "metadata": {},
   "source": [
    "- info должен быть списком из 4 элементов.\n",
    "- Второй элемент info — словарь с ключом email."
   ]
  },
  {
   "cell_type": "markdown",
   "id": "f19b2098-24cf-4624-be57-076325c7ed52",
   "metadata": {},
   "source": [
    "**Обработка множеств**"
   ]
  },
  {
   "cell_type": "markdown",
   "id": "6c415fac-4e0d-433f-8132-d4459df0d498",
   "metadata": {},
   "source": [
    "**Выбор множества (set)**"
   ]
  },
  {
   "cell_type": "code",
   "execution_count": null,
   "id": "078a0b59-8b68-4488-a015-745ab0d02ef0",
   "metadata": {},
   "outputs": [],
   "source": [
    "primary_keys = {1, 2, 3}\n",
    "match primary_keys:\n",
    "    case set() as keys:\n",
    "        print(f\"Primary Keys: {keys}\")\n",
    "    case _:  # wildcard\n",
    "        print(\"неверный запрос\")"
   ]
  },
  {
   "cell_type": "markdown",
   "id": "98d9dd85-fc4d-4249-8df0-94ec7348698d",
   "metadata": {},
   "source": [
    "- keys получает все элементы множества."
   ]
  },
  {
   "cell_type": "markdown",
   "id": "656d5fd2-739d-4175-a7bc-fc0ffde377ce",
   "metadata": {},
   "source": [
    "**Проверка количества элементов множества**"
   ]
  },
  {
   "cell_type": "code",
   "execution_count": null,
   "id": "5491028e-94fd-4966-bd5a-24e32e6590b4",
   "metadata": {},
   "outputs": [],
   "source": [
    "case set() as keys if len(keys) == 3:"
   ]
  },
  {
   "cell_type": "markdown",
   "id": "6fb09d52-5cc8-4440-994f-560a20110cd0",
   "metadata": {},
   "source": [
    "- Проверяется количество элементов множества через guard."
   ]
  },
  {
   "cell_type": "markdown",
   "id": "c1eb414f-5930-4a2e-8c4e-9f8c04e92cf4",
   "metadata": {},
   "source": [
    "### Конструкция match/case. Примеры и особенности использования"
   ]
  },
  {
   "cell_type": "markdown",
   "id": "5de028c7-aa5a-4c50-a9f2-458263e02efc",
   "metadata": {},
   "source": [
    "**Пример: Подключение к БД**\n",
    "\n",
    "Обрабатываем словарь параметров подключения:"
   ]
  },
  {
   "cell_type": "code",
   "execution_count": null,
   "id": "8659cc55-8840-4aab-88b4-7a4f81c74ef8",
   "metadata": {},
   "outputs": [],
   "source": [
    "request = {'server': '127.0.0.1', 'login': 'root', 'password': '1234', 'port': 24}\n",
    "def connect_db(connect: dict) -> str:\n",
    "    match connect:\n",
    "        case {'server': host, 'login': login, 'password': psw, 'port': port}:\n",
    "            pass\n",
    "        case {'server': host, 'login': login, 'password': psw}:\n",
    "            port = 22\n",
    "        case _:  # wildcard\n",
    "            return \"error connection\"\n",
    " \n",
    "    return f\"connection: {host}@{login}.{psw}:{port}\""
   ]
  },
  {
   "cell_type": "markdown",
   "id": "b2779eb2-11ef-4684-a123-4e5f772f5b44",
   "metadata": {},
   "source": [
    "- Wildcard _ используется для обработки всех остальных случаев.\n",
    "- Дублирующий код вынесен за пределы match."
   ]
  },
  {
   "cell_type": "markdown",
   "id": "14013c77-e88b-43da-a052-b3a9d49e2b1b",
   "metadata": {},
   "source": [
    "**Пример: Обработка данных о книгах**\n",
    "\n",
    "Форматируем данные о книге в кортеж (автор, название, год, цена):"
   ]
  },
  {
   "cell_type": "code",
   "execution_count": null,
   "id": "778e3a75-595f-46a3-9362-16bce329e655",
   "metadata": {},
   "outputs": [],
   "source": [
    "def book_to_tuple(data: dict | tuple | list) -> tuple | None:\n",
    "    match data:\n",
    "        case author, title, year:\n",
    "            price = None\n",
    "        case author, title, year, price, *_:\n",
    "            pass\n",
    "        case {'author': author, 'title': title, 'year': year, 'price': price}:\n",
    "            pass\n",
    "        case {'author': author, 'title': title, 'year': year}:\n",
    "            price = None\n",
    "        case _:  # wildcard\n",
    "            return None\n",
    " \n",
    "    return author, title, year, price\n",
    "book_1 = ('Балакирев', 'Python', 2022)\n",
    "book_2 = ['Балакирев', 'Python ООП', 2022, 3432.27]\n",
    "book_3 = {'author': 'Балакирев', 'title': 'Нейросети', 'year': 2020}\n",
    "book_4 = {'author': 'Балакирев', 'title': 'Keras + Tensorflow', 'price': 5430, 'year': 2020}\n",
    "\n",
    "result = book_to_tuple(book_1)\n",
    "print(result)\n"
   ]
  },
  {
   "cell_type": "markdown",
   "id": "fdf6e28f-d834-40e2-b5e8-ca3dc2d1fa6d",
   "metadata": {},
   "source": [
    "- _ в case author, title, year, price, *_* означает, что остаток игнорируется.\n",
    "- Данные могут быть в виде списка, кортежа или словаря.\n",
    "- Дублирование price = None устранено вынесением перед match."
   ]
  },
  {
   "cell_type": "markdown",
   "id": "80f02205-9b1e-4840-87fc-14572a0a28f7",
   "metadata": {},
   "source": [
    "**Проверка условий внутри match/case**\n",
    "\n",
    "Дополняем предыдущий пример проверкой диапазона годов:"
   ]
  },
  {
   "cell_type": "code",
   "execution_count": null,
   "id": "2b8cca6d-741e-4b0d-9b66-44d713ae5a5a",
   "metadata": {},
   "outputs": [],
   "source": [
    "def book_to_tuple(data: dict | tuple | list, min_year=1800, max_year=3000) -> tuple | None:\n",
    "    price = None\n",
    "    match data:\n",
    "        case author, title, int(year):\n",
    "            pass\n",
    "        case author, title, int(year), price, *_:\n",
    "            pass\n",
    "        case {'author': author, 'title': title, 'year': int(year), 'price': price}:\n",
    "            pass\n",
    "        case {'author': author, 'title': title, 'year': int(year)}:\n",
    "            pass\n",
    "        case _:  # wildcard\n",
    "            return None\n",
    " \n",
    "    if not (min_year < year < max_year):\n",
    "        return None\n",
    " \n",
    "    return author, title, year, price"
   ]
  },
  {
   "cell_type": "markdown",
   "id": "fe91a30f-a701-476e-8420-2512781bd278",
   "metadata": {},
   "source": [
    "- Проверка диапазона вынесена в if после match для избежания дублирования."
   ]
  },
  {
   "cell_type": "markdown",
   "id": "7aea5d2a-ab7f-40d6-a8c1-a22a8d97942f",
   "metadata": {},
   "source": [
    "**Использование переменных вместо констант**\n",
    "\n",
    "Ошибка при использовании переменных в case:"
   ]
  },
  {
   "cell_type": "code",
   "execution_count": null,
   "id": "a961f476-3a1f-4201-9725-908c3d40aa44",
   "metadata": {},
   "outputs": [],
   "source": [
    "CMD_3 = 3\n",
    "CMD_5 = 5\n",
    "cmd = 3\n",
    "\n",
    "match cmd:\n",
    "    case CMD_3:  # Не сработает!\n",
    "        print(\"3\")\n",
    "    case CMD_5:\n",
    "        print(\"5\")"
   ]
  },
  {
   "cell_type": "markdown",
   "id": "b084aef2-922d-4463-8751-ba3d36547560",
   "metadata": {},
   "source": [
    "Причина: case CMD_3 интерпретируется как проверка на любую переменную, а не на конкретное значение."
   ]
  },
  {
   "cell_type": "markdown",
   "id": "8c9d81e8-2c49-4091-9d83-70a013fdb9cc",
   "metadata": {},
   "source": [
    "**Решение 1: Использовать if внутри case**"
   ]
  },
  {
   "cell_type": "code",
   "execution_count": null,
   "id": "3a001dc4-ff60-4f9f-b854-e3e359bf8a34",
   "metadata": {},
   "outputs": [],
   "source": [
    "match cmd:\n",
    "    case x if x == CMD_3:\n",
    "        print(\"3\")\n",
    "    case x if x == CMD_5:\n",
    "        print(\"5\")"
   ]
  },
  {
   "cell_type": "markdown",
   "id": "30eb9cf7-4b8c-4f6c-8092-afbdbe2a125a",
   "metadata": {},
   "source": [
    "**Решение 2: использовать переменные как константы, если переменная указана через точку.**"
   ]
  },
  {
   "cell_type": "code",
   "execution_count": null,
   "id": "60d8f122-5a7a-4d0c-bd2d-decb53aa8d92",
   "metadata": {},
   "outputs": [],
   "source": [
    "import consts\n",
    " \n",
    "cmd = 3\n",
    " \n",
    "match cmd:\n",
    "    case consts.CMD_3:\n",
    "        print(\"3\")\n",
    "    case consts.CMD_5:\n",
    "        print(\"5\")"
   ]
  },
  {
   "cell_type": "markdown",
   "id": "faed0e9b-cb86-430c-806b-99025343b813",
   "metadata": {},
   "source": [
    "- переменные CMD_3 и CMD_5 вынести в отдельный файл (модуль)\n",
    "- подключить его через import в текущем модуле"
   ]
  },
  {
   "cell_type": "markdown",
   "id": "c39a3de9-3aea-4ba5-856b-0583f0c10742",
   "metadata": {},
   "source": [
    "**Решение 3: определить константы внутри какого-либо класса**"
   ]
  },
  {
   "cell_type": "code",
   "execution_count": null,
   "id": "581a9cd9-033a-4eaa-b980-646825b14dbf",
   "metadata": {},
   "outputs": [],
   "source": [
    "class Consts:\n",
    "    CMD_3 = 3\n",
    "    CMD_5 = 5\n",
    " \n",
    " \n",
    "cmd = 3\n",
    " \n",
    "match cmd:\n",
    "    case Consts.CMD_3:\n",
    "        print(\"3\")\n",
    "    case Consts.CMD_5:\n",
    "        print(\"5\")"
   ]
  },
  {
   "cell_type": "markdown",
   "id": "4c5d71ea-5ed1-4868-bc82-9c9e21501be7",
   "metadata": {},
   "source": [
    "### Деление ###"
   ]
  },
  {
   "cell_type": "code",
   "execution_count": null,
   "id": "b5833f90-a321-4f85-bd6d-26ca45e440e2",
   "metadata": {},
   "outputs": [],
   "source": [
    "- Формула\n",
    "\n",
    "**а = (а // b) * b + q**\n",
    "\n",
    "-33 / 7 = -4.714285714285714\n",
    "-33 // 7 = -5\n",
    "-33 % 7 = 2      =   -33 = -5 * 7 + 2"
   ]
  },
  {
   "cell_type": "code",
   "execution_count": null,
   "id": "9420a62b-4525-4fc6-8dca-9ae989037ca9",
   "metadata": {},
   "outputs": [],
   "source": [
    "Методы строки\n",
    "\n"
   ]
  },
  {
   "cell_type": "code",
   "execution_count": null,
   "id": "637fdf8f",
   "metadata": {},
   "outputs": [],
   "source": [
    ".upper()\n",
    ".lower()\n",
    ".title()\n",
    ".capitalize()\n",
    ".swapcase()\n",
    ".count(sub[, start[, end]])\n",
    ".startswith()\n",
    ".endswith()\n",
    ".index()\n",
    ".find()\n",
    ".rfind()\n",
    ".replace(old, new, count)\n",
    ".ljust()\n",
    ".rjust()\n",
    ".center()\n",
    ".zfill()\n",
    ".strip()\n",
    ".strip([chars])\n",
    ".rstrip()\n",
    ".lstrip()\n",
    ".split([sep],[maxsplit])\n",
    "' '.join()\n",
    ".partition()\n",
    ".rpartition()\n",
    ".isalpha()\n",
    ".isdigit()\n",
    ".isalnum()\n",
    ".islower()\n",
    ".isupper()\n",
    ".istitle()\n",
    ".isspace()\n",
    ".encode()\n",
    ".casefold()\n",
    ".expandtabs()\n",
    ".translate()\n",
    ".removeprefix()\n",
    ".removesuffix()\n",
    "\n",
    "\n",
    "\n"
   ]
  },
  {
   "cell_type": "code",
   "execution_count": null,
   "id": "2150e482-0d82-46a8-8b99-347de9044903",
   "metadata": {},
   "outputs": [],
   "source": []
  }
 ],
 "metadata": {
  "kernelspec": {
   "display_name": "Python (learning-python)",
   "language": "python",
   "name": "learning-python"
  },
  "language_info": {
   "codemirror_mode": {
    "name": "ipython",
    "version": 3
   },
   "file_extension": ".py",
   "mimetype": "text/x-python",
   "name": "python",
   "nbconvert_exporter": "python",
   "pygments_lexer": "ipython3",
   "version": "3.12.8"
  }
 },
 "nbformat": 4,
 "nbformat_minor": 5
}
