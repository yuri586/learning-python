{
 "cells": [
  {
   "cell_type": "markdown",
   "id": "21914160-32bc-4c43-a271-76354e623e33",
   "metadata": {},
   "source": [
    "### Создание пустых фунций"
   ]
  },
  {
   "cell_type": "code",
   "execution_count": null,
   "id": "3b0f6120-8d98-4c24-bc87-420a53ab5f32",
   "metadata": {},
   "outputs": [],
   "source": [
    "def init_stuff():\n",
    "    1"
   ]
  },
  {
   "cell_type": "code",
   "execution_count": null,
   "id": "056ec2d8-2b32-40ac-b153-2e54e11bc73f",
   "metadata": {},
   "outputs": [],
   "source": [
    "def init_stuff():\n",
    "    'hello'"
   ]
  },
  {
   "cell_type": "code",
   "execution_count": null,
   "id": "077cf78a-bbc5-43c6-a181-137c626552ad",
   "metadata": {},
   "outputs": [],
   "source": [
    "# С помощью оператора Ellipsis (многоточие)\n",
    "\n",
    "def init_stuff():\n",
    "    ..."
   ]
  },
  {
   "cell_type": "markdown",
   "id": "971416a1-3235-489d-b0c8-a4dd6be7cada",
   "metadata": {},
   "source": [
    "### Нотация в Python"
   ]
  },
  {
   "cell_type": "markdown",
   "id": "b4ebcadb-5bcb-4f74-b52e-23d3de4b5887",
   "metadata": {},
   "source": [
    "- В Python преимущественно используется нотация under_score (snake_case) — при использовании этого стиля в качестве разделителя используется символ подчеркивания \"_\", а все слова начинаются со строчной (маленькой) буквы"
   ]
  },
  {
   "cell_type": "markdown",
   "id": "baf54d6b-dd4e-4045-bb8e-02975257e707",
   "metadata": {},
   "source": [
    "**Гайдлайн по рекомендованному именованию в Python (основанный на рекомендациях Гвидо ван Россума).**"
   ]
  },
  {
   "cell_type": "markdown",
   "id": "81bfac93-3914-4592-be8d-1626dc4148d2",
   "metadata": {},
   "source": [
    "![](images/Guidelines_name.png)"
   ]
  },
  {
   "cell_type": "markdown",
   "id": "d8f99891-cdd0-48af-be3c-0bbdbc46ec4f",
   "metadata": {},
   "source": [
    "Основной принцип хорошего именования — имена должны быть содержательными (полностью отражать своё назначение). Перед тем, как дать имя переменной, функции или классу, ответьте на вопросы:\n",
    "\n",
    "- Почему эта переменная (функция, класс и т.п.) существует?\n",
    "- Что она делает? (или какие данные в ней хранятся?)\n",
    "- Как используется?\n",
    "- например, для функции используйте глаголы: get, set, save, remove, load, купить, распечатать и т.д.\n",
    "- для переменных, модулей и классов используйте существительное (например \"список\", \"покупатели\", \"товары\").\n",
    "- Перед именами булевских переменных (и методов, возвращающих тип bool),  добавляйте префикс \"is\"."
   ]
  },
  {
   "cell_type": "markdown",
   "id": "cbcd73e6-67f5-4a7b-9cd8-4f68dae32495",
   "metadata": {},
   "source": [
    "| **Префикс**   | **Тип**         | **Пример переменной**       | **Пример функции**         | **Описание**                          |\n",
    "|---------------|-----------------|-----------------------------|----------------------------|---------------------------------------|\n",
    "| `is`          | Переменная/Функция | `is_active`                | `is_active(status)`       | Булево: \"Это так?\"                   |\n",
    "| `has`         | Переменная/Функция | `has_children`             | `has_items(collection)`   | Булево: \"Есть ли?\"                   |\n",
    "| `can`         | Переменная         | `can_edit`                 |                           | Булево: \"Можно ли?\"                  |\n",
    "| `should`      | Переменная         | `should_update`            |                           | Булево: \"Должно ли?\"                 |\n",
    "| `count`/`num` | Переменная         | `count_items`, `num_pages` |                           | Количество                           |\n",
    "| `min`/`max`   | Переменная         | `min_length`, `max_height` |                           | Границы значений                     |\n",
    "| `prev`/`next` | Переменная         | `prev_value`, `next_item`  |                           | Последовательность                   |\n",
    "| `total`       | Переменная         | `total_price`              |                           | Итоговые суммы                       |\n",
    "| `to`          | Переменная/Функция | `to_delete`                | `to_readable_date(t)`     | Объекты для действия/преобразование  |\n",
    "| `get`         | Функция            |                            | `get_total(items)`        | Получение данных                     |\n",
    "| `set`         | Функция            |                            | `set_username(user, n)`   | Установка значений                   |\n",
    "| `calc`        | Функция            |                            | `calculate_average(nums)` | Вычисления                           |\n",
    "| `create`      | Функция            |                            | `create_user(name, age)`  | Создание объектов                    |\n",
    "| `check`       | Функция            |                            | `check_validity(value)`   | Проверка условий                     |\n",
    "| `update`      | Функция            |                            | `update_profile(p, k, v)` | Обновление данных                    |\n",
    "| `handle`      | Функция            |                            | `handle_click(event)`     | Обработка событий                    |\n",
    "| `fetch`       | Функция            |                            | `fetch_data(source)`      | Загрузка данных                      |\n",
    "| `remove`      | Функция            |                            | `remove_item(items, i)`   | Удаление                             |\n",
    "| `show`/`hide` | Функция            |                            | `show_message(msg)`       | Управление видимостью                |\n",
    "| `toggle`      | Функция            |                            | `toggle_state(state)`     | Переключение состояния               |"
   ]
  },
  {
   "cell_type": "markdown",
   "id": "f37cb1a0-7149-4063-bd5c-1cbbb024ad1e",
   "metadata": {},
   "source": [
    "### Правило одной операции"
   ]
  },
  {
   "cell_type": "markdown",
   "id": "786ae6aa-14fe-4326-b38b-6bec4e0d4ce8",
   "metadata": {},
   "source": [
    "Функция должна выполнять только одну операцию. Она должна выполнять ее хорошо. И ничего другого она делать не должна. Если функция выполняет только те действия, которые находятся на одном уровне под объявленным именем функции, то эта функция выполняет одну операцию"
   ]
  },
  {
   "cell_type": "markdown",
   "id": "6ae2679a-8614-4a10-8cfa-8f1625b3de27",
   "metadata": {},
   "source": [
    "- **get_squares**, которая только возвращает список квадратов"
   ]
  },
  {
   "cell_type": "code",
   "execution_count": null,
   "id": "d7205b6d-c5fd-47db-88e6-a97bb2a503fb",
   "metadata": {},
   "outputs": [],
   "source": [
    "def get_squares(number):\n",
    "    return [i ** 2 for i in range(1, number + 1)]"
   ]
  },
  {
   "cell_type": "markdown",
   "id": "ff248364-801d-4ba9-9098-f3b7b89c6f08",
   "metadata": {},
   "source": [
    "- **print_squares**, которая только печатает квадраты"
   ]
  },
  {
   "cell_type": "code",
   "execution_count": null,
   "id": "d67903fa-6619-4155-a197-ca2fa19b16a2",
   "metadata": {},
   "outputs": [],
   "source": [
    "def print_squares(number):\n",
    "    for i in range(1, number + 1):\n",
    "        print(f'Квадрат числа {i} равен {i ** 2}')"
   ]
  },
  {
   "cell_type": "markdown",
   "id": "0c0436ae-c631-451b-930d-28970b22dc35",
   "metadata": {},
   "source": [
    "- **print_and_get_squares** и печатает и возвращает квадраты"
   ]
  },
  {
   "cell_type": "code",
   "execution_count": 16,
   "id": "cff7986c-8b01-4aa3-a3c0-fd9f151673f4",
   "metadata": {},
   "outputs": [],
   "source": [
    "def print_and_get_squares(number):\n",
    "    print_squares(number)\n",
    "    return get_squares(number)"
   ]
  },
  {
   "cell_type": "markdown",
   "id": "44d1d632-a50c-4d42-afcd-f0bdaee9e790",
   "metadata": {},
   "source": [
    "# Передача аргументов"
   ]
  },
  {
   "cell_type": "markdown",
   "id": "449d0c12-847a-4f7e-a2f4-5ee3f03c7885",
   "metadata": {},
   "source": [
    "### Позиционная передача аргументов"
   ]
  },
  {
   "cell_type": "markdown",
   "id": "a16dda7f-7477-4a46-bc9b-eaba8701d126",
   "metadata": {},
   "source": [
    "![](images/pass_arguments.png) "
   ]
  },
  {
   "cell_type": "markdown",
   "id": "38c42841-5e4c-4842-8def-1ddb89b372d0",
   "metadata": {},
   "source": [
    "### Именованная передача аргументов"
   ]
  },
  {
   "cell_type": "markdown",
   "id": "c840f654-1e4e-475b-9bd0-4307b773f406",
   "metadata": {},
   "source": [
    "- не нужно указывать аргументы в том же порядке, в котором они определены в функции"
   ]
  },
  {
   "cell_type": "code",
   "execution_count": null,
   "id": "9898e248-7e82-4a26-9793-0411cbc7ff8e",
   "metadata": {},
   "outputs": [],
   "source": [
    "def greet(name, msg):\n",
    "    print(f\"Привет {name}, {msg}\")\n",
    "\n",
    "\n",
    "greet(name=\"Наташа\", msg=\"мы все уронили\")\n",
    "greet(msg=\"Наташа\", name=\"мы все уронили\")"
   ]
  },
  {
   "cell_type": "code",
   "execution_count": null,
   "id": "9a1df225-7212-45ce-b0ae-c30ff92b9a75",
   "metadata": {},
   "outputs": [],
   "source": [
    "def find_largest_argument(num1, num2, num3):\n",
    "    if num1 > num2 and num1 > num3:\n",
    "        print(f'Первый аргумент (значение {num1}) самый большой')\n",
    "    elif num2 > num3:\n",
    "        print(f'Второй аргумент (значение {num2}) самый большой')\n",
    "    else:\n",
    "        print(f'Третий аргумент (значение {num3}) самый большой')\n",
    "\n",
    "\n",
    "find_largest_argument(num1=1, num2=10, num3=5)\n",
    "find_largest_argument(num1=1, num3=5, num2=10)\n",
    "find_largest_argument(num2=10, num1=1, num3=5)\n",
    "find_largest_argument(num2=10, num3=5, num1=1)\n",
    "find_largest_argument(num3=5, num2=10, num1=1)\n",
    "find_largest_argument(num3=5, num1=1, num2=10)"
   ]
  },
  {
   "cell_type": "markdown",
   "id": "cff64253-e741-417c-89df-2c32d4dde708",
   "metadata": {},
   "source": [
    "- Можно передавать только те аргументы, которые явно объявлены в функции.\n",
    "\n",
    "- Все переданные именованные аргументы должны точно совпадать с параметрами."
   ]
  },
  {
   "cell_type": "code",
   "execution_count": null,
   "id": "25066f12-0414-4759-8e26-33304b9f6fd2",
   "metadata": {},
   "outputs": [],
   "source": [
    "def func(a, b, c=10):\n",
    "    print(a, b, c)\n",
    "\n",
    "func(a=1, b=2, c=3)  # ✅ Работает\n",
    "func(a=1, b=2, d=3)  # ❌ Ошибка, параметра d нет"
   ]
  },
  {
   "cell_type": "markdown",
   "id": "e4b5f84d-c8ee-4bc6-b4c8-7d623e72e474",
   "metadata": {},
   "source": [
    "### Комбинированный вариант передачи"
   ]
  },
  {
   "cell_type": "markdown",
   "id": "0e2a39bb-c67e-4cf8-a5b7-e282b7523000",
   "metadata": {},
   "source": [
    "- При комбинированном варианте необходимо обязательно сначала перечислить позиционные аргументы, и только затем указать именованные."
   ]
  },
  {
   "cell_type": "code",
   "execution_count": null,
   "id": "3b0bc112-072d-41f2-a309-7f9c454642b4",
   "metadata": {},
   "outputs": [],
   "source": [
    "def combination_call_func(first, second, third):\n",
    "    print(f'{first=}, {second=}, {third=}')\n",
    "\n",
    "\n",
    "combination_call_func(1, 10, third=5)\n",
    "combination_call_func('hello', second=7, third=3)\n",
    "combination_call_func(6,  third=4, second=9)"
   ]
  },
  {
   "cell_type": "markdown",
   "id": "0659ec34-07d3-4122-bef9-18ad58cf4b05",
   "metadata": {},
   "source": [
    "# Локальные и глобальные переменные"
   ]
  },
  {
   "cell_type": "markdown",
   "id": "33d5fb18-1da0-4911-aacc-cf7415d679bd",
   "metadata": {},
   "source": [
    "- Глобальная переменная — это такая переменная, которая определена вне функции. K данной переменной можно получить доступ как внутри, так и вне функции."
   ]
  },
  {
   "cell_type": "markdown",
   "id": "3fe8d56e-12eb-4fc8-ac0f-0310d1c4b1aa",
   "metadata": {},
   "source": [
    "- Локальная переменная — это такая переменная, которая объявлена внутри тела функции. Локальные переменные создаются каждый раз при входе в функцию и уничтожаются при выходе из нее."
   ]
  },
  {
   "cell_type": "markdown",
   "id": "cf6cc97f-98e6-49e8-a912-c1fd73b6c6a8",
   "metadata": {},
   "source": [
    "- Есть специальная функция locals, которая позволяет взглянуть на локальное пространство имен функции."
   ]
  },
  {
   "cell_type": "code",
   "execution_count": null,
   "id": "5c62e1c1-d88c-4db0-addd-f04e4e7e322a",
   "metadata": {},
   "outputs": [],
   "source": [
    "def my_func(first, second, third):\n",
    "    x = 10\n",
    "    print(locals())\n",
    "\n",
    "\n",
    "my_func(5, 10, 20)"
   ]
  },
  {
   "cell_type": "markdown",
   "id": "f011bb8c-c7d1-400f-bd21-769c58ecf4dd",
   "metadata": {},
   "source": [
    "### Изменение глобальной переменной"
   ]
  },
  {
   "cell_type": "markdown",
   "id": "4090c502-6baa-4534-a1fd-7fd43d6e7ca7",
   "metadata": {},
   "source": [
    "- Явное изменение глобальной переменной при помощи оператора global"
   ]
  },
  {
   "cell_type": "code",
   "execution_count": null,
   "id": "ab89e14d-0ce8-4d24-9a8e-c4d67605725e",
   "metadata": {},
   "outputs": [],
   "source": [
    "# Этот способ часто используется.\n",
    "\n",
    "name, age = 'Artem', 33\n",
    "\n",
    "\n",
    "def my_func():\n",
    "    global age\n",
    "    name = 'Kolya'\n",
    "    age = 25\n",
    "    print(name, age)\n",
    "\n",
    "\n",
    "print(name, age)\n",
    "my_func()\n",
    "print(name, age)\n"
   ]
  },
  {
   "cell_type": "code",
   "execution_count": null,
   "id": "d5716b33-75fa-4048-847d-2a189c9d7960",
   "metadata": {},
   "outputs": [],
   "source": [
    "# Этот способ не рекомендуется.\n",
    "\n",
    "def my_func():\n",
    "    global name, age\n",
    "    name = 'Artem'\n",
    "    age = 33\n",
    "\n",
    "\n",
    "my_func()\n",
    "print(name, age)"
   ]
  },
  {
   "cell_type": "markdown",
   "id": "aaa1716f-7684-4538-aa95-23b53acda9ad",
   "metadata": {},
   "source": [
    "- Неявное изменение глобальной переменной"
   ]
  },
  {
   "cell_type": "code",
   "execution_count": null,
   "id": "78a319fb-dc5f-4801-b09a-9f0a6d7356b4",
   "metadata": {},
   "outputs": [],
   "source": [
    "value = [1, 2, 3]\n",
    "\n",
    "\n",
    "def my_func(x):\n",
    "    x.append(10)\n",
    "\n",
    "\n",
    "my_func(value)\n",
    "print(value)"
   ]
  },
  {
   "cell_type": "code",
   "execution_count": null,
   "id": "8b11bcf2-8905-4172-8ac8-3a652a6ef645",
   "metadata": {},
   "outputs": [],
   "source": [
    "value = {\"Hello\": 'Привет'}\n",
    "\n",
    "def my_func():\n",
    "    value['World'] = 'Мир'\n",
    "\n",
    "my_func()\n",
    "print(value)"
   ]
  },
  {
   "cell_type": "markdown",
   "id": "4dac9267-b328-4ee8-bc42-b2b65f5fc95e",
   "metadata": {},
   "source": [
    "### Рекомендации по изменению глобальных переменных"
   ]
  },
  {
   "cell_type": "markdown",
   "id": "44b86ed7-fd7f-4510-910e-dc5fb26b1c4b",
   "metadata": {},
   "source": [
    "старайтесь избегать явного или тем более неявного изменения значения глобальных переменных внутри функции. Потому что такие изменения при работе в большом проекте бывает трудно отследить\n",
    "\n",
    "Если функция должна поменять какую-то переменную, то лучше это сделать через возвращаемое значение функцией с последующим присваиванием. "
   ]
  },
  {
   "cell_type": "code",
   "execution_count": null,
   "id": "e6ae4323-9754-4cba-9044-3e1070d10ec8",
   "metadata": {},
   "outputs": [],
   "source": [
    "age = 33\n",
    "\n",
    "\n",
    "def get_new_age():\n",
    "    return 25\n",
    "\n",
    "\n",
    "age = get_new_age()\n",
    "print(age)"
   ]
  },
  {
   "cell_type": "markdown",
   "id": "24fb8235-b235-4902-a9c7-09e463f5be09",
   "metadata": {},
   "source": [
    "# Значение по умолчанию для аргумента"
   ]
  },
  {
   "cell_type": "markdown",
   "id": "543c5d2f-220a-4b3a-b25a-ce73ab02974b",
   "metadata": {},
   "source": [
    "### Обязательные параметры"
   ]
  },
  {
   "cell_type": "code",
   "execution_count": null,
   "id": "c22613cd-bae1-4748-9a4f-553149cd2ff4",
   "metadata": {},
   "outputs": [],
   "source": [
    "def get_sum(a, b):\n",
    "    return a + b"
   ]
  },
  {
   "cell_type": "markdown",
   "id": "3a507587-0a95-4e7f-88e3-515718a31ff5",
   "metadata": {},
   "source": [
    "### Необязательные параметры"
   ]
  },
  {
   "cell_type": "markdown",
   "id": "327ceac2-e567-4c32-954c-a3aa0c87eb20",
   "metadata": {},
   "source": [
    "- Параметры со значением по умолчанию — это параметры, которые могут принимать значение по умолчанию во время вызова функции. Если мы не передадим функции какой-либо аргумент, то будет использован аргумент по умолчанию."
   ]
  },
  {
   "cell_type": "code",
   "execution_count": null,
   "id": "0fbe9aee-d994-4388-993a-6aecc8d976d0",
   "metadata": {},
   "outputs": [],
   "source": [
    "def greet(name, msg=\"Привет!\"):\n",
    "    print(f\"{name}, {msg}\")\n",
    "\n",
    "\n",
    "greet(\"Брюс\")\n",
    "greet(\"Степан\", \"Как дела?\")\n",
    "greet(\"Евгений\", \"Отлично!\")"
   ]
  },
  {
   "cell_type": "code",
   "execution_count": null,
   "id": "92c1b407-c29a-479c-82be-c063f0a1e463",
   "metadata": {},
   "outputs": [],
   "source": [
    "def message(name=\"Everyone\"):\n",
    "    print(\"Hello\", name)\n",
    "    \n",
    "message(name='Karl')\n",
    "message()\n",
    "message('Karl')"
   ]
  },
  {
   "cell_type": "markdown",
   "id": "a85cce03-a6e8-4451-adc8-01ddd97c381d",
   "metadata": {},
   "source": [
    "### Изменяемый объект в значении по умолчанию параметра"
   ]
  },
  {
   "cell_type": "markdown",
   "id": "778301e7-d773-4c8f-a69c-f3e89a641281",
   "metadata": {},
   "source": [
    "\n",
    "      1️⃣ сперва присваивайте параметру значению None\n",
    "\n",
    "      2️⃣ внутри функции проверяйте, если параметр принимает None,значит создаем пустой изменяемый объект"
   ]
  },
  {
   "cell_type": "markdown",
   "id": "239855a7-d137-4677-a28f-0a035d4d2ecc",
   "metadata": {},
   "source": [
    "- Пример со списком"
   ]
  },
  {
   "cell_type": "code",
   "execution_count": null,
   "id": "2aca7770-6ca3-4eb8-8a27-97c4ce7908ff",
   "metadata": {},
   "outputs": [],
   "source": [
    "def append_to_list(value, my_list=None):\n",
    "    if my_list is None:\n",
    "        my_list = []\n",
    "    my_list.append(value)\n",
    "    print(my_list, id(my_list))\n",
    "    return my_list\n",
    "\n",
    "\n",
    "result1 = append_to_list(10)\n",
    "result1 = append_to_list(15, result1)\n",
    "result2 = append_to_list(25)\n",
    "result2 = append_to_list(37, result2)\n"
   ]
  },
  {
   "cell_type": "markdown",
   "id": "b983cdd9-f04f-4c68-b59e-23ee16d1b8a1",
   "metadata": {},
   "source": [
    "- Пример со словарем"
   ]
  },
  {
   "cell_type": "code",
   "execution_count": null,
   "id": "2ee129b6-a196-49a7-95c0-3ceb18644089",
   "metadata": {},
   "outputs": [],
   "source": [
    "def append_to_dict(key, value, my_dict=None):\n",
    "    if my_dict is None:\n",
    "        my_dict = {}\n",
    "    my_dict[key] = value\n",
    "    return my_dict\n",
    "\n",
    "\n",
    "result1 = append_to_dict(10, 15)\n",
    "result1 = append_to_dict(20, 25, result1)\n",
    "print(result1)\n",
    "result2 = append_to_dict(20, 200)\n",
    "result2 = append_to_dict(30, 33, result2)\n",
    "print(result2)"
   ]
  },
  {
   "cell_type": "markdown",
   "id": "3bb5016e-e56e-4f2e-9f8f-67ce5b8a573e",
   "metadata": {},
   "source": [
    "# Чистая функция"
   ]
  },
  {
   "cell_type": "markdown",
   "id": "1823d593-9cf8-4f12-8d3c-6db5b92b232a",
   "metadata": {},
   "source": [
    "Чистая функция должна обладать следующими особенностями:\n",
    "\n",
    "- Находить и возвращать значение, основанное только на переданных аргументах, а не на каком-либо другом внешнем состоянии.\n",
    " \n",
    "- Не изменять свои аргументы или глобальные переменные, т. е. не оказывать каких-либо побочных эффектов.\n",
    " \n",
    "- Для одного и того же набора входных параметров всегда должна выдавать один и тот же результат."
   ]
  },
  {
   "cell_type": "markdown",
   "id": "abe1a67e-6c5d-4e34-aa9f-b6da7d2e8a20",
   "metadata": {},
   "source": [
    "- **Пример нечистой функции**"
   ]
  },
  {
   "cell_type": "code",
   "execution_count": null,
   "id": "6bacbb47-2334-49cd-84fd-2ac87095d398",
   "metadata": {},
   "outputs": [],
   "source": [
    "def get_squares(values):\n",
    "    for i, x in enumerate(values):\n",
    "        values[i] = x ** 2\n",
    "    return values\n",
    "\n",
    "\n",
    "rg = list(range(5))\n",
    "print(f'{rg=}')  # rg=[0, 1, 2, 3, 4]\n",
    "print('Результат функции', get_squares(rg))  # [0, 1, 4, 9, 16]\n",
    "print(f'{rg=}')  # rg=[0, 1, 4, 9, 16]"
   ]
  },
  {
   "cell_type": "markdown",
   "id": "553fa11a-e0fc-44b4-88ee-55b0a2ce5d9e",
   "metadata": {},
   "source": [
    "Функция **get_squares** оказывает побочные действия:  внутри себя изменяет состояние переданного списка rg.\n",
    "Чтобы избавиться от побочных действий, мы можем сделать две вещи:  "
   ]
  },
  {
   "cell_type": "markdown",
   "id": "81ef486e-50f3-4c6e-9380-f8ed904c687f",
   "metadata": {},
   "source": [
    "- **Первый способ** - передавать не оригинальный список, а его копию."
   ]
  },
  {
   "cell_type": "code",
   "execution_count": null,
   "id": "79b8af01-6b5b-407e-93b2-022db646289a",
   "metadata": {},
   "outputs": [],
   "source": [
    "def get_squares(values):\n",
    "    for i, x in enumerate(values):\n",
    "        values[i] = x ** 2\n",
    "    return values\n",
    "\n",
    "\n",
    "rg = list(range(5))\n",
    "print(f'{rg=}')  # rg=[0, 1, 2, 3, 4]\n",
    "print('Результат функции', get_squares(rg.copy())) # Передаем копию rg\n",
    "print(f'{rg=}')  # rg=[0, 1, 2, 3, 4]"
   ]
  },
  {
   "cell_type": "code",
   "execution_count": null,
   "id": "3965f462-06cf-45de-8df8-ee2475bb1f28",
   "metadata": {},
   "outputs": [],
   "source": [
    "# Если в list() засунуть список, то он создаст копию списка\n",
    "\n",
    "\n",
    "def do_it_something(lst):\n",
    "    lst[0] = \"Курица\"\n",
    "    lst[1] = \"карри\"\n",
    "    return lst\n",
    "\n",
    "\n",
    "values = ['Ребрышки', 'гриль', 'это', 'очень', 'вкусно']\n",
    "new_values = do_it_something(list(values))\n",
    "print(values)\n",
    "print(new_values)"
   ]
  },
  {
   "cell_type": "markdown",
   "id": "f556a650-a05c-46c8-b217-a611c7dd88b1",
   "metadata": {},
   "source": [
    "- **Второй способ** - создать чистую функцию, в которой мы будем создавать отдельный список для накопления результата. "
   ]
  },
  {
   "cell_type": "code",
   "execution_count": null,
   "id": "0287dca6-dc28-4e07-ae14-5fd7f8e592bc",
   "metadata": {},
   "outputs": [],
   "source": [
    "def get_squares(values):\n",
    "    sqs = [x ** 2 for x in values]\n",
    "    return sqs\n",
    "\n",
    "\n",
    "rg = list(range(5))\n",
    "print(f'{rg=}')  # rg=[0, 1, 2, 3, 4]\n",
    "print('Результат функции', get_squares(rg))  # [0, 1, 4, 9, 16]\n",
    "print(f'{rg=}')  # rg=[0, 1, 2, 3, 4]"
   ]
  },
  {
   "cell_type": "markdown",
   "id": "622cf116-577a-45bd-b1d9-37c8aa5bf572",
   "metadata": {},
   "source": [
    "# Параметр *args"
   ]
  },
  {
   "cell_type": "markdown",
   "id": "0cd26077-bcf4-42a5-9385-edb2654f4d7f",
   "metadata": {},
   "source": [
    "*args позволяет передавать в функцию произвольное количество позиционных аргументов в виде кортежа.\n",
    "\n",
    "- args (сокращение от «arguments») — это просто имя параметра, вы можете выбрать любое имя по своему усмотрению"
   ]
  },
  {
   "cell_type": "markdown",
   "id": "06bec17b-19cc-475a-b041-5a986ec09a8b",
   "metadata": {},
   "source": [
    "### Оператор распаковки * и множественное присвоение"
   ]
  },
  {
   "cell_type": "markdown",
   "id": "ab75f9a0-eb8a-4744-8a21-a9255d5e90bd",
   "metadata": {},
   "source": [
    "- Когда количество переменных справа и слева =="
   ]
  },
  {
   "cell_type": "code",
   "execution_count": null,
   "id": "bc021351-fc6a-4014-8b5e-ad6ef4ca4776",
   "metadata": {},
   "outputs": [],
   "source": [
    "a, b, c = 1, 4, 6"
   ]
  },
  {
   "cell_type": "code",
   "execution_count": null,
   "id": "ce7650fd-652b-4a37-b01b-a0a853cf3ba7",
   "metadata": {},
   "outputs": [],
   "source": [
    "my_tuple = 7, 4, 3"
   ]
  },
  {
   "cell_type": "code",
   "execution_count": null,
   "id": "5785bf1b-ef59-4217-b8f2-d7d8931993ac",
   "metadata": {},
   "outputs": [],
   "source": [
    "d, e, f = my_tuple"
   ]
  },
  {
   "cell_type": "markdown",
   "id": "c7cb1459-6cac-44c3-83ce-11d70610d1d1",
   "metadata": {},
   "source": [
    "- Когда количество переменных справа и слева !="
   ]
  },
  {
   "cell_type": "code",
   "execution_count": null,
   "id": "c0367e63-6957-4ee1-bb12-8374d7cc5f66",
   "metadata": {},
   "outputs": [],
   "source": [
    "a, b, *c = [1, True, 4, 6, 'hello ', 7, 9]\n",
    "print(a, b, c)\n",
    "\n",
    "a, *b, c = [1, True, 4, 6, 'hello ', 7, 9]\n",
    "print(a, b, c)\n",
    "\n",
    "*a, b, c = [1, True, 4, 6, 'hello ', 7, 9]\n",
    "print(a, b, c)"
   ]
  },
  {
   "cell_type": "code",
   "execution_count": null,
   "id": "b450c13a-5942-47e3-bb08-d267d3ab1a45",
   "metadata": {},
   "outputs": [],
   "source": [
    "a, *b, c = [1, 4] \n",
    "\n",
    "# 1 [] 4"
   ]
  },
  {
   "cell_type": "markdown",
   "id": "78d36c81-c939-46a0-ac70-97d520022dd1",
   "metadata": {},
   "source": [
    "Распаковывать значения можно также из любых других коллекций:\n",
    "\n",
    "- списки\n",
    "- кортежи\n",
    "- множества\n",
    "- строки\n",
    "- диапазоны\n",
    "- генераторы и другие итерируемые объекты\n",
    "- словари"
   ]
  },
  {
   "cell_type": "markdown",
   "id": "8e0e6437-7829-4351-9ada-43bde97267a4",
   "metadata": {},
   "source": [
    "1. Списки (list)"
   ]
  },
  {
   "cell_type": "code",
   "execution_count": null,
   "id": "4c330a62-8827-46bb-9d2c-5d555d0c2d61",
   "metadata": {},
   "outputs": [],
   "source": [
    "numbers = [1, 2, 3]\n",
    "print(*numbers)  # 1 2 3"
   ]
  },
  {
   "cell_type": "markdown",
   "id": "4b6bfaf0-5cda-4519-8cf4-c842f1fa75f2",
   "metadata": {},
   "source": [
    "2. Кортежи (tuple)"
   ]
  },
  {
   "cell_type": "code",
   "execution_count": null,
   "id": "e03091aa-ca09-4897-8c2f-b611a329b8a8",
   "metadata": {},
   "outputs": [],
   "source": [
    "coords = (10, 20, 30)\n",
    "print(*coords)  # 10 20 30"
   ]
  },
  {
   "cell_type": "markdown",
   "id": "ed175db8-3df6-43ea-a849-d579fc98e20b",
   "metadata": {},
   "source": [
    "3. Множества (set) (но порядок не гарантируется)"
   ]
  },
  {
   "cell_type": "code",
   "execution_count": null,
   "id": "0382008b-2137-4c76-a669-2238a568e3e8",
   "metadata": {},
   "outputs": [],
   "source": [
    "items = {4, 5, 6}\n",
    "print(*items)  # 4 5 6 (порядок может быть разным)"
   ]
  },
  {
   "cell_type": "markdown",
   "id": "5592d45d-a87f-46ac-92bc-b68fd1bef053",
   "metadata": {},
   "source": [
    "4. Строки (str) (распаковываются по символам)"
   ]
  },
  {
   "cell_type": "code",
   "execution_count": null,
   "id": "4ac7ea0d-6ecc-4e9b-b81e-2c6364dbf471",
   "metadata": {},
   "outputs": [],
   "source": [
    "word = \"Python\"\n",
    "print(*word)  # P y t h o n"
   ]
  },
  {
   "cell_type": "markdown",
   "id": "451dffb4-192b-4410-ade3-a49babcc7238",
   "metadata": {},
   "source": [
    "5. Диапазоны (range)"
   ]
  },
  {
   "cell_type": "code",
   "execution_count": null,
   "id": "7a46eb64-2b61-4c92-b50e-d98a12d744aa",
   "metadata": {},
   "outputs": [],
   "source": [
    "r = range(5)\n",
    "print(*r)  # 0 1 2 3 4"
   ]
  },
  {
   "cell_type": "markdown",
   "id": "10e6ff12-38f8-4f9f-9961-2c13bfe9d83b",
   "metadata": {},
   "source": [
    "6. Генераторы и другие итерируемые объекты"
   ]
  },
  {
   "cell_type": "code",
   "execution_count": null,
   "id": "f2459d93-aa96-4444-acfe-7152546383ac",
   "metadata": {},
   "outputs": [],
   "source": [
    "gen = (x**2 for x in range(3))\n",
    "print(*gen)  # 0 1 4"
   ]
  },
  {
   "cell_type": "markdown",
   "id": "113cc63f-39c8-45ae-a329-734cfe0a65db",
   "metadata": {},
   "source": [
    "7. Словари (dict) распаковываются по ключам:"
   ]
  },
  {
   "cell_type": "code",
   "execution_count": null,
   "id": "aa8c8ba7-093c-4016-aecc-9f0a9fb85289",
   "metadata": {},
   "outputs": [],
   "source": [
    "data = {'a': 1, 'b': 2}\n",
    "print(*data)  # a b"
   ]
  },
  {
   "cell_type": "markdown",
   "id": "c3cf7e84-9ba0-43cd-8c5d-404a254b8a66",
   "metadata": {},
   "source": [
    "- Чтобы распаковать значения словаря, можно использовать .values():"
   ]
  },
  {
   "cell_type": "code",
   "execution_count": null,
   "id": "99b11f36-d963-4106-89c1-cf3c4e2f9d21",
   "metadata": {},
   "outputs": [],
   "source": [
    "print(*data.values())  # 1 2"
   ]
  },
  {
   "cell_type": "markdown",
   "id": "3a7dce28-8d69-48f9-af48-2dc75725fd23",
   "metadata": {},
   "source": [
    "- А для пар ключ-значение — .items():"
   ]
  },
  {
   "cell_type": "code",
   "execution_count": null,
   "id": "1c713540-dd84-47fa-92b9-7919fd680b8f",
   "metadata": {},
   "outputs": [],
   "source": [
    "print(*data.items())  # ('a', 1) ('b', 2)"
   ]
  },
  {
   "cell_type": "markdown",
   "id": "5958f356-dda2-4349-87a3-1e545923eae0",
   "metadata": {},
   "source": [
    "**указав оператор * перед переменной, вы тем самым сообщаете, что  в нее необходимо сохранить все оставшиеся значения, которые не распределились после множественного присвоения.** "
   ]
  },
  {
   "cell_type": "markdown",
   "id": "d25eb6da-cd39-4838-b701-e334083b4c9d",
   "metadata": {},
   "source": [
    "### Создание коллекций с помощью распаковки"
   ]
  },
  {
   "cell_type": "code",
   "execution_count": null,
   "id": "139d7203-1073-45b8-ad9c-511306a55dad",
   "metadata": {},
   "outputs": [],
   "source": [
    "a = [4, 5, 6]\n",
    "b = [1, 2, 3]\n",
    "c = [7, 8, 9]"
   ]
  },
  {
   "cell_type": "code",
   "execution_count": null,
   "id": "513bf8bb-fab2-41c5-a496-df4aa4a925ed",
   "metadata": {},
   "outputs": [],
   "source": [
    "d = a + b + c\n",
    "print(d)"
   ]
  },
  {
   "cell_type": "code",
   "execution_count": null,
   "id": "d73036dc-e879-491e-9784-2da8a8bc9dc7",
   "metadata": {},
   "outputs": [],
   "source": [
    "a = [4, 5, 6]\n",
    "b = [1, 2, 3]\n",
    "c = [7, 8, 9]\n",
    "\n",
    "d = [*a, *b, *c]\n",
    "print(d) # [4, 5, 6, 1, 2, 3, 7, 8, 9]"
   ]
  },
  {
   "cell_type": "markdown",
   "id": "b65882bb-5902-4223-9278-6c0b1253a736",
   "metadata": {},
   "source": [
    "Операция \n",
    "\n",
    "[*a, *b, *c]\n",
    "\n",
    "сообщает, что нужно создать список, в который сперва помещаем путем распаковки все элементы списка a, затем распаковываем и помещаем все элементы списка b и аналогичным образом размещаем элементы списка c в конце."
   ]
  },
  {
   "cell_type": "markdown",
   "id": "828e84fb-09ff-4c49-b48f-d32893c40a75",
   "metadata": {},
   "source": [
    "### Распаковка значений коллекции в момент вызова функции"
   ]
  },
  {
   "cell_type": "code",
   "execution_count": null,
   "id": "1aa11017-151e-4cd3-bd38-7cf6538e46ae",
   "metadata": {},
   "outputs": [],
   "source": [
    "def print_4_values(a, b, c, d):\n",
    "    print(a, b, c, d)\n",
    "\n",
    "values = ('Hello', 'From', 'Las', 'Vegas')\n",
    "\n",
    "print_4_values(*values)"
   ]
  },
  {
   "cell_type": "code",
   "execution_count": null,
   "id": "34fa48dc-4def-4252-9c1e-38ce086f135e",
   "metadata": {},
   "outputs": [],
   "source": [
    "s = [4, 10]\n",
    "\n",
    "print(list(range(*s)))"
   ]
  },
  {
   "cell_type": "markdown",
   "id": "ac35e837-c211-4a03-9a99-e10bdad74872",
   "metadata": {},
   "source": [
    "### Параметр *args"
   ]
  },
  {
   "cell_type": "markdown",
   "id": "7f9ae06d-969f-4e21-9254-32b61bcc7c6b",
   "metadata": {},
   "source": [
    "- Такая реализация позволяет передавать различное количество позиционных аргументов в момент вызова функции.\n",
    " \n",
    "- Когда вы используете параметр *args, все переданные в момент вызова значения упакуются в один кортеж и сохранятся в параметр args. И сколько бы значений вы не передали, все они сохранятся в переменной args обязательно в виде кортежа"
   ]
  },
  {
   "cell_type": "code",
   "execution_count": null,
   "id": "82359479-5a43-4511-bce6-ce702796eeb1",
   "metadata": {},
   "outputs": [],
   "source": [
    "def my_func(*args):\n",
    "    print(args)\n",
    "    \n",
    "my_func(1, 2, 3, 4, 5, 6)\n",
    "my_func(1, 2, 3, 4, 5)\n",
    "my_func(1, 2)"
   ]
  },
  {
   "cell_type": "markdown",
   "id": "4638e166-c12e-44c1-8ceb-8f72d3197f2f",
   "metadata": {},
   "source": [
    "# Параметр **kwargs"
   ]
  },
  {
   "cell_type": "markdown",
   "id": "d68d56ac-4890-4ce1-a641-fc0e636419fc",
   "metadata": {},
   "source": [
    "Параметр **kwargs позволяет функции принимать произвольное количество именованных аргументов в виде словаря."
   ]
  },
  {
   "cell_type": "markdown",
   "id": "d2a8b269-25b3-4aa7-b235-2d904e44bf75",
   "metadata": {},
   "source": [
    "- Имя kwargs является сокращением от английского «key word arguments», что обозначает именованные аргументы"
   ]
  },
  {
   "cell_type": "markdown",
   "id": "db9513f1-3022-4bdd-8e9f-64abc5a32461",
   "metadata": {},
   "source": [
    "### Оператор распаковки словарей **"
   ]
  },
  {
   "cell_type": "code",
   "execution_count": null,
   "id": "0b9a329b-3091-45b7-ab85-e2555b030382",
   "metadata": {},
   "outputs": [],
   "source": [
    "d1 = {'key1': 1, 'key2': 2}\n",
    "d2 = {'key2': 3, 'key3': 4}\n",
    "\n",
    "d3 = {**d1, **d2}\n",
    "print(type(d3)) # <class 'dict'>\n",
    "print(d3) # {'key1': 1, 'key2': 3, 'key3': 4}"
   ]
  },
  {
   "cell_type": "markdown",
   "id": "a1464947-f51f-4139-a007-c701ba9fdc84",
   "metadata": {},
   "source": [
    "- Мы также можем смешивать распаковку пар ключ-значение с обычным синтаксисом указания пар."
   ]
  },
  {
   "cell_type": "code",
   "execution_count": null,
   "id": "c96bf87e-2435-42b0-bbc6-250554f0a09a",
   "metadata": {},
   "outputs": [],
   "source": [
    "d1 = {'key1': 1, 'key2': 2}\n",
    "d2 = {'key2': 3, 'key3': 4}\n",
    "\n",
    "d3 = {'a': 1, 'b': 2, **d1, **d2, 'c':3}\n",
    "print(type(d3))\n",
    "print(d3)"
   ]
  },
  {
   "cell_type": "markdown",
   "id": "037eaf0b-9b96-4d29-afbd-69d66d18ed5e",
   "metadata": {},
   "source": [
    "### Распаковка значений словаря в момент вызова функции"
   ]
  },
  {
   "cell_type": "code",
   "execution_count": null,
   "id": "0291333a-d6dd-4b73-8886-ed2cc8891871",
   "metadata": {},
   "outputs": [],
   "source": [
    "def print_person_info(name, age, company):\n",
    "    print(f\"{name=}, {age=}, {company=}\")\n",
    "\n",
    "\n",
    "artem = {\"name\": \"Artem\", \"age\": 33, \"company\": \"Magnit\"}\n",
    "print_person_info(**artem)"
   ]
  },
  {
   "cell_type": "markdown",
   "id": "df344dfe-4ced-40eb-b67e-7bf39e704e5a",
   "metadata": {},
   "source": [
    "### Параметр **kwargs"
   ]
  },
  {
   "cell_type": "code",
   "execution_count": null,
   "id": "aeffad72-3be6-44f6-a9a6-184c5c5ef650",
   "metadata": {},
   "outputs": [],
   "source": [
    "def my_func(**kwargs):\n",
    "    print(type(kwargs))\n",
    "    print(kwargs)\n",
    "\n",
    "my_func(a=1, b=2, c=3)\n",
    "\n",
    "#<class 'dict'>\n",
    "#{'a': 1, 'b': 2, 'c': 3}"
   ]
  },
  {
   "cell_type": "markdown",
   "id": "be34d1b3-02b1-47c1-b2b2-636e91607653",
   "metadata": {},
   "source": [
    "- При использовании параметра **kwargs все имена аргументов, переданные в момент вызова, и их  значения будут упакованы в один словарь и сохранены в параметр kwargs. "
   ]
  },
  {
   "cell_type": "markdown",
   "id": "4250ef30-5069-47c3-a094-2e9617e127bb",
   "metadata": {},
   "source": [
    "- **kwargs, который нам позволит принимать произвольное количество именованных аргументов."
   ]
  },
  {
   "cell_type": "code",
   "execution_count": null,
   "id": "4ba9cf1f-7d83-4f01-874b-91058f7e7099",
   "metadata": {},
   "outputs": [],
   "source": [
    "def print_person_info(**kwargs):\n",
    "    pairs = [f'{k}={v}' for k, v in kwargs.items()]\n",
    "    print(', '.join(pairs))\n",
    "\n",
    "bob = {\"name\": \"Bob\", \"age\": 25}\n",
    "print_person_info(**bob)\n",
    "\n",
    "artem = {\"name\": \"Artem\", \"age\": 33,\n",
    "         \"company\": \"Magnit\", 'hobby': 'soccer'}\n",
    "print_person_info(**artem)\n",
    "\n",
    "print_person_info(lastname='Egorov', name='Артем', music=['Rock', 'Indi'])\n",
    "\n",
    "print_person_info(lastname='Egorov', **bob)"
   ]
  },
  {
   "cell_type": "markdown",
   "id": "895b410f-87c1-41bf-8b5f-1f14762c9bbb",
   "metadata": {},
   "source": [
    "# Объединяем *args и **kwargs вместе"
   ]
  },
  {
   "cell_type": "markdown",
   "id": "c88acc5e-fd93-4aff-9618-f19e18feebf4",
   "metadata": {},
   "source": [
    "![](images/args_kwargs.png)"
   ]
  },
  {
   "cell_type": "markdown",
   "id": "6adb10f4-2cfb-4fb0-a742-2c6a1310dc95",
   "metadata": {},
   "source": [
    "### 1. Оператор / (разделитель позиционных аргументов)"
   ]
  },
  {
   "cell_type": "markdown",
   "id": "e0acf31d-688d-429a-9732-6f55d3a2aa3e",
   "metadata": {},
   "source": [
    "- Все параметры, стоящие перед /, можно передавать только позиционно. Их нельзя указывать как именованные (ключевые) аргументы."
   ]
  },
  {
   "cell_type": "code",
   "execution_count": null,
   "id": "cf63bc6c-71e5-46fe-bf8c-0f752a91e371",
   "metadata": {},
   "outputs": [],
   "source": [
    "def my_func(a, b, /, c, d):\n",
    "    print(a, b, c, d)\n",
    "\n",
    "my_func(1, 2, 3, 4)  # ✅ Работает\n",
    "my_func(1, 2, c=3, d=4)  # ✅ Работает\n",
    "my_func(a=1, b=2, c=3, d=4)  # ❌ Ошибка, a и b должны быть позиционными"
   ]
  },
  {
   "cell_type": "markdown",
   "id": "41f3ef5d-c50c-4a7b-8ee8-8c687f60bdd3",
   "metadata": {},
   "source": [
    "### 2. Оператор * (разделитель ключевых аргументов)"
   ]
  },
  {
   "cell_type": "markdown",
   "id": "2fff0534-6e24-4603-8f45-dc9b4e7f4648",
   "metadata": {},
   "source": [
    "- Все параметры, стоящие после *, можно передавать только как именованные (ключевые) аргументы."
   ]
  },
  {
   "cell_type": "code",
   "execution_count": null,
   "id": "2548e075-a3ff-427e-b2e7-f9e503b30a3a",
   "metadata": {},
   "outputs": [],
   "source": [
    "def my_func(a, b, *, c, d):\n",
    "    print(a, b, c, d)\n",
    "\n",
    "my_func(1, 2, c=3, d=4)  # ✅ Работает\n",
    "my_func(1, 2, 3, 4)  # ❌ Ошибка, c и d должны быть переданы по ключу"
   ]
  },
  {
   "cell_type": "markdown",
   "id": "2eb1330e-503e-474b-95f9-f1356d81e1bd",
   "metadata": {},
   "source": [
    "🔥 Комбинация обоих операторов позволяет создать функцию с чётко разделёнными способами передачи аргументов:"
   ]
  },
  {
   "cell_type": "code",
   "execution_count": null,
   "id": "4e3ad69a-46bf-46bd-b6d3-3debabeb8f62",
   "metadata": {},
   "outputs": [],
   "source": [
    "def my_func(a, b, /, c, *, d):\n",
    "    print(a, b, c, d)\n",
    "\n",
    "my_func(1, 2, 3, d=4)  # ✅ Работает\n",
    "my_func(a=1, b=2, c=3, d=4)  # ❌ Ошибка из-за a и b\n",
    "my_func(1, 2, c=3, 4)  # ❌ Ошибка из-за d"
   ]
  },
  {
   "cell_type": "markdown",
   "id": "35af8961-8aa2-4831-a71c-4e56c7c196a3",
   "metadata": {},
   "source": [
    "# Шпаргалка по комбинированию аргументов в Python-функциях\n",
    "\n",
    "## Типы аргументов\n",
    "\n",
    "1. **Позиционные аргументы** - обязательные аргументы, передаются по позиции или по имени\n",
    "2. **Аргументы со значениями по умолчанию** - необязательные, имеют значение по умолчанию\n",
    "3. **`*args`** - произвольное количество позиционных аргументов (кортеж)\n",
    "4. **Только ключевые аргументы** - передаются только по имени (после `*`)\n",
    "5. **Только позиционные аргументы** - передаются только по позиции (до `/`)\n",
    "6. **`**kwargs`** - произвольное количество именованных аргументов (словарь)\n",
    "\n",
    "## Правильный порядок аргументов\n",
    "\n",
    "```python\n",
    "def func(только_позиционные, /, обычные_позиционные, со_значениями=0, *args, только_ключевые, с_значениями_ключ=0, **kwargs):\n",
    "    pass\n",
    "```\n",
    "## 1. Позиционные аргументы\n",
    "\n",
    "```python\n",
    "def my_func(a, b):\n",
    "    print(a, b)\n",
    "\n",
    "# Вызов:\n",
    "my_func(10, 15)           # По позиции\n",
    "my_func(20, b=35)         # Комбинированно\n",
    "my_func(a=40, b=45)       # По имени\n",
    "my_func(b=50, a=55)       # По имени в любом порядке\n",
    "```\n",
    "\n",
    "## 2. Позиционные со значениями по умолчанию\n",
    "\n",
    "```python\n",
    "def my_func(a, b=8, c=9):\n",
    "    print(a, b, c)\n",
    "\n",
    "# Вызов:\n",
    "my_func(10)               # a=10, b=8, c=9\n",
    "my_func(10, 30)           # a=10, b=30, c=9\n",
    "my_func(10, 30, 50)       # a=10, b=30, c=50\n",
    "my_func(20, c=100)        # a=20, b=8, c=100\n",
    "my_func(a=40, b=45)       # a=40, b=45, c=9\n",
    "my_func(b=50, a=55, c=35) # a=55, b=50, c=35\n",
    "```\n",
    "\n",
    "## 3. Позиционные с *args\n",
    "\n",
    "```python\n",
    "def my_func(a, b, *args):\n",
    "    print(f'{a=}, {b=}, {args=}')\n",
    "\n",
    "# Вызов:\n",
    "my_func(10, 20, 30, 40, 50)  # a=10, b=20, args=(30, 40, 50)\n",
    "\n",
    "# Неправильно:\n",
    "# my_func(a=20, b=20, 30, 40, 50)  # SyntaxError: позиционный аргумент после ключевого аргумента\n",
    "```\n",
    "\n",
    "## 4. Только ключевые аргументы (после *)\n",
    "\n",
    "```python\n",
    "def my_func(*, a, b):\n",
    "    print(f'{a=}, {b=}')\n",
    "\n",
    "# Вызов:\n",
    "my_func(a=10, b=20)       # a=10, b=20\n",
    "my_func(b=30, a=40)       # a=40, b=30\n",
    "\n",
    "# Неправильно:\n",
    "# my_func(10, b=20)       # TypeError: принимает 0 позиционных аргументов, но был передан 1\n",
    "# my_func()               # TypeError: отсутствуют 2 обязательных аргумента только по ключу: 'a' и 'b'\n",
    "```\n",
    "\n",
    "## 5. Только позиционные аргументы (до /)\n",
    "\n",
    "```python\n",
    "def my_func(a, b, /):\n",
    "    print(f'{a=}, {b=}')\n",
    "\n",
    "# Вызов:\n",
    "my_func(10, 20)           # a=10, b=20\n",
    "\n",
    "# Неправильно:\n",
    "# my_func(10, b=20)       # TypeError: позиционно-только аргументы переданы как ключевые: 'b'\n",
    "```\n",
    "\n",
    "## 6. Позиционные и обязательные ключевые аргументы\n",
    "\n",
    "```python\n",
    "def my_func(a, b, *, c, d):\n",
    "    print(f'{a=}, {b=}, {c=}, {d=}')\n",
    "\n",
    "# Вызов:\n",
    "my_func(1, 2, c=3, d=4)       # a=1, b=2, c=3, d=4\n",
    "my_func(1, 2, d=4, c=3)       # a=1, b=2, c=3, d=4\n",
    "my_func(1, c=3, d=4, b=2)     # a=1, b=2, c=3, d=4\n",
    "my_func(a=1, c=3, d=4, b=2)   # a=1, b=2, c=3, d=4\n",
    "\n",
    "# Неправильно:\n",
    "# my_func(1, 3, 4, 2)         # TypeError: принимает 2 позиционных аргумента, но передано 4\n",
    "```\n",
    "\n",
    "## 7. С необязательными параметрами (дефолтный, зачение по умолчанию)\n",
    "\n",
    "```python\n",
    "def my_func(a, b=2, *, c, d=4):\n",
    "    print(f'{a=}, {b=}, {c=}, {d=}')\n",
    "\n",
    "# Вызов:\n",
    "my_func(1, c=3)               # a=1, b=2, c=3, d=4\n",
    "my_func(c=3, a=1)             # a=1, b=2, c=3, d=4\n",
    "my_func(1, 2, c=3, d=4)       # a=1, b=2, c=3, d=4\n",
    "```\n",
    "\n",
    "- a — обязательный позиционный аргумент (нет значения по умолчанию).\n",
    "\n",
    "- b=2 — необязательный позиционный аргумент (если не передан, будет b=2).\n",
    "\n",
    "- \\* — специальный синтаксис, заставляет все следующие параметры передаваться ТОЛЬКО по ключу.\n",
    "\n",
    "- c — обязательный ключевой аргумент (нет значения по умолчанию, передается только c=...).\n",
    "\n",
    "- d=4 — необязательный ключевой аргумент (можно не передавать, будет d=4).\n",
    "\n",
    "\n",
    "\n",
    "\n",
    "\n",
    "## 8. С args и ключевыми параметрами\n",
    "\n",
    "```python\n",
    "def my_func(a, b=2, *args, c=3, d):\n",
    "    print(f'{a=}, {b=}, {args=}, {c=}, {d=}')\n",
    "\n",
    "# Вызов:\n",
    "my_func(1, 2, 'q', 'w', 'e', 'r', c=3, d=4)  # a=1, b=2, args=('q', 'w', 'e', 'r'), c=3, d=4\n",
    "my_func(1, 'q', 'w', 'e', 'r', c=3, d=4)     # a=1, b='q', args=('w', 'e', 'r'), c=3, d=4\n",
    "```\n",
    "\n",
    "## 9. С kwargs\n",
    "\n",
    "```python\n",
    "def my_func(a, b, *, c, d=4, **kwargs):\n",
    "    print(f'{a=}, {b=}, {c=}, {d=}, {kwargs=}')\n",
    "\n",
    "# Вызов:\n",
    "my_func(1, 2, c=3, q=10, w=20, e=30)          # a=1, b=2, c=3, d=4, kwargs={'q': 10, 'w': 20, 'e': 30}\n",
    "my_func(q=10, w=20, e=30, c=3, b=2, a=1)      # a=1, b=2, c=3, d=4, kwargs={'q': 10, 'w': 20, 'e': 30}\n",
    "```\n",
    "\n",
    "## 10. Полная комбинация args и kwargs\n",
    "\n",
    "```python\n",
    "def my_func(a, b, *args, c, d=4, **kwargs):\n",
    "    print(f'{a=}, {b=}, {args=}, {c=}, {d=}, {kwargs=}')\n",
    "\n",
    "# Вызов:\n",
    "my_func(1, 2, 'q', 'w', 'e', 'r', c=3, d=5, q=10, w=20, e=30)\n",
    "# a=1, b=2, args=('q', 'w', 'e', 'r'), c=3, d=5, kwargs={'q': 10, 'w': 20, 'e': 30}\n",
    "```\n",
    "\n",
    "## 11. Только args и kwargs\n",
    "\n",
    "```python\n",
    "def my_func(*args, **kwargs):\n",
    "    print(f'{args=}, {kwargs=}')\n",
    "\n",
    "# Вызов:\n",
    "my_func(1, 2, 'q', 'w', 'e', 'r', c=3, d=5, q=10, w=20, e=30)\n",
    "# args=(1, 2, 'q', 'w', 'e', 'r'), kwargs={'c': 3, 'd': 5, 'q': 10, 'w': 20, 'e': 30}\n",
    "```\n",
    "\n",
    "\n",
    "## Операторы разделения параметров\n",
    "\n",
    "| Слева от оператора | Оператор | Справа от оператора             |\n",
    "|--------------------|----------|---------------------------------|\n",
    "| только позиционные | `/`      | как позиционные, так и ключевые |\n",
    "|                    |          |                                 |\n",
    "| как позиционные,   |          |                                 | \n",
    "| так и ключевые     | `*`      | только ключевые                 |\n",
    "|\n",
    "\n",
    "## Правильное расположение параметров в определении функции\n",
    "\n",
    "1. Стандартные позиционные параметры\n",
    "2. `*args`\n",
    "3. Ключевые параметры\n",
    "4. `**kwargs`"
   ]
  },
  {
   "cell_type": "markdown",
   "id": "0ac7edd3-494c-4e2a-98a3-2be6f43c3cb5",
   "metadata": {},
   "source": [
    "![](images/args_kwargs2.png)"
   ]
  },
  {
   "cell_type": "markdown",
   "id": "fabce0cf-e6c2-4e2d-a62c-a986d5af2c13",
   "metadata": {},
   "source": [
    "# Шпаргалка по комбинированию аргументов в Python\n",
    "\n",
    "```python\n",
    "def complete_func(a, b, /, c, d=4, *args, f, g=7, **kwargs):\n",
    "    print(f'{a=}, {b=}, {c=}, {d=}, {args=}, {f=}, {g=}, {kwargs=}')\n",
    "\n",
    "\n",
    "complete_func(1, 2, \"pos_or_key\", 4, 5, 6, 7, f=\"required_keyword\", g=\"optional_keyword\", x=\"extra1\", y=\"extra2\")\n",
    "\n",
    "# Вывод: \n",
    "# a=1, b=2, c='pos_or_key', d=4, args=(5, 6, 7), f='required_keyword', g='optional_keyword', kwargs={'x': 'extra1', 'y': 'extra2'}\n",
    "```\n",
    "\n",
    "## Типы параметров:\n",
    "\n",
    "1. **a, b** (до `/`) — Обязательные позиционные параметры\n",
    "   * Могут передаваться только по позиции\n",
    "   * Нельзя передать по имени\n",
    "\n",
    "2. **c** (между `/` и `*`) — Обязательный позиционно-ключевой параметр\n",
    "   * Можно передать как по позиции, так и по имени\n",
    "\n",
    "3. **d** (между `/` и `*`) — Необязательный позиционно-ключевой параметр со значением по умолчанию\n",
    "   * Можно передать как по позиции, так и по имени\n",
    "   * Если не передан, используется значение по умолчанию\n",
    "\n",
    "4. **\\*args** — Параметр переменной длины для позиционных аргументов\n",
    "   * Собирает все лишние позиционные аргументы в кортеж\n",
    "\n",
    "5. **f** (после `*`) — Обязательный ключевой параметр\n",
    "   * Может передаваться только по имени\n",
    "   * Должен быть указан при вызове\n",
    "\n",
    "6. **g** (после `*`) — Необязательный ключевой параметр со значением по умолчанию\n",
    "   * Может передаваться только по имени\n",
    "   * Если не передан, используется значение по умолчанию\n",
    "\n",
    "7. **\\*\\*kwargs** — Параметр переменной длины для именованных аргументов\n",
    "   * Собирает все лишние именованные аргументы в словарь\n"
   ]
  },
  {
   "cell_type": "markdown",
   "id": "6f45b2a1-59ed-4986-a818-b1d4794daf86",
   "metadata": {},
   "source": [
    "# Docstring - документируем свои функции"
   ]
  },
  {
   "cell_type": "markdown",
   "id": "d1151f27-35d2-4c73-aca8-a1fe18e71459",
   "metadata": {},
   "source": [
    "## Docstring"
   ]
  },
  {
   "cell_type": "markdown",
   "id": "2878e229-03ea-4c9a-badd-bf20069a8863",
   "metadata": {},
   "source": [
    "Docstring( сокращение от слов «documentation string») переводится как строка документирования. Это специальный механизм, который позволяет добавлять пояснения внутри вашего кода определенным образом и в определенном месте. При помощи docstring вы можете:\n",
    "\n",
    "        ✅ оставить краткое описание вашего кода,\n",
    "\n",
    "        ✅ рассказать о всех параметрах, которые в нем используются\n",
    "\n",
    "        ✅ пояснить зачем нужен каждый параметр и за что он отвечает."
   ]
  },
  {
   "cell_type": "markdown",
   "id": "a16ff1dc-cd39-419f-aaa7-2665da51dc84",
   "metadata": {},
   "source": [
    "### Обращение к docstring"
   ]
  },
  {
   "cell_type": "code",
   "execution_count": null,
   "id": "56bd4eea-2cda-47a6-be90-871e4b2627b4",
   "metadata": {},
   "outputs": [],
   "source": [
    "help(abs)\n",
    "help(print)\n",
    "\n",
    "\n",
    "print(abs.__doc__)\n",
    "print(print.__doc__)"
   ]
  },
  {
   "cell_type": "markdown",
   "id": "9556ebf7-14d7-4b49-9d60-ed21c47f97b8",
   "metadata": {},
   "source": [
    "### Docstring  у пользовательских функций"
   ]
  },
  {
   "cell_type": "markdown",
   "id": "32b0fa3b-1962-4e85-95cd-c24c179acaa9",
   "metadata": {},
   "source": [
    "- Когда вы определяете свою собственную функцию, то по умолчанию у нее атрибут __doc__ является пустым, другими словами он будет равен None"
   ]
  },
  {
   "cell_type": "code",
   "execution_count": null,
   "id": "966918f8-2ada-4e7e-89e8-31703529d2fc",
   "metadata": {},
   "outputs": [],
   "source": [
    "def get_even(lst):\n",
    "    even_lst = []\n",
    "    for elem in lst:\n",
    "        if elem % 2 == 0:\n",
    "            even_lst.append(elem)\n",
    "    return even_lst\n",
    "\n",
    "\n",
    "print(get_even.__doc__) # None\n",
    "     "
   ]
  },
  {
   "cell_type": "markdown",
   "id": "d8a7a31f-8c94-4459-bf0a-2ed3146f388b",
   "metadata": {},
   "source": [
    "- Чтобы изменить значение атрибута \\__doc__ \\, необходимо на первой строчке **сразу после** определения функции создать объект строки, где указать описание вашей функции."
   ]
  },
  {
   "cell_type": "markdown",
   "id": "314f0579-54d4-4606-ab3e-65253c1526b5",
   "metadata": {},
   "source": [
    "### Многострочная docstring"
   ]
  },
  {
   "cell_type": "markdown",
   "id": "53d46406-4537-4b96-b98c-eac17c219a9e",
   "metadata": {},
   "source": [
    "- позволяет делать большие и объемные строки документации, которые состоят из нескольких строк"
   ]
  },
  {
   "cell_type": "code",
   "execution_count": null,
   "id": "8d500f79-fc18-47ae-a2f2-1731ef57e147",
   "metadata": {},
   "outputs": [],
   "source": [
    "def get_even(lst):\n",
    "    '''Функция возвращает\n",
    "    список из чётных чисел\n",
    "    списка lst'''\n",
    "    even_lst = []\n",
    "    for elem in lst:\n",
    "        if elem % 2 == 0:\n",
    "            even_lst.append(elem)\n",
    "    return even_lst"
   ]
  },
  {
   "cell_type": "markdown",
   "id": "81e534d7-a649-41bb-b5d8-670ddb2dd5e5",
   "metadata": {},
   "source": [
    "![](images/args_kwargs3.png)"
   ]
  },
  {
   "cell_type": "markdown",
   "id": "8fb54218-cefd-4a35-a384-30ea08b823b0",
   "metadata": {},
   "source": [
    "# Типизация типов"
   ]
  },
  {
   "cell_type": "markdown",
   "id": "b6710795-5d16-4b75-9e8c-86fc47f153aa",
   "metadata": {},
   "source": [
    "### Статическая типизация"
   ]
  },
  {
   "cell_type": "markdown",
   "id": "07408afc-0456-4e5b-8ae2-700e23787e37",
   "metadata": {},
   "source": [
    "- тип данных переменной должен быть объявлен на этапе компиляции, до того, как он может быть фактически использован в программе."
   ]
  },
  {
   "cell_type": "code",
   "execution_count": null,
   "id": "5fd8b959-7763-4596-9ea5-116b36cdad97",
   "metadata": {},
   "outputs": [],
   "source": [
    "C, C++ или Java\n",
    "\n",
    "int a;\n",
    "a = 100"
   ]
  },
  {
   "cell_type": "markdown",
   "id": "103d1d0e-bc5d-42ac-97c7-5901978b2877",
   "metadata": {},
   "source": [
    "### Динамическая типизация"
   ]
  },
  {
   "cell_type": "code",
   "execution_count": null,
   "id": "26e99c37-679b-4da8-b71e-9889a00c0cc7",
   "metadata": {},
   "outputs": [],
   "source": [
    "python"
   ]
  },
  {
   "cell_type": "markdown",
   "id": "d4175636-76f9-438d-81e2-19a49546e98f",
   "metadata": {},
   "source": [
    "- тип данных переменной не нужно объявлять заранее. Он определяется только во время выполнения программы. В таких языках программирования переменная может менять тип: в одной части кода в ней сохранено число, а в другой — уже строка. "
   ]
  },
  {
   "cell_type": "markdown",
   "id": "95085c4d-8464-482a-b6be-16a779f4a573",
   "metadata": {},
   "source": [
    "### Сильная (строгая) типизация"
   ]
  },
  {
   "cell_type": "code",
   "execution_count": null,
   "id": "6a28b8c7-1e9a-4b48-917c-a62c86ed6e00",
   "metadata": {},
   "outputs": [],
   "source": [
    "python"
   ]
  },
  {
   "cell_type": "markdown",
   "id": "50b07c86-0783-416e-bbb4-0fd4fe162ec9",
   "metadata": {},
   "source": [
    "Например, если переменная в строго типизированном языке числовая, значит, с ней можно выполнять только действия, предназначенные для чисел."
   ]
  },
  {
   "cell_type": "code",
   "execution_count": null,
   "id": "8db31d94-01a7-4e72-b8f8-a65e2b216c79",
   "metadata": {},
   "outputs": [],
   "source": [
    "print(10 + 7)   # корректная операция \n",
    "print(10 + '7') # некорректная операция "
   ]
  },
  {
   "cell_type": "markdown",
   "id": "e2b2abd0-d7c2-49dc-b5c0-4025a9ac3091",
   "metadata": {},
   "source": [
    "### Слабая (нестрогая) типизация"
   ]
  },
  {
   "cell_type": "code",
   "execution_count": null,
   "id": "e40c007a-6a24-4113-8fc3-66b90121fe24",
   "metadata": {},
   "outputs": [],
   "source": [
    "javascript"
   ]
  },
  {
   "cell_type": "markdown",
   "id": "49788bc1-66b0-4854-892f-49822a00e346",
   "metadata": {},
   "source": [
    "Слабая типизация, она же нестрогая, не настолько жестко фиксирует правила. Действия для одного типа можно выполнять по отношению к другим — правда, с непредсказуемым результатом. Например, можно сложить строку и число."
   ]
  },
  {
   "cell_type": "code",
   "execution_count": null,
   "id": "1562ee28-8196-45f7-ac57-ca578d1c6a42",
   "metadata": {},
   "outputs": [],
   "source": [
    "2 + “1”\n",
    "21"
   ]
  },
  {
   "cell_type": "markdown",
   "id": "f65e55a5-793c-4b47-a7ca-ca288de2f776",
   "metadata": {},
   "source": [
    "### Неявная типизация"
   ]
  },
  {
   "cell_type": "markdown",
   "id": "d9f0bf99-a2eb-4d5c-9203-486b7dab441a",
   "metadata": {},
   "source": [
    "Тип определяется сам в момент, когда вы записываете в переменную информацию."
   ]
  },
  {
   "cell_type": "code",
   "execution_count": null,
   "id": "4100be60-59f2-480c-af6e-39d5b3580a61",
   "metadata": {},
   "outputs": [],
   "source": [
    "# Python\n",
    "\n",
    "b = 8"
   ]
  },
  {
   "cell_type": "markdown",
   "id": "ad52db09-a11c-4b81-bfff-c5bdca7724e2",
   "metadata": {},
   "source": [
    "### Явная типизация"
   ]
  },
  {
   "cell_type": "markdown",
   "id": "2f3e3292-6311-4f1d-b336-8213237ea725",
   "metadata": {},
   "source": [
    "Тип переменной нужно написать"
   ]
  },
  {
   "cell_type": "code",
   "execution_count": null,
   "id": "0cacaadd-bc72-46a6-9797-b347786fd47a",
   "metadata": {},
   "outputs": [],
   "source": [
    "# C\n",
    "\n",
    "int b = 8"
   ]
  },
  {
   "cell_type": "markdown",
   "id": "b6bb74bc-f058-4fba-b03a-f5d5df01aa48",
   "metadata": {},
   "source": [
    "# Аннотация типов"
   ]
  },
  {
   "cell_type": "markdown",
   "id": "d79c7e78-def4-40d8-bba0-0bcbc0492513",
   "metadata": {},
   "source": [
    "Необходима для того, чтобы в переменных сохранять значения только определенного типа данных"
   ]
  },
  {
   "cell_type": "code",
   "execution_count": null,
   "id": "e5627b81-5313-43ef-acdc-240c5266034a",
   "metadata": {},
   "outputs": [],
   "source": [
    "first: int\n",
    "first = 100"
   ]
  },
  {
   "cell_type": "markdown",
   "id": "5037d0f9-9311-46e6-ba24-7f868e7cbc49",
   "metadata": {},
   "source": [
    "или короче:"
   ]
  },
  {
   "cell_type": "code",
   "execution_count": null,
   "id": "4a43b3b3-22c5-4435-9d97-e21d8597dd32",
   "metadata": {},
   "outputs": [],
   "source": [
    "first: int = 100"
   ]
  },
  {
   "cell_type": "markdown",
   "id": "17c232d2-4b44-4669-975c-49b9bb54f564",
   "metadata": {},
   "source": [
    "- аннотации не приводят к появлению ошибки, ваш код будет успешно отрабатывать, даже если вы сохранили не тот тип данных, который был в аннотации."
   ]
  },
  {
   "cell_type": "markdown",
   "id": "9507c168-b60a-49f1-a26a-2107549d01bc",
   "metadata": {},
   "source": [
    "### Аннотация в функциях"
   ]
  },
  {
   "cell_type": "markdown",
   "id": "fc38a7b8-aac4-4478-86df-6477b454e73e",
   "metadata": {},
   "source": [
    "- анотация параметров:"
   ]
  },
  {
   "cell_type": "code",
   "execution_count": null,
   "id": "c864d3ca-dce2-4310-b6dd-165c02020ba6",
   "metadata": {},
   "outputs": [],
   "source": [
    "def имя_функции(параметр1: тип_параметра1, параметр2: тип_параметра2, ...):\n",
    "   <тело функции>"
   ]
  },
  {
   "cell_type": "code",
   "execution_count": null,
   "id": "920438fe-3ea3-47df-bbe6-a14d1864b54a",
   "metadata": {},
   "outputs": [],
   "source": [
    "def add_numbers(a: int, b: int):\n",
    "    return a + b"
   ]
  },
  {
   "cell_type": "markdown",
   "id": "7f2d64c4-7431-429d-ae1f-319bf3202d4b",
   "metadata": {},
   "source": [
    "- аннотация возвращаемого значения:"
   ]
  },
  {
   "cell_type": "code",
   "execution_count": null,
   "id": "1358f707-47ab-4fb8-ba6d-815efd21a5db",
   "metadata": {},
   "outputs": [],
   "source": [
    "def add_numbers(a: int, b: int) -> int:\n",
    "  return a + b"
   ]
  },
  {
   "cell_type": "markdown",
   "id": "575b8b29-72e3-4085-95ea-573976246997",
   "metadata": {},
   "source": [
    "### Атрибут \\__annotations__"
   ]
  },
  {
   "cell_type": "markdown",
   "id": "2527ab03-235e-4e33-bf91-91d193486976",
   "metadata": {},
   "source": [
    "- позволяет посмотреть аннотации параметров и возвращаемого результата функции\n",
    "\n",
    "- В атрибут \\__annotations__  не попадает информация об аннотации локальных переменных, созданных внутри функции. Атрибут \\__annotations__ хранит информацию только о параметрах и возвращаемом значении функции, если у них указана аннотация."
   ]
  },
  {
   "cell_type": "code",
   "execution_count": null,
   "id": "2a8ac009-a9d7-4ba0-b286-73cd2b526169",
   "metadata": {},
   "outputs": [],
   "source": [
    "def add_numbers(a: int, b: int) -> int:\n",
    "  return a + b\n",
    "\n",
    " \n",
    "print(add_numbers.__annotations__)\n",
    "\n",
    "# {'a': <class 'int'>, 'b': <class 'int'>, 'return': <class 'int'>}"
   ]
  },
  {
   "cell_type": "markdown",
   "id": "333034ca-2f2f-4a8c-ac4d-35c5128ff48c",
   "metadata": {},
   "source": [
    "## Модуль typing"
   ]
  },
  {
   "cell_type": "markdown",
   "id": "e709e1e3-8cea-41fa-b7ac-a9f6174e128c",
   "metadata": {},
   "source": [
    "Встроенный модуль typing позволяет создавать аннотации в более сложных случаях, например, если вы хотите проаннотировать переменную сразу несколькими типами или указать аннотацию для элементов коллекции."
   ]
  },
  {
   "cell_type": "markdown",
   "id": "415ae889-cac5-4944-b75d-7b3229d6d586",
   "metadata": {},
   "source": [
    "В модуле typing для каждого типа данных python имеется соответствующий объект. Называться он будет также как встроенный тип данных, только имя начинается с заглавной буквы. Значит, за встроенный тип данных list в модуле typing отвечает объект List."
   ]
  },
  {
   "cell_type": "code",
   "execution_count": null,
   "id": "deed33e1-aeea-43c9-84c9-0879fce97159",
   "metadata": {},
   "outputs": [],
   "source": [
    "from typing import List, Dict, Tuple, Set\n",
    "\n",
    "numbers: List = [1.1, 3.0, 4.5]\n",
    "languages: Dict = {}\n",
    "temperature: Tuple = (1, 2, 3)\n",
    "letters: Set = set('hello')"
   ]
  },
  {
   "cell_type": "markdown",
   "id": "7d9c5eb4-27dd-47f0-84ec-607586a8ad5c",
   "metadata": {},
   "source": [
    "Теперь мы можем указать для каждой коллекции, какой тип данных должен быть у ее элементов. Вот как это делается:"
   ]
  },
  {
   "cell_type": "code",
   "execution_count": null,
   "id": "868c72fb-95ce-4d5e-82af-f2a37024309f",
   "metadata": {},
   "outputs": [],
   "source": [
    "from typing import List, Set\n",
    "\n",
    "numbers: List[float] = [1.1, 3.0, 4.5]\n",
    "letters: Set[str] = set('hello')"
   ]
  },
  {
   "cell_type": "markdown",
   "id": "39f9a885-3212-4573-a718-dcd421ec0b92",
   "metadata": {},
   "source": [
    "### Объект Union"
   ]
  },
  {
   "cell_type": "code",
   "execution_count": null,
   "id": "97ebdbc6-9051-4266-82bd-d4d4aa8f2a5a",
   "metadata": {},
   "outputs": [],
   "source": [
    "from typing import Union"
   ]
  },
  {
   "cell_type": "markdown",
   "id": "070344a4-de47-4e9d-9b13-0666b4b0de10",
   "metadata": {},
   "source": [
    "C помощью объекта Union можно указывать сразу несколько типов данных, которые могут быть сохранены в переменную. "
   ]
  },
  {
   "cell_type": "code",
   "execution_count": null,
   "id": "2e06ac0c-2dc4-4223-8006-8fb81bf28978",
   "metadata": {},
   "outputs": [],
   "source": [
    "param: Union[int, float, bool]"
   ]
  },
  {
   "cell_type": "markdown",
   "id": "0d2d439d-da0c-4456-bff8-5de62f42af22",
   "metadata": {},
   "source": [
    "или:"
   ]
  },
  {
   "cell_type": "code",
   "execution_count": null,
   "id": "120e8d90-271c-4d80-b96c-a4dc8b1f5f41",
   "metadata": {},
   "outputs": [],
   "source": [
    "param: int| float| str"
   ]
  },
  {
   "cell_type": "code",
   "execution_count": null,
   "id": "82ad2f44-5baf-4011-8415-846bef1d1947",
   "metadata": {},
   "outputs": [],
   "source": [
    "from typing import Union\n",
    "\n",
    "\n",
    "def add_numbers(a: Union[int, float],\n",
    "                b: Union[int, float]) -> Union[int, float]:\n",
    "    return a + b\n",
    "\n",
    "\n",
    "print(add_numbers.__annotations__)\n",
    "print(add_numbers(10, 25.7))\n",
    "print(add_numbers(10, 25))\n",
    "\n",
    "\n",
    "# {'a': typing.Union[int, float, str, list, bool], 'b': typing.Union[int, float, str, list, bool], 'return': typing.Union[int, float, str, list, bool]}\n",
    "# 35.7\n",
    "# helloworld\n",
    "# [1, 2, 3, 4]\n",
    "# 2"
   ]
  },
  {
   "cell_type": "code",
   "execution_count": null,
   "id": "50d7a2ad-7d75-41ab-a5a1-b535f5e678cd",
   "metadata": {},
   "outputs": [],
   "source": [
    "def append_to_list(value, my_list: Union[list, None] = None):\n",
    "    if my_list is None:\n",
    "        my_list = []\n",
    "    my_list.append(value)\n",
    "    return my_list"
   ]
  },
  {
   "cell_type": "markdown",
   "id": "372993da-66fa-4a52-af0b-f807f4fcf9d1",
   "metadata": {},
   "source": [
    "### Объект Optional"
   ]
  },
  {
   "cell_type": "code",
   "execution_count": null,
   "id": "1c589c36-fcb7-4bd7-9f60-9e3e9cfbb402",
   "metadata": {},
   "outputs": [],
   "source": [
    "from typing import Optional\n",
    "\n",
    "num: Optional[int] = None\n",
    "word: Optional[str] = None"
   ]
  },
  {
   "cell_type": "code",
   "execution_count": null,
   "id": "4e072679-e873-4662-a90d-9d825a43f042",
   "metadata": {},
   "outputs": [],
   "source": [
    "from typing import Optional\n",
    "\n",
    "def append_to_list(value, my_list: Optional[list] = None):\n",
    "    if my_list is None:\n",
    "        my_list = []\n",
    "    my_list.append(value)\n",
    "    return my_list"
   ]
  },
  {
   "cell_type": "markdown",
   "id": "54a2576d-ca63-437d-a215-c1e320c8e57b",
   "metadata": {},
   "source": [
    "### Объект Any"
   ]
  },
  {
   "cell_type": "markdown",
   "id": "420c0ac8-78ff-4d19-8fa9-91c5dfa36fcf",
   "metadata": {},
   "source": [
    "Например, вы хотите указать при помощи аннотаций, что в переменной можно сохранить любой тип данных. В этом вам поможет объект Any из модуля typing"
   ]
  },
  {
   "cell_type": "code",
   "execution_count": null,
   "id": "8e11657c-2d2e-49ca-8aa6-c6d6be5fda52",
   "metadata": {},
   "outputs": [],
   "source": [
    "from typing import Any\n",
    "\n",
    "value: Any\n",
    "value = 10\n",
    "print(value)\n",
    "value = [1, 2, 3]\n",
    "print(value)\n",
    "value = {'hi': 'привет'}\n",
    "print(value)"
   ]
  },
  {
   "cell_type": "code",
   "execution_count": null,
   "id": "6e0f5769-c0f2-43c4-9c3e-0e2c7de5a8a7",
   "metadata": {},
   "outputs": [],
   "source": [
    "from typing import Optional, Any, List\n",
    "\n",
    "\n",
    "def append_to_list(value: Any, my_list: Optional[list] = None) -> List[Any]:\n",
    "    if my_list is None:\n",
    "        my_list = []\n",
    "    my_list.append(value)\n",
    "    return my_list"
   ]
  },
  {
   "cell_type": "markdown",
   "id": "93c110bf-f7b6-4ff4-9c4d-a1aad9b0de94",
   "metadata": {},
   "source": [
    "### Аннотация элементов кортежа"
   ]
  },
  {
   "cell_type": "markdown",
   "id": "dff0b41d-6ac8-4f51-a557-f0707ef76ee1",
   "metadata": {},
   "source": [
    "Для кортежа в квадратных скобках нужно указывать тип каждого элемента по отдельности"
   ]
  },
  {
   "cell_type": "code",
   "execution_count": null,
   "id": "04734339-36c0-4567-bb08-dddfbc2eccd8",
   "metadata": {},
   "outputs": [],
   "source": [
    "from typing import Tuple\n",
    "\n",
    "words: Tuple[str, int] = (\"hello\", 300)"
   ]
  },
  {
   "cell_type": "markdown",
   "id": "364c3aa8-9f5f-4c48-aa4d-2cf771b98d48",
   "metadata": {},
   "source": [
    "Или  указать сразу всем элементам кортежа один тип данных"
   ]
  },
  {
   "cell_type": "code",
   "execution_count": null,
   "id": "ca5e5a7d-58b8-422e-91b9-07ba6f458b29",
   "metadata": {},
   "outputs": [],
   "source": [
    "from typing import Tuple\n",
    "\n",
    "words: Tuple[str, ...] = (\"hello\", \"world\", '!')"
   ]
  },
  {
   "cell_type": "markdown",
   "id": "3bbb855e-c8cf-4518-a65f-9c7c9d501ccc",
   "metadata": {},
   "source": [
    "### Аннотация словарей"
   ]
  },
  {
   "cell_type": "markdown",
   "id": "d8bd408b-c27f-4f00-b19e-bc8c6b810fa5",
   "metadata": {},
   "source": [
    "Чтобы добавить аннотацию типа для словаря,  необходимо использовать объект Dict модуля typing, и далее указать тип ключа и тип значения следующим образом:"
   ]
  },
  {
   "cell_type": "code",
   "execution_count": null,
   "id": "ee52ce71-5e32-4faa-8e5c-07358fe8248d",
   "metadata": {},
   "outputs": [],
   "source": [
    "from typing import Dict\n",
    "Dict[key_type, value_type]"
   ]
  },
  {
   "cell_type": "markdown",
   "id": "d3e3dd13-054f-4e1f-8064-2d41d71cd488",
   "metadata": {},
   "source": [
    "Пример"
   ]
  },
  {
   "cell_type": "code",
   "execution_count": null,
   "id": "7326ec30-8cb8-4742-9bd3-403229379477",
   "metadata": {},
   "outputs": [],
   "source": [
    "from typing import Dict\n",
    "person: Dict[str, str] = { \"first_name\": \"John\", \"last_name\": \"Doe\"}"
   ]
  },
  {
   "cell_type": "code",
   "execution_count": null,
   "id": "d2686eb1-fa68-4e50-b119-6eb846e61ddd",
   "metadata": {},
   "outputs": [],
   "source": [
    "Пример"
   ]
  },
  {
   "cell_type": "code",
   "execution_count": null,
   "id": "c49eb624-32ad-4146-b862-76f5c062753a",
   "metadata": {},
   "outputs": [],
   "source": [
    "from typing import Dict, Optional, Union\n",
    "\n",
    "def foo(bar: Dict[Union[str, int], Optional[str]]) -> bool:\n",
    "   return True"
   ]
  },
  {
   "cell_type": "markdown",
   "id": "4725530f-6e5c-45fc-894f-519b958e8e03",
   "metadata": {},
   "source": [
    "# Аннотации в новых версиях python (python >=3.9)"
   ]
  },
  {
   "cell_type": "markdown",
   "id": "92255ffa-81ba-49e8-a523-35d69a8ce15e",
   "metadata": {},
   "source": [
    "- **Ранее**\n",
    " \n",
    "Ранее при помощи модуля typing аннотация элементов списков и множеств выглядела следующим образом"
   ]
  },
  {
   "cell_type": "code",
   "execution_count": null,
   "id": "6e087534-d327-4fa3-a4d8-91db16a93762",
   "metadata": {},
   "outputs": [],
   "source": [
    "from typing import List, Set, FrozenSet\n",
    "\n",
    "words: List[str] = [\"hello\", \"world\"]\n",
    "numbers: List[float] = [1.1, 3.0, 4.5]\n",
    "letters: Set[str] = set('hello')\n",
    "digits: FrozenSet[int] = frozenset([1, 2, 2, 1])"
   ]
  },
  {
   "cell_type": "markdown",
   "id": "2a07f51b-95bc-48c9-ae4c-0b0f191cf262",
   "metadata": {},
   "source": [
    "- **с версии python3.9**\n",
    "\n",
    "Начиная с версии python3.9 вместо объектов модуля  вы можете указывать встроенные типы данных list, set и frozenset"
   ]
  },
  {
   "cell_type": "code",
   "execution_count": null,
   "id": "d5f6c378-3862-48dd-8517-1714e94ae725",
   "metadata": {},
   "outputs": [],
   "source": [
    "words: list[str] = [\"hello\", \"world\"]\n",
    "numbers: list[float] = [1.1, 3.0, 4.5]\n",
    "letters: set[str] = set('hello')\n",
    "digits: frozenset[int] = frozenset([1, 2, 2, 1])"
   ]
  },
  {
   "cell_type": "markdown",
   "id": "b5ffabfc-349a-4c3b-b5f4-63db5d5d12d9",
   "metadata": {},
   "source": [
    "## Замена Union"
   ]
  },
  {
   "cell_type": "markdown",
   "id": "92280bb2-f09a-4abe-9335-1534befa230a",
   "metadata": {},
   "source": [
    "- **Ранее**"
   ]
  },
  {
   "cell_type": "code",
   "execution_count": null,
   "id": "a3ea0bd8-55a8-4e84-8d0e-14587015d3b2",
   "metadata": {},
   "outputs": [],
   "source": [
    "from typing import Union\n",
    "\n",
    "param: Union[int, float, bool]"
   ]
  },
  {
   "cell_type": "markdown",
   "id": "16b58acc-3132-4b5c-b83b-c98ce02ad3e9",
   "metadata": {},
   "source": [
    "- **с версии python3.9**"
   ]
  },
  {
   "cell_type": "code",
   "execution_count": null,
   "id": "2c808c23-cef2-414f-9c92-a1d836d47b11",
   "metadata": {},
   "outputs": [],
   "source": [
    "param: int | float | bool"
   ]
  },
  {
   "cell_type": "markdown",
   "id": "fa5521ed-318c-4286-a7d3-cd471f2cfdc0",
   "metadata": {},
   "source": [
    "## Замена Optional"
   ]
  },
  {
   "cell_type": "markdown",
   "id": "b1c19369-d6b5-44dd-911e-90c557583f2e",
   "metadata": {},
   "source": [
    "- **Ранее**"
   ]
  },
  {
   "cell_type": "code",
   "execution_count": null,
   "id": "39d5e747-74dd-4351-b889-fe570aea69d4",
   "metadata": {},
   "outputs": [],
   "source": [
    "from typing import Optional\n",
    "\n",
    "num: Optional[int] = None\n",
    "word: Optional[str] = None"
   ]
  },
  {
   "cell_type": "markdown",
   "id": "c9c04d36-9cc7-4930-82ff-74a018012e1a",
   "metadata": {},
   "source": [
    "- **с версии python3.9**"
   ]
  },
  {
   "cell_type": "code",
   "execution_count": null,
   "id": "d0ed4edc-4682-4342-b732-d7f11184a4d1",
   "metadata": {},
   "outputs": [],
   "source": [
    "num: int | None = None\n",
    "word: str | None = None"
   ]
  },
  {
   "cell_type": "markdown",
   "id": "1f1f0f60-607e-4b63-95b5-edec56bfea03",
   "metadata": {},
   "source": [
    "## Аннотация словарей"
   ]
  },
  {
   "cell_type": "markdown",
   "id": "e752d753-f061-424a-b407-e139170a61fb",
   "metadata": {},
   "source": [
    "- **Ранее**"
   ]
  },
  {
   "cell_type": "code",
   "execution_count": null,
   "id": "cdde3890-8d1d-4ffd-99cb-d570a6f82bc6",
   "metadata": {},
   "outputs": [],
   "source": [
    "from typing import Dict\n",
    "\n",
    "person: Dict[str, str] = { \"first_name\": \"John\", \"last_name\": \"Doe\"}"
   ]
  },
  {
   "cell_type": "code",
   "execution_count": null,
   "id": "7f4e4d49-5896-42ca-b6ab-d4da4bac9d50",
   "metadata": {},
   "outputs": [],
   "source": [
    "from typing import Dict, Optional, Union\n",
    "\n",
    "def foo(bar: Dict[Union[str, int], Optional[str]]) -> bool:\n",
    "   return True"
   ]
  },
  {
   "cell_type": "markdown",
   "id": "21fd6ed1-41ba-4ecf-b5d4-387a1f697ab6",
   "metadata": {},
   "source": [
    "- **с версии python3.9**"
   ]
  },
  {
   "cell_type": "code",
   "execution_count": null,
   "id": "4f37f0f8-d998-4b8b-920b-f4ef361047e9",
   "metadata": {},
   "outputs": [],
   "source": [
    "person: dict[str, str] = { \"first_name\": \"John\", \"last_name\": \"Doe\"}"
   ]
  },
  {
   "cell_type": "code",
   "execution_count": null,
   "id": "4e6a047b-4534-4643-b10d-ade9c119aba2",
   "metadata": {},
   "outputs": [],
   "source": [
    "def foo(bar: dict[str | int, str | None]) -> bool:\n",
    "   return True"
   ]
  },
  {
   "cell_type": "markdown",
   "id": "3d57c4f7-899a-4525-942d-85b763653355",
   "metadata": {},
   "source": [
    "## Аннотация элементов кортежа"
   ]
  },
  {
   "cell_type": "markdown",
   "id": "a56debcc-a711-4b4c-bf63-33b042a1daea",
   "metadata": {},
   "source": [
    "- **Ранее**"
   ]
  },
  {
   "cell_type": "code",
   "execution_count": null,
   "id": "d206b49d-1a89-4841-99fd-ed9e2ca159b6",
   "metadata": {},
   "outputs": [],
   "source": [
    "from typing import Tuple\n",
    "\n",
    "words: Tuple[str, int] = (\"hello\", 300)"
   ]
  },
  {
   "cell_type": "markdown",
   "id": "a1528e8a-b123-44f0-9bd2-220d26994c61",
   "metadata": {},
   "source": [
    "- **с версии python3.9**"
   ]
  },
  {
   "cell_type": "code",
   "execution_count": null,
   "id": "0259f1f6-2a7b-4266-b5dd-d14a24055cfb",
   "metadata": {},
   "outputs": [],
   "source": [
    "words: tuple[str, int] = (\"hello\", 300)"
   ]
  },
  {
   "cell_type": "markdown",
   "id": "fb18a419-a66a-4f28-af57-c183101611c4",
   "metadata": {},
   "source": [
    "Есть способ проаннотировать сразу все элементы кортежа одним типом данных. Для этого в момент аннотации в квадратных скобках tuple вы указываете нужный тип данных, далее после запятой ставите три точки ..."
   ]
  },
  {
   "cell_type": "code",
   "execution_count": null,
   "id": "5f096f55-aed4-44fc-ae6a-f2d2b29f4662",
   "metadata": {},
   "outputs": [],
   "source": [
    "words: tuple[str, ...] = (\"hello\", \"world\", '!')"
   ]
  },
  {
   "cell_type": "code",
   "execution_count": null,
   "id": "370624ce-b7f3-4018-99d8-a518502baa55",
   "metadata": {},
   "outputs": [],
   "source": [
    "def my_func(x: int, y: int) -> tuple[int, int]:\n",
    "    return x * y, y // 2"
   ]
  },
  {
   "cell_type": "code",
   "execution_count": null,
   "id": "d14f2c0d-d145-4e7e-8ed6-482eb790bb69",
   "metadata": {},
   "outputs": [],
   "source": [
    "def my_func(x: int, y: int) -> (int, int):\n",
    "    return x * y, y // 2"
   ]
  },
  {
   "cell_type": "markdown",
   "id": "5a6f768a-d45c-44f9-b996-f18ba32343e3",
   "metadata": {},
   "source": [
    "# Объект первого класса"
   ]
  },
  {
   "cell_type": "markdown",
   "id": "dfc7f044-3c7d-4eeb-8ec9-65faaa64ce80",
   "metadata": {},
   "source": [
    "✅ Объект первого класса (first-class object) — это объект, с которым можно обращаться как с обычной переменной:\n",
    "Он может:\n",
    "\n",
    "- Быть сохранён в переменную\n",
    "\n",
    "- Передаваться как аргумент функции\n",
    "\n",
    "- Возвращаться из функции\n",
    "\n",
    "- Быть частью других структур данных (списков, словарей и т.д.)"
   ]
  },
  {
   "cell_type": "markdown",
   "id": "bf33bc51-76ed-4ab1-861b-f7f9bb2406ee",
   "metadata": {},
   "source": [
    "**Примеры объектов первого класса в Python:**\n",
    "- числа (int)\n",
    "\n",
    "- строки (str)\n",
    "\n",
    "- списки (list)\n",
    "\n",
    "- словари (dict)\n",
    "\n",
    "- функции\n",
    "\n",
    "- даже классы"
   ]
  },
  {
   "cell_type": "markdown",
   "id": "fe70c9c8-388a-4751-8fcc-9617f03c1d6b",
   "metadata": {},
   "source": [
    "❌ **Что не является объектом первого класса:**\n",
    "\n",
    "В Python — практически всё является объектом первого класса.\n",
    "Но в других языках, например в C, функции — не объекты первого класса: их нельзя передавать, возвращать и сохранять как значения. То есть:\n",
    "\n",
    "- Циклы (for, while) — не объекты, а конструкции языка\n",
    "\n",
    "- Условные операторы (if, else) — не объекты\n",
    "\n",
    "- Операторы (+, -) — не объекты, а синтаксис\n",
    "\n",
    "То есть всё, что нельзя \"положить в переменную\" и \"передать как значение\" — не объект первого класса."
   ]
  },
  {
   "cell_type": "markdown",
   "id": "a09cbd0f-6144-42a7-bc12-6c491eb6342d",
   "metadata": {},
   "source": [
    "### Функции можно сохранять в переменные\n",
    "\n",
    "Функция представляет собой такой же объект, как и обычная строка или список. Поэтому как и любой другой объект можете присвоить ее переменной.\n",
    "\n",
    "Вы можете использовать функции в качестве аргументов других функций, сохранять функции как значения словаря или возвращать функцию из другой функции. "
   ]
  },
  {
   "cell_type": "code",
   "execution_count": null,
   "id": "a3a022fe-66c5-492f-85cc-33009117142d",
   "metadata": {},
   "outputs": [],
   "source": [
    "def greet(name):\n",
    "    return f\"Hello, {name}!\"\n",
    "\n",
    "say_hello = greet  # сохраняем в переменную\n",
    "print(say_hello(\"Юра\"))  # передаём и вызываем\n",
    "\n",
    "def executor(fn):  # функция как аргумент\n",
    "    return fn(\"мир\")\n",
    "\n",
    "print(executor(greet))  # функция как аргумент\n",
    "\n",
    "def make_multiplier(n):  # функция возвращает функцию\n",
    "    return lambda x: x * n\n",
    "\n",
    "double = make_multiplier(2)\n",
    "print(double(5))  # 10\n"
   ]
  },
  {
   "cell_type": "markdown",
   "id": "d3510606-1dca-48ed-941c-c531a53f3c6d",
   "metadata": {},
   "source": [
    "### Функции можно передавать другим функциям"
   ]
  },
  {
   "cell_type": "code",
   "execution_count": null,
   "id": "e3dc189a-9c1e-4df9-bede-9afc14f765b2",
   "metadata": {},
   "outputs": [],
   "source": [
    "def say_louder(text):\n",
    "    return text.upper() + '!'\n",
    "\n",
    "\n",
    "def say_camel_case(text):\n",
    "    return text.title() + '!'\n",
    "\n",
    "\n",
    "def speak(func):\n",
    "    message = func('Меж нами памяти туман, ты как во сне')\n",
    "    print(message)\n",
    "\n",
    "\n",
    "speak(say_louder)\n",
    "speak(say_camel_case)"
   ]
  },
  {
   "cell_type": "markdown",
   "id": "d4a3746b-3665-49a7-8c17-a11161713cf8",
   "metadata": {},
   "source": [
    "### Функции могут возвращать другие функции"
   ]
  },
  {
   "cell_type": "code",
   "execution_count": null,
   "id": "1d4986d7-8974-4951-92ad-a9e2eb9a8bcd",
   "metadata": {},
   "outputs": [],
   "source": [
    "def get_type_speak(mode=0):\n",
    "    def say_louder(text):\n",
    "        return text.upper() + '!'\n",
    "\n",
    "    def say_camel_case(text):\n",
    "        return text.title() + '!'\n",
    "\n",
    "    if mode == 0:\n",
    "        return say_louder\n",
    "    return say_camel_case"
   ]
  },
  {
   "cell_type": "markdown",
   "id": "fda76c05-1dcb-429b-8771-2c0975091d2e",
   "metadata": {},
   "source": [
    "### Функции могут храниться в структурах данных"
   ]
  },
  {
   "cell_type": "markdown",
   "id": "e71b02e4-1824-42ed-950d-99e4534d0c55",
   "metadata": {},
   "source": [
    "- Мы можем функции сохранять в качестве элементов любых коллекций, изученных нами ранее."
   ]
  },
  {
   "cell_type": "code",
   "execution_count": null,
   "id": "c142e5d0-bbc0-4d81-85be-6b90dbaf4685",
   "metadata": {},
   "outputs": [],
   "source": [
    "def say_louder(text):\n",
    "    return text.upper() + '!'\n",
    "\n",
    "\n",
    "def say_camel_case(text):\n",
    "    return text.title() + '!'\n",
    "\n",
    "\n",
    "funcs = [sum, say_louder, say_camel_case]\n",
    "print(funcs)\n",
    "\n",
    "print(funcs[1])\n",
    "print(funcs[1]('А ты такой холодный'))\n",
    "print(funcs[2](' Как айсберг в океане'))\n",
    "print(funcs[0]([1, 2, 3]))"
   ]
  },
  {
   "cell_type": "markdown",
   "id": "b9b33952-a21f-41f3-ad04-832a3c58fd32",
   "metadata": {},
   "source": [
    "- Вот пример использования функций в качестве значений в словаре"
   ]
  },
  {
   "cell_type": "code",
   "execution_count": null,
   "id": "4ae73bae-b3a6-4173-9dda-2b000e3dc12b",
   "metadata": {},
   "outputs": [],
   "source": [
    "def get_square(x):\n",
    "    return x * x\n",
    "\n",
    "def get_cube(x):\n",
    "    return x * x * x\n",
    "\n",
    "funcs = {\n",
    "    'Квадрат': get_square,\n",
    "    'Куб': get_cube,\n",
    "}\n",
    "\n",
    "value = 5\n",
    "for key_func in sorted(funcs):\n",
    "    print(key_func, funcs[key_func](value))\n",
    "\n",
    "print(funcs['Квадрат'](10))"
   ]
  },
  {
   "cell_type": "markdown",
   "id": "7b2055cc-0421-4456-930e-a3a091cefb36",
   "metadata": {},
   "source": [
    "# Что такое область видимости (Scope)\n",
    "\n",
    "**Область видимости — где в коде ты можешь обращаться к имени.**"
   ]
  },
  {
   "cell_type": "markdown",
   "id": "7c13bd2e-ed95-4021-8aa8-b5a179cf325a",
   "metadata": {},
   "source": [
    "➡️ Глобальная область видимости: имена, которые вы определяете в этой области, доступны всему вашему коду.\n",
    "\n",
    "➡️ Локальная область видимости: имена, которые вы определяете в этой области, доступны или видимы только для кода внутри этой области."
   ]
  },
  {
   "cell_type": "markdown",
   "id": "016544a7-becf-4a0e-baed-e9cf43d88a99",
   "metadata": {},
   "source": [
    "- Если вы можете получить доступ к значению заданного имени из какого-либо места вашего кода, то в такой ситуации говорят , что имя находится в области видимости.\n",
    "\n",
    "- Если вы не можете получить доступ к имени, то говорят, что имя выходит за рамки области видимости."
   ]
  },
  {
   "cell_type": "code",
   "execution_count": null,
   "id": "f4018ac8-6739-4c5f-826b-3eb3375a683f",
   "metadata": {},
   "outputs": [],
   "source": [
    "y = 'global varible'  # определена глобальная переменная\n",
    "\n",
    "def my_func():\n",
    "    x = \"local varible\"  # определена локальная переменная\n",
    "    print(y)  # есть доступ к глобальной переменной\n",
    "    print(x)  # есть доступ к локальной переменной в локальной области\n",
    "\n",
    "print(y)  # есть доступ к глоб. переменной в глобальной области\n",
    "print(x)  # нет доступа к локальной переменной в глобальной области"
   ]
  },
  {
   "cell_type": "markdown",
   "id": "ad109bd9-1022-4428-bdba-5286e2c6d2e9",
   "metadata": {},
   "source": [
    "# Пространство имен\n",
    "\n",
    "**Пространство имён — таблица, где Python хранит пары \"имя → объект\".**"
   ]
  },
  {
   "cell_type": "markdown",
   "id": "fce3b65e-2363-4023-b151-410012f94a80",
   "metadata": {},
   "source": [
    "Это как таблица соответствий имён и объектов. Имя — это ярлык, объект — это что-то в памяти (например, число, строка, функция). \n",
    "\n",
    "В Python пространство имён — это как словарь, где:\n",
    "\n",
    "- ключ — имя (\"x\", \"print\", \"len\" и т.д.)\n",
    "\n",
    "- значение — объект, на который это имя указывает§"
   ]
  },
  {
   "cell_type": "markdown",
   "id": "5f393c28-7f26-4449-8dd4-04ef391c9232",
   "metadata": {},
   "source": [
    "Пространство имён — это место, где хранятся все имена, которые вы создали, и Python туда заглядывает, когда вы что-то вызываете по имени."
   ]
  },
  {
   "cell_type": "markdown",
   "id": "46401a84-813c-457b-9f1e-b07e1ba7b372",
   "metadata": {},
   "source": [
    "✳️ Все имена, доступные в определённой области, образуют пространство имён.\n",
    "\n",
    "То есть:\n",
    "\n",
    "- В глобальной области видимости есть глобальное пространство имён\n",
    "\n",
    "- В функции есть своё локальное пространство имён\n",
    "\n",
    "- У модулей, классов — тоже есть свои пространства имён"
   ]
  },
  {
   "cell_type": "markdown",
   "id": "ec9ea7bf-3247-458f-99be-36e1ccfa8f3b",
   "metadata": {},
   "source": [
    "### Как Python ищет имена?"
   ]
  },
  {
   "cell_type": "markdown",
   "id": "c1e052e6-8cd8-4378-a6f9-b10ea1c56b76",
   "metadata": {},
   "source": [
    "Он использует цепочку областей видимости — LEGB (по порядку):\n",
    "\n",
    "**Четыре пространства имён (и их области видимости)**\n",
    "\n",
    "1. Built-in — всё, что в Python есть \"по умолчанию\": len, int, print и т.д.\n",
    "Доступно везде, без импортов.\n",
    "\n",
    "2. Global — все переменные, функции и классы, определённые на уровне модуля (__main__).\n",
    "Доступны везде в модуле, кроме случаев, когда перекрываются локальными именами.\n",
    "\n",
    "3. Enclosing (объемлющее) — имена, определённые во внешней функции по отношению к вложенной.\n",
    "Важно для замыканий и вложенных функций.\n",
    "\n",
    "4. Local — переменные внутри функции. Живут ровно столько, сколько выполняется функция.\n",
    "\n",
    "🔄 **Имена ищутся по принципу LEGB:**\n",
    "\n",
    "**Local → Enclosing → Global → Built-in**\n",
    "\n",
    "У каждого пространства имеется своя область видимости. Все имена, находящиеся во встроенном пространстве имен, располагаются во встроенной области видимости. \n",
    "\n",
    "Именно этим порядком Python руководствуется при поиске имени переменной в разных областях видимости до первого совпадения. Сначала он будет искать имя в локальной области, затем в объемлющей функции, затем в глобальной области и, наконец, во встроенной области видимости. Если он найдет имя в одной из этих областей, он будет использовать это значение и не будет искать дальше."
   ]
  },
  {
   "cell_type": "markdown",
   "id": "c75cae7d-4dd4-40f1-8454-94a8c7cad1ef",
   "metadata": {},
   "source": [
    "Это правило применяется не только к поиску имени переменной, но и ко всем остальным именам объектов: функции, классы и модули"
   ]
  },
  {
   "cell_type": "markdown",
   "id": "fb1474f4-a27f-4de4-ae29-cec34668cbb2",
   "metadata": {},
   "source": [
    "**В двух словах:**\n",
    "\n",
    "- Пространство имён — где хранятся имена\n",
    "- Область видимости — где можно получить доступ к этим именам"
   ]
  },
  {
   "cell_type": "markdown",
   "id": "aa3c6eb2-0b9b-4f03-af23-d147f7a255b2",
   "metadata": {},
   "source": [
    "### Встроенное пространство имен (built-in namespace)"
   ]
  },
  {
   "cell_type": "markdown",
   "id": "04c54284-6f4a-4be7-a1fc-772391a13a93",
   "metadata": {},
   "source": [
    "Это набор имен всех встроенных функций и объектов в Python. (len, min и max, а также имена типов данных, таких как int, float и str и т.д.)"
   ]
  },
  {
   "cell_type": "markdown",
   "id": "2cfdf684-582d-49e2-afc0-a6b28cd0c90d",
   "metadata": {},
   "source": [
    "Все эти объекты реализованы в виде стандартного библиотечного модуля, называемого builtins.  Они автоматически загружаются во встроенную область видимости при запуске интерпретатора Python."
   ]
  },
  {
   "cell_type": "markdown",
   "id": "bb9cf6d7-9cf2-47c6-8334-9e4fa32422d1",
   "metadata": {},
   "source": [
    "Все эти объекты будут доступны вам с момента запуска интерпретатора и до момента завершения его работы."
   ]
  },
  {
   "cell_type": "code",
   "execution_count": null,
   "id": "5132b613-703a-4894-8f27-9c8a6354b2dc",
   "metadata": {},
   "outputs": [],
   "source": [
    "dir()"
   ]
  },
  {
   "cell_type": "markdown",
   "id": "38233ed1-889a-4e55-a1a2-fad35636e464",
   "metadata": {},
   "source": [
    "Функция dir() возвращает список имен в текущей области видимости. Если же в функцию dir() передать объект, тогда она вернет список его атрибутов и методов. Объектом в python является все, поэтому вы можете передать, например, объект встроенной функции суммы"
   ]
  },
  {
   "cell_type": "code",
   "execution_count": null,
   "id": "b505d0e2-4509-4fdb-b8a1-cdbb9d0daebc",
   "metadata": {},
   "outputs": [],
   "source": [
    "print(dir())"
   ]
  },
  {
   "cell_type": "markdown",
   "id": "dc5fda55-c6bd-49bd-8598-998196b8e209",
   "metadata": {},
   "source": [
    "При помощи функции dir можно взглянуть на весь состав встроенного пространства имен"
   ]
  },
  {
   "cell_type": "code",
   "execution_count": null,
   "id": "38384dec-033d-431d-b9ff-1f340227cdd3",
   "metadata": {},
   "outputs": [],
   "source": [
    "print(dir(__builtins__))"
   ]
  },
  {
   "cell_type": "markdown",
   "id": "d8bd10da-1ac7-4483-aa60-7717e61568ce",
   "metadata": {},
   "source": [
    "### Глобальное пространство имен (global namespace)"
   ]
  },
  {
   "cell_type": "markdown",
   "id": "22f88e1e-768e-4ba0-8725-e4da10a6f4df",
   "metadata": {},
   "source": [
    "Cодержит имена, определенные на уровне основной программы, и создаётся сразу при запуске тела этой программы. Сохраняется же оно до момента завершения работы интерпретатора. \n",
    "\n",
    "Сразу после запуска вашей программы вы окажетесь в глобальной области видимости. Интерпретатор Python внутри себя превратит файл вашей программы в модуль с именем __main__, который обеспечивает выполнение основной программы.\n",
    "\n",
    "Что попадает в глобальную область видимости? Все переменные на уровне вашего модуля, все объявленные функции и классы - все эти имена, будут составлять глобальное пространство имен."
   ]
  },
  {
   "cell_type": "code",
   "execution_count": null,
   "id": "3fccaf37-3808-4bba-b3ee-ca4519cfc199",
   "metadata": {},
   "outputs": [],
   "source": [
    "print(dir())\n",
    "\n",
    "# Посмотреть на имена глобальной области видимости вы можете при помощи функции dir без аргументов"
   ]
  },
  {
   "cell_type": "code",
   "execution_count": null,
   "id": "17a5992e-79fc-47cc-bd12-a7d6283439b1",
   "metadata": {},
   "outputs": [],
   "source": [
    "print(globals())\n",
    "\n",
    "# Функция globals вернула весь список имен, находящихся в глобальном пространстве имен нашего модуля:"
   ]
  },
  {
   "cell_type": "code",
   "execution_count": null,
   "id": "1bb1be68-42cd-4fc4-ac5c-6d2077973f1c",
   "metadata": {},
   "outputs": [],
   "source": [
    "age = 21\n",
    "\n",
    "def print_age():\n",
    "    print(age)\n",
    "\n",
    "print_age()  # prints 21\n",
    "\n",
    "print(globals())\n",
    "\n",
    "# {'__annotations__': {},\n",
    "#  '__builtins__': <module 'builtins' (built-in)>,\n",
    "#  '__cached__': None,\n",
    "#  '__doc__': None,\n",
    "#  ......\n",
    "#  '__name__': '__main__',\n",
    "#  '__package__': None,\n",
    "#  '__spec__': None,\n",
    "#  'age': 21,\n",
    "#  'print_age': <function print_age at 0x00000252740AAEF0>}"
   ]
  },
  {
   "cell_type": "markdown",
   "id": "13a055c3-0f50-4a53-9b92-bab242c3e001",
   "metadata": {},
   "source": [
    "### Локальное пространство имен"
   ]
  },
  {
   "cell_type": "markdown",
   "id": "553b4224-e849-4be5-8766-69c630e7814e",
   "metadata": {},
   "source": [
    "### Локальное пространство имен (local namespace)"
   ]
  },
  {
   "cell_type": "markdown",
   "id": "669e579f-7f2e-4c60-9c89-cbe9fe0086a7",
   "metadata": {},
   "source": [
    "Локальное пространство имен (local namespace) содержит имена, которые доступны только внутри определенной функции."
   ]
  },
  {
   "cell_type": "markdown",
   "id": "f012abca-e276-4add-8794-0eaf94dc07df",
   "metadata": {},
   "source": [
    "Локальная область создается при вызове функций, причем каждый раз, когда вы вызываете функцию, будет создаваться новая локальная область видимости. Все параметры и имена, которые вы создаете внутри функции, образуют локальную область этой функции в пределах одного конкретного вызова. Когда функция завершает работу, локальная область видимости уничтожается, а имена забываются."
   ]
  },
  {
   "cell_type": "markdown",
   "id": "525f441a-71c6-4cde-9901-a4d7721b1647",
   "metadata": {},
   "source": [
    "На имена локальной области видимости можно взглянуть через функцию dir"
   ]
  },
  {
   "cell_type": "code",
   "execution_count": null,
   "id": "566c4155-9ce9-49af-9832-a0b1ec2e0066",
   "metadata": {},
   "outputs": [],
   "source": [
    "locals()\n",
    "\n",
    "# Если вы хотите увидеть локальное пространство имен\n",
    "\n",
    "def add(a, b):\n",
    "    summa = a + b\n",
    "    print(locals())\n",
    "    print(f'Результат сложения {a} и {b} = {summa}')\n",
    "\n",
    "\n",
    "add(5, 7)\n",
    "add(8, 13)\n",
    "\n",
    "# {'a': 5, 'b': 7, 'summa': 12}\n",
    "# Результат сложения 5 и 7 = 12\n",
    "# {'a': 8, 'b': 13, 'summa': 21}\n",
    "# Результат сложения 8 и 13 = 21"
   ]
  },
  {
   "cell_type": "markdown",
   "id": "744b69ad-3ec9-4fca-ba22-8659c172bad7",
   "metadata": {},
   "source": [
    "- Локальные области разных функций также не пересекаются. \n",
    "\n",
    "- Имена глобальных переменных в локальное пространство имен не попадают"
   ]
  },
  {
   "cell_type": "code",
   "execution_count": null,
   "id": "cbd805e1-7db7-4b97-9317-6c6d3c8b44f9",
   "metadata": {},
   "outputs": [],
   "source": [
    "name = 'Misha'\n",
    "\n",
    "def print_age():\n",
    "    age = 21\n",
    "    name = 'Ivan'\n",
    "    print(age)\n",
    "    print(locals()) # {'age': 21, 'name': 'Ivan'}\n",
    "\n",
    "def foo():\n",
    "    x, y = 10, 20\n",
    "    print(locals()) # {'x': 10, 'y': 20}\n",
    "\n",
    "print_age()\n",
    "foo()"
   ]
  },
  {
   "cell_type": "markdown",
   "id": "a5e77c5b-5f4c-4327-b3e5-4bb8a1e88e31",
   "metadata": {},
   "source": [
    "### Объемлющее пространство имен"
   ]
  },
  {
   "cell_type": "markdown",
   "id": "4998773c-3da8-464b-8abc-e5638c1c9845",
   "metadata": {},
   "source": [
    "Объемлющая или нелокальная область видимости возникает, когда вы вкладываете определение функции внутрь другой функции."
   ]
  },
  {
   "cell_type": "code",
   "execution_count": null,
   "id": "856484d9-08aa-4e89-bbd0-691df26d955c",
   "metadata": {},
   "outputs": [],
   "source": [
    "def main_func():\n",
    "    main_variable = 1\n",
    "\n",
    "    def inner_func():\n",
    "        print('Печатаем из inner_func', main_variable)\n",
    "\n",
    "    inner_func()\n",
    "    print('Печатаем из main_func', main_variable)\n",
    "\n",
    "main_func()"
   ]
  },
  {
   "cell_type": "markdown",
   "id": "2e280dcd-366b-4f35-b10a-95d881a71769",
   "metadata": {},
   "source": [
    "Здесь внутренней функцией является inner_func, ее можно также назвать вложенной. Функция main_func будет называться  объемлющей."
   ]
  },
  {
   "cell_type": "code",
   "execution_count": null,
   "id": "28a9319d-d36a-4e93-8286-b28b085a701d",
   "metadata": {},
   "outputs": [],
   "source": [
    "def main_func():\n",
    "    a = 1\n",
    "\n",
    "    def inner_func():\n",
    "        print('Печатаем a из inner_func', a)\n",
    "        print('Печатаем b из inner_func', b) # Вот тут будет ошибка NameError\n",
    "\n",
    "    inner_func()\n",
    "    b = 2\n",
    "    print('Печатаем a из main_func', a)\n",
    "    print('Печатаем b из main_func', b)\n",
    "\n",
    "\n",
    "main_func()"
   ]
  },
  {
   "cell_type": "markdown",
   "id": "38236efd-76bc-49ab-a63f-0ae8edfdb641",
   "metadata": {},
   "source": [
    "Чтобы убедиться, что переменные из объемлющей функции входят в область видимости вложенной функции, мы можем вызвать функцию locals()"
   ]
  },
  {
   "cell_type": "code",
   "execution_count": null,
   "id": "60ee9b5d-dbc8-479d-a02d-094512bd8fc0",
   "metadata": {},
   "outputs": [],
   "source": [
    "def outer_function():\n",
    "    x = 15\n",
    "    y = 10\n",
    "\n",
    "    def inner_function():\n",
    "        w = 40\n",
    "        print(x + y + w)\n",
    "        print('Доступные имена в inner_function', locals())\n",
    "\n",
    "    inner_function()\n",
    "    print('Доступные имена в outer_function', locals())\n",
    "\n",
    "\n",
    "outer_function()"
   ]
  },
  {
   "cell_type": "markdown",
   "id": "17d71a3c-a948-4792-b87f-492f656d3e94",
   "metadata": {},
   "source": [
    "### Свободные (нелокальные) переменные, оператор nonlocal"
   ]
  },
  {
   "cell_type": "code",
   "execution_count": null,
   "id": "50ffc990-531c-49fe-9365-e8d54bdf55b3",
   "metadata": {},
   "outputs": [],
   "source": [
    "def outer_function():\n",
    "    x = 15\n",
    "    y = 10\n",
    "\n",
    "    def inner_function():\n",
    "        w = 40\n",
    "        print(x + y + w)\n",
    "        print('Доступные имена в inner_function', locals())\n",
    "\n",
    "    inner_function()\n",
    "\n",
    "\n",
    "outer_function()"
   ]
  },
  {
   "cell_type": "markdown",
   "id": "54d20b57-d816-4f86-89f3-3ccb683f1ee1",
   "metadata": {},
   "source": [
    "- в объемлющей области видимости функции inner_function  имеются три переменных, две из которых x и y объявлены вне локальной области.  Переменные, которые объявлены в объемлющей функции, называют нелокальными. Эти переменные также подходят под определение свободной переменной."
   ]
  },
  {
   "cell_type": "markdown",
   "id": "686de746-148e-4254-938f-76e0090b4eeb",
   "metadata": {},
   "source": [
    "- Если переменная используется в блоке кода, но не определена там, она называется свободной переменной."
   ]
  },
  {
   "cell_type": "markdown",
   "id": "0cf5808d-c510-4553-9daa-a0a191217a3d",
   "metadata": {},
   "source": [
    "**Как изменять такие переменные?**"
   ]
  },
  {
   "cell_type": "markdown",
   "id": "fb6b77f8-fac3-4058-9646-64063f6cfed0",
   "metadata": {},
   "source": [
    "Оператор nonlocal, который очень похож на оператор global по своему действию, с той лишь разницей, что nonlocal нацелен не на глобальные переменные, а на нелокальные."
   ]
  },
  {
   "cell_type": "code",
   "execution_count": null,
   "id": "31d2448b-9130-46de-97d4-1fe931ba6276",
   "metadata": {},
   "outputs": [],
   "source": [
    "def outer_function():\n",
    "    x = 15\n",
    "    y = 10\n",
    "\n",
    "    def inner_function():\n",
    "        w = 40\n",
    "        nonlocal x, y\n",
    "        x = 33\n",
    "        y = 45\n",
    "        print(x + y + w)\n",
    "        print('Доступные имена в inner_function', locals())\n",
    "\n",
    "    inner_function()\n",
    "    print('Доступные имена в outer_function', locals())\n",
    "\n",
    "\n",
    "outer_function()"
   ]
  },
  {
   "cell_type": "markdown",
   "id": "17f0a063-204e-483c-9ec6-1730dcbe3ee7",
   "metadata": {},
   "source": [
    "## Практика: как проверять, что где находится"
   ]
  },
  {
   "cell_type": "markdown",
   "id": "8de44e7f-4d96-448a-a45a-7eb4585a2d43",
   "metadata": {},
   "source": [
    "### 1. Проверить глобальные имена:"
   ]
  },
  {
   "cell_type": "code",
   "execution_count": null,
   "id": "8d61928d-20c0-4387-acaa-4a3795359973",
   "metadata": {},
   "outputs": [],
   "source": [
    "print(globals())"
   ]
  },
  {
   "cell_type": "markdown",
   "id": "6cade670-b587-40fa-a0f4-9f2d68b31f44",
   "metadata": {},
   "source": [
    "### 2. Проверить локальные: "
   ]
  },
  {
   "cell_type": "code",
   "execution_count": null,
   "id": "038424d5-74b4-4292-a422-3b3758079ff9",
   "metadata": {},
   "outputs": [],
   "source": [
    "def f():\n",
    "    x = 10\n",
    "    print(locals())\n",
    "f()"
   ]
  },
  {
   "cell_type": "markdown",
   "id": "25dcdb71-32b5-40e6-a955-b6799d843eb5",
   "metadata": {},
   "source": [
    "### 3. Посмотреть built-in:"
   ]
  },
  {
   "cell_type": "code",
   "execution_count": null,
   "id": "a42dc866-2e3d-48f9-af95-2c266c6c7122",
   "metadata": {},
   "outputs": [],
   "source": [
    "import builtins\n",
    "print(dir(builtins))"
   ]
  },
  {
   "cell_type": "markdown",
   "id": "b78394d4-2212-485c-92e6-cc8acdf2252a",
   "metadata": {},
   "source": [
    "# Анонимная/lambda функция"
   ]
  },
  {
   "cell_type": "markdown",
   "id": "c94d095f-1088-4eea-933a-1e611331719a",
   "metadata": {},
   "source": [
    "Это однострочная анонимная функция которая:\n",
    "\n",
    "- Функция, у которой нет имени.\n",
    "\n",
    "- Определяется с помощью ключевого слова lambda, а не def\n",
    "\n",
    "- может принимать любое количество аргументов\n",
    "\n",
    "- может содержать только одно выражение\n",
    "\n",
    "- возвращает результат автоматически (без return)\n",
    "\n",
    "- параметры: Один или несколько аргументов (можно использовать *args, **kwargs), разделенных запятыми. Может быть и 0 параметров."
   ]
  },
  {
   "cell_type": "markdown",
   "id": "9642fe4b-dbde-4868-9df6-5e792d9d610f",
   "metadata": {},
   "source": [
    "### Примеры:"
   ]
  },
  {
   "cell_type": "code",
   "execution_count": null,
   "id": "44df9763-9ebc-4ee6-8891-037d19d09c95",
   "metadata": {},
   "outputs": [],
   "source": [
    "# Функция, возвращающая квадрат числа\n",
    "square = lambda x: x**2\n",
    "\n",
    "# Функция, возвращающая сумму трех чисел\n",
    "get_perimeter = lambda a, b, c: a + b + c\n",
    "\n",
    "# Функция без параметров\n",
    "get_hello = lambda: 'hello'\n",
    "\n",
    "# Функция с условием (используется тернарный оператор)\n",
    "get_sign = lambda x: 'positive' if x > 0 else 'negative or 0'\n",
    "\n",
    "# Функция, возвращающая булево значение\n",
    "is_adult = lambda age: age >= 18\n",
    "\n",
    "# Пример с тернарным оператором\n",
    "get_sign = lambda x: 'positive' if x > 0 else ('zero' if x == 0 else 'negative')\n",
    "print(get_sign(5))  # positive\n",
    "print(get_sign(0))  # zero\n",
    "print(get_sign(-2)) # negative"
   ]
  },
  {
   "cell_type": "markdown",
   "id": "49322d0f-bac8-4c58-8780-3c4b2e3b0d18",
   "metadata": {},
   "source": [
    "### Ключевые особенности и ограничения"
   ]
  },
  {
   "cell_type": "markdown",
   "id": "faa0ebe6-8e66-492f-95ea-6e7890f706e5",
   "metadata": {},
   "source": [
    "- Одно выражение: Самое главное ограничение. Нельзя использовать циклы (for, while) или несколько последовательных команд внутри лямбды.\n",
    "\n",
    "- Нет return: Ключевое слово return использовать нельзя (вызовет SyntaxError). Лямбда неявно возвращает результат своего выражения.\n",
    "\n",
    "- Нет pass: Нельзя создать \"пустую\" лямбду с помощью pass.\n",
    "\n",
    "- Возврат None: Если выражение лямбды само по себе ничего не возвращает (например, print()), то лямбда вернет None.\n",
    "\n",
    "- Основное применение: Передача в качестве аргумента другим функциям.\n",
    "Лямбды идеально подходят, чтобы передать простую логику \"на лету\", не создавая отдельную def функцию.\n",
    "\n",
    "- Лямбда-функции – это удобный инструмент для создания маленьких, одноразовых, анонимных функций прямо в том месте, где они нужны."
   ]
  },
  {
   "cell_type": "code",
   "execution_count": null,
   "id": "00bbf9e3-8d17-42c5-9532-8f910f78ebfa",
   "metadata": {},
   "outputs": [],
   "source": [
    "def apply(func, x): # Эта функция принимает ДРУГУЮ функцию (func) и значение (x)\n",
    "    return func(x)  # и вызывает принятую функцию с этим значением\n",
    "\n",
    "# Используем лямбды прямо при вызове apply:\n",
    "print(apply(lambda y: y ** 2, 7))    # Передаем лямбду для возведения в квадрат. Выведет: 49\n",
    "print(apply(lambda n: n + 1, 5))      # Передаем лямбду для инкремента. Выведет: 6\n",
    "print(apply(lambda s: s.upper(), \"привет\")) # Передаем лямбду для перевода в верхний регистр. Выведет: ПРИВЕТ"
   ]
  },
  {
   "cell_type": "code",
   "execution_count": null,
   "id": "70f7b824-38fe-468b-b84d-a432c7623d0f",
   "metadata": {},
   "outputs": [],
   "source": [
    "surprise = lambda: print('surprise') # Выполнит print и вернет None"
   ]
  },
  {
   "cell_type": "markdown",
   "id": "15baa560-9e89-4937-ab4d-b544fe4dfbb3",
   "metadata": {},
   "source": [
    "##  Где лямбды особенно пригодятся в программировании (Ключевые моменты):"
   ]
  },
  {
   "cell_type": "markdown",
   "id": "014d60a5-8943-4c60-ae2c-f66304392ac5",
   "metadata": {},
   "source": [
    "- map(function, iterable): Применяет функцию ко всем элементам последовательности (списка, кортежа и т.д.). Лямбды идеальны для простых преобразований."
   ]
  },
  {
   "cell_type": "code",
   "execution_count": null,
   "id": "6f2af2a8-f1b7-4bb3-9f50-0f4c25c4ea5d",
   "metadata": {},
   "outputs": [],
   "source": [
    "numbers = [1, 2, 3, 4, 5]\n",
    "squared_numbers = list(map(lambda x: x**2, numbers))\n",
    "print(squared_numbers) # Выведет: [1, 4, 9, 16, 25]"
   ]
  },
  {
   "cell_type": "markdown",
   "id": "a6de88eb-6bb8-497f-884e-7169d5451eb8",
   "metadata": {},
   "source": [
    "- filter(function, iterable): Фильтрует элементы последовательности, оставляя только те, для которых функция возвращает True. Лямбды отлично подходят для простых условий фильтрации."
   ]
  },
  {
   "cell_type": "code",
   "execution_count": null,
   "id": "a9ab042c-dfe8-42ea-957e-54a26d64bdd5",
   "metadata": {},
   "outputs": [],
   "source": [
    "numbers = [1, 2, 3, 4, 5, 6, 7, 8, 9]\n",
    "even_numbers = list(filter(lambda x: x % 2 == 0, numbers))\n",
    "print(even_numbers) # Выведет: [2, 4, 6, 8]\n",
    "\n",
    "ages = [15, 25, 18, 12, 30]\n",
    "adults = list(filter(lambda age: age >= 18, ages))\n",
    "print(adults) # Выведет: [25, 18, 30]"
   ]
  },
  {
   "cell_type": "markdown",
   "id": "4856eeba-fd58-4629-8811-6d71776981d2",
   "metadata": {},
   "source": [
    "- Сортировка (sorted(), list.sort()): Можно указать ключ сортировки с помощью параметра key, который принимает функцию. Лямбды позволяют легко задать нестандартный критерий сортировки."
   ]
  },
  {
   "cell_type": "code",
   "execution_count": null,
   "id": "023acc23-08ea-48e8-a72b-251d98af31c9",
   "metadata": {},
   "outputs": [],
   "source": [
    "points = [(1, 5), (3, 2), (5, 8), (2, 1)]\n",
    "# Сортируем по второму элементу кортежа (y-координате)\n",
    "sorted_by_y = sorted(points, key=lambda point: point[1])\n",
    "print(sorted_by_y) # Выведет: [(2, 1), (3, 2), (1, 5), (5, 8)]\n",
    "\n",
    "names = [\"Alice\", \"Bob\", \"Charlie\", \"Anna\"]\n",
    "# Сортируем по длине имени\n",
    "sorted_by_len = sorted(names, key=lambda name: len(name))\n",
    "print(sorted_by_len) # Выведет: ['Bob', 'Anna', 'Alice', 'Charlie']"
   ]
  },
  {
   "cell_type": "markdown",
   "id": "5d167396-eef7-4ac7-958f-befce9a017b2",
   "metadata": {},
   "source": [
    "- functools.reduce(function, iterable): (Менее часто используется, но стоит знать) Последовательно применяет функцию к элементам, накапливая результат."
   ]
  },
  {
   "cell_type": "code",
   "execution_count": null,
   "id": "25b98a7f-02b6-41d2-bc06-6c85da7e16e5",
   "metadata": {},
   "outputs": [],
   "source": [
    "from functools import reduce\n",
    "numbers = [1, 2, 3, 4]\n",
    "product = reduce(lambda x, y: x * y, numbers)\n",
    "print(product) # Выведет: 24 ((((1*2)*3)*4))"
   ]
  },
  {
   "cell_type": "markdown",
   "id": "7d3dd123-e5a8-4a02-a70f-5ce166036164",
   "metadata": {},
   "source": [
    "# Сортировка коллекций"
   ]
  },
  {
   "cell_type": "markdown",
   "id": "fb17e980-bf9e-43a8-90a6-08ba27087f36",
   "metadata": {},
   "source": [
    "### Функция sorted"
   ]
  },
  {
   "cell_type": "code",
   "execution_count": null,
   "id": "59177101-767f-4f3b-a4bf-1578a3ad2872",
   "metadata": {},
   "outputs": [],
   "source": [
    "numbers = [4, -10, 43, -300, 54, 89, -34]\n",
    "vowels = ['e', 'a', 'u', 'o', 'i']\n",
    "word = 'abracadabra'\n",
    "words = ('visit', 'rape', 'idea', 'pikachu', 'stay', 'oil', 'ice')\n",
    "\n",
    "print(sorted(numbers)) # [-300, -34, -10, 4, 43, 54, 89]\n",
    "print(sorted(vowels)) # ['a', 'e', 'i', 'o', 'u']\n",
    "print(sorted(word)) # ['a', 'a', 'a', 'a', 'a', 'b', 'b', 'c', 'd', 'r', 'r']\n",
    "print(sorted(words)) # ['ice', 'idea', 'oil', 'pikachu', 'rape', 'stay', 'visit']"
   ]
  },
  {
   "cell_type": "markdown",
   "id": "803e03a9-fd88-4086-9251-7ab823c26f4f",
   "metadata": {},
   "source": [
    "![](images/ascii.png)"
   ]
  },
  {
   "cell_type": "markdown",
   "id": "1b67d07f-8675-4017-a555-21874847a3df",
   "metadata": {},
   "source": [
    "### Параметры функции sorted "
   ]
  },
  {
   "cell_type": "code",
   "execution_count": null,
   "id": "aff2206b-fd0a-4a15-a640-acfd374b0fbc",
   "metadata": {},
   "outputs": [],
   "source": [
    "sorted(iterable, key=None, reverse=False)"
   ]
  },
  {
   "cell_type": "markdown",
   "id": "40fab276-85d1-4558-95a0-ce7aa45070bb",
   "metadata": {},
   "source": [
    "- обязательный параметр iterable - итерируемый объект,\n",
    "  \n",
    "- необязательный параметр reverse. Если передать в него значение True, отсортированный список переворачивается (или сортируется в порядке убывания). По умолчанию принимает False\n",
    "\n",
    "- необязательный параметр key. В данный параметр можно передать функцию, которая будет служить ключом для сравнения элементов во время сортировки. По умолчанию — None. \n",
    "\n"
   ]
  },
  {
   "cell_type": "markdown",
   "id": "7c269871-454e-4173-b863-eed6bc005666",
   "metadata": {},
   "source": [
    "## Аргумент key (компаратор, от английского «compare» сравнивать)"
   ]
  },
  {
   "cell_type": "markdown",
   "id": "0b54e15b-e71b-47ab-9a15-33aba3313641",
   "metadata": {},
   "source": [
    "В key необходимо передать обязательно объект-функцию,  возможны следующие варианты\n",
    "\n",
    "    ✓    встроенная функция\n",
    "\n",
    "    ✓    пользовательская функция\n",
    "\n",
    "    ✓    методы встроенных типов\n",
    "\n",
    "    ✓    лямбда функция"
   ]
  },
  {
   "cell_type": "markdown",
   "id": "8584ff82-6b78-43c1-973c-cddef0a5ac38",
   "metadata": {},
   "source": [
    "### 1. Встроенная функция"
   ]
  },
  {
   "cell_type": "code",
   "execution_count": null,
   "id": "3ef46967-159c-475d-9e7a-8e8ffeb31aa3",
   "metadata": {},
   "outputs": [],
   "source": [
    "a = [4, -10, 43, -300, 54, 289, -34, -8, 749]\n",
    "print(sorted(a, key=abs))"
   ]
  },
  {
   "cell_type": "markdown",
   "id": "b1f7a7e1-0bc5-4955-a78a-4b4bc817811c",
   "metadata": {},
   "source": [
    "### 2. Пользовательская функция"
   ]
  },
  {
   "cell_type": "markdown",
   "id": "a48ff976-81e7-42ac-9e19-d79e5ae8767c",
   "metadata": {},
   "source": [
    "- Сортировка по последней цифре"
   ]
  },
  {
   "cell_type": "code",
   "execution_count": null,
   "id": "772f7250-68cd-41ac-9040-614340543c32",
   "metadata": {},
   "outputs": [],
   "source": [
    "\n",
    "\n",
    "def get_last_digit(num: int) -> int:\n",
    "    return num % 10\n",
    "    \n",
    "    \n",
    "a = [4, 10, 43, 44, 300, 54, 89, 34, 8, 749]\n",
    "print(sorted(a, key=get_last_digit))"
   ]
  },
  {
   "cell_type": "markdown",
   "id": "23be057c-8345-45d9-8b0a-0db0528796ba",
   "metadata": {},
   "source": [
    "- сортировка в обратном порядке без применения аргумента reverse"
   ]
  },
  {
   "cell_type": "code",
   "execution_count": null,
   "id": "05bf1693-949c-493d-b1a9-e2e3043d7772",
   "metadata": {},
   "outputs": [],
   "source": [
    "def get_last_digit(num: int) -> int:\n",
    "    return -(num % 10)\n",
    "    \n",
    "    \n",
    "a = [4, 10, 43, 300, 54, 289, 34, 8, 749]\n",
    "print(sorted(a, key=get_last_digit)) "
   ]
  },
  {
   "cell_type": "markdown",
   "id": "5fcd325f-9754-487b-b60e-14661e78eafd",
   "metadata": {},
   "source": [
    "### 3. Встроенные методы объектов"
   ]
  },
  {
   "cell_type": "code",
   "execution_count": null,
   "id": "739b07b2-5bdc-4d8f-9626-92806cbd75a5",
   "metadata": {},
   "outputs": [],
   "source": [
    "words = ['Alarm', 'agenda', 'aunt', 'alarm', 'Asset', 'arena', 'Adult']\n",
    "print(sorted(words, key=str.upper))"
   ]
  },
  {
   "cell_type": "markdown",
   "id": "9ff4e1f7-38a3-4f7b-b513-e5f7323cc48e",
   "metadata": {},
   "source": [
    "### 4. Анонимные функции lambda"
   ]
  },
  {
   "cell_type": "code",
   "execution_count": null,
   "id": "10243918-c9c2-4f0e-84c8-ca6abf7677c8",
   "metadata": {},
   "outputs": [],
   "source": [
    "words = ['Alarm', 'agenda', 'aunt', 'alarm', 'Asset', 'arena', 'Adult']\n",
    "print(sorted(words, key=lambda s: s.upper()))"
   ]
  },
  {
   "cell_type": "code",
   "execution_count": null,
   "id": "1d0d54df-72ed-41aa-a67f-ccad4f0e7e59",
   "metadata": {},
   "outputs": [],
   "source": [
    "words = ['Alarm', 'agenda', 'aunt', 'alarm', 'Asset', 'arena', 'Adult']\n",
    "print(sorted(words, key=lambda s: len(s)))"
   ]
  },
  {
   "cell_type": "code",
   "execution_count": null,
   "id": "6255de1b-7278-425e-abe8-e3927d7ce40e",
   "metadata": {},
   "outputs": [],
   "source": [
    "values = [(4, 5), (6, 0), (4, 3), (7, 2)]\n",
    "print(sorted(values, key=lambda element: element[1]))"
   ]
  },
  {
   "cell_type": "code",
   "execution_count": null,
   "id": "2b4ff75d-3b92-4b0c-8e39-8f2679f683b5",
   "metadata": {},
   "outputs": [],
   "source": [
    "values = [(4, 5), (6, 0), (4, 3), (7, 2)]\n",
    "print(sorted(values, key=lambda element: sum(element)))"
   ]
  },
  {
   "cell_type": "markdown",
   "id": "7288ed82-a1cf-44f8-9e51-0574bea16e6c",
   "metadata": {},
   "source": [
    "###  Метод sort и функция sorted"
   ]
  },
  {
   "cell_type": "markdown",
   "id": "d23de51d-79de-489f-8741-34974af7c66c",
   "metadata": {},
   "source": [
    "1️⃣  sort – это метод списка, а sorted – это функция. Отсюда следует, что sort можно применять только к спискам, причём вызывать как метод. А функцию sorted может использовать для сортировки не только списков, но и других коллекций\n",
    "\n",
    "2️⃣ При использовании метода sort меняется изначальный список, сам метод в качестве результата возвращает None. При вызове функции sorted сам объект не меняется, результатом будет новый отсортированный список."
   ]
  },
  {
   "cell_type": "markdown",
   "id": "13fa3447-2b02-42a1-af23-c20164852129",
   "metadata": {},
   "source": [
    "## Шпаргалка: Изменение порядка сортировки в Python"
   ]
  },
  {
   "cell_type": "markdown",
   "id": "5f78150c-d0c3-4047-b29b-68430ae6e6fc",
   "metadata": {},
   "source": [
    "### Основа: Функция sorted(iterable, key=None, reverse=False)"
   ]
  },
  {
   "cell_type": "markdown",
   "id": "cebe0f48-ea52-4180-8e4b-cf19dde9542f",
   "metadata": {},
   "source": [
    "- iterable: Список, кортеж или другая коллекция, которую сортируем.\n",
    "- key: Функция, которая вызывается для КАЖДОГО элемента перед сравнением. Она возвращает значение (или кортеж значений), по которому будет идти сортировка.\n",
    "- reverse: Если True, сортировка идет по убыванию (или в обратном порядке). По умолчанию False (по возрастанию)."
   ]
  },
  {
   "cell_type": "markdown",
   "id": "85fd377f-7e57-49f9-9563-fcccb768daaa",
   "metadata": {},
   "source": [
    "### 1. Сортировка по одному критерию"
   ]
  },
  {
   "cell_type": "markdown",
   "id": "a478f466-47f6-425f-9c2a-70d61ccdd2ab",
   "metadata": {},
   "source": [
    "- По возрастанию (по умолчанию):"
   ]
  },
  {
   "cell_type": "code",
   "execution_count": null,
   "id": "96342ead-33ec-4941-b6b3-84065d06d877",
   "metadata": {},
   "outputs": [],
   "source": [
    "data = [3, 1, 4, 1, 5]\n",
    "sorted_data = sorted(data) \n",
    "# Результат: [1, 1, 3, 4, 5] \n",
    "\n",
    "data_str = ['Банан', 'Яблоко', 'Апельсин']\n",
    "sorted_data_str = sorted(data_str) \n",
    "# Результат: ['Апельсин', 'Банан', 'Яблоко'] (Лексикографически)\n",
    "\n",
    "# С лямбда-функцией (часто нужно для объектов/словарей)\n",
    "items = [{'name': 'B', 'val': 2}, {'name': 'A', 'val': 1}]\n",
    "sorted_items = sorted(items, key=lambda x: x['val'])\n",
    "# Результат: [{'name': 'A', 'val': 1}, {'name': 'B', 'val': 2}]"
   ]
  },
  {
   "cell_type": "markdown",
   "id": "97a090a2-d48d-4cdf-8bef-8b1703f49d6b",
   "metadata": {},
   "source": [
    "- По убыванию: Используй reverse=True"
   ]
  },
  {
   "cell_type": "code",
   "execution_count": null,
   "id": "4e1ed2f4-9ecb-4bfa-9989-3cdc62bdbf54",
   "metadata": {},
   "outputs": [],
   "source": [
    "data = [3, 1, 4, 1, 5]\n",
    "sorted_data = sorted(data, reverse=True) \n",
    "# Результат: [5, 4, 3, 1, 1]\n",
    "\n",
    "items = [{'name': 'B', 'val': 2}, {'name': 'A', 'val': 1}]\n",
    "sorted_items = sorted(items, key=lambda x: x['val'], reverse=True)\n",
    "# Результат: [{'name': 'B', 'val': 2}, {'name': 'A', 'val': 1}]"
   ]
  },
  {
   "cell_type": "markdown",
   "id": "a60b96d9-de0c-4bf2-a8d9-bb3c489e10a9",
   "metadata": {},
   "source": [
    "- Хитрость для чисел (по убыванию): Можно использовать унарный минус в key (вместо reverse=True).\n",
    "\n",
    "**Внимание:** Это работает только для типов, поддерживающих унарный минус (числа)."
   ]
  },
  {
   "cell_type": "code",
   "execution_count": null,
   "id": "faedd739-c929-4611-bc37-6d502a7bf2f3",
   "metadata": {},
   "outputs": [],
   "source": [
    "data = [3, 1, 4, 1, 5]\n",
    "sorted_data = sorted(data, key=lambda x: -x) \n",
    "# Результат: [5, 4, 3, 1, 1] "
   ]
  },
  {
   "cell_type": "markdown",
   "id": "85873384-ddb0-4ec9-a5af-b0b575593f7c",
   "metadata": {},
   "source": [
    "### 2. Сортировка по нескольким критериям"
   ]
  },
  {
   "cell_type": "markdown",
   "id": "cefb8b94-2105-4caa-a0fe-48eea351ff40",
   "metadata": {},
   "source": [
    "- Функция key должна возвращать кортеж. Сортировка идет сначала по первому элементу кортежа, при равенстве — по второму, и т.д."
   ]
  },
  {
   "cell_type": "code",
   "execution_count": null,
   "id": "b333b845-d194-446c-8a9f-95d701443cad",
   "metadata": {},
   "outputs": [],
   "source": [
    "data = [('B', 2), ('A', 1), ('B', 1)] \n",
    "# Хотим: сначала по букве (возр), потом по числу (возр)\n",
    "sorted_data = sorted(data, key=lambda x: (x[0], x[1]))\n",
    "# Результат: [('A', 1), ('B', 1), ('B', 2)] "
   ]
  },
  {
   "cell_type": "markdown",
   "id": "7caf5474-cad3-4920-8494-f1d5663d2988",
   "metadata": {},
   "source": [
    "- Все критерии по возрастанию: Просто верни кортеж в key."
   ]
  },
  {
   "cell_type": "code",
   "execution_count": null,
   "id": "bb91196c-d4ff-48aa-b86a-93ede2b0fa75",
   "metadata": {},
   "outputs": [],
   "source": [
    "sorted_data = sorted(data, key=lambda x: (критерий_1(x), критерий_2(x)))"
   ]
  },
  {
   "cell_type": "markdown",
   "id": "a92f7124-4140-4225-86fe-addd3f6ceff4",
   "metadata": {},
   "source": [
    "- Все критерии по убыванию: Верни кортеж в key и добавь reverse=True."
   ]
  },
  {
   "cell_type": "code",
   "execution_count": null,
   "id": "a2a61eb3-3d62-494c-9d09-822dc1d62ee9",
   "metadata": {},
   "outputs": [],
   "source": [
    "# Хотим: сначала по букве (убыв), потом по числу (убыв)\n",
    "data = [('B', 2), ('A', 1), ('B', 1)] \n",
    "sorted_data = sorted(data, key=lambda x: (x[0], x[1]), reverse=True)\n",
    "# Результат: [('B', 2), ('B', 1), ('A', 1)] "
   ]
  },
  {
   "cell_type": "markdown",
   "id": "50eb5c76-e47f-4a57-87b5-d2c3a2fc5057",
   "metadata": {},
   "source": [
    "-   Смешанный порядок (самое интересное):\n",
    "    -   Если \"обратный\" критерий — число: Используй минус для него в кортеже key. "
   ]
  },
  {
   "cell_type": "code",
   "execution_count": null,
   "id": "03974260-f787-4e1b-b13c-b59f52d01291",
   "metadata": {},
   "outputs": [],
   "source": [
    "# Хотим: буква ПО ВОЗРАСТАНИЮ, число ПО УБЫВАНИЮ\n",
    "data = [('B', 2), ('A', 1), ('B', 1)] \n",
    "sorted_data = sorted(data, key=lambda x: (x[0], -x[1]))\n",
    "# Результат: [('A', 1), ('B', 2), ('B', 1)] "
   ]
  },
  {
   "cell_type": "markdown",
   "id": "53625db7-214d-44ca-a21a-a56fa31eb952",
   "metadata": {},
   "source": [
    "-    Если \"обратный\" критерий — НЕ число (строка и т.д.) ИЛИ общая стратегия: Используй двухэтапную сортировку, полагаясь на стабильность сортировки (элементы с одинаковым ключом сохраняют относительный порядок).\n",
    "1.    Сортируй по второстепенному ключу в его финальном порядке.\n",
    "2.    Сортируй результат из шага 1 по главному ключу в его финальном порядке."
   ]
  },
  {
   "cell_type": "code",
   "execution_count": null,
   "id": "f186056c-cc6a-48a7-bd38-69331c1af3b9",
   "metadata": {},
   "outputs": [],
   "source": [
    "# Хотим: число ПО ВОЗРАСТАНИЮ (главный), буква ПО УБЫВАНИЮ (второстепенный)\n",
    "data = [('B', 2), ('A', 1), ('C', 1)]\n",
    "\n",
    "# Шаг 1: Сортируем по второстепенному (буква, убывание)\n",
    "temp_list = sorted(data, key=lambda x: x[0], reverse=True) \n",
    "# Результат temp_list: [('C', 1), ('B', 2), ('A', 1)] \n",
    "\n",
    "# Шаг 2: Сортируем temp_list по главному (число, возрастание)\n",
    "final_list = sorted(temp_list, key=lambda x: x[1])\n",
    "# Результат final_list: [('C', 1), ('A', 1), ('B', 2)] \n",
    "# (Порядок 'C', 'A' для числа 1 сохранился из temp_list)"
   ]
  },
  {
   "cell_type": "markdown",
   "id": "7532f1d6-1534-4df2-989c-e73c10094e72",
   "metadata": {},
   "source": [
    "### Ключевые моменты:"
   ]
  },
  {
   "cell_type": "markdown",
   "id": "e7d07c74-f3d8-4d28-9c73-d6e5ffe197b3",
   "metadata": {},
   "source": [
    "1. key=lambda x: (главный, второстепенный, ...) — порядок в кортеже определяет приоритет.\n",
    "2. reverse=True — переворачивает порядок для всех ключей, заданных в key.\n",
    "3. -числовой_ключ — удобный способ перевернуть порядок только для чисел.\n",
    "4. Двухэтапная сортировка (сначала второстепенный ключ, потом главный) — универсальный способ для смешанного порядка, особенно когда нельзя использовать трюк с минусом (например, для строк). Работает из-за стабильности алгоритма сортировки Python."
   ]
  },
  {
   "cell_type": "markdown",
   "id": "9f95e32d-09e9-430b-9153-dc0d78c39601",
   "metadata": {},
   "source": [
    "# Сортировка словаря"
   ]
  },
  {
   "cell_type": "markdown",
   "id": "2ec59e1c-fbaa-47f9-a730-045801b292a4",
   "metadata": {},
   "source": [
    "### Сортировка по ключам словаря"
   ]
  },
  {
   "cell_type": "code",
   "execution_count": null,
   "id": "4267c4ee-87ad-4948-94fd-bcc602cf341d",
   "metadata": {},
   "outputs": [],
   "source": [
    "heroes = {\n",
    "    'Spider-Man': 80, 'Batman': 65,\n",
    "    'Superman': 85, 'Wonder Woman': 70,\n",
    "    'Flash': 70, 'Iron Man': 65,\n",
    "    'Thor': 90, 'Aquaman': 65,\n",
    "    'Captain America': 65, 'Hulk': 87,\n",
    "}\n",
    "print(sorted(heroes))"
   ]
  },
  {
   "cell_type": "markdown",
   "id": "bf15e696-2b7a-43fb-936a-e379df390fa9",
   "metadata": {},
   "source": [
    "### Сортировка по значениям словаря"
   ]
  },
  {
   "cell_type": "code",
   "execution_count": null,
   "id": "e832e31f-19df-4d5c-82a4-bbb3b9c0e722",
   "metadata": {},
   "outputs": [],
   "source": [
    "heroes = {\n",
    "    'Spider-Man': 80,\n",
    "    'Batman': 65,\n",
    "    'Superman': 85,\n",
    "    'Wonder Woman': 70,\n",
    "    'Flash': 70,\n",
    "    'Iron Man': 65,\n",
    "    'Thor': 90,\n",
    "    'Aquaman': 65,\n",
    "    'Captain America': 65,\n",
    "    'Hulk': 87,\n",
    "}\n",
    "\n",
    "for value in sorted(heroes.values()):\n",
    "    print(value)"
   ]
  },
  {
   "cell_type": "markdown",
   "id": "f1edf4b5-73b3-4c24-b434-d8c20ffb6336",
   "metadata": {},
   "source": [
    "### Сортировка, по ключу с выводом значения"
   ]
  },
  {
   "cell_type": "code",
   "execution_count": null,
   "id": "665efd87-cf34-43c6-ae52-852172d5dab8",
   "metadata": {},
   "outputs": [],
   "source": [
    "heroes = {\n",
    "    'Spider-Man': 80, 'Batman': 65,\n",
    "    'Superman': 85, 'Wonder Woman': 70,\n",
    "    'Flash': 70, 'Iron Man': 65,\n",
    "    'Thor': 90, 'Aquaman': 65,\n",
    "    'Captain America': 65, 'Hulk': 87,\n",
    "}\n",
    "\n",
    "for item in sorted(heroes.items()):\n",
    "    print(item)"
   ]
  },
  {
   "cell_type": "markdown",
   "id": "c375120f-eca2-45db-84ef-6f7028c0d814",
   "metadata": {},
   "source": [
    "### Сортировка, по значению с выводом ключа"
   ]
  },
  {
   "cell_type": "code",
   "execution_count": null,
   "id": "7af9b679-c89a-4a96-8bb7-896c7789ed51",
   "metadata": {},
   "outputs": [],
   "source": [
    "heroes = {\n",
    "    'Spider-Man': 80,\n",
    "    'Batman': 65,\n",
    "    'Superman': 85,\n",
    "    'Wonder Woman': 70,\n",
    "    'Flash': 70,\n",
    "    'Iron Man': 65,\n",
    "    'Thor': 90,\n",
    "    'Aquaman': 65,\n",
    "    'Captain America': 65,\n",
    "    'Hulk': 87,\n",
    "}\n",
    "\n",
    "for key, value in sorted(heroes.items(), \n",
    "                         key=lambda item: item[1]):\n",
    "    print(key, value)"
   ]
  },
  {
   "cell_type": "markdown",
   "id": "6a18a117-7443-4d38-83c5-dcd6af00c1b9",
   "metadata": {},
   "source": [
    "- Сортировка по значению и при одинаковых значениях сортировка ключей по алфавиту"
   ]
  },
  {
   "cell_type": "code",
   "execution_count": null,
   "id": "cbd6a73c-f8bc-4cb8-b830-4b5d34cde616",
   "metadata": {},
   "outputs": [],
   "source": [
    "heroes = {\n",
    "    'Spider-Man': 80,\n",
    "    'Batman': 65,\n",
    "    'Superman': 85,\n",
    "    'Wonder Woman': 70,\n",
    "    'Flash': 70,\n",
    "    'Iron Man': 65,\n",
    "    'Thor': 90,\n",
    "    'Aquaman': 65,\n",
    "    'Captain America': 65,\n",
    "    'Hulk': 87,\n",
    "}\n",
    "\n",
    "for k, v in sorted(heroes.items(),\n",
    "                   key=lambda item: (item[1], item[0])):\n",
    "    print(k, v)"
   ]
  },
  {
   "cell_type": "markdown",
   "id": "3a7a71e2-d8b3-4bf3-a9b5-3bf11807ac5b",
   "metadata": {},
   "source": [
    "- Элегантный способ"
   ]
  },
  {
   "cell_type": "code",
   "execution_count": null,
   "id": "e7b8f7d4-bc55-4cfd-8221-57545a5183de",
   "metadata": {},
   "outputs": [],
   "source": [
    "for name in sorted(heroes, key=heroes.get):\n",
    "    print(name, heroes[name])"
   ]
  },
  {
   "cell_type": "markdown",
   "id": "9439060f-3f20-421b-ad54-7a4d75ff29c9",
   "metadata": {},
   "source": [
    "# Интроспекция функций"
   ]
  },
  {
   "cell_type": "markdown",
   "id": "4dd034b9-9f41-4fcd-9d3a-ae2b038350ec",
   "metadata": {},
   "source": [
    "Интроспекция — это когда программа во время своей работы может узнавать информацию о себе самой."
   ]
  },
  {
   "cell_type": "markdown",
   "id": "5793b0e2-7951-4cb3-b45c-324a1866d1b2",
   "metadata": {},
   "source": [
    "В python любое значение является объектом, и мы можем исследовать эти объекты. Сам язык предоставляет нам несколько встроенных функций и модулей, которые нам помогут в анализе объекта во время выполнения программы, а именно:\n",
    "\n",
    "    ✔️ функция dir\n",
    "\n",
    "    ✔️ объект type\n",
    "\n",
    "    ✔️ функция isinstance\n",
    "\n",
    "    ✔️ функция id\n",
    "\n",
    "    ✔️ модуль inspect"
   ]
  },
  {
   "cell_type": "code",
   "execution_count": null,
   "id": "1fcb4b11-d67a-4c11-8935-11127c77a58d",
   "metadata": {},
   "outputs": [],
   "source": [
    "Функция dir"
   ]
  },
  {
   "cell_type": "markdown",
   "id": "b642cbca-92a0-41f6-a682-37b2f7e1629c",
   "metadata": {},
   "source": [
    "- Функция dir — встроенная функция, которая принимая объект в качестве аргумента и возвращает список допустимых атрибутов и методов для этого объекта."
   ]
  },
  {
   "cell_type": "code",
   "execution_count": null,
   "id": "9023a0ec-1742-4ba2-b502-2e9bb748f29d",
   "metadata": {},
   "outputs": [],
   "source": [
    "my_list = [1, 2, 3]\n",
    "print(dir(my_list))"
   ]
  },
  {
   "cell_type": "markdown",
   "id": "507edfef-64c6-468d-8182-632572040ff2",
   "metadata": {},
   "source": [
    "## Атрибуты и методы функции"
   ]
  },
  {
   "cell_type": "markdown",
   "id": "eb9f3b76-2426-47f2-a01c-65873d24de0c",
   "metadata": {},
   "source": [
    "**Методы** — это просто функции, привязанные (приклеенные) к объекту."
   ]
  },
  {
   "cell_type": "markdown",
   "id": "116f9ebe-95d0-4169-bb43-b593909dc68e",
   "metadata": {},
   "source": [
    "text = \"hello\"\n",
    "print(text.upper())  # метод строки upper() → HELLO"
   ]
  },
  {
   "cell_type": "code",
   "execution_count": null,
   "id": "8cb222fe-c5b1-4612-9edc-a5d9cb9d3c1e",
   "metadata": {},
   "outputs": [],
   "source": []
  },
  {
   "cell_type": "markdown",
   "id": "1e520be2-c9db-4d40-8062-8226b8fd94c3",
   "metadata": {},
   "source": [
    "**Атрибут** — это переменная, связанная с объектом. Атрибут — это просто данные, прикреплённые к объекту."
   ]
  },
  {
   "cell_type": "code",
   "execution_count": null,
   "id": "7ff79740-a1c7-4db0-8c1a-f9adcac1fe43",
   "metadata": {},
   "outputs": [],
   "source": [
    "def get_product(a: int, b: int) -> int:\n",
    "    return a * b\n",
    "\n",
    "print(dir(get_product))"
   ]
  },
  {
   "cell_type": "markdown",
   "id": "755e2a3e-411b-4ccd-a9a1-9882145f54fc",
   "metadata": {},
   "source": [
    "['__annotations__', '__builtins__', '__call__', '__class__', '__closure__', '__code__', '__defaults__', '__delattr__', '__dict__', '__dir__', '__doc__', '__eq__', '__format__', '__ge__', '__get__', '__getattribute__', '__getstate__', '__globals__', '__gt__', '__hash__', '__init__', '__init_subclass__', '__kwdefaults__', '__le__', '__lt__', '__module__', '__name__', '__ne__', '__new__', '__qualname__', '__reduce__', '__reduce_ex__', '__repr__', '__setattr__', '__sizeof__', '__str__', '__subclasshook__']"
   ]
  },
  {
   "cell_type": "markdown",
   "id": "779c408c-ab02-40d6-a881-a303b661865e",
   "metadata": {},
   "source": [
    "### Создание атрибутов для функции"
   ]
  },
  {
   "cell_type": "markdown",
   "id": "34206790-7fb2-4071-85fa-0197f2df6321",
   "metadata": {},
   "source": [
    "имя_функции.имя_атрибута = значение"
   ]
  },
  {
   "cell_type": "code",
   "execution_count": null,
   "id": "e4680f2d-32c1-42b6-9ef7-ca4b6df01592",
   "metadata": {},
   "outputs": [],
   "source": [
    "# Пример создания двух атрибутов category и sub_category для функции get_product.\n",
    "\n",
    "def get_product(a: int, b: int) -> int:\n",
    "    return a * b\n",
    "\n",
    "\n",
    "get_product.category = 'math'\n",
    "get_product.sub_category = 'arithmetic operation\n",
    "\n",
    "print(get_product.category)\n",
    "print(get_product.sub_category)\n",
    "\n",
    "print(dir(get_product)) # Созданные атрибуты будут отображаться при помощи функции dir"
   ]
  },
  {
   "cell_type": "markdown",
   "id": "8eeecb35-0ef8-47bd-bd5f-1117f78db604",
   "metadata": {},
   "source": [
    "### Как создать атрибут основанный на имени переменной?\n",
    "\n",
    "### setattr(obj, name_attr, value)"
   ]
  },
  {
   "cell_type": "code",
   "execution_count": null,
   "id": "31644ac7-56af-43e3-a2f2-6a4e2683d076",
   "metadata": {},
   "outputs": [],
   "source": [
    "# Функция setattr установит переданному объекту по атрибуту name_attr новое значение value\n",
    "\n",
    "def get_product(a: int, b: int) -> int:\n",
    "    return a * b\n",
    "\n",
    "name = 'category'\n",
    "setattr(get_product, name, 'math') # создается атрибут category со значением math\n",
    "print(dir(get_product))\n",
    "print(get_product.category)"
   ]
  },
  {
   "cell_type": "markdown",
   "id": "ae97a116-b481-409b-9169-ba9993f6ca69",
   "metadata": {},
   "source": [
    "### Обращение к атрибутам"
   ]
  },
  {
   "cell_type": "markdown",
   "id": "51f03f29-8422-455f-bb2a-e4b8d536b533",
   "metadata": {},
   "source": [
    "- Первый способ"
   ]
  },
  {
   "cell_type": "code",
   "execution_count": null,
   "id": "9005f3af-89e1-4086-8e9a-480006365844",
   "metadata": {},
   "outputs": [],
   "source": [
    "print(get_product.category)  # получает доступ к атрибуту category\n",
    "print(get_product.sub_category)  # получает доступ к атрибуту sub_category\n",
    "print(get_product.__doc__)  # получает доступ к атрибуту __doc__\n",
    "print(get_product.__annotations__)  # получает доступ к атрибуту __annotations__"
   ]
  },
  {
   "cell_type": "markdown",
   "id": "e2b96b6d-bf2d-470c-9866-a29cecde7aba",
   "metadata": {},
   "source": [
    "- Второй способ "
   ]
  },
  {
   "cell_type": "markdown",
   "id": "84fc1adc-4e09-479d-aa8e-752ccac28a85",
   "metadata": {},
   "source": [
    "### getattr(obj, name_attr)"
   ]
  },
  {
   "cell_type": "code",
   "execution_count": null,
   "id": "250b4a2e-d07b-4ccc-a689-77b7ce58e8fa",
   "metadata": {},
   "outputs": [],
   "source": [
    "def get_product(a: int, b: int) -> int:\n",
    "    return a * b\n",
    "\n",
    "\n",
    "setattr(get_product, 'category', 'math')  # создается атрибут category\n",
    "get_product.sub_category = 'arithmetic operation'  # создается атрибут sub_category\n",
    "\n",
    "print(getattr(get_product, 'category'))  # получает доступ к атрибуту category\n",
    "print(getattr(get_product, 'sub_category'))  # получает доступ к атрибуту sub_category\n",
    "print(getattr(get_product, '__doc__'))  # получает доступ к атрибуту __doc__\n",
    "print(getattr(get_product, '__annotations__')) # получает доступ к атрибуту __annotations__\n"
   ]
  },
  {
   "cell_type": "markdown",
   "id": "75607866-9da1-43c6-b25b-f7a7402a8bd3",
   "metadata": {},
   "source": [
    "getattr(obj, name_attr, default_value)\n",
    "\n",
    "default_value - третий необязательный параметр. Это значение по умолчанию, которое будет возвращать функция getattr в случае, если не будет найден атрибут. "
   ]
  },
  {
   "cell_type": "code",
   "execution_count": null,
   "id": "639aac14-46e6-402b-9f4a-aea308716299",
   "metadata": {},
   "outputs": [],
   "source": [
    "print(getattr(get_product, 'my_attribure', 1000)) # если не будет найден атрибут, \n",
    "\n",
    "Вернет 1000"
   ]
  },
  {
   "cell_type": "markdown",
   "id": "9b41bd28-3376-44ea-b814-6e662f951989",
   "metadata": {},
   "source": [
    "### Функция hasattr"
   ]
  },
  {
   "cell_type": "markdown",
   "id": "6e66bdd3-b9ad-47cf-860c-2c89a9f6b2a6",
   "metadata": {},
   "source": [
    "Встроенная функция hasattr позволяет проверить наличие атрибута у объекта. Формат вызова следующий"
   ]
  },
  {
   "cell_type": "code",
   "execution_count": null,
   "id": "4a87b720-097d-48f3-94a0-9303a646c3ea",
   "metadata": {},
   "outputs": [],
   "source": [
    "hasattr(obj, name_attribute) -> bool"
   ]
  },
  {
   "cell_type": "code",
   "execution_count": null,
   "id": "dc5fae38-978e-46e5-84cd-ce70dd17a44b",
   "metadata": {},
   "outputs": [],
   "source": [
    "def print_goods(lst):\n",
    "    pass\n",
    "\n",
    "\n",
    "print_goods.is_working = False\n",
    "\n",
    "print(hasattr(print_goods, 'is_working'))  # True\n",
    "print(hasattr(print_goods, 'status'))  # False\n",
    "print(hasattr(print_goods, '__doc__'))  # True\n",
    "\n",
    "print(hasattr(list, 'append'))  # True\n",
    "print(hasattr(list, 'lower'))  # False"
   ]
  },
  {
   "cell_type": "markdown",
   "id": "94501507-5016-45f0-a049-22dcf6bc541a",
   "metadata": {},
   "source": [
    "### Атрибут \\__name__"
   ]
  },
  {
   "cell_type": "markdown",
   "id": "f088e7fd-ba47-4e00-9ae6-29837e68f185",
   "metadata": {},
   "source": [
    "Атрибут \\__name__ содержит имя функции:"
   ]
  },
  {
   "cell_type": "code",
   "execution_count": null,
   "id": "c3683c77-181a-44f6-8b9d-83ab1c22926f",
   "metadata": {},
   "outputs": [],
   "source": [
    "def get_product(a: int, b: int) -> int:\n",
    "    return a * b\n",
    "\n",
    "print(get_product.__name__)"
   ]
  },
  {
   "cell_type": "markdown",
   "id": "8d528753-03db-4f05-8890-dd4ae7313e05",
   "metadata": {},
   "source": [
    "### Атрибуты \\__defaults__ и __kwdefaults__"
   ]
  },
  {
   "cell_type": "markdown",
   "id": "a90fc571-8845-4f88-a940-50ac2daec9be",
   "metadata": {},
   "source": [
    "Атрибут \\__defaults__ представляет собой кортеж, содержащий все значения позиционных параметров по умолчанию. "
   ]
  },
  {
   "cell_type": "code",
   "execution_count": null,
   "id": "6e5f4472-5310-4327-a405-817e9e9e7910",
   "metadata": {},
   "outputs": [],
   "source": [
    "def get_product(a: int, b: int) -> int:\n",
    "    return a * b\n",
    "\n",
    "\n",
    "print(get_product.__defaults__) # None"
   ]
  },
  {
   "cell_type": "code",
   "execution_count": null,
   "id": "b3ab2df3-d79a-4e64-8c99-3589adce1490",
   "metadata": {},
   "outputs": [],
   "source": [
    "def get_product(a: int = 6, b: int = 3) -> int:\n",
    "    return a + b\n",
    "\n",
    "\n",
    "print(get_product.__defaults__) # (6, 3)"
   ]
  },
  {
   "cell_type": "markdown",
   "id": "88b47311-a68e-41ad-8f88-4ca3187782d9",
   "metadata": {},
   "source": [
    "Атрибут \\__kwdefaults__ отображает значения по умолчанию для именованных параметров."
   ]
  },
  {
   "cell_type": "code",
   "execution_count": null,
   "id": "cdab1d94-ab50-4e10-9cde-b7edf993ce2e",
   "metadata": {},
   "outputs": [],
   "source": [
    "def my_func(a, b=2, c=3, *, kw1, kw2=4, **kwargs):\n",
    "    pass\n",
    "\n",
    "print(my_func.__name__) # my_func\n",
    "print(my_func.__defaults__) # (2, 3)\n",
    "print(my_func.__kwdefaults__)# {'kw2': 4}"
   ]
  },
  {
   "cell_type": "markdown",
   "id": "679973ad-3b37-4ddc-b92b-6a5172ef05cc",
   "metadata": {},
   "source": [
    "### Атрибут \\__code__ "
   ]
  },
  {
   "cell_type": "code",
   "execution_count": null,
   "id": "918e3729-ffc4-4087-bde1-c2f1e0d79483",
   "metadata": {},
   "outputs": [],
   "source": [
    "def my_func(a, b=2, c=3, *, kw1, kw2=4, **kwargs):\n",
    "    pass\n",
    "\n",
    "print(my_func.__code__)\n",
    "\n",
    "# <code object my_func at 0x7f7e85b07260, file \"/tmp/sessions/8b71b6aa542954f7/main.py\", line 1>"
   ]
  },
  {
   "cell_type": "markdown",
   "id": "82d4bced-583a-4203-ab16-8f8abc49ccf9",
   "metadata": {},
   "source": [
    "- У этого объекта code можно также взглянуть на состав атрибутов при помощи функции dir"
   ]
  },
  {
   "cell_type": "code",
   "execution_count": null,
   "id": "8518d926-b05e-4fe6-af97-7503776440da",
   "metadata": {},
   "outputs": [],
   "source": [
    "def my_func(a, b=2, c=3, *, kw1, kw2=4, **kwargs):\n",
    "    pass\n",
    "\n",
    "print(dir(my_func.__code__))"
   ]
  },
  {
   "cell_type": "markdown",
   "id": "96f501bf-991b-469b-bb57-47780911d890",
   "metadata": {},
   "source": [
    "['__class__', '__delattr__', '__dir__', '__doc__', '__eq__', '__format__', '__ge__', '__getattribute__', '__getstate__', '__gt__', '__hash__', '__init__', '__init_subclass__', '__le__', '__lt__', '__ne__', '__new__', '__reduce__', '__reduce_ex__', '__repr__', '__setattr__', '__sizeof__', '__str__', '__subclasshook__', '_co_code_adaptive', '_varname_from_oparg', 'co_argcount', 'co_cellvars', 'co_code', 'co_consts', 'co_exceptiontable', 'co_filename', 'co_firstlineno', 'co_flags', 'co_freevars', 'co_kwonlyargcount', 'co_lines', 'co_linetable', 'co_lnotab', 'co_name', 'co_names', 'co_nlocals', 'co_positions', 'co_posonlyargcount', 'co_qualname', 'co_stacksize', 'co_varnames', 'replace']"
   ]
  },
  {
   "cell_type": "markdown",
   "id": "b0a39ee8-61df-4fce-8c02-756226a81f21",
   "metadata": {},
   "source": [
    "В конце списка есть:\n",
    "\n",
    "    ✔️  co_varnames  хранит информацию об именах параметров функции и о локальных переменных в виде кортежа\n",
    "\n",
    "    ✔️  co_argcount  возвращает количество аргументов (за вычетом именованных аргументов,  *args и **kwargs)"
   ]
  },
  {
   "cell_type": "code",
   "execution_count": null,
   "id": "763a74d0-4c8a-4f87-859f-8d95a15278d8",
   "metadata": {},
   "outputs": [],
   "source": [
    "def my_func(a, b=2, c=3, *, kw1, kw2=4, **kwargs):\n",
    "    my_local = None\n",
    "\n",
    "print(my_func.__code__.co_varnames) # ('a', 'b', 'c', 'kw1', 'kw2', 'kwargs', 'my_local')\n",
    "print(my_func.__code__.co_argcount) # Печатает 3"
   ]
  },
  {
   "cell_type": "markdown",
   "id": "80da58ff-c0d9-4762-98ed-a0ec563a56a5",
   "metadata": {},
   "source": [
    "# Объект type"
   ]
  },
  {
   "cell_type": "markdown",
   "id": "2783ba8e-7887-4ec7-8806-19d04e841251",
   "metadata": {},
   "source": [
    "Но на самом деле type — это не функция, а класс (и объект одновременно), который:\n",
    "\n",
    "- можно вызывать, как функцию (поэтому многим кажется, что это функция),\n",
    "\n",
    "- является метаклассом — то есть классом, который создаёт другие классы,\n",
    "\n",
    "- сам является экземпляром самого себя (да, это не баг, это фича)."
   ]
  },
  {
   "cell_type": "code",
   "execution_count": null,
   "id": "9c033b9e-e956-48a7-91dc-aabc185dbd8e",
   "metadata": {},
   "outputs": [],
   "source": [
    "print(type(10))        # <class 'int'>\n",
    "print(type([]))        # <class 'list'>\n",
    "print(type(print))     # <class 'builtin_function_or_method'>\n",
    "print(type(type))      # <class 'type'> ← сюрприз!\n",
    "\n",
    "print(type(int))       # <class 'type'> — int это класс, созданный классом type\n",
    "print(type(dict))      # <class 'type'> — тоже самое"
   ]
  },
  {
   "cell_type": "markdown",
   "id": "40677ff9-8a5d-4527-8f69-4111e3d87d57",
   "metadata": {},
   "source": [
    "# функция isinstance"
   ]
  },
  {
   "cell_type": "markdown",
   "id": "878737f6-efdf-4fc5-864d-f5dbb6b89e23",
   "metadata": {},
   "source": [
    "Встроенная функция isinstance позволяет проверить, принадлежит ли объект к определенному типу данных или нет. "
   ]
  },
  {
   "cell_type": "code",
   "execution_count": null,
   "id": "b24457ce-d356-4fef-b183-fb3c91842ab9",
   "metadata": {},
   "outputs": [],
   "source": [
    "isinstance(объект, тип_данных)"
   ]
  },
  {
   "cell_type": "code",
   "execution_count": null,
   "id": "ec55aa25-dcc1-46ce-8bcf-617aea446f8b",
   "metadata": {},
   "outputs": [],
   "source": [
    "print(isinstance(100, int))  # True\n",
    "print(isinstance(100, float))  # False\n",
    "print(isinstance(True, bool))  # True\n",
    "\n",
    "print(isinstance([1, 2, 3], list))  # True\n",
    "print(isinstance([1, 2, 3], tuple))  # False\n",
    "print(isinstance((1, 2, 3), tuple))  # True\n",
    "print(isinstance((1, 2, 3), set))  # False"
   ]
  },
  {
   "cell_type": "markdown",
   "id": "63326d89-6484-4da8-9125-8251d9e94c2c",
   "metadata": {},
   "source": [
    "Функцию isinstance можно использовать для проверки на принадлежность сразу к нескольким типам данных. Для этого нужно использовать следующий синтаксис:"
   ]
  },
  {
   "cell_type": "code",
   "execution_count": null,
   "id": "406ee365-74b5-4695-908a-a9a14cfd5eff",
   "metadata": {},
   "outputs": [],
   "source": [
    "isinstance(объект, (тип_данных1, тип_данных2, ..., тип_данныхN))"
   ]
  },
  {
   "cell_type": "code",
   "execution_count": null,
   "id": "0de73ac6-c46c-40f9-ae80-d461a58da6cb",
   "metadata": {},
   "outputs": [],
   "source": [
    "print(isinstance([1, 2, 3], (tuple, list, set)))  # True\n",
    "\n",
    "# Данная строка заменяет собой следующую составную проверку\n",
    "\n",
    "print(isinstance([1, 2, 3], tuple) or \n",
    "      isinstance([1, 2, 3], list) or \n",
    "      isinstance([1, 2, 3], set))"
   ]
  },
  {
   "cell_type": "markdown",
   "id": "8d257a14-b78c-4421-8a6c-409f386a7d07",
   "metadata": {},
   "source": [
    "### Применение type и isinstance"
   ]
  },
  {
   "cell_type": "markdown",
   "id": "b6c20d59-e3b0-4ebc-9671-534a3a51f4bf",
   "metadata": {},
   "source": [
    "Цель функций type и isinstance определить тип данных. Такого рода проверки могут пригодиться для фильтрации коллекции, с целью определения возможных действий."
   ]
  },
  {
   "cell_type": "code",
   "execution_count": null,
   "id": "2e6e1ac0-1a60-40ff-8584-2f84bb9367c6",
   "metadata": {},
   "outputs": [],
   "source": [
    "lst = [5, 3, 'hello', [3, 4], ' world', [5], 10.5]\n",
    "total = 0\n",
    "for value in lst:\n",
    "    if isinstance(value, (int, float)):\n",
    "        total += value\n",
    "print(total)\n",
    "\n",
    "\n",
    "lst = [5, 3, 'hello', [3, 4], ' world', [5], 10.5]\n",
    "total = 0\n",
    "for value in lst:\n",
    "    if type(value) in [int, float]:\n",
    "        total += value\n",
    "print(total)"
   ]
  },
  {
   "cell_type": "markdown",
   "id": "82dcb570-d43f-498c-8fac-c85916b4a425",
   "metadata": {},
   "source": [
    "### Различия между  type и isinstance"
   ]
  },
  {
   "cell_type": "markdown",
   "id": "6cc00001-917a-4723-a53b-b4ef6fd4df8e",
   "metadata": {},
   "source": [
    "Так вот, объект  type при своей работе не учитывает наследование, в то время как isinstance() это делает."
   ]
  },
  {
   "cell_type": "code",
   "execution_count": null,
   "id": "49fddbe8-3c07-4049-927f-b9d0b33cc3a5",
   "metadata": {},
   "outputs": [],
   "source": [
    "print(type(True), type(True) == bool)  # <class 'bool'> True\n",
    "print(type(True), type(True) == int)  # <class 'bool'> False\n",
    "\n",
    "print(isinstance(True, bool))  # True\n",
    "print(isinstance(True, int))  # True"
   ]
  },
  {
   "cell_type": "markdown",
   "id": "03a9fbc9-a640-47ff-b156-936614094fab",
   "metadata": {},
   "source": [
    "# Вложенные функции"
   ]
  },
  {
   "cell_type": "markdown",
   "id": "85688138-f2a0-41ad-b7e9-f64c1378a4a0",
   "metadata": {},
   "source": [
    "Внутренняя функция (Inner function), также известная как вложенная (nested function), — это функция, которая определена внутри другой функций."
   ]
  },
  {
   "cell_type": "code",
   "execution_count": null,
   "id": "abbac0d7-9a47-470d-8c87-638ad165634d",
   "metadata": {},
   "outputs": [],
   "source": [
    "def print_colors() -> None:\n",
    "\n",
    "    def print_red() -> None:\n",
    "        r = 'red'\n",
    "        print(r)\n",
    "\n",
    "    def print_blue() -> None:\n",
    "        b = 'blue'\n",
    "        print(b)\n",
    "\n",
    "    print_red()\n",
    "    print_blue()\n",
    "    print(r, b) # переменные r и b не доступны\n",
    "\n",
    "print_colors()"
   ]
  },
  {
   "cell_type": "markdown",
   "id": "4003fb48-4184-466d-9985-547e820e082d",
   "metadata": {},
   "source": [
    "### Доступ к переменным внешней функции"
   ]
  },
  {
   "cell_type": "code",
   "execution_count": null,
   "id": "3539829a-276d-46d8-8660-bf9ebff9d26a",
   "metadata": {},
   "outputs": [],
   "source": [
    "g = 'grey'\n",
    "\n",
    "def print_colors() -> None:\n",
    "    y = 'yellow'\n",
    "    g = 'green'\n",
    "\n",
    "    def print_red() -> None:\n",
    "        nonlocal y\n",
    "        r = 'red'\n",
    "        print(r, y, g)\n",
    "        y = 'Not yellow anymore'\n",
    "\n",
    "    def print_blue() -> None:\n",
    "        b = 'blue'\n",
    "        print(b, y, g)\n",
    "\n",
    "    print_red()\n",
    "    print_blue()\n",
    "\n",
    "print_colors()\n",
    "\n",
    "\n",
    "# В print_red мы вывели переменную y, а при помощи nonlocal мы изменили дальнейшее её значение, что мы и видим по результату вывода print_blue."
   ]
  },
  {
   "cell_type": "markdown",
   "id": "94c45eb3-7025-463d-8f8c-d41cfa2a6283",
   "metadata": {},
   "source": [
    "### Доступ к параметрам внешней функции"
   ]
  },
  {
   "cell_type": "code",
   "execution_count": null,
   "id": "182bc7e2-a209-45b0-a742-46970a8c76b3",
   "metadata": {},
   "outputs": [],
   "source": [
    "def print_colors(param = 'r') -> None:\n",
    "\n",
    "    def print_red() -> None:\n",
    "        r = 'red'\n",
    "        print(r)\n",
    "\n",
    "    def print_blue() -> None:\n",
    "        b = 'blue'\n",
    "        print(b)\n",
    "\n",
    "    if param == 'r':\n",
    "        print_red()\n",
    "    elif param == 'b':\n",
    "        print_blue()\n",
    "    else:\n",
    "        print('I do not know this color')\n",
    "\n",
    "print_colors()\n",
    "print_colors('b')\n",
    "print_colors('y')"
   ]
  },
  {
   "cell_type": "markdown",
   "id": "55976009-2b92-4b88-b835-64223c9961ea",
   "metadata": {},
   "source": [
    "# Функции высшего порядка\n",
    "\n",
    "Функция высшего порядка (аббревиатура ФВП) — это функция, которая может принимать другие функции в качестве аргументов и/или возвращать функции в качестве выходных данных."
   ]
  },
  {
   "cell_type": "markdown",
   "id": "03540714-49db-412d-b92d-d2d042a61a2d",
   "metadata": {},
   "source": [
    "### Практические примеры реализации ФВП"
   ]
  },
  {
   "cell_type": "code",
   "execution_count": null,
   "id": "52f48d51-9e69-4c07-9752-fc8fa4fd1e32",
   "metadata": {},
   "outputs": [],
   "source": [
    "def get_square(x):\n",
    "    return x * x\n",
    "\n",
    "numbers = [1, 2, 3, 4, 5]\n",
    "def calculate(nums):\n",
    "    squares = []\n",
    "    for num in nums:\n",
    "        squares.append(get_square(num))\n",
    "    return squares\n",
    "\n",
    "print(calculate(numbers))"
   ]
  },
  {
   "cell_type": "code",
   "execution_count": null,
   "id": "fdf5a65b-8703-4a07-9a0d-94d8577653fd",
   "metadata": {},
   "outputs": [],
   "source": [
    "def get_square(x):\n",
    "    return x * x\n",
    "\n",
    "\n",
    "def get_cube(x):\n",
    "    return x * x * x\n",
    "\n",
    "\n",
    "def calculate(func, nums):\n",
    "    return [func(num) for num in nums]\n",
    "\n",
    "\n",
    "numbers = [1, 2, 3, 4, 5]\n",
    "print(calculate(get_square, numbers))\n",
    "print(calculate(get_cube, numbers))"
   ]
  },
  {
   "cell_type": "code",
   "execution_count": null,
   "id": "886e21f9-4b12-4881-9c92-3d73b676dafc",
   "metadata": {},
   "outputs": [],
   "source": [
    "def get_user_data_handler(user_role):\n",
    "    def admin_user_data_handler():\n",
    "        print('Обработка данных для администраторов')\n",
    "\n",
    "    def regular_user_data_handler():\n",
    "        print('Обработка данных для обычных пользователей')\n",
    "\n",
    "    def guest_user_data_handler():\n",
    "        print('Обработка данных для обычных гостей')\n",
    "\n",
    "    # Возвращаем соответствующую обработчику функцию в зависимости от роли пользователя\n",
    "    if user_role == \"admin\":\n",
    "        return admin_user_data_handler\n",
    "    elif user_role == \"regular\":\n",
    "        return regular_user_data_handler\n",
    "    return guest_user_data_handler\n",
    "\n",
    "\n",
    "# Запрашиваем роль пользователя\n",
    "user_role = input(\"Введите роль пользователя (admin, regular, guest): \")\n",
    "\n",
    "# Получаем функцию-обработчик для данной роли\n",
    "handler = get_user_data_handler(user_role)\n",
    "\n",
    "# Вызываем функцию-обработчик\n",
    "handler()"
   ]
  },
  {
   "cell_type": "markdown",
   "id": "9468edd3-2bc1-4428-abe5-3d300b6e626c",
   "metadata": {},
   "source": [
    "### Аннотации ФВП"
   ]
  },
  {
   "cell_type": "code",
   "execution_count": null,
   "id": "c6b16853-070a-4ec8-a122-6e3b019703d2",
   "metadata": {},
   "outputs": [],
   "source": [
    "def get_math_func(operation: str = \"+\"):\n",
    "    def add(a: int, b: int):\n",
    "        return a + b\n",
    "\n",
    "    def subtract(a: int, b: int):\n",
    "        return a - b\n",
    "\n",
    "    if operation == \"+\":\n",
    "        return add\n",
    "    elif operation == \"-\":\n",
    "        return subtract"
   ]
  },
  {
   "cell_type": "markdown",
   "id": "0192394b-bb88-44bb-80e9-46f9eba0ae7d",
   "metadata": {},
   "source": [
    "Для того, чтобы аннотировать функцию используется объект Callable из модуля typing:"
   ]
  },
  {
   "cell_type": "code",
   "execution_count": null,
   "id": "ca09876e-e64e-4d5f-ad28-767e71fab63f",
   "metadata": {},
   "outputs": [],
   "source": [
    "from typing import Callable"
   ]
  },
  {
   "cell_type": "markdown",
   "id": "eb7791c5-5245-49ca-bcad-21d417904c74",
   "metadata": {},
   "source": [
    "Синтаксис описания объекта Callable выглядит следующим образом:\n",
    "\n",
    "Callable[[x], Y]\n",
    "\n",
    "x - список аргументов функции,\n",
    "Y - тип возвращаемого значения."
   ]
  },
  {
   "cell_type": "code",
   "execution_count": null,
   "id": "f7129766-98d3-449b-a963-b4f0485b872a",
   "metadata": {},
   "outputs": [],
   "source": [
    "from typing import Callable\n",
    "\n",
    "def get_math_func(operation: str) -> Callable[[int, int], int]:\n",
    "    def add(a: int, b: int):\n",
    "        return a + b\n",
    "\n",
    "    def subtract(a: int, b: int):\n",
    "        return a - b\n",
    "\n",
    "    if operation == \"+\":\n",
    "        return add\n",
    "    elif operation == \"-\":\n",
    "        return subtract\n",
    "\n",
    "print(get_math_func('+')(3, 4))\n",
    "print(get_math_func('-')(3, 4))\n",
    "\n"
   ]
  },
  {
   "cell_type": "markdown",
   "id": "5e9d311b-4ce5-4b6e-9451-f2488c314718",
   "metadata": {},
   "source": [
    "Результатом ее работы будет либо функция add, либо subtract. Что мы знаем об этих функциях? Они обе имеют два целочисленных параметра и возвращают в качестве результата также целое число."
   ]
  },
  {
   "cell_type": "code",
   "execution_count": null,
   "id": "46835a72-8ea6-4a97-b9b8-6dd96dc2a47d",
   "metadata": {},
   "outputs": [],
   "source": [
    "from typing import Callable\n",
    "\n",
    "def get_speak_function() -> Callable[[str], str]:\n",
    "    def say_upper(text):\n",
    "        return text.title() + '!'\n",
    "\n",
    "    return say_upper"
   ]
  },
  {
   "cell_type": "markdown",
   "id": "809e8b76-9ade-41b4-9d41-ecae0714d6ba",
   "metadata": {},
   "source": [
    "Здесь запись \n",
    "\n",
    "    Callable[[str], str]\n",
    "говорит, что функция имеет один строковый параметр и возвращает строку в качестве результата.\n",
    "\n",
    "Если в качестве списка аргументов указано многоточие ..., например так\n",
    "\n",
    "    Callable[..., str]\n",
    "то это указывает на то, что вызываемый объект с любым произвольным списком параметров был бы приемлемым."
   ]
  },
  {
   "cell_type": "markdown",
   "id": "4d4a7758-f8ea-40f2-91ee-df3e6f657856",
   "metadata": {},
   "source": [
    "# Замыкания (Closure)"
   ]
  },
  {
   "cell_type": "markdown",
   "id": "ec1a0b7f-8ab7-4bf1-a852-8c0db31307df",
   "metadata": {},
   "source": [
    "Замыкание (closure) — функция, которая находится внутри другой функции и ссылается на переменные объявленные в теле объемлющей функции (нелокальные переменные)."
   ]
  },
  {
   "cell_type": "markdown",
   "id": "c98a49e3-7063-4c6e-a0c9-92f3f70cb6bd",
   "metadata": {},
   "source": [
    "Локальная область видимости создается в момент вызова функции и исчезает, как только функция завершит свою работу. Все локальные переменные функции бесследно исчезают. Все это верно, но, как всегда, есть исключения. В python таким исключением является замыкание, оно позволяет за счет объемлющей области видимости упаковать воедино объект внутренней функции и состояние всех свободных переменных и вернуть все это великолепие в качестве результата. «Как такое возможно?» - спросите вы. Ответ прост: ни один объект в python не уничтожается, пока на него хранится ссылка."
   ]
  },
  {
   "cell_type": "markdown",
   "id": "60c789f5-252b-4c76-a836-fc98f2779ab8",
   "metadata": {},
   "source": [
    "Три шага, которые вам необходимо сделать, чтобы определить замыкание:\n",
    "\n",
    "    ➖ Создайте внутреннюю функцию.\n",
    "\n",
    "    ➖ Определите переменные в объемлющей функции.\n",
    "\n",
    "    ➖ Верните внутреннюю функцию в качестве результата без вызова.\n"
   ]
  },
  {
   "cell_type": "markdown",
   "id": "572eb1c1-c309-477a-a30d-2093aa3a634a",
   "metadata": {},
   "source": [
    "**Замыкание — это не сама внутренняя функция, а внутренняя функция вместе с ее объемлющем окружением. Замыкание «захватывает» локальные переменные  объемлющей функции и сохраняет их.**"
   ]
  },
  {
   "cell_type": "code",
   "execution_count": null,
   "id": "b9e2e7e8-f978-4f48-a9d9-4f8c283c774d",
   "metadata": {},
   "outputs": [],
   "source": [
    "def main_func():\n",
    "\n",
    "    name = 'Ivan'\n",
    "\n",
    "    def inner_func():\n",
    "        print('hello my friend', name)\n",
    "\n",
    "    return inner_func\n",
    "\n",
    "f = main_func()\n",
    "print(f.__name__)\n",
    "f()\n",
    "f()"
   ]
  },
  {
   "cell_type": "code",
   "execution_count": null,
   "id": "525582dd-ee57-44d3-9f2a-e0a2c8b9052f",
   "metadata": {},
   "outputs": [],
   "source": [
    "def adder(start_value):\n",
    "\n",
    "    def inner(income):\n",
    "        return start_value + income\n",
    "\n",
    "    return inner\n",
    "add_from_2 = adder(2)\n",
    "add_from_7 = adder(7)\n",
    "\n",
    "print(add_from_2.__name__)\n",
    "print(add_from_7.__name__)\n",
    "\n",
    "print(add_from_2(5))\n",
    "print(add_from_2(3))\n",
    "print(add_from_7(4))\n",
    "print(add_from_7(9))\n",
    "\n",
    "# 7\n",
    "# 5\n",
    "# 11\n",
    "# 16"
   ]
  },
  {
   "cell_type": "code",
   "execution_count": null,
   "id": "3a5d858d-2cea-4aac-a5a2-700c6714afe7",
   "metadata": {},
   "outputs": [],
   "source": [
    "def counter():\n",
    "    count = 0\n",
    "    def inner():\n",
    "        nonlocal count\n",
    "        count += 1\n",
    "        return count\n",
    "    return inner\n",
    "\n",
    "q = counter()\n",
    "r = counter()\n",
    "print(q())\n",
    "q()\n",
    "print(q())\n",
    "print(r())\n",
    "\n",
    "# 1\n",
    "# 3\n",
    "# 1"
   ]
  },
  {
   "cell_type": "markdown",
   "id": "6e9f5a42-e722-4918-9fba-e072c37a4977",
   "metadata": {},
   "source": [
    "В этом примере создано два отдельных замыкания  в переменных r и q. У каждой функции, хранящейся в r и q, имеется свой собственный счетчик. Каждый вызов r или q будет увеличивать ее собственный счетчик на единицу. Как итог мы видим, что q была вызвана 3 раза, а r всего лишь раз."
   ]
  },
  {
   "cell_type": "markdown",
   "id": "b8cb4a4f-8839-4f47-a771-695be10adef5",
   "metadata": {},
   "source": [
    "### Еще примеры"
   ]
  },
  {
   "cell_type": "markdown",
   "id": "289854bc-785b-4825-bbea-35661c4d491b",
   "metadata": {},
   "source": [
    "Этот код создаёт замыкание, которое считает среднее значение всех переданных чисел отдельно для каждого вызова average_numbers().\n",
    "\n",
    "r1 и r2 — независимые \"накопители\" чисел."
   ]
  },
  {
   "cell_type": "code",
   "execution_count": null,
   "id": "85530ede-c0b5-4880-b528-1ecaf32892d9",
   "metadata": {},
   "outputs": [],
   "source": [
    "def average_numbers():\n",
    "    numbers = []\n",
    "    def inner(number):\n",
    "        numbers.append(number)\n",
    "        print(numbers)\n",
    "        return sum(numbers) / len(numbers)\n",
    "\n",
    "    return inner\n",
    "\n",
    "r1 = average_numbers()\n",
    "print(r1(1))\n",
    "print(r1(10))\n",
    "print(r1(100))\n",
    "print(r1(1000))\n",
    "print(r1(10000))\n",
    "\n",
    "print()\n",
    "\n",
    "r2 = average_numbers()\n",
    "print(r2(1))\n",
    "print(r2(10))\n",
    "print(r2(100))\n",
    "print(r1(100000))"
   ]
  },
  {
   "cell_type": "markdown",
   "id": "01957e94-2d29-4b02-a7d5-90e971d0d6c1",
   "metadata": {},
   "source": [
    "Создаёт функцию, которая считает среднее арифметическое всех переданных ей чисел.\n",
    "Каждый вызов average_numbers() создаёт независимое хранилище для своей статистики."
   ]
  },
  {
   "cell_type": "code",
   "execution_count": null,
   "id": "905fd7e8-cd58-435a-ad05-a3b1b3bf0c60",
   "metadata": {},
   "outputs": [],
   "source": [
    "def average_numbers():\n",
    "    summa = 0\n",
    "    count = 0\n",
    "    def inner(number):\n",
    "        nonlocal summa\n",
    "        nonlocal count\n",
    "        summa = summa + number\n",
    "        count = count + 1\n",
    "        return summa / count\n",
    "\n",
    "    return inner\n",
    "\n",
    "r1 = average_numbers()\n",
    "r2 = average_numbers()\n",
    "print(r1(5))\n",
    "print(r1(10))\n",
    "print(r2(15))"
   ]
  },
  {
   "cell_type": "markdown",
   "id": "165c8ba3-1f90-46f0-b8e1-624458d4efde",
   "metadata": {},
   "source": [
    "Этот код — пример декоратора, который считает, сколько раз вызывалась функция."
   ]
  },
  {
   "cell_type": "code",
   "execution_count": null,
   "id": "4f4e1b8d-06f9-4e05-bd34-b757a4eb7eca",
   "metadata": {},
   "outputs": [],
   "source": [
    "def add(a, b):\n",
    "    return a + b\n",
    "\n",
    "def counter(func):\n",
    "    count = 0\n",
    "    def inner(*args, **kwargs):\n",
    "        nonlocal count\n",
    "        count += 1\n",
    "        print(f'функция {func.__name__} вызывалась {count} раз')\n",
    "        return print(func(*args,**kwargs))\n",
    "\n",
    "    return inner\n",
    "q = counter(add)\n",
    "\n",
    "q(10, 20)\n",
    "q(2,5)"
   ]
  },
  {
   "cell_type": "markdown",
   "id": "a415471d-73fb-4700-8a43-9233055a1c52",
   "metadata": {},
   "source": [
    "Показывает сколько времени прошло от создания замыкания до первого и второго вызова r1."
   ]
  },
  {
   "cell_type": "code",
   "execution_count": null,
   "id": "4bef76d6-e5eb-478c-99a1-8e4ee558371f",
   "metadata": {},
   "outputs": [],
   "source": [
    "from datetime import datetime\n",
    "def timer():\n",
    "    start = datetime.now()\n",
    "    def inner():\n",
    "        return datetime.now() - start\n",
    "    return inner\n",
    "\n",
    "r1 = timer()\n",
    "print(r1())\n",
    "\n",
    "for i in range(200000):\n",
    "  2**10000\n",
    "\n",
    "print(r1())"
   ]
  },
  {
   "cell_type": "markdown",
   "id": "1f2c8f2c-9323-4dc7-ac25-7ba800c1f709",
   "metadata": {},
   "source": [
    " Функция timer() возвращает inner(), которая показывает, сколько секунд прошло с начала."
   ]
  },
  {
   "cell_type": "code",
   "execution_count": null,
   "id": "79495ee4-917a-478f-9375-eae1c0c4541e",
   "metadata": {},
   "outputs": [],
   "source": [
    "from time import perf_counter, sleep\n",
    "\n",
    "\n",
    "def timer():\n",
    "    start = perf_counter()\n",
    "    def inner():\n",
    "        return perf_counter() - start\n",
    "    return inner\n",
    "    \n",
    "\n",
    "q = timer()\n",
    "sleep(1) # делаем паузу в 1 секунду\n",
    "print(q())\n",
    "sleep(2) # делаем паузу в 2 секунды\n",
    "print(q())\n",
    "sleep(3) # делаем паузу в 3 секунды\n",
    "print(q())"
   ]
  },
  {
   "cell_type": "markdown",
   "id": "6a901bbe-b921-4c18-a073-00bffb3a0ae7",
   "metadata": {},
   "source": [
    "Этот код создаёт замыкание-счётчик с двумя функциями — increment и decrement, которые разделяют одну переменную count."
   ]
  },
  {
   "cell_type": "code",
   "execution_count": null,
   "id": "bf5dc055-421e-4105-bb51-2a08f65731ff",
   "metadata": {},
   "outputs": [],
   "source": [
    "def create_counter():\n",
    "    count = 0\n",
    "\n",
    "    def increment(value: int = 1):\n",
    "        nonlocal count\n",
    "        count += value\n",
    "        return count\n",
    "\n",
    "    def decrement(value: int = 1):\n",
    "        nonlocal count\n",
    "        count -= value\n",
    "        return count\n",
    "\n",
    "    return increment, decrement\n",
    "\n",
    "\n",
    "inc_1, dec_1 = create_counter()\n",
    "print(inc_1())  # увеличиваем на 1\n",
    "print(inc_1(2))  # увеличиваем на 2\n",
    "print(inc_1(3))  # увеличиваем на 3\n",
    "print(dec_1())  # уменьшаем на 1\n",
    "print(dec_1())  # уменьшаем на 1\n",
    "\n",
    "print('-' * 15)\n",
    "print('Создаем новый объект замыкания с другим счетчиком')\n",
    "\n",
    "inc_2, dec_2 = create_counter()\n",
    "print(inc_2(10))  # увеличиваем на 10\n",
    "print(dec_2(5))  # уменьшаем на 5\n",
    "print(inc_2(100))  # увеличиваем на 100\n",
    "print(inc_2(50))  # увеличиваем на 50\n",
    "print(dec_2())  # уменьшаем на 1"
   ]
  },
  {
   "cell_type": "markdown",
   "id": "308deb0b-3537-4c6a-bb45-8a146f8ba2c1",
   "metadata": {},
   "source": [
    "Этот код делает то же самое, что и раньше, но теперь возвращает одну функцию-объект inner, к которой прикреплены методы inc и dec."
   ]
  },
  {
   "cell_type": "code",
   "execution_count": null,
   "id": "6adb8fd3-e6b1-41f3-a0b6-047c0608d468",
   "metadata": {},
   "outputs": [],
   "source": [
    "def create_counter():\n",
    "    count = 0\n",
    "    def inner():\n",
    "        pass\n",
    "\n",
    "    def increment(value: int = 1):\n",
    "        nonlocal count\n",
    "        count += value\n",
    "        return count\n",
    "\n",
    "    def decrement(value: int = 1):\n",
    "        nonlocal count\n",
    "        count -= value\n",
    "        return count\n",
    "\n",
    "    inner.inc = increment\n",
    "    inner.dec = decrement\n",
    "    return inner\n",
    "\n",
    "ex1 = create_counter()\n",
    "print(ex1.inc())\n",
    "print(ex1.inc(5))\n",
    "print(ex1.inc(90))\n",
    "\n",
    "ex2 = create_counter()\n",
    "print(ex2.inc(1))\n",
    "print(ex2.inc(2))\n",
    "print(ex2.inc(23))"
   ]
  },
  {
   "cell_type": "code",
   "execution_count": null,
   "id": "0ec60bfb-745a-447f-83e7-7aecfd37907d",
   "metadata": {},
   "outputs": [],
   "source": []
  }
 ],
 "metadata": {
  "kernelspec": {
   "display_name": "Python 3 (ipykernel)",
   "language": "python",
   "name": "python3"
  },
  "language_info": {
   "codemirror_mode": {
    "name": "ipython",
    "version": 3
   },
   "file_extension": ".py",
   "mimetype": "text/x-python",
   "name": "python",
   "nbconvert_exporter": "python",
   "pygments_lexer": "ipython3",
   "version": "3.12.8"
  }
 },
 "nbformat": 4,
 "nbformat_minor": 5
}
