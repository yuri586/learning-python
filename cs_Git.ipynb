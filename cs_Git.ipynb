{
 "cells": [
  {
   "cell_type": "markdown",
   "id": "9da53419-5afc-4d69-9e1c-3f64b21bdb60",
   "metadata": {},
   "source": [
    "# Шпаргалка по Базовым Командам Git \n",
    "\n",
    "(Для локальной работы и синхронизации с GitHub)"
   ]
  },
  {
   "cell_type": "markdown",
   "id": "98d72acf-6eeb-4c77-81a3-81e67b742dbf",
   "metadata": {},
   "source": [
    "## Рабочий процесс (выполняется каждый раз, когда хочешь поработать)"
   ]
  },
  {
   "cell_type": "markdown",
   "id": "e95bc268-08bf-4dec-8368-bb7be6379684",
   "metadata": {},
   "source": [
    "1. **Начни сессию (на ЛЮБОЙ из систем - Linux или macOS):**\n",
    "\n",
    "    - Открой терминал.\n",
    "    - Перейди в папку репозитория: cd ~/путь/к/Имя_Твоего_Репозитория\n",
    "    - Активируй виртуальное окружение: source .venv/bin/activate (убедись, что на macOS ты используешь аналогичную команду для активации своего окружения, если оно там есть).\n",
    "    - **!!! Загрузи последние изменения с GitHub:** Это **крайне важно**, чтобы получить правки, сделанные на другой системе!\n",
    "    - Запусти JupyterLab:"
   ]
  },
  {
   "cell_type": "code",
   "execution_count": null,
   "id": "6776220e-eab8-484c-a84e-90b27d641e2b",
   "metadata": {},
   "outputs": [],
   "source": [
    "git pull origin main  # или master, если твоя основная ветка называется master"
   ]
  },
  {
   "cell_type": "code",
   "execution_count": null,
   "id": "9af25049-0fbe-437c-a97b-ddddaba7ee60",
   "metadata": {},
   "outputs": [],
   "source": [
    "jupyter lab"
   ]
  },
  {
   "cell_type": "markdown",
   "id": "8e5a5e07-fb29-4ef1-9736-1e7fcdebded0",
   "metadata": {},
   "source": [
    "2. **Работай со шпаргалками:** Редактируй файлы .ipynb в браузере, сохраняй изменения (Ctrl+S)."
   ]
  },
  {
   "cell_type": "markdown",
   "id": "c6d6a9f3-5692-4f77-8033-f376245156df",
   "metadata": {},
   "source": [
    "3. **Заверши сессию (на ЛЮБОЙ из систем):**\n",
    "   \n",
    "    - Останови JupyterLab в терминале (Ctrl+C, возможно дважды).\n",
    "    - !!! Сохрани свои изменения в Git и отправь на GitHub:\n",
    "        - Посмотри, какие файлы изменены: git status\n",
    "        - Добавь измененные шпаргалки (или все изменения) в индекс Git:"
   ]
  },
  {
   "cell_type": "code",
   "execution_count": null,
   "id": "1eec983d-dac3-4e92-96f8-e5decec099ae",
   "metadata": {},
   "outputs": [],
   "source": [
    "git add имя_файла1.ipynb имя_файла2.ipynb  # Добавить конкретные файлы\n",
    "# или\n",
    "git add .  # Добавить все изменения в текущей папке и подпапках"
   ]
  },
  {
   "cell_type": "markdown",
   "id": "c3a23897-f839-4397-9c9d-b40c117931d8",
   "metadata": {},
   "source": [
    "-\n",
    "    - Сделай коммит (сохрани снимок изменений с описанием):"
   ]
  },
  {
   "cell_type": "code",
   "execution_count": null,
   "id": "a5016c89-4494-4f6f-a1b0-af26b6f7377d",
   "metadata": {},
   "outputs": [],
   "source": [
    "git commit -m \"Обновил шпаргалку по Python: добавил раздел про словари\""
   ]
  },
  {
   "cell_type": "markdown",
   "id": "9ee6f566-936d-4599-b845-ad8a13c22726",
   "metadata": {},
   "source": [
    "-\n",
    "    - **Отправь изменения на GitHub:**"
   ]
  },
  {
   "cell_type": "code",
   "execution_count": null,
   "id": "f637ee44-a3c3-46f4-95bb-d6b6606ee3a5",
   "metadata": {},
   "outputs": [],
   "source": [
    "git push origin main # или master"
   ]
  },
  {
   "cell_type": "markdown",
   "id": "c9d77261-e978-463d-914a-6356cdbdffdb",
   "metadata": {},
   "source": [
    "- Теперь твои изменения доступны для скачивания (git pull origin main) на другой системе."
   ]
  },
  {
   "cell_type": "markdown",
   "id": "5e05072f-1156-42dd-81bb-b35e5199aa8a",
   "metadata": {},
   "source": [
    "- Деактивируй виртуальное окружение:"
   ]
  },
  {
   "cell_type": "code",
   "execution_count": null,
   "id": "f782e3e2-33c1-4d7d-9745-1aec8035a5d0",
   "metadata": {},
   "outputs": [],
   "source": [
    "deactivate"
   ]
  },
  {
   "cell_type": "markdown",
   "id": "a63cac4d-aba1-494e-bdca-a6ee9ac1a493",
   "metadata": {},
   "source": [
    "### 0. Первоначальная Настройка (Делается один раз на компьютере)"
   ]
  },
  {
   "cell_type": "code",
   "execution_count": null,
   "id": "4f2e305e-b625-4fd7-96cd-820e707f6ecf",
   "metadata": {},
   "outputs": [],
   "source": [
    "git config --global user.name \"Твое Имя\"     # Установить твое имя (будет видно в истории)\n",
    "git config --global user.email \"твой@email.com\" # Установить твой email (связанный с GitHub)"
   ]
  },
  {
   "cell_type": "markdown",
   "id": "8a0cdeea-1eed-41a3-a842-8a703fc58ae9",
   "metadata": {},
   "source": [
    "### 1. Создание/Получение Репозитория"
   ]
  },
  {
   "cell_type": "markdown",
   "id": "e1b3882f-b530-47ff-bfc3-8f04def2ae08",
   "metadata": {},
   "source": [
    "**Инициализация нового репозитория в папке:**"
   ]
  },
  {
   "cell_type": "code",
   "execution_count": null,
   "id": "2a6bc25a-8e5b-42ac-8fc9-a11983adeaa3",
   "metadata": {},
   "outputs": [],
   "source": [
    "git init\n",
    "# (Создает пустой репозиторий в текущей папке. Ты это уже сделал)"
   ]
  },
  {
   "cell_type": "markdown",
   "id": "d1dbf82a-32b0-4779-be5e-1c75db14f417",
   "metadata": {},
   "source": [
    "**Клонирование существующего репозитория с GitHub:**"
   ]
  },
  {
   "cell_type": "code",
   "execution_count": null,
   "id": "ea08f174-a0c8-4e4e-a5dd-871bc6909ee9",
   "metadata": {},
   "outputs": [],
   "source": [
    "git clone <URL-адрес репозитория с GitHub>\n",
    "    \n",
    "#(Скачивает репозиторий с GitHub на твой компьютер. Полезно, если ты начнешь работать на другом ПК)"
   ]
  },
  {
   "cell_type": "markdown",
   "id": "f5f5dc8c-58e5-4cf7-95ef-b3ef85441269",
   "metadata": {},
   "source": [
    "### 2. Основной Рабочий Цикл (Самые Частые Команды)"
   ]
  },
  {
   "cell_type": "markdown",
   "id": "871e5a53-f3ee-4ebb-8d98-fa75eb7d149d",
   "metadata": {},
   "source": [
    "**Проверить статус файлов:**"
   ]
  },
  {
   "cell_type": "code",
   "execution_count": null,
   "id": "910ccada-95e6-4e50-82a6-8cbbbccdac10",
   "metadata": {},
   "outputs": [],
   "source": [
    "git status\n",
    "\n",
    "# (Показывает, какие файлы изменены, какие готовы к коммиту (staged), какие не отслеживаются. Используй эту команду ПОСТОЯННО!)"
   ]
  },
  {
   "cell_type": "markdown",
   "id": "aaa9c2ad-e415-48be-8e30-b7d1863dca0f",
   "metadata": {},
   "source": [
    "**Подготовить файлы к коммиту (Добавить в \"индекс\"):**"
   ]
  },
  {
   "cell_type": "code",
   "execution_count": null,
   "id": "be65a542-f866-44df-85fb-8fda3c7cc85f",
   "metadata": {},
   "outputs": [],
   "source": [
    "git add <имя_файла>\n",
    "\n",
    "#  Добавить конкретный файл\n",
    "# (Например: git add my_notebook.ipynb)    "
   ]
  },
  {
   "cell_type": "code",
   "execution_count": null,
   "id": "fbade6f1-6f75-4b7a-844d-94fbe608c958",
   "metadata": {},
   "outputs": [],
   "source": [
    "git add .\n",
    "\n",
    "#  Добавить ВСЕ новые и измененные файлы в текущей папке и подпапках:\n",
    "# (Точка означает \"текущая директория\". Удобно, но будь внимателен, чтобы не добавить лишнего!)"
   ]
  },
  {
   "cell_type": "markdown",
   "id": "846b6547-db26-43ab-bc39-0b6875d820ab",
   "metadata": {},
   "source": [
    "**Зафиксировать изменения (Сделать \"снимок\" - коммит):**"
   ]
  },
  {
   "cell_type": "code",
   "execution_count": null,
   "id": "4b82d392-bb49-4ea4-93ed-582d1136e566",
   "metadata": {},
   "outputs": [],
   "source": [
    "git commit -m \"Краткое и понятное описание изменений\"\n",
    "\n",
    "# (Сохраняет все добавленные (git add) изменения в локальную историю Git. Пиши осмысленные сообщения! Например: \"Добавил конспект по чистым функциям\" или \"Исправил ошибку в расчетах\")"
   ]
  },
  {
   "cell_type": "markdown",
   "id": "e02ae70c-26b4-4fb6-bd72-33d279f99c73",
   "metadata": {},
   "source": [
    "### 3. Синхронизация с Удаленным Репозиторием (GitHub)"
   ]
  },
  {
   "cell_type": "markdown",
   "id": "cdf45bc9-b7d1-40d9-bdbb-210c21e7a560",
   "metadata": {},
   "source": [
    "**Добавить связь с удаленным репозиторием (Делается один раз для проекта):**"
   ]
  },
  {
   "cell_type": "code",
   "execution_count": null,
   "id": "673978e6-7fad-41ec-9ae9-0690041e8411",
   "metadata": {},
   "outputs": [],
   "source": [
    "git remote add origin <URL-адрес твоего репозитория на GitHub>"
   ]
  },
  {
   "cell_type": "markdown",
   "id": "29afc886-69ca-4eb1-b264-8f1ff4cdecdc",
   "metadata": {},
   "source": [
    "**Отправить локальные коммиты на GitHub:**"
   ]
  },
  {
   "cell_type": "code",
   "execution_count": null,
   "id": "f21542f1-20c1-4795-97c6-f5a5b476d72b",
   "metadata": {},
   "outputs": [],
   "source": [
    "git push origin main (или master)\n",
    "\n",
    "# (Отправляет все коммиты из твоей локальной ветки main на удаленный репозиторий origin. Используй после git commit)\n",
    "# (Иногда основная ветка может называться master, тогда команда будет git push origin master)"
   ]
  },
  {
   "cell_type": "markdown",
   "id": "342d3756-fef0-4bed-97cf-00c3a6e00cbf",
   "metadata": {},
   "source": [
    "**Загрузить изменения с GitHub в локальный репозиторий:**"
   ]
  },
  {
   "cell_type": "code",
   "execution_count": null,
   "id": "ee981026-0fe1-41f6-a0ef-8de9978e1042",
   "metadata": {},
   "outputs": [],
   "source": [
    "git pull origin main (или master)\n",
    "\n",
    "# (Скачивает изменения с GitHub и пытается слить их с твоей локальной работой. Важно делать перед началом работы, если ты мог работать на другом компьютере или если кто-то еще работает с этим репозиторием)"
   ]
  },
  {
   "cell_type": "markdown",
   "id": "9decf24b-6748-49ca-b9f2-49e7ba62f57a",
   "metadata": {},
   "source": [
    "**Посмотреть настроенные удаленные репозитории:**"
   ]
  },
  {
   "cell_type": "code",
   "execution_count": null,
   "id": "468426a2-116a-40e1-b792-5089f06181a3",
   "metadata": {},
   "outputs": [],
   "source": [
    "git remote -v"
   ]
  },
  {
   "cell_type": "markdown",
   "id": "877452e5-8212-448e-b938-79e59f48b556",
   "metadata": {},
   "source": [
    "**Загрузить инфо об удаленных изменениях (без слияния):** "
   ]
  },
  {
   "cell_type": "code",
   "execution_count": null,
   "id": "1985d3dc-1a47-4222-bcff-5a2004a635ce",
   "metadata": {},
   "outputs": [],
   "source": [
    "git fetch origin"
   ]
  },
  {
   "cell_type": "markdown",
   "id": "a0ad4e32-7563-40d3-ace9-9f39820d3018",
   "metadata": {},
   "source": [
    "### 4. Просмотр Истории"
   ]
  },
  {
   "cell_type": "markdown",
   "id": "9459c408-5168-4cb8-82e1-4154c3a040e3",
   "metadata": {},
   "source": [
    "- Показать историю коммитов:"
   ]
  },
  {
   "cell_type": "code",
   "execution_count": null,
   "id": "4d994bb2-17f9-4646-b700-6dc1fd57c99c",
   "metadata": {},
   "outputs": [],
   "source": [
    "git log\n",
    "\n",
    "# (Показывает список коммитов: автор, дата, сообщение)"
   ]
  },
  {
   "cell_type": "markdown",
   "id": "50dacc86-72c2-4e59-9824-ece6f9d332d0",
   "metadata": {},
   "source": [
    "- Показать историю в более компактном виде:"
   ]
  },
  {
   "cell_type": "code",
   "execution_count": null,
   "id": "24de27e3-76bd-45be-a8e6-eb97e4637921",
   "metadata": {},
   "outputs": [],
   "source": [
    "git log --oneline --graph\n",
    "\n",
    "# (Каждый коммит в одну строку, с визуализацией веток)"
   ]
  },
  {
   "cell_type": "markdown",
   "id": "6ef13dd8-3a4b-49e4-a866-f50415dad671",
   "metadata": {},
   "source": [
    "**Важные Замечания:**\n",
    "\n",
    "- .gitignore: Не забывай добавлять в этот файл шаблоны для файлов и папок, которые Git должен игнорировать (.DS_Store, .ipynb_checkpoints, venv/, __pycache__/ и т.д.). Сам файл .gitignore нужно добавить в репозиторий (git add .gitignore и git commit).\n",
    "\n",
    "- Аутентификация: Помни, что для git push (и git pull с приватных репозиториев) вместо пароля от GitHub нужно использовать Personal Access Token (PAT) или SSH-ключи.\n",
    "\n",
    "  \n",
    "- Цикл: Твой обычный цикл работы будет: Изменил файлы -> git status -> git add . -> git commit -m \"...\" -> git push origin main.\n"
   ]
  },
  {
   "cell_type": "markdown",
   "id": "ef5f3c23-3e9a-47c4-849f-eef7c814b324",
   "metadata": {},
   "source": [
    "### 5. Откаты и Отмена Изменений (Будь Осторожен!)"
   ]
  },
  {
   "cell_type": "markdown",
   "id": "295d05a8-862a-490f-92bb-539233d7d344",
   "metadata": {},
   "source": [
    "**Отменить НЕЗАКОММИЧЕННЫЕ изменения в файле (вернуть к последнему коммиту):**"
   ]
  },
  {
   "cell_type": "code",
   "execution_count": null,
   "id": "011ba2ed-5460-4964-9081-e23116098d5c",
   "metadata": {},
   "outputs": [],
   "source": [
    "git checkout -- <имя_файла>"
   ]
  },
  {
   "cell_type": "code",
   "execution_count": null,
   "id": "a1f20640-43be-4c1d-ab2b-66e6578c7a4b",
   "metadata": {},
   "outputs": [],
   "source": [
    "# (Внимание! Изменения в файле будут потеряны безвозвратно)"
   ]
  },
  {
   "cell_type": "markdown",
   "id": "40e4ef2c-0170-4341-8409-106bb97f9bb0",
   "metadata": {},
   "source": [
    "**Убрать файл из индекса (Отменить git add):**"
   ]
  },
  {
   "cell_type": "code",
   "execution_count": null,
   "id": "6713f8ed-eb17-4a2f-8e91-38ae035b4db9",
   "metadata": {},
   "outputs": [],
   "source": [
    "git reset HEAD <имя_файла>"
   ]
  },
  {
   "cell_type": "code",
   "execution_count": null,
   "id": "ae73e94a-de56-4c02-b579-f9f2125bbb3f",
   "metadata": {},
   "outputs": [],
   "source": [
    "# (Изменения в самом файле останутся, но он не будет включен в следующий коммит)"
   ]
  },
  {
   "cell_type": "markdown",
   "id": "e4d8a92e-4509-42c1-b181-7160657e93ef",
   "metadata": {},
   "source": [
    "**Отменить ПОСЛЕДНИЙ коммит (не отправленный на GitHub):**"
   ]
  },
  {
   "cell_type": "code",
   "execution_count": null,
   "id": "85485acb-f8f5-4f4e-b87b-ca224ffc0fb6",
   "metadata": {},
   "outputs": [],
   "source": [
    "git reset --soft HEAD~1\n",
    "# Отменить коммит, но оставить изменения в файлах как незакоммиченные\n",
    "\n",
    "git reset HEAD~1\n",
    "# Отменить коммит и убрать изменения из индекса (оставить их в файлах)\n",
    "\n",
    "git reset --hard HEAD~1\n",
    "# Отменить коммит и ПОЛНОСТЬЮ удалить все изменения из него (ОПАСНО!)\n",
    "#(Внимание! Все изменения из последнего коммита будут потеряны)"
   ]
  },
  {
   "cell_type": "markdown",
   "id": "608f7967-6802-48aa-9759-7eb32bd30ade",
   "metadata": {},
   "source": [
    "**Создать НОВЫЙ коммит, который отменяет изменения старого коммита (Безопаснее для отправленной истории):**"
   ]
  },
  {
   "cell_type": "code",
   "execution_count": null,
   "id": "8a7e9893-cac0-45af-a920-7ea3b9ec6c70",
   "metadata": {},
   "outputs": [],
   "source": [
    "git revert <хэш_коммита_который_нужно_отменить>\n",
    "\n",
    "# (Git создаст новый коммит, противоположный указанному. Старый коммит останется в истории)"
   ]
  },
  {
   "cell_type": "markdown",
   "id": "26005068-aa56-4775-97b9-a54471d3e9e9",
   "metadata": {},
   "source": [
    "### 6.Ветвление (Branches)"
   ]
  },
  {
   "cell_type": "markdown",
   "id": "fe78ce47-a108-46dd-a5ea-7f41b60808bf",
   "metadata": {},
   "source": [
    "Зачем нужны ветки? Чтобы работать над новой функциональностью или исправлением ошибок, не затрагивая основную стабильную версию кода (main). Создаешь ветку -> работаешь в ней -> тестируешь -> сливаешь обратно в main."
   ]
  },
  {
   "cell_type": "markdown",
   "id": "44ef9c6c-8cdb-4fee-8c71-2729affc0bd7",
   "metadata": {},
   "source": [
    "**Посмотреть список всех веток:**"
   ]
  },
  {
   "cell_type": "code",
   "execution_count": null,
   "id": "361d6309-c389-40cd-bb06-a0f168c3ea0a",
   "metadata": {},
   "outputs": [],
   "source": [
    "git branch\n",
    "# (текущая будет отмечена *)"
   ]
  },
  {
   "cell_type": "markdown",
   "id": "15dc04d9-133d-4746-ae2f-4ef357758cbc",
   "metadata": {},
   "source": [
    "**Создать новую ветку:**"
   ]
  },
  {
   "cell_type": "code",
   "execution_count": null,
   "id": "87e648b9-fc87-4ed2-95be-6b232e64f2a0",
   "metadata": {},
   "outputs": [],
   "source": [
    "git branch <имя_новой_ветки>"
   ]
  },
  {
   "cell_type": "markdown",
   "id": "fe22dd42-e5b0-4558-8b3e-2ebac159f6c4",
   "metadata": {},
   "source": [
    "**Переключиться на другую ветку:**"
   ]
  },
  {
   "cell_type": "code",
   "execution_count": null,
   "id": "e72f305c-cf99-4c48-8b6c-e7d13ed5717b",
   "metadata": {},
   "outputs": [],
   "source": [
    "git checkout <имя_ветки>\n",
    "\n",
    "git switch <имя_ветки>\n",
    "#или (более современный вариант):"
   ]
  },
  {
   "cell_type": "markdown",
   "id": "02a79eb0-a38c-4da6-acf6-4f924e9628bc",
   "metadata": {},
   "source": [
    "**Создать новую ветку и сразу переключиться на нее:**"
   ]
  },
  {
   "cell_type": "code",
   "execution_count": null,
   "id": "06b77b44-4b42-4840-a16d-5d67854981c1",
   "metadata": {},
   "outputs": [],
   "source": [
    "git checkout -b <имя_новой_ветки>\n",
    "\n",
    "\n",
    "git switch -c <имя_новой_ветки>\n",
    "#или (более современный вариант):"
   ]
  },
  {
   "cell_type": "markdown",
   "id": "c9979814-c342-4428-954a-75becff7b777",
   "metadata": {},
   "source": [
    "**Удалить ветку (локально, после слияния):**"
   ]
  },
  {
   "cell_type": "code",
   "execution_count": null,
   "id": "810feb9b-1945-4a05-81f8-08f2b2a96335",
   "metadata": {},
   "outputs": [],
   "source": [
    "git branch -d <имя_ветки>"
   ]
  },
  {
   "cell_type": "markdown",
   "id": "0168de18-536b-49b7-ad1a-70b8eae6c134",
   "metadata": {},
   "source": [
    "###  7. Слияние Веток (Merging)"
   ]
  },
  {
   "cell_type": "markdown",
   "id": "3c38413a-3356-46f3-bd06-dafee2629380",
   "metadata": {},
   "source": [
    "**Слить изменения из другой ветки в ТЕКУЩУЮ:**"
   ]
  },
  {
   "cell_type": "markdown",
   "id": "effbc463-e1bf-46b8-8cbf-48695446deaa",
   "metadata": {},
   "source": [
    "- 1. Переключись на ветку, КУДА хочешь слить изменения (обычно main):\n",
    "     \n",
    "     git switch main"
   ]
  },
  {
   "cell_type": "markdown",
   "id": "f81065e8-9c38-493a-b511-599a984744c3",
   "metadata": {},
   "source": [
    "- 2. Выполни команду слияния, указав ветку, ОТКУДА берем изменения:\n",
    "\n",
    "     git merge <имя_ветки_с_изменениями>"
   ]
  },
  {
   "cell_type": "markdown",
   "id": "9fbbd13c-2ca0-4905-99e3-507563403f2e",
   "metadata": {},
   "source": [
    "### 8. Просмотр Изменений (Кроме git status и git log)"
   ]
  },
  {
   "cell_type": "markdown",
   "id": "1878dd95-c63e-4c16-860b-09843ee9edb1",
   "metadata": {},
   "source": [
    "**Показать разницу между рабочим каталогом и последним коммитом:**"
   ]
  },
  {
   "cell_type": "code",
   "execution_count": null,
   "id": "d6343382-3d03-4784-8cac-1616cfe2b9bb",
   "metadata": {},
   "outputs": [],
   "source": [
    "git diff"
   ]
  },
  {
   "cell_type": "markdown",
   "id": "5c93d681-8600-4913-92db-0141dc3d4426",
   "metadata": {},
   "source": [
    "**Показать разницу между тем, что добавлено в индекс (git add), и последним коммитом:**"
   ]
  },
  {
   "cell_type": "code",
   "execution_count": null,
   "id": "982a0743-e134-42ac-aba8-d07aa18bab31",
   "metadata": {},
   "outputs": [],
   "source": [
    "git diff --staged"
   ]
  },
  {
   "cell_type": "markdown",
   "id": "711e81e8-35cb-4d5a-8924-6a6ad63a6e9c",
   "metadata": {},
   "source": [
    "**Показать изменения в конкретном файле за всю историю:**"
   ]
  },
  {
   "cell_type": "code",
   "execution_count": null,
   "id": "bd7eff6c-fc61-470f-a0c6-0e756130bf9a",
   "metadata": {},
   "outputs": [],
   "source": [
    "git log -p <имя_файла>"
   ]
  },
  {
   "cell_type": "markdown",
   "id": "d6466d7b-9a56-4527-9f68-c9fc4a54f1fe",
   "metadata": {},
   "source": [
    "### 9. Временное Сохранение Изменений (Stash)"
   ]
  },
  {
   "cell_type": "markdown",
   "id": "49a92e0c-345a-474e-809b-9266aa03dc86",
   "metadata": {},
   "source": [
    "**Временно сохранить текущие незакоммиченные изменения (чтобы переключить ветку или сделать pull):**"
   ]
  },
  {
   "cell_type": "code",
   "execution_count": null,
   "id": "53b161f5-c908-4988-ad08-8ecfa17f56a7",
   "metadata": {},
   "outputs": [],
   "source": [
    "git stash"
   ]
  },
  {
   "cell_type": "markdown",
   "id": "7c12e4af-2eec-4379-b489-cf093107e150",
   "metadata": {},
   "source": [
    "**Посмотреть список сохраненных изменений:**"
   ]
  },
  {
   "cell_type": "code",
   "execution_count": null,
   "id": "89961a3b-c325-4c30-a522-88a48f79c359",
   "metadata": {},
   "outputs": [],
   "source": [
    "git stash list"
   ]
  },
  {
   "cell_type": "markdown",
   "id": "1770d0ef-9d64-4c5d-8124-2ee2b6213aed",
   "metadata": {},
   "source": [
    "**Применить последние сохраненные изменения и удалить их из списка:**"
   ]
  },
  {
   "cell_type": "code",
   "execution_count": null,
   "id": "98e06e6c-5340-4092-a1de-1f64224f08f1",
   "metadata": {},
   "outputs": [],
   "source": [
    "git stash pop"
   ]
  },
  {
   "cell_type": "markdown",
   "id": "db7d98a0-88a7-4a9c-b51d-a1a71913ad4b",
   "metadata": {},
   "source": [
    "**Применить последние сохраненные изменения, но оставить их в списке:**"
   ]
  },
  {
   "cell_type": "code",
   "execution_count": null,
   "id": "3aa0fa13-6154-45b5-b5ae-b31823ac8c56",
   "metadata": {},
   "outputs": [],
   "source": [
    "git stash apply"
   ]
  }
 ],
 "metadata": {
  "kernelspec": {
   "display_name": "Python 3 (ipykernel)",
   "language": "python",
   "name": "python3"
  },
  "language_info": {
   "codemirror_mode": {
    "name": "ipython",
    "version": 3
   },
   "file_extension": ".py",
   "mimetype": "text/x-python",
   "name": "python",
   "nbconvert_exporter": "python",
   "pygments_lexer": "ipython3",
   "version": "3.12.3"
  }
 },
 "nbformat": 4,
 "nbformat_minor": 5
}
