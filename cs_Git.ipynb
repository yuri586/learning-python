{
 "cells": [
  {
   "cell_type": "markdown",
   "id": "9da53419-5afc-4d69-9e1c-3f64b21bdb60",
   "metadata": {},
   "source": [
    "# Шпаргалка по Базовым Командам Git \n",
    "\n",
    "(Для локальной работы и синхронизации с GitHub)"
   ]
  },
  {
   "cell_type": "markdown",
   "id": "a63cac4d-aba1-494e-bdca-a6ee9ac1a493",
   "metadata": {},
   "source": [
    "### 0. Первоначальная Настройка (Делается один раз на компьютере)"
   ]
  },
  {
   "cell_type": "code",
   "execution_count": null,
   "id": "4f2e305e-b625-4fd7-96cd-820e707f6ecf",
   "metadata": {},
   "outputs": [],
   "source": [
    "git config --global user.name \"Твое Имя\"     # Установить твое имя (будет видно в истории)\n",
    "git config --global user.email \"твой@email.com\" # Установить твой email (связанный с GitHub)"
   ]
  },
  {
   "cell_type": "markdown",
   "id": "8a0cdeea-1eed-41a3-a842-8a703fc58ae9",
   "metadata": {},
   "source": [
    "### 1. Создание/Получение Репозитория"
   ]
  },
  {
   "cell_type": "markdown",
   "id": "e1b3882f-b530-47ff-bfc3-8f04def2ae08",
   "metadata": {},
   "source": [
    "- Инициализация нового репозитория в папке:"
   ]
  },
  {
   "cell_type": "code",
   "execution_count": null,
   "id": "2a6bc25a-8e5b-42ac-8fc9-a11983adeaa3",
   "metadata": {},
   "outputs": [],
   "source": [
    "git init\n",
    "# (Создает пустой репозиторий в текущей папке. Ты это уже сделал)"
   ]
  },
  {
   "cell_type": "markdown",
   "id": "d1dbf82a-32b0-4779-be5e-1c75db14f417",
   "metadata": {},
   "source": [
    "- Клонирование существующего репозитория с GitHub:"
   ]
  },
  {
   "cell_type": "code",
   "execution_count": null,
   "id": "ea08f174-a0c8-4e4e-a5dd-871bc6909ee9",
   "metadata": {},
   "outputs": [],
   "source": [
    "git clone <URL-адрес репозитория с GitHub>\n",
    "    \n",
    "#(Скачивает репозиторий с GitHub на твой компьютер. Полезно, если ты начнешь работать на другом ПК)"
   ]
  },
  {
   "cell_type": "markdown",
   "id": "f5f5dc8c-58e5-4cf7-95ef-b3ef85441269",
   "metadata": {},
   "source": [
    "### 2. Основной Рабочий Цикл (Самые Частые Команды)"
   ]
  },
  {
   "cell_type": "markdown",
   "id": "871e5a53-f3ee-4ebb-8d98-fa75eb7d149d",
   "metadata": {},
   "source": [
    "- Проверить статус файлов:"
   ]
  },
  {
   "cell_type": "code",
   "execution_count": null,
   "id": "910ccada-95e6-4e50-82a6-8cbbbccdac10",
   "metadata": {},
   "outputs": [],
   "source": [
    "git status\n",
    "\n",
    "# (Показывает, какие файлы изменены, какие готовы к коммиту (staged), какие не отслеживаются. Используй эту команду ПОСТОЯННО!)"
   ]
  },
  {
   "cell_type": "markdown",
   "id": "aaa9c2ad-e415-48be-8e30-b7d1863dca0f",
   "metadata": {},
   "source": [
    "- Подготовить файлы к коммиту (Добавить в \"индекс\"):"
   ]
  },
  {
   "cell_type": "markdown",
   "id": "8e25cf9f-98d3-4fbf-8271-051a896a1505",
   "metadata": {},
   "source": [
    "- Добавить конкретный файл:"
   ]
  },
  {
   "cell_type": "code",
   "execution_count": null,
   "id": "be65a542-f866-44df-85fb-8fda3c7cc85f",
   "metadata": {},
   "outputs": [],
   "source": [
    "git add <имя_файла>\n",
    "\n",
    "# (Например: git add my_notebook.ipynb)    "
   ]
  },
  {
   "cell_type": "markdown",
   "id": "3fabc1d5-77af-4aa9-adba-70c01443c931",
   "metadata": {},
   "source": [
    "- Добавить ВСЕ новые и измененные файлы в текущей папке и подпапках:"
   ]
  },
  {
   "cell_type": "code",
   "execution_count": null,
   "id": "fbade6f1-6f75-4b7a-844d-94fbe608c958",
   "metadata": {},
   "outputs": [],
   "source": [
    "git add .\n",
    "\n",
    "# (Точка означает \"текущая директория\". Удобно, но будь внимателен, чтобы не добавить лишнего!)"
   ]
  },
  {
   "cell_type": "markdown",
   "id": "846b6547-db26-43ab-bc39-0b6875d820ab",
   "metadata": {},
   "source": [
    "- Зафиксировать изменения (Сделать \"снимок\" - коммит):"
   ]
  },
  {
   "cell_type": "code",
   "execution_count": null,
   "id": "4b82d392-bb49-4ea4-93ed-582d1136e566",
   "metadata": {},
   "outputs": [],
   "source": [
    "git commit -m \"Краткое и понятное описание изменений\"\n",
    "\n",
    "# (Сохраняет все добавленные (git add) изменения в локальную историю Git. Пиши осмысленные сообщения! Например: \"Добавил конспект по чистым функциям\" или \"Исправил ошибку в расчетах\")"
   ]
  },
  {
   "cell_type": "markdown",
   "id": "e02ae70c-26b4-4fb6-bd72-33d279f99c73",
   "metadata": {},
   "source": [
    "### 3. Работа с Удаленным Репозиторием (GitHub)"
   ]
  },
  {
   "cell_type": "code",
   "execution_count": null,
   "id": "caeef5a7-e51e-4835-b18b-da89c6cdb60f",
   "metadata": {},
   "outputs": [],
   "source": [
    "- Добавить связь с удаленным репозиторием (Делается один раз для проекта):"
   ]
  },
  {
   "cell_type": "code",
   "execution_count": null,
   "id": "673978e6-7fad-41ec-9ae9-0690041e8411",
   "metadata": {},
   "outputs": [],
   "source": [
    "git remote add origin <URL-адрес твоего репозитория на GitHub>\n",
    "# (Ты это уже сделал)"
   ]
  },
  {
   "cell_type": "markdown",
   "id": "29afc886-69ca-4eb1-b264-8f1ff4cdecdc",
   "metadata": {},
   "source": [
    "- Отправить локальные коммиты на GitHub:"
   ]
  },
  {
   "cell_type": "code",
   "execution_count": null,
   "id": "f21542f1-20c1-4795-97c6-f5a5b476d72b",
   "metadata": {},
   "outputs": [],
   "source": [
    "git push origin main\n",
    "\n",
    "# (Отправляет все коммиты из твоей локальной ветки main на удаленный репозиторий origin. Используй после git commit)\n",
    "# (Иногда основная ветка может называться master, тогда команда будет git push origin master)"
   ]
  },
  {
   "cell_type": "markdown",
   "id": "342d3756-fef0-4bed-97cf-00c3a6e00cbf",
   "metadata": {},
   "source": [
    "- Загрузить изменения с GitHub в локальный репозиторий:"
   ]
  },
  {
   "cell_type": "code",
   "execution_count": null,
   "id": "ee981026-0fe1-41f6-a0ef-8de9978e1042",
   "metadata": {},
   "outputs": [],
   "source": [
    "git pull origin main\n",
    "\n",
    "# (Скачивает изменения с GitHub и пытается слить их с твоей локальной работой. Важно делать перед началом работы, если ты мог работать на другом компьютере или если кто-то еще работает с этим репозиторием)"
   ]
  },
  {
   "cell_type": "markdown",
   "id": "a0ad4e32-7563-40d3-ace9-9f39820d3018",
   "metadata": {},
   "source": [
    "### 4. Просмотр Истории"
   ]
  },
  {
   "cell_type": "markdown",
   "id": "9459c408-5168-4cb8-82e1-4154c3a040e3",
   "metadata": {},
   "source": [
    "- Показать историю коммитов:"
   ]
  },
  {
   "cell_type": "code",
   "execution_count": null,
   "id": "4d994bb2-17f9-4646-b700-6dc1fd57c99c",
   "metadata": {},
   "outputs": [],
   "source": [
    "git log\n",
    "\n",
    "# (Показывает список коммитов: автор, дата, сообщение)"
   ]
  },
  {
   "cell_type": "markdown",
   "id": "50dacc86-72c2-4e59-9824-ece6f9d332d0",
   "metadata": {},
   "source": [
    "- Показать историю в более компактном виде:"
   ]
  },
  {
   "cell_type": "code",
   "execution_count": null,
   "id": "24de27e3-76bd-45be-a8e6-eb97e4637921",
   "metadata": {},
   "outputs": [],
   "source": [
    "git log --oneline --graph\n",
    "\n",
    "# (Каждый коммит в одну строку, с визуализацией веток)"
   ]
  },
  {
   "cell_type": "markdown",
   "id": "6ef13dd8-3a4b-49e4-a866-f50415dad671",
   "metadata": {},
   "source": [
    "**Важные Замечания:**\n",
    "\n",
    "- .gitignore: Не забывай добавлять в этот файл шаблоны для файлов и папок, которые Git должен игнорировать (.DS_Store, .ipynb_checkpoints, venv/, __pycache__/ и т.д.). Сам файл .gitignore нужно добавить в репозиторий (git add .gitignore и git commit).\n",
    "\n",
    "- Аутентификация: Помни, что для git push (и git pull с приватных репозиториев) вместо пароля от GitHub нужно использовать Personal Access Token (PAT) или SSH-ключи.\n",
    "\n",
    "  \n",
    "- Цикл: Твой обычный цикл работы будет: Изменил файлы -> git status -> git add . -> git commit -m \"...\" -> git push origin main.\n"
   ]
  },
  {
   "cell_type": "code",
   "execution_count": null,
   "id": "1890fee3-cb71-4b94-86aa-067ab74009fe",
   "metadata": {},
   "outputs": [],
   "source": []
  }
 ],
 "metadata": {
  "kernelspec": {
   "display_name": "Python [conda env:base] *",
   "language": "python",
   "name": "conda-base-py"
  },
  "language_info": {
   "codemirror_mode": {
    "name": "ipython",
    "version": 3
   },
   "file_extension": ".py",
   "mimetype": "text/x-python",
   "name": "python",
   "nbconvert_exporter": "python",
   "pygments_lexer": "ipython3",
   "version": "3.11.9"
  }
 },
 "nbformat": 4,
 "nbformat_minor": 5
}
