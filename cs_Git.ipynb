{
 "cells": [
  {
   "cell_type": "code",
   "execution_count": null,
   "id": "ed1bdcc7-8b23-4cbc-8d30-9ba46258f507",
   "metadata": {},
   "outputs": [],
   "source": [
    "git config --global user.name \"Urii Chibirev\"\n",
    "git config --global user.email \"uchibirev07@gmail.com\""
   ]
  },
  {
   "cell_type": "markdown",
   "id": "487795a3-62b3-46f6-af53-5f59a6d9dd70",
   "metadata": {},
   "source": [
    "- Создание локального репозитория"
   ]
  },
  {
   "cell_type": "code",
   "execution_count": null,
   "id": "5c27eec1-ae0a-455f-8639-63d733f429aa",
   "metadata": {},
   "outputs": [],
   "source": [
    "mkdir git_experiment\n",
    "cd git_experiment\n",
    "git init"
   ]
  },
  {
   "cell_type": "markdown",
   "id": "07155c34-a454-4bfd-82d1-794cfe305843",
   "metadata": {},
   "source": [
    "- Создание удаленного репозитория"
   ]
  },
  {
   "cell_type": "markdown",
   "id": "6345f820-269f-4ab9-bb88-b7dbe6d6ef3f",
   "metadata": {},
   "source": [
    "- связь репозиториев"
   ]
  },
  {
   "cell_type": "code",
   "execution_count": null,
   "id": "f434cd26-b19e-4732-9181-fa64327935c5",
   "metadata": {},
   "outputs": [],
   "source": [
    "https://github.com/yuri586/learning-python.git"
   ]
  },
  {
   "cell_type": "markdown",
   "id": "bfa7c7e0-5406-408e-a778-8fe258e5d009",
   "metadata": {},
   "source": [
    "- клонирование другого репозитория"
   ]
  },
  {
   "cell_type": "code",
   "execution_count": null,
   "id": "6fd88908-7636-4037-863f-f557f9cd5707",
   "metadata": {},
   "outputs": [],
   "source": [
    "git clone https://......"
   ]
  },
  {
   "cell_type": "markdown",
   "id": "b94135d0-4e44-42ba-be54-bb5be6d60506",
   "metadata": {},
   "source": [
    "- создать файл игнора"
   ]
  },
  {
   "cell_type": "code",
   "execution_count": null,
   "id": "d5917f89-4ba5-4516-83a6-ff0d70febb97",
   "metadata": {},
   "outputs": [],
   "source": [
    "touch .gitignore\n",
    "\n",
    "# открыть в nano, Сохрани и закрой файл (Ctrl+O, Enter, Ctrl+X в nano).\n",
    "nano .gitignore"
   ]
  },
  {
   "cell_type": "markdown",
   "id": "e42fe26b-6bca-4274-9055-4c56c09d8166",
   "metadata": {},
   "source": [
    "- проверка статуса"
   ]
  },
  {
   "cell_type": "code",
   "execution_count": null,
   "id": "bd66a6e3-debc-4c17-a6b1-97eada4b6d32",
   "metadata": {},
   "outputs": [],
   "source": [
    "git status"
   ]
  },
  {
   "cell_type": "markdown",
   "id": "970bca68-95bd-469c-9106-946a53c33742",
   "metadata": {},
   "source": [
    "- Добавь нужные файлы в Git"
   ]
  },
  {
   "cell_type": "code",
   "execution_count": null,
   "id": "d6d74603-58e1-4749-81df-b65f148d058f",
   "metadata": {},
   "outputs": [],
   "source": [
    "git add .gitignore"
   ]
  }
 ],
 "metadata": {
  "kernelspec": {
   "display_name": "Python 3.10",
   "language": "python",
   "name": "python310"
  },
  "language_info": {
   "codemirror_mode": {
    "name": "ipython",
    "version": 3
   },
   "file_extension": ".py",
   "mimetype": "text/x-python",
   "name": "python",
   "nbconvert_exporter": "python",
   "pygments_lexer": "ipython3",
   "version": "3.11.9"
  }
 },
 "nbformat": 4,
 "nbformat_minor": 5
}
