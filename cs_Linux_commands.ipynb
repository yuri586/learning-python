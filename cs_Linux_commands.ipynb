{
 "cells": [
  {
   "cell_type": "code",
   "execution_count": null,
   "id": "f738161d-499a-4aba-84db-80aba989a90b",
   "metadata": {},
   "outputs": [],
   "source": [
    "cd /etc\n",
    "cd /usr/bin\n",
    "cd lib\n",
    "cd ..\n",
    "cd ../..\n",
    "cd ~\n",
    "cd\n",
    "cd ~-\n",
    "pwd\n",
    "echo ~+\n",
    "echo ~-\n",
    "echo ~\n",
    "echo Hello world\n",
    "clear\n",
    "exit"
   ]
  },
  {
   "cell_type": "markdown",
   "id": "9460b216-9197-4334-9b87-cc20f4c92880",
   "metadata": {},
   "source": [
    "### Документация"
   ]
  },
  {
   "cell_type": "code",
   "execution_count": null,
   "id": "4e377b77-62a2-4653-8f11-794bedaabfd0",
   "metadata": {},
   "outputs": [],
   "source": [
    "Запуск многих программ с ключом --help дает перечень ключей:\n",
    "$ cp --help\n",
    "\n",
    "Подробную информацию можно узнать с помощью man (manual):\n",
    "$ man cp\n",
    "\n",
    "Также может быть полезен man по конфигурационным файлам. Например \n",
    "$ man 5 passwd\n",
    "\n",
    "Сравните с:\n",
    "$ man passwd\n",
    "\n",
    "Полезная команда:\n",
    "$ man man\n",
    "\n",
    "Для поиска нужного мануала используют команду apropos. \n",
    "$ apropos copy\n"
   ]
  },
  {
   "cell_type": "code",
   "execution_count": null,
   "id": "c01a15a2-f74d-4e91-8aaf-653d379d4c2f",
   "metadata": {},
   "outputs": [],
   "source": [
    "sudo apt-get install mc"
   ]
  },
  {
   "cell_type": "code",
   "execution_count": null,
   "id": "3826c1dc-eec6-4838-be4a-ee73766e1491",
   "metadata": {},
   "outputs": [],
   "source": [
    "sudo apt-get install openssh-server"
   ]
  }
 ],
 "metadata": {
  "kernelspec": {
   "display_name": "Python 3 (ipykernel)",
   "language": "python",
   "name": "python3"
  },
  "language_info": {
   "codemirror_mode": {
    "name": "ipython",
    "version": 3
   },
   "file_extension": ".py",
   "mimetype": "text/x-python",
   "name": "python",
   "nbconvert_exporter": "python",
   "pygments_lexer": "ipython3",
   "version": "3.12.3"
  }
 },
 "nbformat": 4,
 "nbformat_minor": 5
}
