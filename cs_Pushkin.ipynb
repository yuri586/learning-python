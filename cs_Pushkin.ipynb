{
 "cells": [
  {
   "cell_type": "markdown",
   "id": "f8aa6338-c9fb-4713-8805-206ef11a659b",
   "metadata": {},
   "source": [
    "**136.Single Number**"
   ]
  },
  {
   "cell_type": "code",
   "execution_count": null,
   "id": "667ea731-9d42-4f25-a2c3-a7b06ec77376",
   "metadata": {},
   "outputs": [],
   "source": [
    "class Solution:\n",
    "    def singleNumber(self, nums: List[int]) -> int:\n",
    "        # Получаем словарь с подсчетом каждого числа\n",
    "        cnt = GetHashOfAllElements(nums)\n",
    "        # Находим число, которое встречается только один раз\n",
    "        single = GetASingleNumber(cnt)\n",
    "        return single\n",
    "\n",
    "def GetHashOfAllElements(nums) -> dict[int, int]:\n",
    "    # Создаем специальный словарь defaultdict, который при обращении \n",
    "    # к несуществующему ключу автоматически создаст значение 0\n",
    "    ans = collections.defaultdict(int)\n",
    "\n",
    "    # Проходим по каждому числу в массиве\n",
    "    for num in nums:\n",
    "        # Увеличиваем счетчик для этого числа на 1\n",
    "        ans[num] += 1\n",
    "    return ans\n",
    "\n",
    "\n",
    "\n",
    "def GetASingleNumber(cnt) -> int:\n",
    "    # Проходим по всем парам ключ-значение в словаре\n",
    "    for key, val in cnt.items():\n",
    "        # Если значение равно 1 (число встречается один раз)\n",
    "        if val == 1:\n",
    "            # Возвращаем это число\n",
    "            return key\n",
    "    # Если такого числа не нашлось, возвращаем -1\n",
    "    return -1"
   ]
  },
  {
   "cell_type": "code",
   "execution_count": null,
   "id": "a6bd8cc9-70f0-4fa2-b58b-fc7a978a3114",
   "metadata": {},
   "outputs": [],
   "source": []
  }
 ],
 "metadata": {
  "kernelspec": {
   "display_name": "Python 3 (ipykernel)",
   "language": "python",
   "name": "python3"
  },
  "language_info": {
   "codemirror_mode": {
    "name": "ipython",
    "version": 3
   },
   "file_extension": ".py",
   "mimetype": "text/x-python",
   "name": "python",
   "nbconvert_exporter": "python",
   "pygments_lexer": "ipython3",
   "version": "3.12.8"
  }
 },
 "nbformat": 4,
 "nbformat_minor": 5
}
