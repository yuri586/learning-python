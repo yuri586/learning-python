{
 "cells": [
  {
   "cell_type": "markdown",
   "id": "eeced391-6b24-4676-ba16-ae596e22e4ee",
   "metadata": {},
   "source": [
    "# Алгоитмы и структуры данных. Тимофей Хирьянов 2017 -2018\n",
    "______________________________________________________________\n",
    "\n"
   ]
  },
  {
   "cell_type": "markdown",
   "id": "5ee656d4-9102-4a08-acc2-e02bea77134c",
   "metadata": {},
   "source": [
    "### Обмен переменных значениями"
   ]
  },
  {
   "cell_type": "code",
   "execution_count": null,
   "id": "cfad4245-678b-47ba-8dcd-6b78ed37da11",
   "metadata": {},
   "outputs": [],
   "source": [
    "\n",
    "** Обмен двух переменных через дополнительную третью.\n",
    "\n",
    "a = 2\n",
    "b = 5\n",
    "tmp = a\n",
    "a = b\n",
    "b = tmp\n",
    "________________________________________\n",
    "** Обмен двух переменных через две дополнительные переменные.\n",
    "\n",
    "a = 2\n",
    "b = 5\n",
    "tmp1 = b\n",
    "tmp2 = a\n",
    "a = tmp1\n",
    "b = tmp2\n",
    "________________________________________\n",
    "** Каскадное присваивание(трамвайное)\n",
    "\n",
    "x = y = z = 0\n",
    "________________________________________\n",
    "** Множественное присваивание\n",
    "\n",
    "tmp1, tmp2 = b, a\n",
    "a, b = tmp1, tmp2\n",
    "\n",
    "* или \n",
    "а, b = b, a"
   ]
  },
  {
   "cell_type": "markdown",
   "id": "ed619b4c-8760-46c8-b6f6-a4d8242141d9",
   "metadata": {},
   "source": [
    "### алгоритм поиска признака (флага)"
   ]
  },
  {
   "cell_type": "code",
   "execution_count": null,
   "id": "4aa9d184-caee-4a61-9189-d7078bb1a541",
   "metadata": {},
   "outputs": [],
   "source": [
    "**Программа проверяет, есть ли среди введенных чисел хотя бы одно, которое делится на 0\n",
    "\n",
    "flag = False\n",
    "N = int(input())\n",
    "for i in range(N):\n",
    "    x = int(input())\n",
    "    flag = (x % 10 == 0) or flag\n",
    " \n",
    "print(flag)\n",
    "\n",
    "________________________________________\n",
    "** Программа проверяет, есть ли среди введенных чисел хотя бы одно, которое делится на 0\n",
    "\n",
    "flag = True\n",
    "N = int(input())\n",
    "for i in range(N):\n",
    "    x = int(input())\n",
    "    flag = (flag and x % 10 == 0)\n",
    "\n",
    "print(flag)"
   ]
  },
  {
   "cell_type": "markdown",
   "id": "ea4dba98-88a8-4935-8d62-1d4dd9756726",
   "metadata": {},
   "source": [
    "### Вложенные и последовательные if-ы"
   ]
  },
  {
   "cell_type": "code",
   "execution_count": null,
   "id": "cb706001-0106-49d8-9e8f-331215e94dc2",
   "metadata": {},
   "outputs": [],
   "source": [
    "x = int(input())\n",
    "if x == 1:            <=>     if x == 1 or x == 2:\n",
    "    print('yes')   \n",
    "________________________________________\n",
    "\n",
    "if x % 2 == 0:\n",
    "    if x % 3 == 0:    <=>     if x % 2 == 0 and x % 3 == 0:\n",
    "        print('on 6')"
   ]
  },
  {
   "cell_type": "markdown",
   "id": "7f00bfe8-a8c6-4b29-97cb-6f4f65100596",
   "metadata": {},
   "source": [
    "### Каскадная условная конструкция"
   ]
  },
  {
   "cell_type": "code",
   "execution_count": null,
   "id": "fa2d6650-5823-41ae-9f2e-c9d16a550d9d",
   "metadata": {},
   "outputs": [],
   "source": [
    "** Конструкция бинарного разделения\n",
    "    y\n",
    "    |\n",
    "II__|__I__ x\n",
    "III |  IV\n",
    "    |\n",
    "\n",
    "if y > 0:\n",
    "    if x > 0:\n",
    "        print('I')\n",
    "    else:\n",
    "        print('II')\n",
    "else:\n",
    "    if x < 0:\n",
    "        print('III')\n",
    "    else:\n",
    "        print('IV')\n",
    "________________________________________\n",
    "\n",
    "** Линейная конструкция\n",
    "\n",
    "  A    B    C    D\n",
    "____|____|____|____\n",
    "    0    5    10\n",
    "\n",
    "x = int(input())\n",
    "if x < 0:\n",
    "    print('A')\n",
    "elif x < 5:\n",
    "    print('B')\n",
    "elif x < 10:\n",
    "    print('C')   \n",
    "else:\n",
    "    print('D')"
   ]
  },
  {
   "cell_type": "markdown",
   "id": "3228a9ec-5dce-4617-9f19-70a162335984",
   "metadata": {},
   "source": [
    "### Позиционные системы счисления"
   ]
  },
  {
   "cell_type": "markdown",
   "id": "dfda0ba0-89b5-464a-a293-66ab0b9e3aa4",
   "metadata": {},
   "source": [
    "- Цифра - символ для кодирования чисел\n",
    "- Число - не привязано к системе кодирования, существует не зависимо от способа своей записи"
   ]
  },
  {
   "cell_type": "code",
   "execution_count": null,
   "id": "f49f0168-ed76-45b9-bcaf-64caaa23b3de",
   "metadata": {},
   "outputs": [],
   "source": [
    "1234(осн:10)                      1234(осн:5)\n",
    "1000   =   1х10**3                1000   =   1х5**3\n",
    " 200   =   2х10**2                 200   =   2х5**2\n",
    "  30   =   3х10**1                  30   =   3х5**1\n",
    "   4   =   4х10**0                   4   =   4х5**0"
   ]
  },
  {
   "cell_type": "markdown",
   "id": "c59cc6d9-af90-4a2a-8068-5f25f4d2f5e5",
   "metadata": {},
   "source": [
    "### Двоичная система счисления"
   ]
  },
  {
   "cell_type": "markdown",
   "id": "62abb675-0683-4524-8f67-226b508da609",
   "metadata": {},
   "source": [
    "- **Таблица умножения**\n",
    "|  x| 0 |  1|\n",
    "| --- | --- | --- |\n",
    "|0  | 0 | 0 |\n",
    "|  1|  0|  1|"
   ]
  },
  {
   "cell_type": "markdown",
   "id": "cb0f70b1-5e66-428c-8067-5f5bbb9c3620",
   "metadata": {},
   "source": [
    "- **Таблица сложения**\n",
    "\n",
    "| + | 0 | 1 |\n",
    "| --- | --- | --- |\n",
    "|  0| 0 | 1 |\n",
    "|  1| 1 | 0 |"
   ]
  },
  {
   "cell_type": "markdown",
   "id": "6ea06c83-e629-4c9e-b341-bb4d38341722",
   "metadata": {},
   "source": [
    "- **Бит — это самая маленькая единица информации в компьютере.**\n",
    "В двоичной системе это как двоичный разряд\n",
    "\n",
    "\n",
    "|    |    |    |    |\n",
    "|----|----|----|----| \n",
    "| 0  | 0  | 0  | **0**  |    \n",
    "| 0  | 0  | 0  | **1**  |     \n",
    "| 0  | 0  | **1**  | **0**  |      \n",
    "| 0  | 0  | **1**  | **1**  |     \n",
    "| 0  | **1**  | **0**  | **0**  |  "
   ]
  },
  {
   "cell_type": "markdown",
   "id": "b1a036d5-56fb-40c0-bb6a-b1b8d400a474",
   "metadata": {},
   "source": [
    "### Сводная таблица чисел в системах счисления"
   ]
  },
  {
   "cell_type": "markdown",
   "id": "5b581386-9b8d-49a1-978e-3b9fbdf88a88",
   "metadata": {},
   "source": [
    "|2-ная| 4-ная|8-ная|16-ная|10-ная|\n",
    "| --- | --- | --- | --- | --- |\n",
    "| 0000| 0   | 0   | 0   |  0  |\n",
    "| 0001| 1   | 1   | 1   |  1  |\n",
    "| 0010| 2   | 2   | 2   |  2  |\n",
    "| 0011| 3   | 3   | 3   |  3  |\n",
    "| 0100| 10  | 4   | 4   |  4  |\n",
    "| 0101| 11  | 5   | 5   |  5  |\n",
    "| 0110| 12  | 6   | 6   |  6  |\n",
    "| 0111| 13  | 7   | 7   |  7  |\n",
    "| 1000| 20  | 10  | 8   |  8  |\n",
    "| 1001| 21  | 11  | 9   |  9  |\n",
    "| 1010| 22  | 12  | А   |  10 |\n",
    "| 1011| 23  | 13  | B   |  11 |\n",
    "| 1100| 30  | 14  | C   |  12 |\n",
    "| 1101| 31  | 15  | D   |  13 |\n",
    "| 1110| 32  | 16  | E   |  14 |\n",
    "| 1111| 33  | 17  | F   |  15 |\n",
    "|10000| 100 | 20  | 10  |  16 |"
   ]
  },
  {
   "cell_type": "markdown",
   "id": "2f7a5406-95ce-49b3-bdf3-03ff03140202",
   "metadata": {},
   "source": [
    "### Перевод из одной системы (х) в другую(у) х -- > у:\n"
   ]
  },
  {
   "cell_type": "markdown",
   "id": "751a055d-8e90-4726-852a-db5087272b67",
   "metadata": {},
   "source": [
    "- **Из 8-ной --> в 2-ную.** Используем триады (000), т.к 8-ная система счисления соответствует трем двоичным цифрам. Идем слева на право:"
   ]
  },
  {
   "cell_type": "markdown",
   "id": "204324cb-6c1d-4e2e-b03e-513acb2e22c3",
   "metadata": {},
   "source": [
    "(7)(3)(6)(5)(2)(осн:8) --> (111)(011)(110)(101)(010)осн:2"
   ]
  },
  {
   "cell_type": "markdown",
   "id": "d7b37479-7aa7-4c82-a6af-f5f34ecb6d22",
   "metadata": {},
   "source": [
    "- **Из 2-ной --> в 4-ную.** Используем диады (00), т.к 4-ная система счисления соответствует двум четверичным цифрам. Разбиваем справа на лево, из-за добавления незначащих нулей:"
   ]
  },
  {
   "cell_type": "markdown",
   "id": "618b865c-6ea2-46b3-86c9-2382d568af9f",
   "metadata": {},
   "source": [
    "(01)(11)(01)(11)(10)(10)(10)(10)(осн:2) -->  13132222(oсн:4)"
   ]
  },
  {
   "cell_type": "markdown",
   "id": "65b8de81-1037-4aa5-932d-fa95aef717a8",
   "metadata": {},
   "source": [
    "- **Дописывание числа 0 справа увеличивает число в n раз (n = система счисления):**\n",
    "\n",
    "|  2-ная система, х2|    Представление в 10-ной системе|\n",
    "| ------------------| ---------------------------------|\n",
    "|  10               | 2                        |\n",
    "|  100              | 4                        |\n",
    "|  1000             | 8                        |\n",
    "|  10000            | 16                       |\n",
    "\n",
    "\n",
    "\n",
    "|  4-ная система, х4|    Представление в 10-ной системе|\n",
    "| ------------------| ---------------------------------|\n",
    "|  10               | 4                         |\n",
    "|  100              | 16                        |\n",
    "|  1000             | 64                        |\n",
    "|  10000            | 256                       |\n",
    "\n",
    "\n",
    "\n",
    "|  8-ная система, х8|    Представление в 10-ной системе|\n",
    "| ------------------| ---------------------------------|\n",
    "|  10               | 8                                |\n",
    "|  100              | 64                               |\n",
    "|  1000             | 512                              |\n",
    "|  10000            | 4096                             |\n",
    "\n",
    "\n",
    "|  16-ная система, х16|    Представление в 10-ной системе|\n",
    "| ------------------| ---------------------------------|\n",
    "|  10               |  16                              |\n",
    "|  100              |  256                             |\n",
    "|  1000             | 4096                             |\n",
    "|  10000            |  65536                           |"
   ]
  },
  {
   "cell_type": "markdown",
   "id": "8fda2183-fa9e-43f2-9ed5-38958fe3d0a4",
   "metadata": {},
   "source": [
    "- **Из 2-ной --> в 16-ную.** Используем тетрады (0000). Разбиваем справа на лево:\n",
    "\n",
    "(0111)(0111)(1010)(1010)осн:2 --> 77АА  = 2 байта = 8 бит"
   ]
  },
  {
   "cell_type": "markdown",
   "id": "db30b331-4176-43ab-90cf-139455146161",
   "metadata": {},
   "source": [
    "### Схема Горнера\n",
    "- **Вычисляем число 1234(осн:5) в --> 10-ую двигаясь слева на право**:\n",
    "\n",
    "1234(осн:5)\n",
    "\n",
    "1(осн:5) = 1\n",
    "12(осн:5) = 10(осн:5) + 2 = 1 * 5 + 2\n",
    "123(осн:5) = 120(осн:5) + 3 = ((1 * 5 + 2) * 5) + 3\n",
    "1234(осн:5) = 1230((осн:5)) + 4 = (((1 * 5 + 2) * 5) + 3) * 5 + 4 = 194\n",
    "\n",
    "- **Вычисляем число 194(осн:5) --> в : натуральное число (x) + остаток (4) = 194(осн:10)**\n",
    "\n",
    "\n",
    "194 / 5 = 38*5 + 4\n",
    "\n",
    "38 = 38 / 5 = 7*5 + 3\n",
    "\n",
    "7 = 7 / 5 = 1*5 + 2\n",
    "\n",
    "194 = ((1*5 + 2) * 5 + 3)*5 + 4 \n",
    "  \n",
    " \n"
   ]
  },
  {
   "cell_type": "markdown",
   "id": "a433579e-11d3-4e84-b268-387c2922b07b",
   "metadata": {},
   "source": [
    "### Cистемы счисления в Питоне"
   ]
  },
  {
   "cell_type": "markdown",
   "id": "2c4cfcd5-0456-4f81-89b3-1edda8c7d47b",
   "metadata": {},
   "source": [
    "- **2, 4, 16 - ные системы. Литералы:**"
   ]
  },
  {
   "cell_type": "code",
   "execution_count": 77,
   "id": "a3ab851b-0c6c-43f4-a859-a0910cce6ef4",
   "metadata": {},
   "outputs": [
    {
     "name": "stdout",
     "output_type": "stream",
     "text": [
      "61,474,64011\n"
     ]
    }
   ],
   "source": [
    "x = 0b111101 # двоичная  в 10-ную\n",
    "y = 0o0732 # 8-ная  в 10-ную\n",
    "z = 0xFA0B # 16-ная  в 10-ную\n",
    "print(x, y, z, sep=',')"
   ]
  },
  {
   "cell_type": "markdown",
   "id": "5484fe4f-173c-49f8-a164-af11025dffa5",
   "metadata": {},
   "source": [
    "- **N - я (до 36-ной) система счисления ---> в 10-ную:**"
   ]
  },
  {
   "cell_type": "code",
   "execution_count": 85,
   "id": "1d56789c-d061-40b8-b137-b96baa6d556a",
   "metadata": {},
   "outputs": [
    {
     "name": "stdout",
     "output_type": "stream",
     "text": [
      "45483\n",
      "16152\n"
     ]
    }
   ],
   "source": [
    "a = int('Z3F', 36) \n",
    "\n",
    "# или:\n",
    "a = int('Z3F', base = 36)\n",
    "print(a)\n",
    "\n",
    "b = int('65043', base = 7)\n",
    "print(b)"
   ]
  },
  {
   "cell_type": "markdown",
   "id": "7bf708a2-020e-41e0-8343-d564e318de35",
   "metadata": {},
   "source": [
    "- **bin(x)** - возвращает двоичное представление числа\n",
    "- **oct(x)** - 8-ное \n",
    "- **hex(x)** - 16-ное"
   ]
  },
  {
   "cell_type": "code",
   "execution_count": null,
   "id": "d7bcfc26-d70c-4213-9251-c5b1c7b5ee7f",
   "metadata": {},
   "outputs": [],
   "source": [
    "x = 127\n",
    "bin(x)\n",
    "oct(x)\n",
    "hec(x)"
   ]
  },
  {
   "cell_type": "markdown",
   "id": "40133ece-2f7e-4b44-b636-727a236fd8ef",
   "metadata": {},
   "source": [
    "**Программы на Питоне:**\n",
    "- Добывает из числа цифры и собирает число в произвольную систему счисления (по схеме Горднера):\n"
   ]
  },
  {
   "cell_type": "code",
   "execution_count": null,
   "id": "21a6aafc-60e9-4ac6-b713-ff55e9579dfc",
   "metadata": {},
   "outputs": [],
   "source": [
    "base = 2\n",
    "\n",
    "x = 35\n",
    "while x > 0:\n",
    "    digit = x % base # Взять последнюю цифру\n",
    "    print(digit)\n",
    "    x //= base # Зачеркнуть последнюю цифру"
   ]
  },
  {
   "cell_type": "markdown",
   "id": "5a2021f1-2aa7-42c1-a9d2-1d03e2d0ba26",
   "metadata": {},
   "source": [
    "### Однопроходные алгоритмы"
   ]
  },
  {
   "cell_type": "code",
   "execution_count": null,
   "id": "7e085822-b53a-4c49-a6e9-e74d7340afae",
   "metadata": {},
   "outputs": [],
   "source": [
    "1. Из числа получаем число х -> х\n",
    "2. Из числа получаем последовательность x -> [x1, x2 ... xn]\n",
    "3. Из последовательности число [x1, x2 ... xn] -> x \n",
    "___________________________________________________\n",
    "                     начало      переход                        \n",
    "                      [ ]        \n",
    "___________________________________________________\n",
    "подсчет          n     0         n += 1   \n",
    "сумма            s     0         s += x\n",
    "произведение     p     1         p *= x\n",
    "максимум         m               m = max(m, x)\n",
    "                                 if x > m:\n",
    "                                     m = x\n",
    "поиск числа      f    False      f = f or (x == x0)\n",
    "                                 if x == x0:\n",
    "                                     f = True  "
   ]
  },
  {
   "cell_type": "markdown",
   "id": "c2a8bfa3-5918-4e05-ba77-7123344301a5",
   "metadata": {},
   "source": [
    "### Функции. Алгоритмы ###"
   ]
  },
  {
   "cell_type": "markdown",
   "id": "e376949b-ab9d-4a0c-9d59-6f5b4bf26604",
   "metadata": {},
   "source": [
    "- **Поиск максимального значения**"
   ]
  },
  {
   "cell_type": "code",
   "execution_count": 5,
   "id": "ff6552a3-4f2d-43e4-b326-970cdd3a7b7b",
   "metadata": {},
   "outputs": [
    {
     "name": "stdout",
     "output_type": "stream",
     "text": [
      "7\n",
      "17\n",
      "abd\n"
     ]
    }
   ],
   "source": [
    "def max2(x,y):\n",
    "    if x > y:\n",
    "        return x\n",
    "    return y\n",
    "\n",
    "\n",
    "def max3(x,y,z):\n",
    "    return max2(x, max2(y,z))\n",
    "\n",
    "print(max3(5,2,7))\n",
    "print(max3(1.5,0.2,17))\n",
    "print(max3('ab','abc','abd'))"
   ]
  },
  {
   "cell_type": "markdown",
   "id": "a706ed55-ddef-4960-9194-3a17b4469da2",
   "metadata": {},
   "source": []
  },
  {
   "cell_type": "markdown",
   "id": "8f1a66de-ec90-4d07-a823-973aefeb9d60",
   "metadata": {},
   "source": [
    "### Алгоритмы метод грубой силы (перебор всех ответов) ###"
   ]
  },
  {
   "cell_type": "markdown",
   "id": "c833c655-e0ff-4b50-8a64-85de4d6bc6ed",
   "metadata": {},
   "source": [
    "**1. Определяет, является ли число простым**"
   ]
  },
  {
   "cell_type": "code",
   "execution_count": null,
   "id": "ffa6cc70-5ea6-479f-8b5b-b8680fa10ca1",
   "metadata": {},
   "outputs": [],
   "source": [
    "def is_simple_number(x):\n",
    "    \"\"\" Определяет, является ли число простым.\n",
    "        x - целое положительное число.\n",
    "        Если простое, то возвращает True, а иначе - False\n",
    "    \"\"\"\n",
    "    divisor = 2\n",
    "    while divisor < x:\n",
    "        if x%divisor == 0:\n",
    "            return False\n",
    "        divisor += 1\n",
    "    return True"
   ]
  },
  {
   "cell_type": "markdown",
   "id": "c005b4dc-d592-4161-8425-47e828e7a7b9",
   "metadata": {},
   "source": [
    "**2. Факторизация (разложение числа на множители)**"
   ]
  },
  {
   "cell_type": "code",
   "execution_count": null,
   "id": "53b4f249-e136-4d4f-993d-dad96787640b",
   "metadata": {},
   "outputs": [],
   "source": [
    "def factorize_number(x):\n",
    "    \"\"\"Раскладывает число на множители.\n",
    "        Печатает их на экран.\n",
    "        х - целое положительное число.\n",
    "    \"\"\"\n",
    "    divisor = 2\n",
    "    while x > 1:\n",
    "        if x%divisor == 0:\n",
    "            print(divisor)\n",
    "            x //= divisor\n",
    "        else:\n",
    "            divisor += 1"
   ]
  },
  {
   "cell_type": "markdown",
   "id": "d8aa53c2-9170-4013-817d-a33b9e6c18d7",
   "metadata": {},
   "source": [
    "### Массивы ###"
   ]
  },
  {
   "cell_type": "markdown",
   "id": "7a093b5a-1cd3-4a2d-9cb8-a38951616bf0",
   "metadata": {},
   "source": [
    "- Алгоритм сохранение последовательности в массив"
   ]
  },
  {
   "cell_type": "code",
   "execution_count": null,
   "id": "96cd61b7-4e3f-4dbb-b931-acc7b34c2a7c",
   "metadata": {},
   "outputs": [],
   "source": [
    "A = [0]*1000\n",
    "top = 0\n",
    "x = int(input())\n",
    "while x != 0:\n",
    "    A[top] = x\n",
    "    top +=1\n",
    "    x = int(input())\n",
    "for k in range(4,-1,-1):\n",
    "    print(A[k])"
   ]
  },
  {
   "cell_type": "markdown",
   "id": "383e7ce8-9f20-49f6-8d8e-db5bf7c97629",
   "metadata": {},
   "source": [
    "- Алгоритм линейный поиск массива"
   ]
  },
  {
   "cell_type": "code",
   "execution_count": null,
   "id": "06a0b4d9-4f59-47b1-8450-5f1b6b332755",
   "metadata": {},
   "outputs": [],
   "source": [
    "def array_search(A:list, N:int, x:int):\n",
    "    \"\"\" Осуществляет поиск числа х в массиве А\n",
    "        от 0 до N-1 индекса включительно.\n",
    "        Возвращает индекс элемента х в массиве А.\n",
    "        Или -1, если такого нет.\n",
    "        Если в массиве несколько одинаковых элементов,\n",
    "        равных х, то вернуть индекс первого по счету.\n",
    "    \"\"\"\n",
    "    pass"
   ]
  },
  {
   "cell_type": "markdown",
   "id": "9e7743bf-46b3-4f94-9f75-43be596ceccb",
   "metadata": {},
   "source": [
    "- Алгоритм копирования массива"
   ]
  },
  {
   "cell_type": "code",
   "execution_count": null,
   "id": "2e5c5137-1b6f-437e-88ae-ffc8da06f2b0",
   "metadata": {},
   "outputs": [],
   "source": [
    "N = int(input())\n",
    "A = [0]*N\n",
    "B = [0]*N\n",
    "for k in range(N):\n",
    "    A[k] = int(input())\n",
    "for k in range(N):\n",
    "    B[k] = A[k]"
   ]
  },
  {
   "cell_type": "markdown",
   "id": "9eb58e43-701b-4630-81ec-8701fd5c16ff",
   "metadata": {},
   "source": [
    "- Алгоритм копирования задом наперед"
   ]
  },
  {
   "cell_type": "code",
   "execution_count": null,
   "id": "09677425-9d77-46af-891c-2e9b573f289b",
   "metadata": {},
   "outputs": [],
   "source": [
    "def invert_array(A:list, N:int):\n",
    "    \"\"\" Обращение массива (поворот задом-наперед)\n",
    "        в рамках индексов от 0 до N-1\n",
    "    \"\"\"\n",
    "    for k in range(N // 2):\n",
    "        A[k], A[N-1-k] = A[N-1-k], A[k]\n",
    "\n",
    "    return A\n",
    "def test_invert_array():\n",
    "    A1 = [1,2,3,4,5]\n",
    "    invert_array(A1, 5)\n",
    "    if A1 == [5,4,3,2,1]:\n",
    "        print(\"# test1 - ok\")\n",
    "    else:\n",
    "        print(\"# test1 - fail\")\n",
    "\n",
    "    A2 = [0,0,0,0,0,0,0,10]\n",
    "    invert_array(A2, 8)\n",
    "    if A2 == [10, 0, 0, 0, 0, 0, 0, 0]:\n",
    "        print(\"# test2 - ok\")\n",
    "    else:\n",
    "        print(\"# test2 - fail\")\n",
    "\n",
    "test_invert_array()"
   ]
  },
  {
   "cell_type": "markdown",
   "id": "4058e042-9952-49f6-94b1-f5510b04db33",
   "metadata": {},
   "source": [
    "- Алгоритм циклический сдвиг влево (копирование справа на лево, движение 'грузчика' слева направо"
   ]
  },
  {
   "cell_type": "code",
   "execution_count": 5,
   "id": "3b33d00c-1358-4133-ac6e-25951a56430f",
   "metadata": {},
   "outputs": [
    {
     "name": "stdout",
     "output_type": "stream",
     "text": [
      "[2, 3, 4, 5, 1]\n"
     ]
    }
   ],
   "source": [
    "A = [1,2,3,4,5]\n",
    "tmp = A[0]\n",
    "N = len(A)\n",
    "for k in range(N-1):\n",
    "    A[k] = A[k+1]\n",
    "A[N-1] = tmp\n",
    "print(A)"
   ]
  },
  {
   "cell_type": "markdown",
   "id": "d808efcc-0687-4236-8b7b-e9aeb34b6b53",
   "metadata": {},
   "source": [
    "- Алгоритм циклический сдвиг вправо (копирование слева направо, движение грузчика справа на лево)"
   ]
  },
  {
   "cell_type": "code",
   "execution_count": 7,
   "id": "0710e0d5-148e-4838-b908-4f6d5b9e9f6a",
   "metadata": {},
   "outputs": [
    {
     "name": "stdout",
     "output_type": "stream",
     "text": [
      "[5, 1, 2, 3, 4]\n"
     ]
    }
   ],
   "source": [
    "A = [1,2,3,4,5]\n",
    "N = len(A)\n",
    "tmp = A[N-1]\n",
    "\n",
    "for k in range(N-2, -1,-1):\n",
    "    A[k+1] = A[k]\n",
    "A[0] = tmp\n",
    "print(A)"
   ]
  },
  {
   "cell_type": "markdown",
   "id": "236d830a-b54f-46fb-9fc0-52c7f4952f41",
   "metadata": {},
   "source": [
    "- Алгоритм решето Эратосфена (поиск простых чисел)"
   ]
  },
  {
   "cell_type": "code",
   "execution_count": null,
   "id": "de72296a-d54e-4209-b072-517ce38ab25c",
   "metadata": {},
   "outputs": [],
   "source": [
    "Numb = 500\n",
    "A = [True] * Numb\n",
    "A[0] = A[1] = False\n",
    "N = len(A)\n",
    "\n",
    "for k in range(2, N):\n",
    "    if A[k]:\n",
    "        for m in range(2*k, N, k):\n",
    "            A[m] = False\n",
    "for k in range(N):\n",
    "    print(k, '-', 'простое' if A[k] else 'составное')"
   ]
  },
  {
   "cell_type": "markdown",
   "id": "e4e517db-61c0-40be-9103-b6119758fe41",
   "metadata": {},
   "source": [
    "### Алгоритмы на сортировку массива"
   ]
  },
  {
   "cell_type": "markdown",
   "id": "b8aa7048-ef4a-4fcb-8b17-55707d4a2612",
   "metadata": {},
   "source": [
    "- Квадратичные сортировки O(N*N)(асимптотика по скорости вычислений: количество операций ~= n**2)"
   ]
  },
  {
   "cell_type": "markdown",
   "id": "aef18d82-1149-44c9-b8e3-4b17757d7e8b",
   "metadata": {},
   "source": [
    "1. **Сортировка вставками (insert sort):**"
   ]
  },
  {
   "cell_type": "markdown",
   "id": "fdb9e869-cb21-4aec-a4d9-55aa73d0034f",
   "metadata": {},
   "source": [
    "2. **Сортировка методом выбора (choise sort):**"
   ]
  },
  {
   "cell_type": "markdown",
   "id": "43bd492c-46e1-4161-a079-c1456e5d0704",
   "metadata": {},
   "source": [
    "3. **Сортировка методом пузырька**"
   ]
  },
  {
   "cell_type": "code",
   "execution_count": null,
   "id": "514832b1-ee6a-4d0c-a966-3403692c8c88",
   "metadata": {},
   "outputs": [],
   "source": [
    "def insert_sort(A):\n",
    "    \"\"\" сортировка списка А вставками \"\"\"\n",
    "    N = len(A)\n",
    "    for top in range(1,N):\n",
    "        k = top\n",
    "        while k > 0 and A[k-1] > A[k]:\n",
    "            A[k], A[k-1] = A[k-1],A[k]\n",
    "            k -= 1\n",
    "def choise_sort(A):\n",
    "    \"\"\" сортировка списка А выбором \"\"\"\n",
    "    N = len(A)\n",
    "    for pos in range(0, N-1):\n",
    "        for k in range(pos+1, N):\n",
    "            if A[k] < A[pos]:\n",
    "                A[k], A[pos] = A[pos], A[k]\n",
    "def bubble_sort(A):\n",
    "    \"\"\" сортировка списка А методом пузырька \"\"\"\n",
    "    N = len(A)\n",
    "    for bypass in range(1,N):\n",
    "        for k in range(0, N-bypass):\n",
    "            if A[k] > A[k+1]:\n",
    "                A[k], A[k+1] = A[k+1], A[k]\n",
    "def test_sort(sort_algoritm):\n",
    "    print(\"Тестируем: \", sort_algoritm.__doc__)\n",
    "    print(\"testcase #1: \", end=\"\")\n",
    "    A = [4,2,5,1,3]\n",
    "    A_sorted = [1,2,3,4,5]\n",
    "    sort_algoritm(A)\n",
    "    print(\"ok\" if A == A_sorted else \"Fail\")\n",
    "\n",
    "    print(\"testcase #2: \", end=\"\")\n",
    "    A = list(range(10,20)) + list(range(0, 10))\n",
    "    A_sorted = list(range(20))\n",
    "    sort_algoritm(A)\n",
    "    print(\"ok\" if A == A_sorted else \"Fail\")\n",
    "\n",
    "    print(\"testcase #3: \", end=\"\")\n",
    "    A = [4, 2, 4, 2, 1]\n",
    "    A_sorted = [1, 2, 2, 4, 4]\n",
    "    sort_algoritm(A)\n",
    "    print(\"ok\" if A == A_sorted else \"Fail\")\n",
    "\n",
    "if __name__ == \"__main__\":\n",
    "    test_sort(insert_sort)\n",
    "    test_sort(choise_sort)\n",
    "    test_sort(bubble_sort)"
   ]
  },
  {
   "cell_type": "markdown",
   "id": "7cd4fe08-e627-43f1-a677-048af9d9001e",
   "metadata": {},
   "source": [
    "4. **Сортировка подсчетом (count sort)** # Сортирует быстро большое количество данных\n",
    "   по времени O(N), по памяти O(M), где М - количество различных элементов"
   ]
  },
  {
   "cell_type": "code",
   "execution_count": null,
   "id": "ef8d8731-5357-49b3-ab49-b6001734c8fc",
   "metadata": {},
   "outputs": [],
   "source": [
    "N = [1, 2, 3, 5, 2, 7, 6, 0, 9, 9, 2, 8, 6, 3, 4, 1, 5, 2, 4, 3, 7]\n",
    "F = [0] * 10  # Так как числа от 0 до 9\n",
    "\n",
    "# Частотный анализ\n",
    "for x in N:\n",
    "    F[x] += 1\n",
    "\n",
    "# Восстанавливаем отсортированный массив\n",
    "sorted_N = []\n",
    "for number in range(10):  # Проходим по возможным числам\n",
    "    for _ in range(F[number]):  # Добавляем число F[number] раз\n",
    "        sorted_N.append(number)\n",
    "\n",
    "print(sorted_N)"
   ]
  },
  {
   "cell_type": "markdown",
   "id": "531cf3e6-6d43-4bbe-a213-d7b51123f5d1",
   "metadata": {},
   "source": [
    "### Использование функционала языка Пайтен: \n",
    "1. Ручное управление,\n",
    "2. Использование методов,\n",
    "3. Использование for\n",
    "4. list comprehention\n",
    "5. Тернарный оператор"
   ]
  },
  {
   "cell_type": "markdown",
   "id": "86dbb05f-d03f-4926-bf70-18f5037db472",
   "metadata": {},
   "source": [
    "- Добавление элементов в массив:"
   ]
  },
  {
   "cell_type": "code",
   "execution_count": null,
   "id": "835d8f3b-3d4d-401f-8967-3c7af0d941e1",
   "metadata": {},
   "outputs": [],
   "source": [
    "#1. Ручное управление\n",
    "N_max = 1\n",
    "A = [0] * N_max\n",
    "n = 0\n",
    "x = int(input())\n",
    "A[n] = x\n",
    "n += 1\n",
    "\n",
    "#2. Использование метода\n",
    "A = []\n",
    "x =  int(input())\n",
    "A.append(x) "
   ]
  },
  {
   "cell_type": "markdown",
   "id": "18bebdad-2d54-4add-ad91-4c0b273203f1",
   "metadata": {},
   "source": [
    "- Удаление последнего элемента из массива:"
   ]
  },
  {
   "cell_type": "code",
   "execution_count": null,
   "id": "e6fece19-ccd0-4767-9ebb-fb0f6356e51e",
   "metadata": {},
   "outputs": [],
   "source": [
    "#1. Ручное управление\n",
    "n -= 1\n",
    "x = A[n]\n",
    "\n",
    "#2. Использование метода\n",
    "x = A.pop()"
   ]
  },
  {
   "cell_type": "markdown",
   "id": "167f4afd-7e23-48b8-9847-f533e350ebf2",
   "metadata": {},
   "source": [
    "- Создание списка состоящего из квадрата чисел"
   ]
  },
  {
   "cell_type": "code",
   "execution_count": 17,
   "id": "cf4154f9-8dff-425c-9249-5d6703a8a4ba",
   "metadata": {},
   "outputs": [],
   "source": [
    "#4. list comprehention работает быстрее\n",
    "A = [x**2 for x in range(10)]\n",
    "\n",
    "#3. Использование for работает медленнее\n",
    "A = []\n",
    "for x in range(10):\n",
    "    A.append(x**2)"
   ]
  },
  {
   "cell_type": "markdown",
   "id": "6397561b-d925-4774-8a09-0bfb9de62909",
   "metadata": {},
   "source": [
    "- На основе А создать список В и четные элементы возвести в квадрат"
   ]
  },
  {
   "cell_type": "code",
   "execution_count": null,
   "id": "4222b2d6-983a-4a86-ad71-46e29d3a3dba",
   "metadata": {},
   "outputs": [],
   "source": [
    "#3. Использование for\n",
    "B = []\n",
    "A = [1,2,3,4,5,7,12,9,6]\n",
    "for x in A:\n",
    "    if x%2 == 0:\n",
    "        B.append(x**2)\n",
    "\n",
    "#4. list comprehention\n",
    "B = [x**2 for x in A if x%2 == 0]\n",
    "\n",
    "#5. Тернарный оператор\n",
    "B = [0 if x < 0 else x**2 for x in A if x%2 == 0]"
   ]
  },
  {
   "cell_type": "markdown",
   "id": "502bd0c2-4f0e-46c0-b638-0b3c93ec8a9f",
   "metadata": {},
   "source": [
    "# Алгоритмы на Python 3. Лекция №7"
   ]
  },
  {
   "cell_type": "markdown",
   "id": "56843c1e-04a2-47b8-9745-edcea418f5c4",
   "metadata": {},
   "source": [
    "## Рекурсия"
   ]
  },
  {
   "cell_type": "markdown",
   "id": "ca4e0079-b259-4dd7-89ca-be9fe03b562d",
   "metadata": {},
   "source": [
    "![](images/images_Balakirev_shpora/recurs.png)"
   ]
  },
  {
   "cell_type": "markdown",
   "id": "ca1d4422-2751-4cba-b496-3c002b94a5e1",
   "metadata": {},
   "source": [
    "У рекурсии должен быть:\n",
    "- рекурентный случай, сведение к более простой подзадаче\n",
    "- крайний случай"
   ]
  },
  {
   "cell_type": "markdown",
   "id": "a5641cea-e690-4666-91e6-d881107d8a97",
   "metadata": {},
   "source": [
    "### Матрешка"
   ]
  },
  {
   "cell_type": "code",
   "execution_count": null,
   "id": "414187e1-98df-4dfa-a407-5ef828464a9b",
   "metadata": {},
   "outputs": [],
   "source": [
    "def matryoshka(n):\n",
    "    if n == 1:\n",
    "        print('Матрешечка')\n",
    "    else:\n",
    "        print('Верх матрешки n=', n)\n",
    "        matryoshka(n-1)\n",
    "        print('Низ матрешки n=', n)       "
   ]
  },
  {
   "cell_type": "markdown",
   "id": "fcbca8c8-e7e7-4293-b341-91c9dbe75fd0",
   "metadata": {},
   "source": [
    "### Факториал"
   ]
  },
  {
   "cell_type": "code",
   "execution_count": null,
   "id": "567227eb-8b82-4dcb-ba9d-4db0f38a459a",
   "metadata": {},
   "outputs": [],
   "source": [
    "\n",
    "\n",
    "def fact(n: int):\n",
    "    assert n >= 0, 'Факториал отрицательного не определен'\n",
    "    if n == 1:\n",
    "        return 1\n",
    "\n",
    "    return  fact(n-1)*n\n",
    "\n",
    "\n",
    "\n",
    "print(fact(5))"
   ]
  },
  {
   "cell_type": "code",
   "execution_count": null,
   "id": "7224274c-bcd2-442c-a7e6-aea1dd39de40",
   "metadata": {},
   "outputs": [],
   "source": [
    "fact(5)\n",
    " └── fact(4)\n",
    "      └── fact(3)\n",
    "           └── fact(2)\n",
    "                └── fact(1) → 1  (базовый случай)"
   ]
  },
  {
   "cell_type": "markdown",
   "id": "b662848d-9439-42a1-ae60-a0ab9d136329",
   "metadata": {},
   "source": [
    "### Алгоритм Евклида"
   ]
  },
  {
   "cell_type": "code",
   "execution_count": null,
   "id": "fff366d7-1c00-4144-bda7-f1123269d0ff",
   "metadata": {},
   "outputs": [],
   "source": [
    "def gcd(a,b):\n",
    "    if a == b:\n",
    "        return b\n",
    "    elif a > b:\n",
    "        return gcd(a-b,b)\n",
    "    else:\n",
    "        return gcd(a,b-a)\n",
    "\n",
    "print(gcd(24, 100))"
   ]
  },
  {
   "cell_type": "code",
   "execution_count": null,
   "id": "97afb3e0-576b-4a76-8556-9263e13befed",
   "metadata": {},
   "outputs": [],
   "source": [
    "def gcd(a,b):\n",
    "    if b == 0:\n",
    "        return a\n",
    "    else:\n",
    "        return gcd(b,a%b)\n",
    "\n",
    "print(gcd(27, 3))"
   ]
  },
  {
   "cell_type": "code",
   "execution_count": null,
   "id": "fc54391b-21d3-469e-b35d-96051d22975f",
   "metadata": {},
   "outputs": [],
   "source": [
    "def gcd(a,b):\n",
    "    return a if b == 0 else gcd(b,a%b)\n",
    "\n",
    "print(gcd(27, 3))"
   ]
  },
  {
   "cell_type": "markdown",
   "id": "f1cda60f-dbb9-447e-8aa5-6c776e90d241",
   "metadata": {},
   "source": [
    "### Быстрое возведение в степень"
   ]
  },
  {
   "cell_type": "code",
   "execution_count": null,
   "id": "d4dca52d-6c23-42dc-a9e0-3bbf96ff7786",
   "metadata": {},
   "outputs": [],
   "source": [
    "def pow(number: float, deg: int):\n",
    "    if deg == 0:\n",
    "        return 1\n",
    "    return pow(number, deg - 1) * number\n",
    "\n",
    "print(pow(3, 4))"
   ]
  },
  {
   "cell_type": "code",
   "execution_count": null,
   "id": "8a5783d5-d06c-40d3-8f4e-816b6968bec6",
   "metadata": {},
   "outputs": [],
   "source": [
    "def pow(number: float, deg: int):\n",
    "    if deg == 0:\n",
    "        return 1\n",
    "    elif deg % 2 == 0:\n",
    "        return pow(number*number, deg//2)\n",
    "    else:\n",
    "        return pow(number, deg - 1) * number\n",
    "\n",
    "print(pow(3, 40))"
   ]
  },
  {
   "cell_type": "markdown",
   "id": "25bcad8e-2c8c-4258-855b-f41bd15ddbbd",
   "metadata": {},
   "source": [
    "### Ханойская башня"
   ]
  },
  {
   "cell_type": "code",
   "execution_count": null,
   "id": "e0495e4a-3048-4010-9cdb-2e8f28ee7057",
   "metadata": {},
   "outputs": [],
   "source": []
  },
  {
   "cell_type": "markdown",
   "id": "67d98790-4bb1-4798-bc66-e83f15afff9c",
   "metadata": {},
   "source": [
    "# Алгоритмы на Python 3. Лекция №8"
   ]
  },
  {
   "cell_type": "code",
   "execution_count": null,
   "id": "83791af1-de45-4d10-a7f0-a4ade0359bf8",
   "metadata": {},
   "outputs": [],
   "source": []
  }
 ],
 "metadata": {
  "kernelspec": {
   "display_name": "Python [conda env:base] *",
   "language": "python",
   "name": "conda-base-py"
  },
  "language_info": {
   "codemirror_mode": {
    "name": "ipython",
    "version": 3
   },
   "file_extension": ".py",
   "mimetype": "text/x-python",
   "name": "python",
   "nbconvert_exporter": "python",
   "pygments_lexer": "ipython3",
   "version": "3.11.9"
  }
 },
 "nbformat": 4,
 "nbformat_minor": 5
}
