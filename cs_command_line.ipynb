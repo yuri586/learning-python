{
 "cells": [
  {
   "cell_type": "markdown",
   "id": "e77bc15d-30d5-408e-9371-a5ca9db88c5f",
   "metadata": {},
   "source": [
    "# Редактор Nano"
   ]
  },
  {
   "cell_type": "markdown",
   "id": "ac79c05a-9c82-45d8-9f05-40ca86b6f98c",
   "metadata": {},
   "source": [
    "![](images/command_line.png)"
   ]
  },
  {
   "cell_type": "code",
   "execution_count": null,
   "id": "6bafeefb-2fa3-4361-963a-5df251df750f",
   "metadata": {},
   "outputs": [],
   "source": []
  }
 ],
 "metadata": {
  "kernelspec": {
   "display_name": "Python 3.10",
   "language": "python",
   "name": "python310"
  },
  "language_info": {
   "codemirror_mode": {
    "name": "ipython",
    "version": 3
   },
   "file_extension": ".py",
   "mimetype": "text/x-python",
   "name": "python",
   "nbconvert_exporter": "python",
   "pygments_lexer": "ipython3",
   "version": "3.11.9"
  }
 },
 "nbformat": 4,
 "nbformat_minor": 5
}
