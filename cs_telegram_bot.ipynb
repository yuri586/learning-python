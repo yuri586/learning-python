{
 "cells": [
  {
   "cell_type": "markdown",
   "id": "c16ffe5d-2aff-4bf8-80aa-3c7750f8b393",
   "metadata": {},
   "source": [
    "# Как создать телеграм-бота"
   ]
  },
  {
   "cell_type": "markdown",
   "id": "9ef04882-02ab-4fbd-8c69-879ef9f4889f",
   "metadata": {},
   "source": [
    "1. Заходим в поиск и набираем \"BotFather\". Найдется несколько похожих, но нам нужен официальный - с синей галочкой\n",
    "\n",
    "2. Нажимаем в открывшемся чате START\n",
    "\n",
    "3. Кликаем  команду /newbot\n",
    "\n",
    "4. Пишем любое имя. Его, в дальнейшем, можно будет изменить при желании.\n",
    "\n",
    "5. Далее нужно задать username нашему боту - уникальное имя, которое нельзя будет менять, и которое обязательно должно оканчиваться на \"bot\". Причем регистр букв не имеет значения. Может быть и \"BOT\", и \u001c",
    "\"bot\", и \"Bot\" и даже \"boT\". Длина юзернейма должна быть от 5 до 32 символов. Можно использовать латинские буквы, цифры и подчеркивания. Не должен начинаться с цифры или подчеркивания.\n",
    "\n",
    "6. Запоминаем токен. При необходимости токен боту можно поменять. Также через @BotFather."
   ]
  },
  {
   "cell_type": "markdown",
   "id": "b39afdb6-0c90-468f-8fa3-2f4397723991",
   "metadata": {},
   "source": [
    "# Настройки телеграм-бота"
   ]
  },
  {
   "cell_type": "code",
   "execution_count": null,
   "id": "6f31351a-805f-43ea-b74b-88334976210d",
   "metadata": {},
   "outputs": [],
   "source": []
  }
 ],
 "metadata": {
  "kernelspec": {
   "display_name": "Python 3.10",
   "language": "python",
   "name": "python310"
  },
  "language_info": {
   "codemirror_mode": {
    "name": "ipython",
    "version": 3
   },
   "file_extension": ".py",
   "mimetype": "text/x-python",
   "name": "python",
   "nbconvert_exporter": "python",
   "pygments_lexer": "ipython3",
   "version": "3.11.9"
  }
 },
 "nbformat": 4,
 "nbformat_minor": 5
}
