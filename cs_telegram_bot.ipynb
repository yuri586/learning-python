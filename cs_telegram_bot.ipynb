{
 "cells": [
  {
   "cell_type": "markdown",
   "id": "c16ffe5d-2aff-4bf8-80aa-3c7750f8b393",
   "metadata": {},
   "source": [
    "# Как создать телеграм-бота"
   ]
  },
  {
   "cell_type": "markdown",
   "id": "9ef04882-02ab-4fbd-8c69-879ef9f4889f",
   "metadata": {},
   "source": [
    "1. Заходим в поиск и набираем \"BotFather\". Найдется несколько похожих, но нам нужен официальный - с синей галочкой\n",
    "\n",
    "2. Нажимаем в открывшемся чате START\n",
    "\n",
    "3. Кликаем  команду /newbot\n",
    "\n",
    "4. Пишем любое имя. Его, в дальнейшем, можно будет изменить при желании.\n",
    "\n",
    "5. Далее нужно задать username нашему боту - уникальное имя, которое нельзя будет менять, и которое обязательно должно оканчиваться на \"bot\". Причем регистр букв не имеет значения. Может быть и \"BOT\", и \u001c",
    "\"bot\", и \"Bot\" и даже \"boT\". Длина юзернейма должна быть от 5 до 32 символов. Можно использовать латинские буквы, цифры и подчеркивания. Не должен начинаться с цифры или подчеркивания.\n",
    "\n",
    "6. Запоминаем токен. При необходимости токен боту можно поменять. Также через @BotFather."
   ]
  },
  {
   "cell_type": "markdown",
   "id": "b39afdb6-0c90-468f-8fa3-2f4397723991",
   "metadata": {},
   "source": [
    "# Настройки телеграм-бота"
   ]
  },
  {
   "cell_type": "markdown",
   "id": "b20b3179-8681-4899-8779-61377d7db10d",
   "metadata": {},
   "source": [
    "![](images/bot_1.png)"
   ]
  },
  {
   "cell_type": "markdown",
   "id": "10c3ce7e-3ab2-4831-b7fc-5b82d661e37f",
   "metadata": {},
   "source": [
    "- Изменить название бота"
   ]
  },
  {
   "cell_type": "markdown",
   "id": "c9117c95-4b84-4f26-9ada-b0490f0a546d",
   "metadata": {},
   "source": [
    "**/setname** - позволяет менять название бота (не username, который уникален в рамках всего Telegram, а именно имя, которое отображается)"
   ]
  },
  {
   "cell_type": "markdown",
   "id": "dc357f73-c237-4494-8c41-830a9a41527c",
   "metadata": {},
   "source": [
    "- Изменить описание бота"
   ]
  },
  {
   "cell_type": "markdown",
   "id": "fd704dd5-fc43-477b-b711-94b7c3ff9e4b",
   "metadata": {},
   "source": [
    "**/setdescription** - команда, позволяющая настроить описание бота, которое увидит пользователь, когда впервые найдет бота в поиске или перейдет к нему по ссылке. То есть перед запуском бота."
   ]
  },
  {
   "cell_type": "markdown",
   "id": "f299f591-3d42-4888-a894-d64f07e82d25",
   "metadata": {},
   "source": [
    "- Изменить информацию в профиле бота"
   ]
  },
  {
   "cell_type": "markdown",
   "id": "32b3a689-11ec-44d2-b8fb-4226892e664d",
   "metadata": {},
   "source": [
    "**/setabouttext** - эта команда добавляет или изменяет описание в профиле бота."
   ]
  },
  {
   "cell_type": "code",
   "execution_count": null,
   "id": "bb7012eb-043c-49c8-a3cc-9bcf348a5d24",
   "metadata": {},
   "outputs": [],
   "source": []
  },
  {
   "cell_type": "code",
   "execution_count": null,
   "id": "e544d469-ea4d-4fff-a420-312b32061af9",
   "metadata": {},
   "outputs": [],
   "source": []
  },
  {
   "cell_type": "code",
   "execution_count": null,
   "id": "c3875f70-c738-44b4-8c09-920d98e414c2",
   "metadata": {},
   "outputs": [],
   "source": []
  },
  {
   "cell_type": "markdown",
   "id": "2838eac6-1db3-4b43-8fdf-d12b6e0050f5",
   "metadata": {},
   "source": [
    "# Установка необходимых зависимостей"
   ]
  },
  {
   "cell_type": "code",
   "execution_count": null,
   "id": "49c6e8c7-0a59-4aaf-bcfb-8972c301d61a",
   "metadata": {},
   "outputs": [],
   "source": [
    "pip3 install 'python-telegram-bot[socks]'"
   ]
  },
  {
   "cell_type": "markdown",
   "id": "4ca89fa8-a14c-40d3-9241-553acb91b49c",
   "metadata": {},
   "source": [
    "### Файл бота"
   ]
  },
  {
   "cell_type": "markdown",
   "id": "70ba4375-69fb-4c1f-92c9-6b0091b68c39",
   "metadata": {},
   "source": [
    "1. В папке projects создаем папку mybot\n",
    "2. Создаем и открываем в VSCode файл bot.py"
   ]
  }
 ],
 "metadata": {
  "kernelspec": {
   "display_name": "Python 3.10",
   "language": "python",
   "name": "python310"
  },
  "language_info": {
   "codemirror_mode": {
    "name": "ipython",
    "version": 3
   },
   "file_extension": ".py",
   "mimetype": "text/x-python",
   "name": "python",
   "nbconvert_exporter": "python",
   "pygments_lexer": "ipython3",
   "version": "3.11.9"
  }
 },
 "nbformat": 4,
 "nbformat_minor": 5
}
